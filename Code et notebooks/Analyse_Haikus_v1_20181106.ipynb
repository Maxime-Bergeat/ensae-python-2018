{
 "cells": [
  {
   "cell_type": "markdown",
   "metadata": {},
   "source": [
    "# Notebook avec premières analyses sur les haïkus"
   ]
  },
  {
   "cell_type": "markdown",
   "metadata": {},
   "source": [
    "## Statistiques descriptives - Wordclouds"
   ]
  },
  {
   "cell_type": "code",
   "execution_count": 3,
   "metadata": {
    "collapsed": true
   },
   "outputs": [],
   "source": [
    "# Start with loading all necessary libraries\n",
    "import numpy as np\n",
    "import pandas as pd\n",
    "import os\n",
    "from os import path\n",
    "from PIL import Image\n",
    "from wordcloud import WordCloud, STOPWORDS, ImageColorGenerator\n",
    "\n",
    "import matplotlib.pyplot as plt\n",
    "% matplotlib inline"
   ]
  },
  {
   "cell_type": "code",
   "execution_count": 6,
   "metadata": {
    "collapsed": true
   },
   "outputs": [],
   "source": [
    "os.chdir(\"C:/Users/maxim/Documents/ensae-python-2018/Data/\")"
   ]
  },
  {
   "cell_type": "code",
   "execution_count": 9,
   "metadata": {},
   "outputs": [],
   "source": [
    "base_haikus = pd.read_csv(\"haikus_scraping_v3_20181210.csv\",\",\")"
   ]
  },
  {
   "cell_type": "code",
   "execution_count": 10,
   "metadata": {},
   "outputs": [
    {
     "data": {
      "text/html": [
       "<div>\n",
       "<style>\n",
       "    .dataframe thead tr:only-child th {\n",
       "        text-align: right;\n",
       "    }\n",
       "\n",
       "    .dataframe thead th {\n",
       "        text-align: left;\n",
       "    }\n",
       "\n",
       "    .dataframe tbody tr th {\n",
       "        vertical-align: top;\n",
       "    }\n",
       "</style>\n",
       "<table border=\"1\" class=\"dataframe\">\n",
       "  <thead>\n",
       "    <tr style=\"text-align: right;\">\n",
       "      <th></th>\n",
       "      <th>Unnamed: 0</th>\n",
       "      <th>url</th>\n",
       "      <th>id_auteur</th>\n",
       "      <th>auteur</th>\n",
       "      <th>sexe</th>\n",
       "      <th>pays</th>\n",
       "      <th>haiku</th>\n",
       "    </tr>\n",
       "  </thead>\n",
       "  <tbody>\n",
       "    <tr>\n",
       "      <th>0</th>\n",
       "      <td>0</td>\n",
       "      <td>http://www.tempslibres.org/tl/tlphp/dbhk03.php...</td>\n",
       "      <td>quin-p</td>\n",
       "      <td>Philippe Quinta</td>\n",
       "      <td>H</td>\n",
       "      <td>France</td>\n",
       "      <td>Fut-elle pleine\\\\déjà, elle décroit\\\\la lune</td>\n",
       "    </tr>\n",
       "    <tr>\n",
       "      <th>1</th>\n",
       "      <td>1</td>\n",
       "      <td>http://www.tempslibres.org/tl/tlphp/dbhk03.php...</td>\n",
       "      <td>py-d</td>\n",
       "      <td>Daniel Py</td>\n",
       "      <td>H</td>\n",
       "      <td>France</td>\n",
       "      <td>Lune parfaitement ronde\\\\Buée sur la vitre</td>\n",
       "    </tr>\n",
       "    <tr>\n",
       "      <th>2</th>\n",
       "      <td>2</td>\n",
       "      <td>http://www.tempslibres.org/tl/tlphp/dbhk03.php...</td>\n",
       "      <td>alex-m</td>\n",
       "      <td>Marlène Alexa</td>\n",
       "      <td>F</td>\n",
       "      <td>Egypte</td>\n",
       "      <td>hiver\\\\dans les yeux de grand-mère\\\\une ombre ...</td>\n",
       "    </tr>\n",
       "    <tr>\n",
       "      <th>3</th>\n",
       "      <td>3</td>\n",
       "      <td>http://www.tempslibres.org/tl/tlphp/dbhk03.php...</td>\n",
       "      <td>sang-r</td>\n",
       "      <td>Rahmatou Sangotte</td>\n",
       "      <td>F</td>\n",
       "      <td>France</td>\n",
       "      <td>ciel gris -\\\\une odeur d'oignons\\\\caramélisés</td>\n",
       "    </tr>\n",
       "    <tr>\n",
       "      <th>4</th>\n",
       "      <td>4</td>\n",
       "      <td>http://www.tempslibres.org/tl/tlphp/dbhk03.php...</td>\n",
       "      <td>rais-c</td>\n",
       "      <td>Carol Raisfeld</td>\n",
       "      <td>F</td>\n",
       "      <td>USA</td>\n",
       "      <td>la fille du pasteur\\\\sa robe du dimanche\\\\de l...</td>\n",
       "    </tr>\n",
       "  </tbody>\n",
       "</table>\n",
       "</div>"
      ],
      "text/plain": [
       "   Unnamed: 0                                                url id_auteur  \\\n",
       "0           0  http://www.tempslibres.org/tl/tlphp/dbhk03.php...    quin-p   \n",
       "1           1  http://www.tempslibres.org/tl/tlphp/dbhk03.php...      py-d   \n",
       "2           2  http://www.tempslibres.org/tl/tlphp/dbhk03.php...    alex-m   \n",
       "3           3  http://www.tempslibres.org/tl/tlphp/dbhk03.php...    sang-r   \n",
       "4           4  http://www.tempslibres.org/tl/tlphp/dbhk03.php...    rais-c   \n",
       "\n",
       "              auteur sexe    pays  \\\n",
       "0    Philippe Quinta    H  France   \n",
       "1          Daniel Py    H  France   \n",
       "2      Marlène Alexa    F  Egypte   \n",
       "3  Rahmatou Sangotte    F  France   \n",
       "4     Carol Raisfeld    F     USA   \n",
       "\n",
       "                                               haiku  \n",
       "0       Fut-elle pleine\\\\déjà, elle décroit\\\\la lune  \n",
       "1         Lune parfaitement ronde\\\\Buée sur la vitre  \n",
       "2  hiver\\\\dans les yeux de grand-mère\\\\une ombre ...  \n",
       "3      ciel gris -\\\\une odeur d'oignons\\\\caramélisés  \n",
       "4  la fille du pasteur\\\\sa robe du dimanche\\\\de l...  "
      ]
     },
     "execution_count": 10,
     "metadata": {},
     "output_type": "execute_result"
    }
   ],
   "source": [
    "base_haikus.head()"
   ]
  },
  {
   "cell_type": "code",
   "execution_count": 11,
   "metadata": {
    "collapsed": true
   },
   "outputs": [],
   "source": [
    "# Création d'un balanced dataset \n",
    "base_haikus = base_haikus.sort_values(by=[\"sexe\"], ascending=True)\n",
    "base_haikus = base_haikus"
   ]
  },
  {
   "cell_type": "code",
   "execution_count": 12,
   "metadata": {},
   "outputs": [
    {
     "data": {
      "text/plain": [
       "3285"
      ]
     },
     "execution_count": 12,
     "metadata": {},
     "output_type": "execute_result"
    }
   ],
   "source": [
    "len(base_haikus)"
   ]
  },
  {
   "cell_type": "code",
   "execution_count": 13,
   "metadata": {},
   "outputs": [
    {
     "data": {
      "text/plain": [
       "2024    festival\\\\les insectes cabriolent\\\\sur la Gran...\n",
       "1092    Mistral\\\\elle traverse hors des clous\\\\la poub...\n",
       "697     vieille rue\\\\des pétales d'amandier\\\\sur la bé...\n",
       "1274    Chatte en chaleur\\\\Sur ses côtes apparentes\\\\L...\n",
       "3233    Il a oublié\\\\d'effacer les nuages\\\\le laveur d...\n",
       "222     (magnet sur le frigo --\\\\snack après snack \\\\d...\n",
       "493     Saint Valentin\\\\nos baisers ont un parfum\\\\de ...\n",
       "860     Naissance du jour\\\\un avion silencieux\\\\traver...\n",
       "858     vente de l'Aïd\\\\l'épicier Sikh\\\\ouvert plus ta...\n",
       "914     Le premier orage\\\\Un lac piqueté de gouttes\\\\P...\n",
       "2548               couché\\\\sur le chemin le ciel\\\\de boue\n",
       "2332    à chaque voiture\\\\une aile de la pie\\\\battant ...\n",
       "1572    nécropole antique\\\\les tombes exhumées fleurie...\n",
       "3169    vent violent\\\\le pissenlit essaime\\\\au creux d...\n",
       "288     faim de vie\\\\les petits de Gaza\\\\n'oublieront pas\n",
       "569     étang boueux\\\\sur leurs bateaux en papier\\\\les...\n",
       "366     sérieusement\\\\sur la fin du monde\\\\ces trois v...\n",
       "571     Après le bombardement\\\\Un morceau de charbon s...\n",
       "213     thé à l'odeur de mangue\\\\dans un boite argenté...\n",
       "1293    Brocante\\\\le chien dans le fauteuil\\\\sans étiq...\n",
       "3229    si ronde la lune\\\\cette fin de Juillet cesarie...\n",
       "1644    regards croisés -\\\\une femme bâillonnée\\\\jusqu...\n",
       "1266    galette des rois\\\\personne pour me couronner\\\\...\n",
       "1620    Par-dessus le mur\\\\Une branche du rosier blanc...\n",
       "2467    le village abandonné\\\\rien que le sifflement d...\n",
       "2684          le train parti\\\\seule sur le quai\\\\la pluie\n",
       "758     écrire la pluie ?\\\\ce plus-d’encre-dans mon Pi...\n",
       "2454    tisane du soir\\\\le pied de la verveine\\\\au cla...\n",
       "2942    chateau fort\\\\la marée montante prend\\\\la tour...\n",
       "1212    Étoile fermée\\\\Shimon Peres en visite\\\\dans le...\n",
       "                              ...                        \n",
       "1352    Marée basse\\\\Un crabe dans le château\\\\De mon ...\n",
       "1353    premières tâches rousses\\\\sur le flanc de coll...\n",
       "1354    dans un endroit sombre\\\\fermente doucement\\\\un...\n",
       "1355    la neige tourne en pluie -\\\\je me demande quan...\n",
       "1356    bruine d'été au confluent des deux fleuves - b...\n",
       "1357        pluie d'orage\\\\l'odeur des corps\\\\dans le bus\n",
       "1358    jour de solstice \\\\dans le parc l'herbe pâle\\\\...\n",
       "1336    notes de révision\\\\je brosse le sable\\\\entre l...\n",
       "1360    pendant l'arrosage   les pages de mon livre   ...\n",
       "1335    dimanche soir -\\\\trois ballons dégonflés\\\\au p...\n",
       "1330    vendredi soir\\\\le silence du bureau\\\\sur mon c...\n",
       "1305    avalé par la brume\\\\recraché par la brume\\\\le ...\n",
       "1309     bourg isolé -\\\\le rouge si rouge\\\\de ces tulipes\n",
       "1310       mur d'usine --\\\\l'odeur\\\\d'un nouveau graffiti\n",
       "1311    (tous les soleils\\\\que nous pouvons rassembler...\n",
       "1312             milieu d'août\\\\les haïkus\\\\à marée basse\n",
       "1313    velux entrouvert -\\\\la pénombre s'emplit\\\\du b...\n",
       "1314    élaguage --\\\\le pigeon a tourné trois fois\\\\ch...\n",
       "1315    promenade du soir -\\\\le bruit\\\\d'escargots écr...\n",
       "1317    mercredi des Cendres ~\\\\une fille en pull roug...\n",
       "1318    ma tension monte -\\\\une trainée de condensatio...\n",
       "1320    nuit de tempête -\\\\soudain dans le lit\\\\ses pe...\n",
       "1322    négociations   au Conseil de Sécurité - j'achè...\n",
       "1324       bruits de guerre --\\\\   je retire les décor...\n",
       "1326            éclair d'orage --\\\\sa robe de nuit\\\\tombe\n",
       "1327    feu rouge\\\\elle et lui se regardent \\\\dans le ...\n",
       "1328    Ta chemise blanche\\\\soleil suspendu\\\\dans mon ...\n",
       "1329    croissant de lune --\\\\elle coupe ses ongles\\\\d...\n",
       "1331    pluie d'automne --\\\\un homme tatoué vend\\\\des ...\n",
       "3284    café froid --\\\\le craquement d'une boule de No...\n",
       "Name: haiku, Length: 3285, dtype: object"
      ]
     },
     "execution_count": 13,
     "metadata": {},
     "output_type": "execute_result"
    }
   ],
   "source": [
    "base_haikus['haiku']"
   ]
  },
  {
   "cell_type": "code",
   "execution_count": 14,
   "metadata": {},
   "outputs": [
    {
     "data": {
      "text/plain": [
       "2211"
      ]
     },
     "execution_count": 14,
     "metadata": {},
     "output_type": "execute_result"
    }
   ],
   "source": [
    "sum(base_haikus['sexe']==\"H\")"
   ]
  },
  {
   "cell_type": "code",
   "execution_count": 120,
   "metadata": {},
   "outputs": [
    {
     "data": {
      "image/png": "[encoded data removed]",
      "text/plain": [
       "<matplotlib.figure.Figure at 0x1240428b6d8>"
      ]
     },
     "metadata": {},
     "output_type": "display_data"
    }
   ],
   "source": [
    "# Start with one review:\n",
    "haikus = str(base_haikus[\"haiku\"])\n",
    "\n",
    "# Create and generate a word cloud image:\n",
    "wordcloud = WordCloud().generate(haikus)\n",
    "\n",
    "# Display the generated image:\n",
    "plt.imshow(wordcloud, interpolation='bilinear')\n",
    "plt.axis(\"off\")\n",
    "plt.show()"
   ]
  },
  {
   "cell_type": "code",
   "execution_count": 121,
   "metadata": {
    "collapsed": true
   },
   "outputs": [],
   "source": [
    "### Remove stopwords\n",
    "import nltk\n",
    "\n",
    "from nltk.corpus import stopwords\n",
    "mots_vides = stopwords.words('french')\n",
    "mots_vides.append(\"les\")\n",
    "stopwords=set(mots_vides)"
   ]
  },
  {
   "cell_type": "code",
   "execution_count": 122,
   "metadata": {},
   "outputs": [
    {
     "data": {
      "image/png": "[encoded data removed]",
      "text/plain": [
       "<matplotlib.figure.Figure at 0x124042c80b8>"
      ]
     },
     "metadata": {},
     "output_type": "display_data"
    }
   ],
   "source": [
    "wordcloud2 = WordCloud(   stopwords=stopwords,\n",
    "                          background_color='white',\n",
    "                          width=2500,\n",
    "                          height=1800, \n",
    "                        max_words=100, \n",
    "                         ).generate(haikus)\n",
    "plt.imshow(wordcloud2, interpolation=\"bilinear\")\n",
    "plt.axis('off')\n",
    "plt.show()"
   ]
  },
  {
   "cell_type": "code",
   "execution_count": 123,
   "metadata": {
    "collapsed": true
   },
   "outputs": [],
   "source": [
    "haikus_F = str(base_haikus[base_haikus['sexe'] == \"F\"][\"haiku\"])\n",
    "haikus_H = str(base_haikus[base_haikus['sexe'] == \"H\"][\"haiku\"])"
   ]
  },
  {
   "cell_type": "code",
   "execution_count": 124,
   "metadata": {},
   "outputs": [
    {
     "data": {
      "image/png": "[encoded data removed]",
      "text/plain": [
       "<matplotlib.figure.Figure at 0x124006f2208>"
      ]
     },
     "metadata": {},
     "output_type": "display_data"
    }
   ],
   "source": [
    "# Wordcloud pour les haikus écrits par des hommes et des femmes\n",
    "\n",
    "# Pour les femmes\n",
    "masqueF = np.array(Image.open(\"images/symbole-femme.png\"))\n",
    "wordcloud_femmes = WordCloud(stopwords=stopwords, \n",
    "                             background_color=\"white\", \n",
    "                             #mode=\"RGBA\", \n",
    "                             max_words=100, \n",
    "                             mask=masqueF).generate(haikus_F)\n",
    "\n",
    "# Pour les hommes\n",
    "masqueH = np.array(Image.open(\"images/symbole-man2.png\"))\n",
    "wordcloud_hommes = WordCloud(stopwords=stopwords, \n",
    "                             background_color=\"white\", \n",
    "                             mode=\"RGBA\", \n",
    "                             max_words=100, \n",
    "                             mask=masqueH).generate(haikus_H)\n",
    "# Plot\n",
    "# plt.figure(figsize=[7,7])\n",
    "# Plot des graphes\n",
    "fig = plt.figure(figsize = (15,8))\n",
    "ax1 = fig.add_subplot(1,2,1)\n",
    "plt.imshow(wordcloud_femmes, interpolation=\"bilinear\")\n",
    "plt.axis(\"off\")\n",
    "plt.title(\"Mots les plus fréquents pour les haïkus écrits par des femmes\")\n",
    "ax2 = fig.add_subplot(1,2,2)\n",
    "plt.imshow(wordcloud_hommes, interpolation=\"bilinear\")\n",
    "plt.axis(\"off\")\n",
    "plt.title(\"Mots les plus fréquents pour les haïkus écrits par des hommes\")\n",
    "\n",
    "# store to file\n",
    "plt.savefig(\"images/wordcloud_v2_20181110.png\", format=\"png\")"
   ]
  },
  {
   "cell_type": "markdown",
   "metadata": {},
   "source": [
    "## Modélisations "
   ]
  },
  {
   "cell_type": "markdown",
   "metadata": {},
   "source": [
    "Ici, on considère l'ensemble des mots comme régresseurs, et on teste différents modèles pour prédire le sexe (régression logistique, réseau de neurones, forêts aléatoires notamment)."
   ]
  },
  {
   "cell_type": "markdown",
   "metadata": {},
   "source": [
    "### Création des jeux de données pour l'entraînement et la validation des modèles "
   ]
  },
  {
   "cell_type": "code",
   "execution_count": 125,
   "metadata": {},
   "outputs": [
    {
     "data": {
      "text/plain": [
       "3404"
      ]
     },
     "execution_count": 125,
     "metadata": {},
     "output_type": "execute_result"
    }
   ],
   "source": [
    "#### Calage d'un premier modèle en ne conservant que les homes et les femmes (certains haïkus n'ont pas d'auteur\n",
    "# avec un sexe déterminé car utilisation d'un pseudo)\n",
    "base_haikus_model = base_haikus[base_haikus.sexe != \"?\"]\n",
    "\n",
    "from sklearn.model_selection import train_test_split\n",
    "X_train, X_test, y_train, y_test = train_test_split(\n",
    "               base_haikus_model['haiku'], base_haikus_model[\"sexe\"])\n",
    "len(base_haikus_model)"
   ]
  },
  {
   "cell_type": "code",
   "execution_count": 127,
   "metadata": {},
   "outputs": [
    {
     "name": "stderr",
     "output_type": "stream",
     "text": [
      "C:\\Users\\maxim\\Anaconda3\\lib\\site-packages\\sklearn\\feature_extraction\\text.py:1059: FutureWarning: Conversion of the second argument of issubdtype from `float` to `np.floating` is deprecated. In future, it will be treated as `np.float64 == np.dtype(float).type`.\n",
      "  if hasattr(X, 'dtype') and np.issubdtype(X.dtype, np.float):\n"
     ]
    },
    {
     "data": {
      "text/plain": [
       "(2553, 39638)"
      ]
     },
     "execution_count": 127,
     "metadata": {},
     "output_type": "execute_result"
    }
   ],
   "source": [
    "## Création de la matrice document-terme avec le score tf-idf\n",
    "from sklearn.feature_extraction.text import TfidfTransformer\n",
    "from sklearn.feature_extraction.text import CountVectorizer\n",
    "from sklearn.pipeline import make_pipeline\n",
    "## Voir si on peut gérer les n-grammes ici pour voir si ça améliore le pouvoir prédictif.\n",
    "# Approches Word2Vec librairies spacy et gensim...\n",
    "# Voir avec modèles pré-entraînés. \n",
    "\n",
    "pipe = make_pipeline(CountVectorizer(ngram_range=(1,3)), TfidfTransformer())\n",
    "\n",
    "pipe.fit(X_train)\n",
    "feat_train = pipe.transform(X_train)\n",
    "feat_train.shape"
   ]
  },
  {
   "cell_type": "code",
   "execution_count": 128,
   "metadata": {},
   "outputs": [
    {
     "name": "stderr",
     "output_type": "stream",
     "text": [
      "C:\\Users\\maxim\\Anaconda3\\lib\\site-packages\\sklearn\\feature_extraction\\text.py:1059: FutureWarning: Conversion of the second argument of issubdtype from `float` to `np.floating` is deprecated. In future, it will be treated as `np.float64 == np.dtype(float).type`.\n",
      "  if hasattr(X, 'dtype') and np.issubdtype(X.dtype, np.float):\n"
     ]
    },
    {
     "data": {
      "text/plain": [
       "(851, 39638)"
      ]
     },
     "execution_count": 128,
     "metadata": {},
     "output_type": "execute_result"
    }
   ],
   "source": [
    "feat_test = pipe.transform(X_test)\n",
    "feat_test.shape\n",
    "## NB : moyen propre, on perd les mots qui sont dans X_test et pas dans X_train vu qu'on applique pipe (pas très grave).\n",
    "# Le dictionnaire est constitué à partir du vocabulaire de X_train."
   ]
  },
  {
   "cell_type": "markdown",
   "metadata": {},
   "source": [
    "### Forêts aléatoires"
   ]
  },
  {
   "cell_type": "code",
   "execution_count": 129,
   "metadata": {},
   "outputs": [
    {
     "data": {
      "text/plain": [
       "RandomForestClassifier(bootstrap=True, class_weight=None, criterion='gini',\n",
       "            max_depth=None, max_features='auto', max_leaf_nodes=None,\n",
       "            min_impurity_split=1e-07, min_samples_leaf=1,\n",
       "            min_samples_split=2, min_weight_fraction_leaf=0.0,\n",
       "            n_estimators=50, n_jobs=1, oob_score=False, random_state=None,\n",
       "            verbose=0, warm_start=False)"
      ]
     },
     "execution_count": 129,
     "metadata": {},
     "output_type": "execute_result"
    }
   ],
   "source": [
    "## Prédiction du sentiment avec une random forest\n",
    "from sklearn.ensemble import RandomForestClassifier\n",
    "clf = RandomForestClassifier(n_estimators=50)\n",
    "clf.fit(feat_train, y_train)\n",
    "# Voir dans xgboost ou lightgbm si on peut mieux paramétrer pour un gd nombre de régresseurs. \n",
    "# catboost aussi.\n",
    "# fasttext deeplearning - librairie pour données textuelles, FB"
   ]
  },
  {
   "cell_type": "code",
   "execution_count": 130,
   "metadata": {},
   "outputs": [
    {
     "data": {
      "text/plain": [
       "0.6721504112808461"
      ]
     },
     "execution_count": 130,
     "metadata": {},
     "output_type": "execute_result"
    }
   ],
   "source": [
    "clf.score(feat_test, y_test)"
   ]
  },
  {
   "cell_type": "code",
   "execution_count": 131,
   "metadata": {
    "collapsed": true
   },
   "outputs": [],
   "source": [
    "y_pred = clf.predict(feat_test)"
   ]
  },
  {
   "cell_type": "code",
   "execution_count": 132,
   "metadata": {},
   "outputs": [
    {
     "data": {
      "text/plain": [
       "<matplotlib.text.Text at 0x12400fe6668>"
      ]
     },
     "execution_count": 132,
     "metadata": {},
     "output_type": "execute_result"
    },
    {
     "data": {
      "image/png": "[encoded data removed]",
      "text/plain": [
       "<matplotlib.figure.Figure at 0x12400f98da0>"
      ]
     },
     "metadata": {},
     "output_type": "display_data"
    }
   ],
   "source": [
    "## Visualisation avec package sns\n",
    "from sklearn.metrics import confusion_matrix\n",
    "cnf_matrix = confusion_matrix(y_test, y_pred)\n",
    "\n",
    "import seaborn as sn\n",
    "import matplotlib.pyplot as plt\n",
    "\n",
    "matrice_a_tracer = pd.DataFrame(cnf_matrix)\n",
    "\n",
    "plt.figure()\n",
    "sn.heatmap(matrice_a_tracer, annot=True)\n",
    "plt.xlabel(\"Sexe prédit\")\n",
    "plt.ylabel(\"Sexe à prédire\")"
   ]
  },
  {
   "cell_type": "markdown",
   "metadata": {},
   "source": [
    "### Régression logistique "
   ]
  },
  {
   "cell_type": "code",
   "execution_count": 133,
   "metadata": {},
   "outputs": [
    {
     "data": {
      "text/plain": [
       "0.7015276145710928"
      ]
     },
     "execution_count": 133,
     "metadata": {},
     "output_type": "execute_result"
    }
   ],
   "source": [
    "from sklearn.linear_model import LogisticRegression\n",
    "\n",
    "# Pénalité L1 standard pour des modèles de régression logistique quand données textuelles\n",
    "lreg = LogisticRegression(penalty= \"l2\") ## Voir quelle pénalité est meilleure en moyenne\n",
    "\n",
    "# Entraînement modèle \n",
    "lreg.fit(X= feat_train, y=y_train)\n",
    "\n",
    "# Prédiction globale\n",
    "lreg.score(X=feat_test, y=y_test)\n"
   ]
  },
  {
   "cell_type": "code",
   "execution_count": 134,
   "metadata": {},
   "outputs": [
    {
     "data": {
      "text/plain": [
       "<matplotlib.text.Text at 0x1240443a240>"
      ]
     },
     "execution_count": 134,
     "metadata": {},
     "output_type": "execute_result"
    },
    {
     "data": {
      "image/png": "[encoded data removed]",
      "text/plain": [
       "<matplotlib.figure.Figure at 0x12477cd9da0>"
      ]
     },
     "metadata": {},
     "output_type": "display_data"
    }
   ],
   "source": [
    "y_pred = lreg.predict(feat_test)\n",
    "\n",
    "cnf_matrix = confusion_matrix(y_test, y_pred)\n",
    "\n",
    "import seaborn as sn\n",
    "import matplotlib.pyplot as plt\n",
    "\n",
    "matrice_a_tracer = pd.DataFrame(cnf_matrix)\n",
    "\n",
    "plt.figure()\n",
    "sn.heatmap(matrice_a_tracer, annot=True)\n",
    "plt.xlabel(\"Sexe prédit\")\n",
    "plt.ylabel(\"Sexe à prédire\")"
   ]
  },
  {
   "cell_type": "markdown",
   "metadata": {},
   "source": [
    "### Réseau de neurones"
   ]
  },
  {
   "cell_type": "code",
   "execution_count": 135,
   "metadata": {},
   "outputs": [
    {
     "data": {
      "text/plain": [
       "0.6462984723854289"
      ]
     },
     "execution_count": 135,
     "metadata": {},
     "output_type": "execute_result"
    }
   ],
   "source": [
    "## Réseau de neurones\n",
    "from sklearn.neural_network import MLPClassifier\n",
    "\n",
    "reseau_neur = MLPClassifier(hidden_layer_sizes=(1000,))\n",
    "\n",
    "# Entraînement modèle\n",
    "reseau_neur.fit(X=feat_train, y= y_train)\n",
    "\n",
    "# Prédiction globale\n",
    "reseau_neur.score(X=feat_test, y= y_test)"
   ]
  },
  {
   "cell_type": "code",
   "execution_count": 136,
   "metadata": {},
   "outputs": [
    {
     "data": {
      "text/plain": [
       "<matplotlib.text.Text at 0x124042c9828>"
      ]
     },
     "execution_count": 136,
     "metadata": {},
     "output_type": "execute_result"
    },
    {
     "data": {
      "image/png": "[encoded data removed]",
      "text/plain": [
       "<matplotlib.figure.Figure at 0x1240419f080>"
      ]
     },
     "metadata": {},
     "output_type": "display_data"
    }
   ],
   "source": [
    "y_pred = reseau_neur.predict(feat_test)\n",
    "\n",
    "cnf_matrix = confusion_matrix(y_test, y_pred)\n",
    "\n",
    "import seaborn as sn\n",
    "import matplotlib.pyplot as plt\n",
    "\n",
    "matrice_a_tracer = pd.DataFrame(cnf_matrix)\n",
    "\n",
    "plt.figure()\n",
    "sn.heatmap(matrice_a_tracer, annot=True)\n",
    "plt.xlabel(\"Sexe prédit\")\n",
    "plt.ylabel(\"Sexe à prédire\")"
   ]
  },
  {
   "cell_type": "markdown",
   "metadata": {},
   "source": [
    "### Modèle idiot pour benchmark"
   ]
  },
  {
   "cell_type": "code",
   "execution_count": 137,
   "metadata": {},
   "outputs": [
    {
     "data": {
      "text/plain": [
       "0.5663924794359577"
      ]
     },
     "execution_count": 137,
     "metadata": {},
     "output_type": "execute_result"
    }
   ],
   "source": [
    "## Dummy\n",
    "from sklearn.dummy import DummyClassifier\n",
    "\n",
    "idiot = DummyClassifier(strategy=\"stratified\")\n",
    "\n",
    "# Entraînement modèle\n",
    "idiot.fit(X=feat_train, y= y_train)\n",
    "\n",
    "# Prédiction globale\n",
    "idiot.score(X=feat_test, y= y_test)"
   ]
  },
  {
   "cell_type": "code",
   "execution_count": 138,
   "metadata": {},
   "outputs": [
    {
     "data": {
      "text/plain": [
       "<matplotlib.text.Text at 0x12400ce54a8>"
      ]
     },
     "execution_count": 138,
     "metadata": {},
     "output_type": "execute_result"
    },
    {
     "data": {
      "image/png": "[encoded data removed]",
      "text/plain": [
       "<matplotlib.figure.Figure at 0x124049896a0>"
      ]
     },
     "metadata": {},
     "output_type": "display_data"
    }
   ],
   "source": [
    "y_pred = idiot.predict(feat_test)\n",
    "\n",
    "cnf_matrix = confusion_matrix(y_test, y_pred)\n",
    "\n",
    "import seaborn as sn\n",
    "import matplotlib.pyplot as plt\n",
    "\n",
    "matrice_a_tracer = pd.DataFrame(cnf_matrix)\n",
    "\n",
    "plt.figure()\n",
    "sn.heatmap(matrice_a_tracer, annot=True)\n",
    "plt.xlabel(\"Sexe prédit\")\n",
    "plt.ylabel(\"Sexe à prédire\")"
   ]
  },
  {
   "cell_type": "markdown",
   "metadata": {},
   "source": [
    "### Comparaison des modèles précédents avec courbes Roc"
   ]
  },
  {
   "cell_type": "code",
   "execution_count": 139,
   "metadata": {
    "collapsed": true
   },
   "outputs": [],
   "source": [
    "### Courbes ROC pour comparer les différentes approches\n",
    "import numpy\n",
    "np_train = numpy.hstack([feat_train.todense()])\n",
    "np_test = numpy.hstack([feat_test.todense()])\n",
    "pmodelreg = lreg.predict_proba(np_test)[:, 1]\n",
    "pmodelFor = clf.predict_proba(np_test)[:, 1]\n",
    "pmodelResNeur = reseau_neur.predict_proba(np_test)[:, 1]\n",
    "pmodelIdiot = idiot.predict_proba(np_test)[:, 1]\n",
    "#lreg.predict_proba(y_test)\n"
   ]
  },
  {
   "cell_type": "code",
   "execution_count": 140,
   "metadata": {
    "collapsed": true
   },
   "outputs": [],
   "source": [
    "# Conversion de l'objet y en numérique (0/1 plutôt que homme femme pour pouvoir tracer la courbe)\n",
    "y_test_num= (y_test == \"H\")\n",
    "from sklearn.metrics import roc_auc_score, roc_curve, auc\n",
    "fpr1, tpr1, th1 = roc_curve(y_test_num, pmodelreg)\n",
    "fpr2, tpr2, th2 = roc_curve(y_test_num, pmodelFor)\n",
    "fpr3, tpr3, th3 = roc_curve(y_test_num, pmodelResNeur)\n",
    "fpr4, tpr4, th4 = roc_curve(y_test_num, pmodelIdiot)"
   ]
  },
  {
   "cell_type": "code",
   "execution_count": 141,
   "metadata": {},
   "outputs": [
    {
     "data": {
      "image/png": "[encoded data removed]",
      "text/plain": [
       "<matplotlib.figure.Figure at 0x12405c8b400>"
      ]
     },
     "metadata": {},
     "output_type": "display_data"
    }
   ],
   "source": [
    "import matplotlib.pyplot as plt\n",
    "fig, ax = plt.subplots(1,1, figsize=(4,4))\n",
    "ax.plot(fpr1, tpr1, label='Régression logistique')\n",
    "ax.plot(fpr2, tpr2, label='Forêt aléatoires')\n",
    "ax.plot(fpr3, tpr3, label='Réseau de neurones')\n",
    "ax.plot(fpr4, tpr4, label='Classifieur aléatoire idiot')\n",
    "ax.legend();\n"
   ]
  },
  {
   "cell_type": "markdown",
   "metadata": {},
   "source": [
    "## Tuning des hyperparamètres"
   ]
  },
  {
   "cell_type": "markdown",
   "metadata": {},
   "source": [
    "Ici, on teste différents hyperparamètres pour les modèles de régression, afin d'améliorer la précision des résultats. On utilise la validation croisée pour construire le modèle."
   ]
  },
  {
   "cell_type": "markdown",
   "metadata": {},
   "source": [
    "### Forêts aléatoires"
   ]
  },
  {
   "cell_type": "code",
   "execution_count": 101,
   "metadata": {},
   "outputs": [
    {
     "name": "stdout",
     "output_type": "stream",
     "text": [
      "Fitting 5 folds for each of 150 candidates, totalling 750 fits\n",
      "[CV] max_depth=None, max_features=auto, min_samples_leaf=1 ...........\n",
      "[CV]  max_depth=None, max_features=auto, min_samples_leaf=1, score=0.614318, total=   0.4s\n",
      "[Parallel(n_jobs=1)]: Done   1 out of   1 | elapsed:    0.4s remaining:    0.0s\n",
      "[CV] max_depth=None, max_features=auto, min_samples_leaf=1 ...........\n",
      "[CV]  max_depth=None, max_features=auto, min_samples_leaf=1, score=0.593679, total=   0.4s\n",
      "[Parallel(n_jobs=1)]: Done   2 out of   2 | elapsed:    1.0s remaining:    0.0s\n",
      "[CV] max_depth=None, max_features=auto, min_samples_leaf=1 ...........\n",
      "[CV]  max_depth=None, max_features=auto, min_samples_leaf=1, score=0.610947, total=   0.5s\n",
      "[Parallel(n_jobs=1)]: Done   3 out of   3 | elapsed:    1.6s remaining:    0.0s\n",
      "[CV] max_depth=None, max_features=auto, min_samples_leaf=1 ...........\n",
      "[CV]  max_depth=None, max_features=auto, min_samples_leaf=1, score=0.642987, total=   0.4s\n",
      "[Parallel(n_jobs=1)]: Done   4 out of   4 | elapsed:    2.1s remaining:    0.0s\n",
      "[CV] max_depth=None, max_features=auto, min_samples_leaf=1 ...........\n",
      "[CV]  max_depth=None, max_features=auto, min_samples_leaf=1, score=0.634554, total=   0.4s\n",
      "[Parallel(n_jobs=1)]: Done   5 out of   5 | elapsed:    2.7s remaining:    0.0s\n",
      "[CV] max_depth=None, max_features=auto, min_samples_leaf=2 ...........\n",
      "[CV]  max_depth=None, max_features=auto, min_samples_leaf=2, score=0.589644, total=   0.2s\n",
      "[Parallel(n_jobs=1)]: Done   6 out of   6 | elapsed:    3.0s remaining:    0.0s\n",
      "[CV] max_depth=None, max_features=auto, min_samples_leaf=2 ...........\n",
      "[CV]  max_depth=None, max_features=auto, min_samples_leaf=2, score=0.596946, total=   0.2s\n",
      "[Parallel(n_jobs=1)]: Done   7 out of   7 | elapsed:    3.3s remaining:    0.0s\n",
      "[CV] max_depth=None, max_features=auto, min_samples_leaf=2 ...........\n",
      "[CV]  max_depth=None, max_features=auto, min_samples_leaf=2, score=0.622520, total=   0.2s\n",
      "[Parallel(n_jobs=1)]: Done   8 out of   8 | elapsed:    3.6s remaining:    0.0s\n",
      "[CV] max_depth=None, max_features=auto, min_samples_leaf=2 ...........\n",
      "[CV]  max_depth=None, max_features=auto, min_samples_leaf=2, score=0.609509, total=   0.2s\n",
      "[Parallel(n_jobs=1)]: Done   9 out of   9 | elapsed:    3.9s remaining:    0.0s\n",
      "[CV] max_depth=None, max_features=auto, min_samples_leaf=2 ...........\n",
      "[CV]  max_depth=None, max_features=auto, min_samples_leaf=2, score=0.596131, total=   0.1s\n",
      "[Parallel(n_jobs=1)]: Done  10 out of  10 | elapsed:    4.2s remaining:    0.0s\n",
      "[CV] max_depth=None, max_features=auto, min_samples_leaf=5 ...........\n",
      "[CV]  max_depth=None, max_features=auto, min_samples_leaf=5, score=0.569523, total=   0.0s\n",
      "[Parallel(n_jobs=1)]: Done  11 out of  11 | elapsed:    4.3s remaining:    0.0s\n",
      "[CV] max_depth=None, max_features=auto, min_samples_leaf=5 ...........\n",
      "[CV]  max_depth=None, max_features=auto, min_samples_leaf=5, score=0.563528, total=   0.0s\n",
      "[Parallel(n_jobs=1)]: Done  12 out of  12 | elapsed:    4.4s remaining:    0.0s\n",
      "[CV] max_depth=None, max_features=auto, min_samples_leaf=5 ...........\n",
      "[CV]  max_depth=None, max_features=auto, min_samples_leaf=5, score=0.569018, total=   0.0s\n",
      "[Parallel(n_jobs=1)]: Done  13 out of  13 | elapsed:    4.6s remaining:    0.0s\n",
      "[CV] max_depth=None, max_features=auto, min_samples_leaf=5 ...........\n"
     ]
    },
    {
     "name": "stderr",
     "output_type": "stream",
     "text": [
      "C:\\Users\\maxim\\Anaconda3\\lib\\site-packages\\sklearn\\metrics\\classification.py:1113: UndefinedMetricWarning: F-score is ill-defined and being set to 0.0 in labels with no predicted samples.\n",
      "  'precision', 'predicted', average, warn_for)\n",
      "C:\\Users\\maxim\\Anaconda3\\lib\\site-packages\\sklearn\\metrics\\classification.py:1113: UndefinedMetricWarning: F-score is ill-defined and being set to 0.0 in labels with no predicted samples.\n",
      "  'precision', 'predicted', average, warn_for)\n"
     ]
    },
    {
     "name": "stdout",
     "output_type": "stream",
     "text": [
      "[CV]  max_depth=None, max_features=auto, min_samples_leaf=5, score=0.564475, total=   0.0s\n",
      "[Parallel(n_jobs=1)]: Done  14 out of  14 | elapsed:    4.7s remaining:    0.0s\n",
      "[CV] max_depth=None, max_features=auto, min_samples_leaf=5 ...........\n",
      "[CV]  max_depth=None, max_features=auto, min_samples_leaf=5, score=0.565450, total=   0.0s\n",
      "[Parallel(n_jobs=1)]: Done  15 out of  15 | elapsed:    4.8s remaining:    0.0s\n",
      "[CV] max_depth=None, max_features=auto, min_samples_leaf=10 ..........\n"
     ]
    },
    {
     "name": "stderr",
     "output_type": "stream",
     "text": [
      "C:\\Users\\maxim\\Anaconda3\\lib\\site-packages\\sklearn\\metrics\\classification.py:1113: UndefinedMetricWarning: F-score is ill-defined and being set to 0.0 in labels with no predicted samples.\n",
      "  'precision', 'predicted', average, warn_for)\n",
      "C:\\Users\\maxim\\Anaconda3\\lib\\site-packages\\sklearn\\metrics\\classification.py:1113: UndefinedMetricWarning: F-score is ill-defined and being set to 0.0 in labels with no predicted samples.\n",
      "  'precision', 'predicted', average, warn_for)\n",
      "C:\\Users\\maxim\\Anaconda3\\lib\\site-packages\\sklearn\\metrics\\classification.py:1113: UndefinedMetricWarning: F-score is ill-defined and being set to 0.0 in labels with no predicted samples.\n",
      "  'precision', 'predicted', average, warn_for)\n"
     ]
    },
    {
     "name": "stdout",
     "output_type": "stream",
     "text": [
      "[CV]  max_depth=None, max_features=auto, min_samples_leaf=10, score=0.564475, total=   0.0s\n",
      "[Parallel(n_jobs=1)]: Done  16 out of  16 | elapsed:    4.9s remaining:    0.0s\n",
      "[CV] max_depth=None, max_features=auto, min_samples_leaf=10 ..........\n",
      "[CV]  max_depth=None, max_features=auto, min_samples_leaf=10, score=0.564475, total=   0.0s\n",
      "[Parallel(n_jobs=1)]: Done  17 out of  17 | elapsed:    5.0s remaining:    0.0s\n",
      "[CV] max_depth=None, max_features=auto, min_samples_leaf=10 ..........\n",
      "[CV]  max_depth=None, max_features=auto, min_samples_leaf=10, score=0.564475, total=   0.0s\n",
      "[Parallel(n_jobs=1)]: Done  18 out of  18 | elapsed:    5.1s remaining:    0.0s\n",
      "[CV] max_depth=None, max_features=auto, min_samples_leaf=10 ..........\n"
     ]
    },
    {
     "name": "stderr",
     "output_type": "stream",
     "text": [
      "C:\\Users\\maxim\\Anaconda3\\lib\\site-packages\\sklearn\\metrics\\classification.py:1113: UndefinedMetricWarning: F-score is ill-defined and being set to 0.0 in labels with no predicted samples.\n",
      "  'precision', 'predicted', average, warn_for)\n",
      "C:\\Users\\maxim\\Anaconda3\\lib\\site-packages\\sklearn\\metrics\\classification.py:1113: UndefinedMetricWarning: F-score is ill-defined and being set to 0.0 in labels with no predicted samples.\n",
      "  'precision', 'predicted', average, warn_for)\n",
      "C:\\Users\\maxim\\Anaconda3\\lib\\site-packages\\sklearn\\metrics\\classification.py:1113: UndefinedMetricWarning: F-score is ill-defined and being set to 0.0 in labels with no predicted samples.\n",
      "  'precision', 'predicted', average, warn_for)\n",
      "C:\\Users\\maxim\\Anaconda3\\lib\\site-packages\\sklearn\\metrics\\classification.py:1113: UndefinedMetricWarning: F-score is ill-defined and being set to 0.0 in labels with no predicted samples.\n",
      "  'precision', 'predicted', average, warn_for)\n"
     ]
    },
    {
     "name": "stdout",
     "output_type": "stream",
     "text": [
      "[CV]  max_depth=None, max_features=auto, min_samples_leaf=10, score=0.564475, total=   0.0s\n",
      "[Parallel(n_jobs=1)]: Done  19 out of  19 | elapsed:    5.1s remaining:    0.0s\n",
      "[CV] max_depth=None, max_features=auto, min_samples_leaf=10 ..........\n",
      "[CV]  max_depth=None, max_features=auto, min_samples_leaf=10, score=0.565450, total=   0.0s\n",
      "[Parallel(n_jobs=1)]: Done  20 out of  20 | elapsed:    5.2s remaining:    0.0s\n",
      "[CV] max_depth=None, max_features=auto, min_samples_leaf=20 ..........\n",
      "[CV]  max_depth=None, max_features=auto, min_samples_leaf=20, score=0.564475, total=   0.0s\n",
      "[Parallel(n_jobs=1)]: Done  21 out of  21 | elapsed:    5.2s remaining:    0.0s\n",
      "[CV] max_depth=None, max_features=auto, min_samples_leaf=20 ..........\n",
      "[CV]  max_depth=None, max_features=auto, min_samples_leaf=20, score=0.564475, total=   0.0s\n",
      "[Parallel(n_jobs=1)]: Done  22 out of  22 | elapsed:    5.3s remaining:    0.0s\n",
      "[CV] max_depth=None, max_features=auto, min_samples_leaf=20 ..........\n"
     ]
    },
    {
     "name": "stderr",
     "output_type": "stream",
     "text": [
      "C:\\Users\\maxim\\Anaconda3\\lib\\site-packages\\sklearn\\metrics\\classification.py:1113: UndefinedMetricWarning: F-score is ill-defined and being set to 0.0 in labels with no predicted samples.\n",
      "  'precision', 'predicted', average, warn_for)\n",
      "C:\\Users\\maxim\\Anaconda3\\lib\\site-packages\\sklearn\\metrics\\classification.py:1113: UndefinedMetricWarning: F-score is ill-defined and being set to 0.0 in labels with no predicted samples.\n",
      "  'precision', 'predicted', average, warn_for)\n",
      "C:\\Users\\maxim\\Anaconda3\\lib\\site-packages\\sklearn\\metrics\\classification.py:1113: UndefinedMetricWarning: F-score is ill-defined and being set to 0.0 in labels with no predicted samples.\n",
      "  'precision', 'predicted', average, warn_for)\n"
     ]
    },
    {
     "name": "stdout",
     "output_type": "stream",
     "text": [
      "[CV]  max_depth=None, max_features=auto, min_samples_leaf=20, score=0.564475, total=   0.0s\n",
      "[Parallel(n_jobs=1)]: Done  23 out of  23 | elapsed:    5.4s remaining:    0.0s\n",
      "[CV] max_depth=None, max_features=auto, min_samples_leaf=20 ..........\n",
      "[CV]  max_depth=None, max_features=auto, min_samples_leaf=20, score=0.564475, total=   0.0s\n",
      "[Parallel(n_jobs=1)]: Done  24 out of  24 | elapsed:    5.4s remaining:    0.0s\n",
      "[CV] max_depth=None, max_features=auto, min_samples_leaf=20 ..........\n",
      "[CV]  max_depth=None, max_features=auto, min_samples_leaf=20, score=0.565450, total=   0.0s\n",
      "[Parallel(n_jobs=1)]: Done  25 out of  25 | elapsed:    5.5s remaining:    0.0s\n",
      "[CV] max_depth=None, max_features=log2, min_samples_leaf=1 ...........\n",
      "[CV]  max_depth=None, max_features=log2, min_samples_leaf=1, score=0.620355, total=   0.3s\n",
      "[Parallel(n_jobs=1)]: Done  26 out of  26 | elapsed:    5.9s remaining:    0.0s\n",
      "[CV] max_depth=None, max_features=log2, min_samples_leaf=1 ...........\n",
      "[CV]  max_depth=None, max_features=log2, min_samples_leaf=1, score=0.616878, total=   0.3s\n",
      "[Parallel(n_jobs=1)]: Done  27 out of  27 | elapsed:    6.4s remaining:    0.0s\n",
      "[CV] max_depth=None, max_features=log2, min_samples_leaf=1 ...........\n",
      "[CV]  max_depth=None, max_features=log2, min_samples_leaf=1, score=0.614242, total=   0.4s\n",
      "[Parallel(n_jobs=1)]: Done  28 out of  28 | elapsed:    6.9s remaining:    0.0s\n",
      "[CV] max_depth=None, max_features=log2, min_samples_leaf=1 ...........\n",
      "[CV]  max_depth=None, max_features=log2, min_samples_leaf=1, score=0.630643, total=   0.3s\n",
      "[Parallel(n_jobs=1)]: Done  29 out of  29 | elapsed:    7.3s remaining:    0.0s\n",
      "[CV] max_depth=None, max_features=log2, min_samples_leaf=1 ...........\n",
      "[CV]  max_depth=None, max_features=log2, min_samples_leaf=1, score=0.612512, total=   0.3s\n",
      "[Parallel(n_jobs=1)]: Done  30 out of  30 | elapsed:    7.8s remaining:    0.0s\n",
      "[CV] max_depth=None, max_features=log2, min_samples_leaf=2 ...........\n",
      "[CV]  max_depth=None, max_features=log2, min_samples_leaf=2, score=0.564475, total=   0.0s\n",
      "[Parallel(n_jobs=1)]: Done  31 out of  31 | elapsed:    7.8s remaining:    0.0s\n",
      "[CV] max_depth=None, max_features=log2, min_samples_leaf=2 ...........\n",
      "[CV]  max_depth=None, max_features=log2, min_samples_leaf=2, score=0.564475, total=   0.0s\n",
      "[Parallel(n_jobs=1)]: Done  32 out of  32 | elapsed:    7.9s remaining:    0.0s\n",
      "[CV] max_depth=None, max_features=log2, min_samples_leaf=2 ...........\n",
      "[CV]  max_depth=None, max_features=log2, min_samples_leaf=2, score=0.564475, total=   0.0s\n",
      "[Parallel(n_jobs=1)]: Done  33 out of  33 | elapsed:    7.9s remaining:    0.0s\n",
      "[CV] max_depth=None, max_features=log2, min_samples_leaf=2 ...........\n"
     ]
    },
    {
     "name": "stderr",
     "output_type": "stream",
     "text": [
      "C:\\Users\\maxim\\Anaconda3\\lib\\site-packages\\sklearn\\metrics\\classification.py:1113: UndefinedMetricWarning: F-score is ill-defined and being set to 0.0 in labels with no predicted samples.\n",
      "  'precision', 'predicted', average, warn_for)\n",
      "C:\\Users\\maxim\\Anaconda3\\lib\\site-packages\\sklearn\\metrics\\classification.py:1113: UndefinedMetricWarning: F-score is ill-defined and being set to 0.0 in labels with no predicted samples.\n",
      "  'precision', 'predicted', average, warn_for)\n",
      "C:\\Users\\maxim\\Anaconda3\\lib\\site-packages\\sklearn\\metrics\\classification.py:1113: UndefinedMetricWarning: F-score is ill-defined and being set to 0.0 in labels with no predicted samples.\n",
      "  'precision', 'predicted', average, warn_for)\n",
      "C:\\Users\\maxim\\Anaconda3\\lib\\site-packages\\sklearn\\metrics\\classification.py:1113: UndefinedMetricWarning: F-score is ill-defined and being set to 0.0 in labels with no predicted samples.\n",
      "  'precision', 'predicted', average, warn_for)\n",
      "C:\\Users\\maxim\\Anaconda3\\lib\\site-packages\\sklearn\\metrics\\classification.py:1113: UndefinedMetricWarning: F-score is ill-defined and being set to 0.0 in labels with no predicted samples.\n",
      "  'precision', 'predicted', average, warn_for)\n",
      "C:\\Users\\maxim\\Anaconda3\\lib\\site-packages\\sklearn\\metrics\\classification.py:1113: UndefinedMetricWarning: F-score is ill-defined and being set to 0.0 in labels with no predicted samples.\n",
      "  'precision', 'predicted', average, warn_for)\n"
     ]
    },
    {
     "name": "stdout",
     "output_type": "stream",
     "text": [
      "[CV]  max_depth=None, max_features=log2, min_samples_leaf=2, score=0.564475, total=   0.0s\n",
      "[Parallel(n_jobs=1)]: Done  34 out of  34 | elapsed:    8.0s remaining:    0.0s\n",
      "[CV] max_depth=None, max_features=log2, min_samples_leaf=2 ...........\n",
      "[CV]  max_depth=None, max_features=log2, min_samples_leaf=2, score=0.565450, total=   0.0s\n",
      "[Parallel(n_jobs=1)]: Done  35 out of  35 | elapsed:    8.1s remaining:    0.0s\n",
      "[CV] max_depth=None, max_features=log2, min_samples_leaf=5 ...........\n",
      "[CV]  max_depth=None, max_features=log2, min_samples_leaf=5, score=0.564475, total=   0.0s\n",
      "[Parallel(n_jobs=1)]: Done  36 out of  36 | elapsed:    8.2s remaining:    0.0s\n",
      "[CV] max_depth=None, max_features=log2, min_samples_leaf=5 ...........\n"
     ]
    },
    {
     "name": "stderr",
     "output_type": "stream",
     "text": [
      "C:\\Users\\maxim\\Anaconda3\\lib\\site-packages\\sklearn\\metrics\\classification.py:1113: UndefinedMetricWarning: F-score is ill-defined and being set to 0.0 in labels with no predicted samples.\n",
      "  'precision', 'predicted', average, warn_for)\n",
      "C:\\Users\\maxim\\Anaconda3\\lib\\site-packages\\sklearn\\metrics\\classification.py:1113: UndefinedMetricWarning: F-score is ill-defined and being set to 0.0 in labels with no predicted samples.\n",
      "  'precision', 'predicted', average, warn_for)\n",
      "C:\\Users\\maxim\\Anaconda3\\lib\\site-packages\\sklearn\\metrics\\classification.py:1113: UndefinedMetricWarning: F-score is ill-defined and being set to 0.0 in labels with no predicted samples.\n",
      "  'precision', 'predicted', average, warn_for)\n",
      "C:\\Users\\maxim\\Anaconda3\\lib\\site-packages\\sklearn\\metrics\\classification.py:1113: UndefinedMetricWarning: F-score is ill-defined and being set to 0.0 in labels with no predicted samples.\n",
      "  'precision', 'predicted', average, warn_for)\n"
     ]
    },
    {
     "name": "stdout",
     "output_type": "stream",
     "text": [
      "[CV]  max_depth=None, max_features=log2, min_samples_leaf=5, score=0.564475, total=   0.0s\n",
      "[Parallel(n_jobs=1)]: Done  37 out of  37 | elapsed:    8.3s remaining:    0.0s\n",
      "[CV] max_depth=None, max_features=log2, min_samples_leaf=5 ...........\n",
      "[CV]  max_depth=None, max_features=log2, min_samples_leaf=5, score=0.564475, total=   0.0s\n",
      "[Parallel(n_jobs=1)]: Done  38 out of  38 | elapsed:    8.3s remaining:    0.0s\n",
      "[CV] max_depth=None, max_features=log2, min_samples_leaf=5 ...........\n",
      "[CV]  max_depth=None, max_features=log2, min_samples_leaf=5, score=0.564475, total=   0.0s\n",
      "[Parallel(n_jobs=1)]: Done  39 out of  39 | elapsed:    8.4s remaining:    0.0s\n",
      "[CV] max_depth=None, max_features=log2, min_samples_leaf=5 ...........\n",
      "[CV]  max_depth=None, max_features=log2, min_samples_leaf=5, score=0.565450, total=   0.0s\n",
      "[Parallel(n_jobs=1)]: Done  40 out of  40 | elapsed:    8.4s remaining:    0.0s\n",
      "[CV] max_depth=None, max_features=log2, min_samples_leaf=10 ..........\n"
     ]
    },
    {
     "name": "stderr",
     "output_type": "stream",
     "text": [
      "C:\\Users\\maxim\\Anaconda3\\lib\\site-packages\\sklearn\\metrics\\classification.py:1113: UndefinedMetricWarning: F-score is ill-defined and being set to 0.0 in labels with no predicted samples.\n",
      "  'precision', 'predicted', average, warn_for)\n",
      "C:\\Users\\maxim\\Anaconda3\\lib\\site-packages\\sklearn\\metrics\\classification.py:1113: UndefinedMetricWarning: F-score is ill-defined and being set to 0.0 in labels with no predicted samples.\n",
      "  'precision', 'predicted', average, warn_for)\n",
      "C:\\Users\\maxim\\Anaconda3\\lib\\site-packages\\sklearn\\metrics\\classification.py:1113: UndefinedMetricWarning: F-score is ill-defined and being set to 0.0 in labels with no predicted samples.\n",
      "  'precision', 'predicted', average, warn_for)\n",
      "C:\\Users\\maxim\\Anaconda3\\lib\\site-packages\\sklearn\\metrics\\classification.py:1113: UndefinedMetricWarning: F-score is ill-defined and being set to 0.0 in labels with no predicted samples.\n",
      "  'precision', 'predicted', average, warn_for)\n"
     ]
    },
    {
     "name": "stdout",
     "output_type": "stream",
     "text": [
      "[CV]  max_depth=None, max_features=log2, min_samples_leaf=10, score=0.564475, total=   0.0s\n",
      "[Parallel(n_jobs=1)]: Done  41 out of  41 | elapsed:    8.5s remaining:    0.0s\n",
      "[CV] max_depth=None, max_features=log2, min_samples_leaf=10 ..........\n",
      "[CV]  max_depth=None, max_features=log2, min_samples_leaf=10, score=0.564475, total=   0.0s\n",
      "[Parallel(n_jobs=1)]: Done  42 out of  42 | elapsed:    8.5s remaining:    0.0s\n",
      "[CV] max_depth=None, max_features=log2, min_samples_leaf=10 ..........\n",
      "[CV]  max_depth=None, max_features=log2, min_samples_leaf=10, score=0.564475, total=   0.0s\n",
      "[Parallel(n_jobs=1)]: Done  43 out of  43 | elapsed:    8.6s remaining:    0.0s\n",
      "[CV] max_depth=None, max_features=log2, min_samples_leaf=10 ..........\n",
      "[CV]  max_depth=None, max_features=log2, min_samples_leaf=10, score=0.564475, total=   0.0s\n",
      "[Parallel(n_jobs=1)]: Done  44 out of  44 | elapsed:    8.6s remaining:    0.0s\n",
      "[CV] max_depth=None, max_features=log2, min_samples_leaf=10 ..........\n"
     ]
    },
    {
     "name": "stderr",
     "output_type": "stream",
     "text": [
      "C:\\Users\\maxim\\Anaconda3\\lib\\site-packages\\sklearn\\metrics\\classification.py:1113: UndefinedMetricWarning: F-score is ill-defined and being set to 0.0 in labels with no predicted samples.\n",
      "  'precision', 'predicted', average, warn_for)\n",
      "C:\\Users\\maxim\\Anaconda3\\lib\\site-packages\\sklearn\\metrics\\classification.py:1113: UndefinedMetricWarning: F-score is ill-defined and being set to 0.0 in labels with no predicted samples.\n",
      "  'precision', 'predicted', average, warn_for)\n",
      "C:\\Users\\maxim\\Anaconda3\\lib\\site-packages\\sklearn\\metrics\\classification.py:1113: UndefinedMetricWarning: F-score is ill-defined and being set to 0.0 in labels with no predicted samples.\n",
      "  'precision', 'predicted', average, warn_for)\n",
      "C:\\Users\\maxim\\Anaconda3\\lib\\site-packages\\sklearn\\metrics\\classification.py:1113: UndefinedMetricWarning: F-score is ill-defined and being set to 0.0 in labels with no predicted samples.\n",
      "  'precision', 'predicted', average, warn_for)\n"
     ]
    },
    {
     "name": "stdout",
     "output_type": "stream",
     "text": [
      "[CV]  max_depth=None, max_features=log2, min_samples_leaf=10, score=0.565450, total=   0.0s\n",
      "[Parallel(n_jobs=1)]: Done  45 out of  45 | elapsed:    8.7s remaining:    0.0s\n",
      "[CV] max_depth=None, max_features=log2, min_samples_leaf=20 ..........\n",
      "[CV]  max_depth=None, max_features=log2, min_samples_leaf=20, score=0.564475, total=   0.0s\n",
      "[Parallel(n_jobs=1)]: Done  46 out of  46 | elapsed:    8.8s remaining:    0.0s\n",
      "[CV] max_depth=None, max_features=log2, min_samples_leaf=20 ..........\n",
      "[CV]  max_depth=None, max_features=log2, min_samples_leaf=20, score=0.564475, total=   0.0s\n",
      "[Parallel(n_jobs=1)]: Done  47 out of  47 | elapsed:    8.8s remaining:    0.0s\n",
      "[CV] max_depth=None, max_features=log2, min_samples_leaf=20 ..........\n",
      "[CV]  max_depth=None, max_features=log2, min_samples_leaf=20, score=0.564475, total=   0.0s\n",
      "[Parallel(n_jobs=1)]: Done  48 out of  48 | elapsed:    8.9s remaining:    0.0s\n",
      "[CV] max_depth=None, max_features=log2, min_samples_leaf=20 ..........\n"
     ]
    },
    {
     "name": "stderr",
     "output_type": "stream",
     "text": [
      "C:\\Users\\maxim\\Anaconda3\\lib\\site-packages\\sklearn\\metrics\\classification.py:1113: UndefinedMetricWarning: F-score is ill-defined and being set to 0.0 in labels with no predicted samples.\n",
      "  'precision', 'predicted', average, warn_for)\n",
      "C:\\Users\\maxim\\Anaconda3\\lib\\site-packages\\sklearn\\metrics\\classification.py:1113: UndefinedMetricWarning: F-score is ill-defined and being set to 0.0 in labels with no predicted samples.\n",
      "  'precision', 'predicted', average, warn_for)\n"
     ]
    },
    {
     "name": "stdout",
     "output_type": "stream",
     "text": [
      "[CV]  max_depth=None, max_features=log2, min_samples_leaf=20, score=0.564475, total=   0.0s\n",
      "[Parallel(n_jobs=1)]: Done  49 out of  49 | elapsed:    8.9s remaining:    0.0s\n",
      "[CV] max_depth=None, max_features=log2, min_samples_leaf=20 ..........\n",
      "[CV]  max_depth=None, max_features=log2, min_samples_leaf=20, score=0.565450, total=   0.0s\n",
      "[Parallel(n_jobs=1)]: Done  50 out of  50 | elapsed:    9.0s remaining:    0.0s\n",
      "[CV] max_depth=None, max_features=500, min_samples_leaf=1 ............\n",
      "[CV]  max_depth=None, max_features=500, min_samples_leaf=1, score=0.607831, total=   0.8s\n",
      "[Parallel(n_jobs=1)]: Done  51 out of  51 | elapsed:    9.9s remaining:    0.0s\n",
      "[CV] max_depth=None, max_features=500, min_samples_leaf=1 ............\n",
      "[CV]  max_depth=None, max_features=500, min_samples_leaf=1, score=0.579322, total=   0.8s\n",
      "[Parallel(n_jobs=1)]: Done  52 out of  52 | elapsed:   10.8s remaining:    0.0s\n",
      "[CV] max_depth=None, max_features=500, min_samples_leaf=1 ............\n",
      "[CV]  max_depth=None, max_features=500, min_samples_leaf=1, score=0.617546, total=   0.7s\n",
      "[Parallel(n_jobs=1)]: Done  53 out of  53 | elapsed:   11.6s remaining:    0.0s\n",
      "[CV] max_depth=None, max_features=500, min_samples_leaf=1 ............\n",
      "[CV]  max_depth=None, max_features=500, min_samples_leaf=1, score=0.643922, total=   0.6s\n",
      "[Parallel(n_jobs=1)]: Done  54 out of  54 | elapsed:   12.3s remaining:    0.0s\n",
      "[CV] max_depth=None, max_features=500, min_samples_leaf=1 ............\n",
      "[CV]  max_depth=None, max_features=500, min_samples_leaf=1, score=0.619991, total=   0.6s\n",
      "[Parallel(n_jobs=1)]: Done  55 out of  55 | elapsed:   13.1s remaining:    0.0s\n",
      "[CV] max_depth=None, max_features=500, min_samples_leaf=2 ............\n",
      "[CV]  max_depth=None, max_features=500, min_samples_leaf=2, score=0.605615, total=   0.4s\n",
      "[Parallel(n_jobs=1)]: Done  56 out of  56 | elapsed:   13.6s remaining:    0.0s\n",
      "[CV] max_depth=None, max_features=500, min_samples_leaf=2 ............\n",
      "[CV]  max_depth=None, max_features=500, min_samples_leaf=2, score=0.585050, total=   0.5s\n",
      "[Parallel(n_jobs=1)]: Done  57 out of  57 | elapsed:   14.3s remaining:    0.0s\n",
      "[CV] max_depth=None, max_features=500, min_samples_leaf=2 ............\n",
      "[CV]  max_depth=None, max_features=500, min_samples_leaf=2, score=0.626385, total=   0.6s\n",
      "[Parallel(n_jobs=1)]: Done  58 out of  58 | elapsed:   15.0s remaining:    0.0s\n",
      "[CV] max_depth=None, max_features=500, min_samples_leaf=2 ............\n",
      "[CV]  max_depth=None, max_features=500, min_samples_leaf=2, score=0.657110, total=   0.6s\n",
      "[Parallel(n_jobs=1)]: Done  59 out of  59 | elapsed:   15.7s remaining:    0.0s\n",
      "[CV] max_depth=None, max_features=500, min_samples_leaf=2 ............\n",
      "[CV]  max_depth=None, max_features=500, min_samples_leaf=2, score=0.627581, total=   0.5s\n",
      "[Parallel(n_jobs=1)]: Done  60 out of  60 | elapsed:   16.3s remaining:    0.0s\n",
      "[CV] max_depth=None, max_features=500, min_samples_leaf=5 ............\n",
      "[CV]  max_depth=None, max_features=500, min_samples_leaf=5, score=0.610229, total=   0.2s\n",
      "[Parallel(n_jobs=1)]: Done  61 out of  61 | elapsed:   16.6s remaining:    0.0s\n",
      "[CV] max_depth=None, max_features=500, min_samples_leaf=5 ............\n",
      "[CV]  max_depth=None, max_features=500, min_samples_leaf=5, score=0.589644, total=   0.2s\n",
      "[Parallel(n_jobs=1)]: Done  62 out of  62 | elapsed:   17.0s remaining:    0.0s\n",
      "[CV] max_depth=None, max_features=500, min_samples_leaf=5 ............\n",
      "[CV]  max_depth=None, max_features=500, min_samples_leaf=5, score=0.573984, total=   0.3s\n",
      "[Parallel(n_jobs=1)]: Done  63 out of  63 | elapsed:   17.3s remaining:    0.0s\n",
      "[CV] max_depth=None, max_features=500, min_samples_leaf=5 ............\n",
      "[CV]  max_depth=None, max_features=500, min_samples_leaf=5, score=0.598162, total=   0.2s\n",
      "[Parallel(n_jobs=1)]: Done  64 out of  64 | elapsed:   17.7s remaining:    0.0s\n",
      "[CV] max_depth=None, max_features=500, min_samples_leaf=5 ............\n",
      "[CV]  max_depth=None, max_features=500, min_samples_leaf=5, score=0.598477, total=   0.2s\n",
      "[Parallel(n_jobs=1)]: Done  65 out of  65 | elapsed:   18.0s remaining:    0.0s\n",
      "[CV] max_depth=None, max_features=500, min_samples_leaf=10 ...........\n",
      "[CV]  max_depth=None, max_features=500, min_samples_leaf=10, score=0.584522, total=   0.1s\n",
      "[Parallel(n_jobs=1)]: Done  66 out of  66 | elapsed:   18.2s remaining:    0.0s\n",
      "[CV] max_depth=None, max_features=500, min_samples_leaf=10 ...........\n",
      "[CV]  max_depth=None, max_features=500, min_samples_leaf=10, score=0.569774, total=   0.1s\n",
      "[Parallel(n_jobs=1)]: Done  67 out of  67 | elapsed:   18.5s remaining:    0.0s\n",
      "[CV] max_depth=None, max_features=500, min_samples_leaf=10 ...........\n",
      "[CV]  max_depth=None, max_features=500, min_samples_leaf=10, score=0.567517, total=   0.1s\n",
      "[Parallel(n_jobs=1)]: Done  68 out of  68 | elapsed:   18.7s remaining:    0.0s\n",
      "[CV] max_depth=None, max_features=500, min_samples_leaf=10 ...........\n",
      "[CV]  max_depth=None, max_features=500, min_samples_leaf=10, score=0.586001, total=   0.1s\n",
      "[Parallel(n_jobs=1)]: Done  69 out of  69 | elapsed:   18.9s remaining:    0.0s\n",
      "[CV] max_depth=None, max_features=500, min_samples_leaf=10 ...........\n",
      "[CV]  max_depth=None, max_features=500, min_samples_leaf=10, score=0.559712, total=   0.1s\n",
      "[Parallel(n_jobs=1)]: Done  70 out of  70 | elapsed:   19.1s remaining:    0.0s\n",
      "[CV] max_depth=None, max_features=500, min_samples_leaf=20 ...........\n"
     ]
    },
    {
     "name": "stderr",
     "output_type": "stream",
     "text": [
      "C:\\Users\\maxim\\Anaconda3\\lib\\site-packages\\sklearn\\metrics\\classification.py:1113: UndefinedMetricWarning: F-score is ill-defined and being set to 0.0 in labels with no predicted samples.\n",
      "  'precision', 'predicted', average, warn_for)\n",
      "C:\\Users\\maxim\\Anaconda3\\lib\\site-packages\\sklearn\\metrics\\classification.py:1113: UndefinedMetricWarning: F-score is ill-defined and being set to 0.0 in labels with no predicted samples.\n",
      "  'precision', 'predicted', average, warn_for)\n"
     ]
    },
    {
     "name": "stdout",
     "output_type": "stream",
     "text": [
      "[CV]  max_depth=None, max_features=500, min_samples_leaf=20, score=0.564475, total=   0.0s\n",
      "[Parallel(n_jobs=1)]: Done  71 out of  71 | elapsed:   19.3s remaining:    0.0s\n",
      "[CV] max_depth=None, max_features=500, min_samples_leaf=20 ...........\n",
      "[CV]  max_depth=None, max_features=500, min_samples_leaf=20, score=0.564475, total=   0.0s\n",
      "[Parallel(n_jobs=1)]: Done  72 out of  72 | elapsed:   19.4s remaining:    0.0s\n",
      "[CV] max_depth=None, max_features=500, min_samples_leaf=20 ...........\n"
     ]
    },
    {
     "name": "stderr",
     "output_type": "stream",
     "text": [
      "C:\\Users\\maxim\\Anaconda3\\lib\\site-packages\\sklearn\\metrics\\classification.py:1113: UndefinedMetricWarning: F-score is ill-defined and being set to 0.0 in labels with no predicted samples.\n",
      "  'precision', 'predicted', average, warn_for)\n"
     ]
    },
    {
     "name": "stdout",
     "output_type": "stream",
     "text": [
      "[CV]  max_depth=None, max_features=500, min_samples_leaf=20, score=0.564475, total=   0.1s\n",
      "[Parallel(n_jobs=1)]: Done  73 out of  73 | elapsed:   19.6s remaining:    0.0s\n",
      "[CV] max_depth=None, max_features=500, min_samples_leaf=20 ...........\n",
      "[CV]  max_depth=None, max_features=500, min_samples_leaf=20, score=0.575925, total=   0.0s\n",
      "[Parallel(n_jobs=1)]: Done  74 out of  74 | elapsed:   19.7s remaining:    0.0s\n",
      "[CV] max_depth=None, max_features=500, min_samples_leaf=20 ...........\n",
      "[CV]  max_depth=None, max_features=500, min_samples_leaf=20, score=0.570012, total=   0.0s\n",
      "[Parallel(n_jobs=1)]: Done  75 out of  75 | elapsed:   19.9s remaining:    0.0s\n",
      "[CV] max_depth=None, max_features=1000, min_samples_leaf=1 ...........\n",
      "[CV]  max_depth=None, max_features=1000, min_samples_leaf=1, score=0.597049, total=   0.9s\n",
      "[Parallel(n_jobs=1)]: Done  76 out of  76 | elapsed:   21.0s remaining:    0.0s\n",
      "[CV] max_depth=None, max_features=1000, min_samples_leaf=1 ...........\n",
      "[CV]  max_depth=None, max_features=1000, min_samples_leaf=1, score=0.602093, total=   1.1s\n",
      "[Parallel(n_jobs=1)]: Done  77 out of  77 | elapsed:   22.2s remaining:    0.0s\n",
      "[CV] max_depth=None, max_features=1000, min_samples_leaf=1 ...........\n",
      "[CV]  max_depth=None, max_features=1000, min_samples_leaf=1, score=0.638994, total=   0.9s\n",
      "[Parallel(n_jobs=1)]: Done  78 out of  78 | elapsed:   23.2s remaining:    0.0s\n",
      "[CV] max_depth=None, max_features=1000, min_samples_leaf=1 ...........\n",
      "[CV]  max_depth=None, max_features=1000, min_samples_leaf=1, score=0.619206, total=   0.9s\n",
      "[Parallel(n_jobs=1)]: Done  79 out of  79 | elapsed:   24.2s remaining:    0.0s\n",
      "[CV] max_depth=None, max_features=1000, min_samples_leaf=1 ...........\n",
      "[CV]  max_depth=None, max_features=1000, min_samples_leaf=1, score=0.626033, total=   0.9s\n",
      "[Parallel(n_jobs=1)]: Done  80 out of  80 | elapsed:   25.3s remaining:    0.0s\n",
      "[CV] max_depth=None, max_features=1000, min_samples_leaf=2 ...........\n",
      "[CV]  max_depth=None, max_features=1000, min_samples_leaf=2, score=0.614363, total=   0.8s\n",
      "[Parallel(n_jobs=1)]: Done  81 out of  81 | elapsed:   26.2s remaining:    0.0s\n",
      "[CV] max_depth=None, max_features=1000, min_samples_leaf=2 ...........\n",
      "[CV]  max_depth=None, max_features=1000, min_samples_leaf=2, score=0.593287, total=   0.7s\n",
      "[Parallel(n_jobs=1)]: Done  82 out of  82 | elapsed:   27.0s remaining:    0.0s\n",
      "[CV] max_depth=None, max_features=1000, min_samples_leaf=2 ...........\n",
      "[CV]  max_depth=None, max_features=1000, min_samples_leaf=2, score=0.639434, total=   0.7s\n",
      "[Parallel(n_jobs=1)]: Done  83 out of  83 | elapsed:   27.9s remaining:    0.0s\n",
      "[CV] max_depth=None, max_features=1000, min_samples_leaf=2 ...........\n",
      "[CV]  max_depth=None, max_features=1000, min_samples_leaf=2, score=0.619561, total=   0.7s\n",
      "[Parallel(n_jobs=1)]: Done  84 out of  84 | elapsed:   28.7s remaining:    0.0s\n",
      "[CV] max_depth=None, max_features=1000, min_samples_leaf=2 ...........\n",
      "[CV]  max_depth=None, max_features=1000, min_samples_leaf=2, score=0.628974, total=   0.7s\n",
      "[Parallel(n_jobs=1)]: Done  85 out of  85 | elapsed:   29.5s remaining:    0.0s\n",
      "[CV] max_depth=None, max_features=1000, min_samples_leaf=5 ...........\n",
      "[CV]  max_depth=None, max_features=1000, min_samples_leaf=5, score=0.589218, total=   0.4s\n",
      "[Parallel(n_jobs=1)]: Done  86 out of  86 | elapsed:   30.1s remaining:    0.0s\n",
      "[CV] max_depth=None, max_features=1000, min_samples_leaf=5 ...........\n",
      "[CV]  max_depth=None, max_features=1000, min_samples_leaf=5, score=0.568008, total=   0.6s\n",
      "[Parallel(n_jobs=1)]: Done  87 out of  87 | elapsed:   30.8s remaining:    0.0s\n",
      "[CV] max_depth=None, max_features=1000, min_samples_leaf=5 ...........\n",
      "[CV]  max_depth=None, max_features=1000, min_samples_leaf=5, score=0.576836, total=   0.7s\n",
      "[Parallel(n_jobs=1)]: Done  88 out of  88 | elapsed:   31.7s remaining:    0.0s\n",
      "[CV] max_depth=None, max_features=1000, min_samples_leaf=5 ...........\n",
      "[CV]  max_depth=None, max_features=1000, min_samples_leaf=5, score=0.619493, total=   0.5s\n",
      "[Parallel(n_jobs=1)]: Done  89 out of  89 | elapsed:   32.3s remaining:    0.0s\n",
      "[CV] max_depth=None, max_features=1000, min_samples_leaf=5 ...........\n",
      "[CV]  max_depth=None, max_features=1000, min_samples_leaf=5, score=0.626872, total=   0.5s\n",
      "[Parallel(n_jobs=1)]: Done  90 out of  90 | elapsed:   32.9s remaining:    0.0s\n",
      "[CV] max_depth=None, max_features=1000, min_samples_leaf=10 ..........\n",
      "[CV]  max_depth=None, max_features=1000, min_samples_leaf=10, score=0.600299, total=   0.3s\n",
      "[Parallel(n_jobs=1)]: Done  91 out of  91 | elapsed:   33.3s remaining:    0.0s\n",
      "[CV] max_depth=None, max_features=1000, min_samples_leaf=10 ..........\n",
      "[CV]  max_depth=None, max_features=1000, min_samples_leaf=10, score=0.591112, total=   0.4s\n",
      "[Parallel(n_jobs=1)]: Done  92 out of  92 | elapsed:   33.8s remaining:    0.0s\n",
      "[CV] max_depth=None, max_features=1000, min_samples_leaf=10 ..........\n",
      "[CV]  max_depth=None, max_features=1000, min_samples_leaf=10, score=0.591554, total=   0.3s\n",
      "[Parallel(n_jobs=1)]: Done  93 out of  93 | elapsed:   34.3s remaining:    0.0s\n",
      "[CV] max_depth=None, max_features=1000, min_samples_leaf=10 ..........\n",
      "[CV]  max_depth=None, max_features=1000, min_samples_leaf=10, score=0.603029, total=   0.5s\n",
      "[Parallel(n_jobs=1)]: Done  94 out of  94 | elapsed:   34.9s remaining:    0.0s\n",
      "[CV] max_depth=None, max_features=1000, min_samples_leaf=10 ..........\n",
      "[CV]  max_depth=None, max_features=1000, min_samples_leaf=10, score=0.568655, total=   0.3s\n",
      "[Parallel(n_jobs=1)]: Done  95 out of  95 | elapsed:   35.3s remaining:    0.0s\n",
      "[CV] max_depth=None, max_features=1000, min_samples_leaf=20 ..........\n"
     ]
    },
    {
     "name": "stderr",
     "output_type": "stream",
     "text": [
      "C:\\Users\\maxim\\Anaconda3\\lib\\site-packages\\sklearn\\metrics\\classification.py:1113: UndefinedMetricWarning: F-score is ill-defined and being set to 0.0 in labels with no predicted samples.\n",
      "  'precision', 'predicted', average, warn_for)\n"
     ]
    },
    {
     "name": "stdout",
     "output_type": "stream",
     "text": [
      "[CV]  max_depth=None, max_features=1000, min_samples_leaf=20, score=0.564475, total=   0.2s\n",
      "[Parallel(n_jobs=1)]: Done  96 out of  96 | elapsed:   35.6s remaining:    0.0s\n",
      "[CV] max_depth=None, max_features=1000, min_samples_leaf=20 ..........\n"
     ]
    },
    {
     "name": "stderr",
     "output_type": "stream",
     "text": [
      "C:\\Users\\maxim\\Anaconda3\\lib\\site-packages\\sklearn\\metrics\\classification.py:1113: UndefinedMetricWarning: F-score is ill-defined and being set to 0.0 in labels with no predicted samples.\n",
      "  'precision', 'predicted', average, warn_for)\n"
     ]
    },
    {
     "name": "stdout",
     "output_type": "stream",
     "text": [
      "[CV]  max_depth=None, max_features=1000, min_samples_leaf=20, score=0.564475, total=   0.1s\n",
      "[Parallel(n_jobs=1)]: Done  97 out of  97 | elapsed:   35.9s remaining:    0.0s\n",
      "[CV] max_depth=None, max_features=1000, min_samples_leaf=20 ..........\n",
      "[CV]  max_depth=None, max_features=1000, min_samples_leaf=20, score=0.565121, total=   0.2s\n",
      "[Parallel(n_jobs=1)]: Done  98 out of  98 | elapsed:   36.2s remaining:    0.0s\n",
      "[CV] max_depth=None, max_features=1000, min_samples_leaf=20 ..........\n",
      "[CV]  max_depth=None, max_features=1000, min_samples_leaf=20, score=0.561628, total=   0.2s\n",
      "[Parallel(n_jobs=1)]: Done  99 out of  99 | elapsed:   36.5s remaining:    0.0s\n",
      "[CV] max_depth=None, max_features=1000, min_samples_leaf=20 ..........\n",
      "[CV]  max_depth=None, max_features=1000, min_samples_leaf=20, score=0.572525, total=   0.1s\n",
      "[Parallel(n_jobs=1)]: Done 100 out of 100 | elapsed:   36.7s remaining:    0.0s\n",
      "[CV] max_depth=None, max_features=None, min_samples_leaf=1 ...........\n",
      "[CV]  max_depth=None, max_features=None, min_samples_leaf=1, score=0.596586, total=   3.8s\n",
      "[Parallel(n_jobs=1)]: Done 101 out of 101 | elapsed:   40.6s remaining:    0.0s\n",
      "[CV] max_depth=None, max_features=None, min_samples_leaf=1 ...........\n",
      "[CV]  max_depth=None, max_features=None, min_samples_leaf=1, score=0.612078, total=   3.2s\n",
      "[Parallel(n_jobs=1)]: Done 102 out of 102 | elapsed:   44.0s remaining:    0.0s\n",
      "[CV] max_depth=None, max_features=None, min_samples_leaf=1 ...........\n",
      "[CV]  max_depth=None, max_features=None, min_samples_leaf=1, score=0.633608, total=   3.5s\n",
      "[Parallel(n_jobs=1)]: Done 103 out of 103 | elapsed:   47.5s remaining:    0.0s\n",
      "[CV] max_depth=None, max_features=None, min_samples_leaf=1 ...........\n",
      "[CV]  max_depth=None, max_features=None, min_samples_leaf=1, score=0.637939, total=   3.3s\n",
      "[Parallel(n_jobs=1)]: Done 104 out of 104 | elapsed:   51.0s remaining:    0.0s\n",
      "[CV] max_depth=None, max_features=None, min_samples_leaf=1 ...........\n",
      "[CV]  max_depth=None, max_features=None, min_samples_leaf=1, score=0.621568, total=   3.3s\n",
      "[Parallel(n_jobs=1)]: Done 105 out of 105 | elapsed:   54.4s remaining:    0.0s\n",
      "[CV] max_depth=None, max_features=None, min_samples_leaf=2 ...........\n",
      "[CV]  max_depth=None, max_features=None, min_samples_leaf=2, score=0.579339, total=   2.6s\n",
      "[Parallel(n_jobs=1)]: Done 106 out of 106 | elapsed:   57.1s remaining:    0.0s\n",
      "[CV] max_depth=None, max_features=None, min_samples_leaf=2 ...........\n",
      "[CV]  max_depth=None, max_features=None, min_samples_leaf=2, score=0.584844, total=   2.7s\n",
      "[Parallel(n_jobs=1)]: Done 107 out of 107 | elapsed:   60.0s remaining:    0.0s\n",
      "[CV] max_depth=None, max_features=None, min_samples_leaf=2 ...........\n",
      "[CV]  max_depth=None, max_features=None, min_samples_leaf=2, score=0.605039, total=   2.6s\n",
      "[Parallel(n_jobs=1)]: Done 108 out of 108 | elapsed:  1.0min remaining:    0.0s\n",
      "[CV] max_depth=None, max_features=None, min_samples_leaf=2 ...........\n",
      "[CV]  max_depth=None, max_features=None, min_samples_leaf=2, score=0.616432, total=   2.4s\n",
      "[Parallel(n_jobs=1)]: Done 109 out of 109 | elapsed:  1.1min remaining:    0.0s\n",
      "[CV] max_depth=None, max_features=None, min_samples_leaf=2 ...........\n",
      "[CV]  max_depth=None, max_features=None, min_samples_leaf=2, score=0.631068, total=   2.6s\n",
      "[Parallel(n_jobs=1)]: Done 110 out of 110 | elapsed:  1.1min remaining:    0.0s\n",
      "[CV] max_depth=None, max_features=None, min_samples_leaf=5 ...........\n",
      "[CV]  max_depth=None, max_features=None, min_samples_leaf=5, score=0.599635, total=   1.1s\n",
      "[Parallel(n_jobs=1)]: Done 111 out of 111 | elapsed:  1.2min remaining:    0.0s\n",
      "[CV] max_depth=None, max_features=None, min_samples_leaf=5 ...........\n",
      "[CV]  max_depth=None, max_features=None, min_samples_leaf=5, score=0.604434, total=   1.2s\n",
      "[Parallel(n_jobs=1)]: Done 112 out of 112 | elapsed:  1.2min remaining:    0.0s\n",
      "[CV] max_depth=None, max_features=None, min_samples_leaf=5 ...........\n",
      "[CV]  max_depth=None, max_features=None, min_samples_leaf=5, score=0.583485, total=   1.1s\n",
      "[Parallel(n_jobs=1)]: Done 113 out of 113 | elapsed:  1.2min remaining:    0.0s\n",
      "[CV] max_depth=None, max_features=None, min_samples_leaf=5 ...........\n",
      "[CV]  max_depth=None, max_features=None, min_samples_leaf=5, score=0.605578, total=   1.2s\n",
      "[Parallel(n_jobs=1)]: Done 114 out of 114 | elapsed:  1.2min remaining:    0.0s\n",
      "[CV] max_depth=None, max_features=None, min_samples_leaf=5 ...........\n",
      "[CV]  max_depth=None, max_features=None, min_samples_leaf=5, score=0.590562, total=   1.2s\n",
      "[Parallel(n_jobs=1)]: Done 115 out of 115 | elapsed:  1.2min remaining:    0.0s\n",
      "[CV] max_depth=None, max_features=None, min_samples_leaf=10 ..........\n",
      "[CV]  max_depth=None, max_features=None, min_samples_leaf=10, score=0.625743, total=   0.8s\n",
      "[Parallel(n_jobs=1)]: Done 116 out of 116 | elapsed:  1.3min remaining:    0.0s\n",
      "[CV] max_depth=None, max_features=None, min_samples_leaf=10 ..........\n",
      "[CV]  max_depth=None, max_features=None, min_samples_leaf=10, score=0.620807, total=   0.7s\n",
      "[Parallel(n_jobs=1)]: Done 117 out of 117 | elapsed:  1.3min remaining:    0.0s\n",
      "[CV] max_depth=None, max_features=None, min_samples_leaf=10 ..........\n",
      "[CV]  max_depth=None, max_features=None, min_samples_leaf=10, score=0.578683, total=   0.6s\n",
      "[Parallel(n_jobs=1)]: Done 118 out of 118 | elapsed:  1.3min remaining:    0.0s\n",
      "[CV] max_depth=None, max_features=None, min_samples_leaf=10 ..........\n",
      "[CV]  max_depth=None, max_features=None, min_samples_leaf=10, score=0.616745, total=   0.7s\n",
      "[Parallel(n_jobs=1)]: Done 119 out of 119 | elapsed:  1.3min remaining:    0.0s\n",
      "[CV] max_depth=None, max_features=None, min_samples_leaf=10 ..........\n",
      "[CV]  max_depth=None, max_features=None, min_samples_leaf=10, score=0.609003, total=   0.7s\n",
      "[Parallel(n_jobs=1)]: Done 120 out of 120 | elapsed:  1.3min remaining:    0.0s\n",
      "[CV] max_depth=None, max_features=None, min_samples_leaf=20 ..........\n",
      "[CV]  max_depth=None, max_features=None, min_samples_leaf=20, score=0.588812, total=   0.4s\n",
      "[Parallel(n_jobs=1)]: Done 121 out of 121 | elapsed:  1.3min remaining:    0.0s\n",
      "[CV] max_depth=None, max_features=None, min_samples_leaf=20 ..........\n",
      "[CV]  max_depth=None, max_features=None, min_samples_leaf=20, score=0.597390, total=   0.4s\n",
      "[Parallel(n_jobs=1)]: Done 122 out of 122 | elapsed:  1.3min remaining:    0.0s\n",
      "[CV] max_depth=None, max_features=None, min_samples_leaf=20 ..........\n",
      "[CV]  max_depth=None, max_features=None, min_samples_leaf=20, score=0.571746, total=   0.4s\n",
      "[Parallel(n_jobs=1)]: Done 123 out of 123 | elapsed:  1.3min remaining:    0.0s\n",
      "[CV] max_depth=None, max_features=None, min_samples_leaf=20 ..........\n",
      "[CV]  max_depth=None, max_features=None, min_samples_leaf=20, score=0.606445, total=   0.4s\n",
      "[Parallel(n_jobs=1)]: Done 124 out of 124 | elapsed:  1.3min remaining:    0.0s\n",
      "[CV] max_depth=None, max_features=None, min_samples_leaf=20 ..........\n",
      "[CV]  max_depth=None, max_features=None, min_samples_leaf=20, score=0.571655, total=   0.4s\n",
      "[Parallel(n_jobs=1)]: Done 125 out of 125 | elapsed:  1.4min remaining:    0.0s\n",
      "[CV] max_depth=100, max_features=auto, min_samples_leaf=1 ............\n",
      "[CV]  max_depth=100, max_features=auto, min_samples_leaf=1, score=0.590386, total=   0.2s\n",
      "[Parallel(n_jobs=1)]: Done 126 out of 126 | elapsed:  1.4min remaining:    0.0s\n",
      "[CV] max_depth=100, max_features=auto, min_samples_leaf=1 ............\n",
      "[CV]  max_depth=100, max_features=auto, min_samples_leaf=1, score=0.564170, total=   0.2s\n",
      "[Parallel(n_jobs=1)]: Done 127 out of 127 | elapsed:  1.4min remaining:    0.0s\n",
      "[CV] max_depth=100, max_features=auto, min_samples_leaf=1 ............\n",
      "[CV]  max_depth=100, max_features=auto, min_samples_leaf=1, score=0.584869, total=   0.2s\n",
      "[Parallel(n_jobs=1)]: Done 128 out of 128 | elapsed:  1.4min remaining:    0.0s\n",
      "[CV] max_depth=100, max_features=auto, min_samples_leaf=1 ............\n",
      "[CV]  max_depth=100, max_features=auto, min_samples_leaf=1, score=0.626852, total=   0.2s\n",
      "[Parallel(n_jobs=1)]: Done 129 out of 129 | elapsed:  1.4min remaining:    0.0s\n",
      "[CV] max_depth=100, max_features=auto, min_samples_leaf=1 ............\n",
      "[CV]  max_depth=100, max_features=auto, min_samples_leaf=1, score=0.592612, total=   0.3s\n",
      "[Parallel(n_jobs=1)]: Done 130 out of 130 | elapsed:  1.4min remaining:    0.0s\n",
      "[CV] max_depth=100, max_features=auto, min_samples_leaf=2 ............\n"
     ]
    },
    {
     "name": "stdout",
     "output_type": "stream",
     "text": [
      "[CV]  max_depth=100, max_features=auto, min_samples_leaf=2, score=0.572952, total=   0.2s\n",
      "[Parallel(n_jobs=1)]: Done 131 out of 131 | elapsed:  1.4min remaining:    0.0s\n",
      "[CV] max_depth=100, max_features=auto, min_samples_leaf=2 ............\n",
      "[CV]  max_depth=100, max_features=auto, min_samples_leaf=2, score=0.592078, total=   0.2s\n",
      "[Parallel(n_jobs=1)]: Done 132 out of 132 | elapsed:  1.4min remaining:    0.0s\n",
      "[CV] max_depth=100, max_features=auto, min_samples_leaf=2 ............\n",
      "[CV]  max_depth=100, max_features=auto, min_samples_leaf=2, score=0.606790, total=   0.2s\n",
      "[Parallel(n_jobs=1)]: Done 133 out of 133 | elapsed:  1.4min remaining:    0.0s\n",
      "[CV] max_depth=100, max_features=auto, min_samples_leaf=2 ............\n",
      "[CV]  max_depth=100, max_features=auto, min_samples_leaf=2, score=0.594433, total=   0.2s\n",
      "[Parallel(n_jobs=1)]: Done 134 out of 134 | elapsed:  1.4min remaining:    0.0s\n",
      "[CV] max_depth=100, max_features=auto, min_samples_leaf=2 ............\n",
      "[CV]  max_depth=100, max_features=auto, min_samples_leaf=2, score=0.595492, total=   0.2s\n",
      "[Parallel(n_jobs=1)]: Done 135 out of 135 | elapsed:  1.4min remaining:    0.0s\n",
      "[CV] max_depth=100, max_features=auto, min_samples_leaf=5 ............\n",
      "[CV]  max_depth=100, max_features=auto, min_samples_leaf=5, score=0.571522, total=   0.0s\n",
      "[Parallel(n_jobs=1)]: Done 136 out of 136 | elapsed:  1.4min remaining:    0.0s\n",
      "[CV] max_depth=100, max_features=auto, min_samples_leaf=5 ............\n",
      "[CV]  max_depth=100, max_features=auto, min_samples_leaf=5, score=0.565504, total=   0.0s\n",
      "[Parallel(n_jobs=1)]: Done 137 out of 137 | elapsed:  1.4min remaining:    0.0s\n",
      "[CV] max_depth=100, max_features=auto, min_samples_leaf=5 ............\n",
      "[CV]  max_depth=100, max_features=auto, min_samples_leaf=5, score=0.573881, total=   0.0s\n",
      "[Parallel(n_jobs=1)]: Done 138 out of 138 | elapsed:  1.4min remaining:    0.0s\n",
      "[CV] max_depth=100, max_features=auto, min_samples_leaf=5 ............\n",
      "[CV]  max_depth=100, max_features=auto, min_samples_leaf=5, score=0.568047, total=   0.1s\n",
      "[Parallel(n_jobs=1)]: Done 139 out of 139 | elapsed:  1.4min remaining:    0.0s\n",
      "[CV] max_depth=100, max_features=auto, min_samples_leaf=5 ............\n",
      "[CV]  max_depth=100, max_features=auto, min_samples_leaf=5, score=0.565450, total=   0.1s\n",
      "[Parallel(n_jobs=1)]: Done 140 out of 140 | elapsed:  1.4min remaining:    0.0s\n",
      "[CV] max_depth=100, max_features=auto, min_samples_leaf=10 ...........\n"
     ]
    },
    {
     "name": "stderr",
     "output_type": "stream",
     "text": [
      "C:\\Users\\maxim\\Anaconda3\\lib\\site-packages\\sklearn\\metrics\\classification.py:1113: UndefinedMetricWarning: F-score is ill-defined and being set to 0.0 in labels with no predicted samples.\n",
      "  'precision', 'predicted', average, warn_for)\n",
      "C:\\Users\\maxim\\Anaconda3\\lib\\site-packages\\sklearn\\metrics\\classification.py:1113: UndefinedMetricWarning: F-score is ill-defined and being set to 0.0 in labels with no predicted samples.\n",
      "  'precision', 'predicted', average, warn_for)\n",
      "C:\\Users\\maxim\\Anaconda3\\lib\\site-packages\\sklearn\\metrics\\classification.py:1113: UndefinedMetricWarning: F-score is ill-defined and being set to 0.0 in labels with no predicted samples.\n",
      "  'precision', 'predicted', average, warn_for)\n"
     ]
    },
    {
     "name": "stdout",
     "output_type": "stream",
     "text": [
      "[CV]  max_depth=100, max_features=auto, min_samples_leaf=10, score=0.564475, total=   0.0s\n",
      "[Parallel(n_jobs=1)]: Done 141 out of 141 | elapsed:  1.4min remaining:    0.0s\n",
      "[CV] max_depth=100, max_features=auto, min_samples_leaf=10 ...........\n",
      "[CV]  max_depth=100, max_features=auto, min_samples_leaf=10, score=0.564475, total=   0.0s\n",
      "[Parallel(n_jobs=1)]: Done 142 out of 142 | elapsed:  1.4min remaining:    0.0s\n",
      "[CV] max_depth=100, max_features=auto, min_samples_leaf=10 ...........\n",
      "[CV]  max_depth=100, max_features=auto, min_samples_leaf=10, score=0.564475, total=   0.0s\n",
      "[Parallel(n_jobs=1)]: Done 143 out of 143 | elapsed:  1.4min remaining:    0.0s\n",
      "[CV] max_depth=100, max_features=auto, min_samples_leaf=10 ...........\n"
     ]
    },
    {
     "name": "stderr",
     "output_type": "stream",
     "text": [
      "C:\\Users\\maxim\\Anaconda3\\lib\\site-packages\\sklearn\\metrics\\classification.py:1113: UndefinedMetricWarning: F-score is ill-defined and being set to 0.0 in labels with no predicted samples.\n",
      "  'precision', 'predicted', average, warn_for)\n",
      "C:\\Users\\maxim\\Anaconda3\\lib\\site-packages\\sklearn\\metrics\\classification.py:1113: UndefinedMetricWarning: F-score is ill-defined and being set to 0.0 in labels with no predicted samples.\n",
      "  'precision', 'predicted', average, warn_for)\n",
      "C:\\Users\\maxim\\Anaconda3\\lib\\site-packages\\sklearn\\metrics\\classification.py:1113: UndefinedMetricWarning: F-score is ill-defined and being set to 0.0 in labels with no predicted samples.\n",
      "  'precision', 'predicted', average, warn_for)\n"
     ]
    },
    {
     "name": "stdout",
     "output_type": "stream",
     "text": [
      "[CV]  max_depth=100, max_features=auto, min_samples_leaf=10, score=0.564475, total=   0.0s\n",
      "[Parallel(n_jobs=1)]: Done 144 out of 144 | elapsed:  1.4min remaining:    0.0s\n",
      "[CV] max_depth=100, max_features=auto, min_samples_leaf=10 ...........\n",
      "[CV]  max_depth=100, max_features=auto, min_samples_leaf=10, score=0.565450, total=   0.0s\n",
      "[Parallel(n_jobs=1)]: Done 145 out of 145 | elapsed:  1.4min remaining:    0.0s\n",
      "[CV] max_depth=100, max_features=auto, min_samples_leaf=20 ...........\n",
      "[CV]  max_depth=100, max_features=auto, min_samples_leaf=20, score=0.564475, total=   0.0s\n",
      "[Parallel(n_jobs=1)]: Done 146 out of 146 | elapsed:  1.4min remaining:    0.0s\n",
      "[CV] max_depth=100, max_features=auto, min_samples_leaf=20 ...........\n"
     ]
    },
    {
     "name": "stderr",
     "output_type": "stream",
     "text": [
      "C:\\Users\\maxim\\Anaconda3\\lib\\site-packages\\sklearn\\metrics\\classification.py:1113: UndefinedMetricWarning: F-score is ill-defined and being set to 0.0 in labels with no predicted samples.\n",
      "  'precision', 'predicted', average, warn_for)\n",
      "C:\\Users\\maxim\\Anaconda3\\lib\\site-packages\\sklearn\\metrics\\classification.py:1113: UndefinedMetricWarning: F-score is ill-defined and being set to 0.0 in labels with no predicted samples.\n",
      "  'precision', 'predicted', average, warn_for)\n",
      "C:\\Users\\maxim\\Anaconda3\\lib\\site-packages\\sklearn\\metrics\\classification.py:1113: UndefinedMetricWarning: F-score is ill-defined and being set to 0.0 in labels with no predicted samples.\n",
      "  'precision', 'predicted', average, warn_for)\n",
      "C:\\Users\\maxim\\Anaconda3\\lib\\site-packages\\sklearn\\metrics\\classification.py:1113: UndefinedMetricWarning: F-score is ill-defined and being set to 0.0 in labels with no predicted samples.\n",
      "  'precision', 'predicted', average, warn_for)\n"
     ]
    },
    {
     "name": "stdout",
     "output_type": "stream",
     "text": [
      "[CV]  max_depth=100, max_features=auto, min_samples_leaf=20, score=0.564475, total=   0.0s\n",
      "[Parallel(n_jobs=1)]: Done 147 out of 147 | elapsed:  1.4min remaining:    0.0s\n",
      "[CV] max_depth=100, max_features=auto, min_samples_leaf=20 ...........\n",
      "[CV]  max_depth=100, max_features=auto, min_samples_leaf=20, score=0.564475, total=   0.0s\n",
      "[Parallel(n_jobs=1)]: Done 148 out of 148 | elapsed:  1.4min remaining:    0.0s\n",
      "[CV] max_depth=100, max_features=auto, min_samples_leaf=20 ...........\n",
      "[CV]  max_depth=100, max_features=auto, min_samples_leaf=20, score=0.564475, total=   0.0s\n",
      "[Parallel(n_jobs=1)]: Done 149 out of 149 | elapsed:  1.4min remaining:    0.0s\n",
      "[CV] max_depth=100, max_features=auto, min_samples_leaf=20 ...........\n",
      "[CV]  max_depth=100, max_features=auto, min_samples_leaf=20, score=0.565450, total=   0.0s\n",
      "[Parallel(n_jobs=1)]: Done 150 out of 150 | elapsed:  1.4min remaining:    0.0s\n",
      "[CV] max_depth=100, max_features=log2, min_samples_leaf=1 ............\n"
     ]
    },
    {
     "name": "stderr",
     "output_type": "stream",
     "text": [
      "C:\\Users\\maxim\\Anaconda3\\lib\\site-packages\\sklearn\\metrics\\classification.py:1113: UndefinedMetricWarning: F-score is ill-defined and being set to 0.0 in labels with no predicted samples.\n",
      "  'precision', 'predicted', average, warn_for)\n"
     ]
    },
    {
     "name": "stdout",
     "output_type": "stream",
     "text": [
      "[CV]  max_depth=100, max_features=log2, min_samples_leaf=1, score=0.579262, total=   0.1s\n",
      "[Parallel(n_jobs=1)]: Done 151 out of 151 | elapsed:  1.4min remaining:    0.0s\n",
      "[CV] max_depth=100, max_features=log2, min_samples_leaf=1 ............\n",
      "[CV]  max_depth=100, max_features=log2, min_samples_leaf=1, score=0.579775, total=   0.2s\n",
      "[Parallel(n_jobs=1)]: Done 152 out of 152 | elapsed:  1.4min remaining:    0.0s\n",
      "[CV] max_depth=100, max_features=log2, min_samples_leaf=1 ............\n",
      "[CV]  max_depth=100, max_features=log2, min_samples_leaf=1, score=0.599723, total=   0.2s\n",
      "[Parallel(n_jobs=1)]: Done 153 out of 153 | elapsed:  1.4min remaining:    0.0s\n",
      "[CV] max_depth=100, max_features=log2, min_samples_leaf=1 ............\n",
      "[CV]  max_depth=100, max_features=log2, min_samples_leaf=1, score=0.581249, total=   0.2s\n",
      "[Parallel(n_jobs=1)]: Done 154 out of 154 | elapsed:  1.5min remaining:    0.0s\n",
      "[CV] max_depth=100, max_features=log2, min_samples_leaf=1 ............\n",
      "[CV]  max_depth=100, max_features=log2, min_samples_leaf=1, score=0.565115, total=   0.1s\n",
      "[Parallel(n_jobs=1)]: Done 155 out of 155 | elapsed:  1.5min remaining:    0.0s\n",
      "[CV] max_depth=100, max_features=log2, min_samples_leaf=2 ............\n",
      "[CV]  max_depth=100, max_features=log2, min_samples_leaf=2, score=0.564475, total=   0.0s\n",
      "[Parallel(n_jobs=1)]: Done 156 out of 156 | elapsed:  1.5min remaining:    0.0s\n",
      "[CV] max_depth=100, max_features=log2, min_samples_leaf=2 ............\n",
      "[CV]  max_depth=100, max_features=log2, min_samples_leaf=2, score=0.564475, total=   0.0s\n",
      "[Parallel(n_jobs=1)]: Done 157 out of 157 | elapsed:  1.5min remaining:    0.0s\n",
      "[CV] max_depth=100, max_features=log2, min_samples_leaf=2 ............\n",
      "[CV]  max_depth=100, max_features=log2, min_samples_leaf=2, score=0.564475, total=   0.0s\n",
      "[Parallel(n_jobs=1)]: Done 158 out of 158 | elapsed:  1.5min remaining:    0.0s\n",
      "[CV] max_depth=100, max_features=log2, min_samples_leaf=2 ............\n"
     ]
    },
    {
     "name": "stderr",
     "output_type": "stream",
     "text": [
      "C:\\Users\\maxim\\Anaconda3\\lib\\site-packages\\sklearn\\metrics\\classification.py:1113: UndefinedMetricWarning: F-score is ill-defined and being set to 0.0 in labels with no predicted samples.\n",
      "  'precision', 'predicted', average, warn_for)\n",
      "C:\\Users\\maxim\\Anaconda3\\lib\\site-packages\\sklearn\\metrics\\classification.py:1113: UndefinedMetricWarning: F-score is ill-defined and being set to 0.0 in labels with no predicted samples.\n",
      "  'precision', 'predicted', average, warn_for)\n",
      "C:\\Users\\maxim\\Anaconda3\\lib\\site-packages\\sklearn\\metrics\\classification.py:1113: UndefinedMetricWarning: F-score is ill-defined and being set to 0.0 in labels with no predicted samples.\n",
      "  'precision', 'predicted', average, warn_for)\n",
      "C:\\Users\\maxim\\Anaconda3\\lib\\site-packages\\sklearn\\metrics\\classification.py:1113: UndefinedMetricWarning: F-score is ill-defined and being set to 0.0 in labels with no predicted samples.\n",
      "  'precision', 'predicted', average, warn_for)\n"
     ]
    },
    {
     "name": "stdout",
     "output_type": "stream",
     "text": [
      "[CV]  max_depth=100, max_features=log2, min_samples_leaf=2, score=0.564475, total=   0.0s\n",
      "[Parallel(n_jobs=1)]: Done 159 out of 159 | elapsed:  1.5min remaining:    0.0s\n",
      "[CV] max_depth=100, max_features=log2, min_samples_leaf=2 ............\n",
      "[CV]  max_depth=100, max_features=log2, min_samples_leaf=2, score=0.569036, total=   0.0s\n",
      "[Parallel(n_jobs=1)]: Done 160 out of 160 | elapsed:  1.5min remaining:    0.0s\n",
      "[CV] max_depth=100, max_features=log2, min_samples_leaf=5 ............\n",
      "[CV]  max_depth=100, max_features=log2, min_samples_leaf=5, score=0.564475, total=   0.0s\n",
      "[Parallel(n_jobs=1)]: Done 161 out of 161 | elapsed:  1.5min remaining:    0.0s\n",
      "[CV] max_depth=100, max_features=log2, min_samples_leaf=5 ............\n",
      "[CV]  max_depth=100, max_features=log2, min_samples_leaf=5, score=0.564475, total=   0.0s\n",
      "[Parallel(n_jobs=1)]: Done 162 out of 162 | elapsed:  1.5min remaining:    0.0s\n",
      "[CV] max_depth=100, max_features=log2, min_samples_leaf=5 ............\n",
      "[CV]  max_depth=100, max_features=log2, min_samples_leaf=5, score=0.564475, total=   0.0s\n",
      "[Parallel(n_jobs=1)]: Done 163 out of 163 | elapsed:  1.5min remaining:    0.0s\n",
      "[CV] max_depth=100, max_features=log2, min_samples_leaf=5 ............\n"
     ]
    },
    {
     "name": "stderr",
     "output_type": "stream",
     "text": [
      "C:\\Users\\maxim\\Anaconda3\\lib\\site-packages\\sklearn\\metrics\\classification.py:1113: UndefinedMetricWarning: F-score is ill-defined and being set to 0.0 in labels with no predicted samples.\n",
      "  'precision', 'predicted', average, warn_for)\n",
      "C:\\Users\\maxim\\Anaconda3\\lib\\site-packages\\sklearn\\metrics\\classification.py:1113: UndefinedMetricWarning: F-score is ill-defined and being set to 0.0 in labels with no predicted samples.\n",
      "  'precision', 'predicted', average, warn_for)\n",
      "C:\\Users\\maxim\\Anaconda3\\lib\\site-packages\\sklearn\\metrics\\classification.py:1113: UndefinedMetricWarning: F-score is ill-defined and being set to 0.0 in labels with no predicted samples.\n",
      "  'precision', 'predicted', average, warn_for)\n",
      "C:\\Users\\maxim\\Anaconda3\\lib\\site-packages\\sklearn\\metrics\\classification.py:1113: UndefinedMetricWarning: F-score is ill-defined and being set to 0.0 in labels with no predicted samples.\n",
      "  'precision', 'predicted', average, warn_for)\n",
      "C:\\Users\\maxim\\Anaconda3\\lib\\site-packages\\sklearn\\metrics\\classification.py:1113: UndefinedMetricWarning: F-score is ill-defined and being set to 0.0 in labels with no predicted samples.\n",
      "  'precision', 'predicted', average, warn_for)\n"
     ]
    },
    {
     "name": "stdout",
     "output_type": "stream",
     "text": [
      "[CV]  max_depth=100, max_features=log2, min_samples_leaf=5, score=0.564475, total=   0.0s\n",
      "[Parallel(n_jobs=1)]: Done 164 out of 164 | elapsed:  1.5min remaining:    0.0s\n",
      "[CV] max_depth=100, max_features=log2, min_samples_leaf=5 ............\n",
      "[CV]  max_depth=100, max_features=log2, min_samples_leaf=5, score=0.565450, total=   0.0s\n",
      "[Parallel(n_jobs=1)]: Done 165 out of 165 | elapsed:  1.5min remaining:    0.0s\n",
      "[CV] max_depth=100, max_features=log2, min_samples_leaf=10 ...........\n",
      "[CV]  max_depth=100, max_features=log2, min_samples_leaf=10, score=0.564475, total=   0.0s\n",
      "[Parallel(n_jobs=1)]: Done 166 out of 166 | elapsed:  1.5min remaining:    0.0s\n",
      "[CV] max_depth=100, max_features=log2, min_samples_leaf=10 ...........\n",
      "[CV]  max_depth=100, max_features=log2, min_samples_leaf=10, score=0.564475, total=   0.0s\n",
      "[Parallel(n_jobs=1)]: Done 167 out of 167 | elapsed:  1.5min remaining:    0.0s\n",
      "[CV] max_depth=100, max_features=log2, min_samples_leaf=10 ...........\n",
      "[CV]  max_depth=100, max_features=log2, min_samples_leaf=10, score=0.564475, total=   0.0s\n",
      "[Parallel(n_jobs=1)]: Done 168 out of 168 | elapsed:  1.5min remaining:    0.0s\n",
      "[CV] max_depth=100, max_features=log2, min_samples_leaf=10 ...........\n"
     ]
    },
    {
     "name": "stderr",
     "output_type": "stream",
     "text": [
      "C:\\Users\\maxim\\Anaconda3\\lib\\site-packages\\sklearn\\metrics\\classification.py:1113: UndefinedMetricWarning: F-score is ill-defined and being set to 0.0 in labels with no predicted samples.\n",
      "  'precision', 'predicted', average, warn_for)\n",
      "C:\\Users\\maxim\\Anaconda3\\lib\\site-packages\\sklearn\\metrics\\classification.py:1113: UndefinedMetricWarning: F-score is ill-defined and being set to 0.0 in labels with no predicted samples.\n",
      "  'precision', 'predicted', average, warn_for)\n",
      "C:\\Users\\maxim\\Anaconda3\\lib\\site-packages\\sklearn\\metrics\\classification.py:1113: UndefinedMetricWarning: F-score is ill-defined and being set to 0.0 in labels with no predicted samples.\n",
      "  'precision', 'predicted', average, warn_for)\n",
      "C:\\Users\\maxim\\Anaconda3\\lib\\site-packages\\sklearn\\metrics\\classification.py:1113: UndefinedMetricWarning: F-score is ill-defined and being set to 0.0 in labels with no predicted samples.\n",
      "  'precision', 'predicted', average, warn_for)\n",
      "C:\\Users\\maxim\\Anaconda3\\lib\\site-packages\\sklearn\\metrics\\classification.py:1113: UndefinedMetricWarning: F-score is ill-defined and being set to 0.0 in labels with no predicted samples.\n",
      "  'precision', 'predicted', average, warn_for)\n"
     ]
    },
    {
     "name": "stdout",
     "output_type": "stream",
     "text": [
      "[CV]  max_depth=100, max_features=log2, min_samples_leaf=10, score=0.564475, total=   0.0s\n",
      "[Parallel(n_jobs=1)]: Done 169 out of 169 | elapsed:  1.5min remaining:    0.0s\n",
      "[CV] max_depth=100, max_features=log2, min_samples_leaf=10 ...........\n",
      "[CV]  max_depth=100, max_features=log2, min_samples_leaf=10, score=0.565450, total=   0.0s\n",
      "[Parallel(n_jobs=1)]: Done 170 out of 170 | elapsed:  1.5min remaining:    0.0s\n",
      "[CV] max_depth=100, max_features=log2, min_samples_leaf=20 ...........\n",
      "[CV]  max_depth=100, max_features=log2, min_samples_leaf=20, score=0.564475, total=   0.0s\n",
      "[Parallel(n_jobs=1)]: Done 171 out of 171 | elapsed:  1.5min remaining:    0.0s\n",
      "[CV] max_depth=100, max_features=log2, min_samples_leaf=20 ...........\n",
      "[CV]  max_depth=100, max_features=log2, min_samples_leaf=20, score=0.564475, total=   0.0s\n",
      "[Parallel(n_jobs=1)]: Done 172 out of 172 | elapsed:  1.5min remaining:    0.0s\n",
      "[CV] max_depth=100, max_features=log2, min_samples_leaf=20 ...........\n",
      "[CV]  max_depth=100, max_features=log2, min_samples_leaf=20, score=0.564475, total=   0.0s\n",
      "[Parallel(n_jobs=1)]: Done 173 out of 173 | elapsed:  1.5min remaining:    0.0s\n",
      "[CV] max_depth=100, max_features=log2, min_samples_leaf=20 ...........\n",
      "[CV]  max_depth=100, max_features=log2, min_samples_leaf=20, score=0.564475, total=   0.0s"
     ]
    },
    {
     "name": "stderr",
     "output_type": "stream",
     "text": [
      "C:\\Users\\maxim\\Anaconda3\\lib\\site-packages\\sklearn\\metrics\\classification.py:1113: UndefinedMetricWarning: F-score is ill-defined and being set to 0.0 in labels with no predicted samples.\n",
      "  'precision', 'predicted', average, warn_for)\n",
      "C:\\Users\\maxim\\Anaconda3\\lib\\site-packages\\sklearn\\metrics\\classification.py:1113: UndefinedMetricWarning: F-score is ill-defined and being set to 0.0 in labels with no predicted samples.\n",
      "  'precision', 'predicted', average, warn_for)\n",
      "C:\\Users\\maxim\\Anaconda3\\lib\\site-packages\\sklearn\\metrics\\classification.py:1113: UndefinedMetricWarning: F-score is ill-defined and being set to 0.0 in labels with no predicted samples.\n",
      "  'precision', 'predicted', average, warn_for)\n",
      "C:\\Users\\maxim\\Anaconda3\\lib\\site-packages\\sklearn\\metrics\\classification.py:1113: UndefinedMetricWarning: F-score is ill-defined and being set to 0.0 in labels with no predicted samples.\n",
      "  'precision', 'predicted', average, warn_for)\n",
      "C:\\Users\\maxim\\Anaconda3\\lib\\site-packages\\sklearn\\metrics\\classification.py:1113: UndefinedMetricWarning: F-score is ill-defined and being set to 0.0 in labels with no predicted samples.\n",
      "  'precision', 'predicted', average, warn_for)\n"
     ]
    },
    {
     "name": "stdout",
     "output_type": "stream",
     "text": [
      "\n",
      "[Parallel(n_jobs=1)]: Done 174 out of 174 | elapsed:  1.5min remaining:    0.0s\n",
      "[CV] max_depth=100, max_features=log2, min_samples_leaf=20 ...........\n",
      "[CV]  max_depth=100, max_features=log2, min_samples_leaf=20, score=0.565450, total=   0.0s\n",
      "[Parallel(n_jobs=1)]: Done 175 out of 175 | elapsed:  1.5min remaining:    0.0s\n",
      "[CV] max_depth=100, max_features=500, min_samples_leaf=1 .............\n",
      "[CV]  max_depth=100, max_features=500, min_samples_leaf=1, score=0.579988, total=   0.5s\n",
      "[Parallel(n_jobs=1)]: Done 176 out of 176 | elapsed:  1.5min remaining:    0.0s\n",
      "[CV] max_depth=100, max_features=500, min_samples_leaf=1 .............\n",
      "[CV]  max_depth=100, max_features=500, min_samples_leaf=1, score=0.614977, total=   0.5s\n",
      "[Parallel(n_jobs=1)]: Done 177 out of 177 | elapsed:  1.5min remaining:    0.0s\n",
      "[CV] max_depth=100, max_features=500, min_samples_leaf=1 .............\n",
      "[CV]  max_depth=100, max_features=500, min_samples_leaf=1, score=0.623656, total=   0.5s\n",
      "[Parallel(n_jobs=1)]: Done 178 out of 178 | elapsed:  1.5min remaining:    0.0s\n",
      "[CV] max_depth=100, max_features=500, min_samples_leaf=1 .............\n",
      "[CV]  max_depth=100, max_features=500, min_samples_leaf=1, score=0.626934, total=   0.5s\n",
      "[Parallel(n_jobs=1)]: Done 179 out of 179 | elapsed:  1.5min remaining:    0.0s\n",
      "[CV] max_depth=100, max_features=500, min_samples_leaf=1 .............\n",
      "[CV]  max_depth=100, max_features=500, min_samples_leaf=1, score=0.637446, total=   0.5s\n",
      "[Parallel(n_jobs=1)]: Done 180 out of 180 | elapsed:  1.5min remaining:    0.0s\n",
      "[CV] max_depth=100, max_features=500, min_samples_leaf=2 .............\n",
      "[CV]  max_depth=100, max_features=500, min_samples_leaf=2, score=0.621467, total=   0.4s\n",
      "[Parallel(n_jobs=1)]: Done 181 out of 181 | elapsed:  1.5min remaining:    0.0s\n",
      "[CV] max_depth=100, max_features=500, min_samples_leaf=2 .............\n",
      "[CV]  max_depth=100, max_features=500, min_samples_leaf=2, score=0.608262, total=   0.4s\n",
      "[Parallel(n_jobs=1)]: Done 182 out of 182 | elapsed:  1.5min remaining:    0.0s\n",
      "[CV] max_depth=100, max_features=500, min_samples_leaf=2 .............\n",
      "[CV]  max_depth=100, max_features=500, min_samples_leaf=2, score=0.607347, total=   0.4s\n",
      "[Parallel(n_jobs=1)]: Done 183 out of 183 | elapsed:  1.5min remaining:    0.0s\n",
      "[CV] max_depth=100, max_features=500, min_samples_leaf=2 .............\n",
      "[CV]  max_depth=100, max_features=500, min_samples_leaf=2, score=0.620355, total=   0.4s\n",
      "[Parallel(n_jobs=1)]: Done 184 out of 184 | elapsed:  1.6min remaining:    0.0s\n",
      "[CV] max_depth=100, max_features=500, min_samples_leaf=2 .............\n",
      "[CV]  max_depth=100, max_features=500, min_samples_leaf=2, score=0.595594, total=   0.4s\n",
      "[Parallel(n_jobs=1)]: Done 185 out of 185 | elapsed:  1.6min remaining:    0.0s\n",
      "[CV] max_depth=100, max_features=500, min_samples_leaf=5 .............\n",
      "[CV]  max_depth=100, max_features=500, min_samples_leaf=5, score=0.609271, total=   0.2s\n",
      "[Parallel(n_jobs=1)]: Done 186 out of 186 | elapsed:  1.6min remaining:    0.0s\n",
      "[CV] max_depth=100, max_features=500, min_samples_leaf=5 .............\n",
      "[CV]  max_depth=100, max_features=500, min_samples_leaf=5, score=0.578683, total=   0.4s\n",
      "[Parallel(n_jobs=1)]: Done 187 out of 187 | elapsed:  1.6min remaining:    0.0s\n",
      "[CV] max_depth=100, max_features=500, min_samples_leaf=5 .............\n",
      "[CV]  max_depth=100, max_features=500, min_samples_leaf=5, score=0.593410, total=   0.4s\n",
      "[Parallel(n_jobs=1)]: Done 188 out of 188 | elapsed:  1.6min remaining:    0.0s\n",
      "[CV] max_depth=100, max_features=500, min_samples_leaf=5 .............\n",
      "[CV]  max_depth=100, max_features=500, min_samples_leaf=5, score=0.608024, total=   0.3s\n",
      "[Parallel(n_jobs=1)]: Done 189 out of 189 | elapsed:  1.6min remaining:    0.0s\n",
      "[CV] max_depth=100, max_features=500, min_samples_leaf=5 .............\n",
      "[CV]  max_depth=100, max_features=500, min_samples_leaf=5, score=0.599113, total=   0.3s\n",
      "[Parallel(n_jobs=1)]: Done 190 out of 190 | elapsed:  1.6min remaining:    0.0s\n",
      "[CV] max_depth=100, max_features=500, min_samples_leaf=10 ............\n",
      "[CV]  max_depth=100, max_features=500, min_samples_leaf=10, score=0.625131, total=   0.2s\n",
      "[Parallel(n_jobs=1)]: Done 191 out of 191 | elapsed:  1.6min remaining:    0.0s\n",
      "[CV] max_depth=100, max_features=500, min_samples_leaf=10 ............\n",
      "[CV]  max_depth=100, max_features=500, min_samples_leaf=10, score=0.568521, total=   0.2s\n",
      "[Parallel(n_jobs=1)]: Done 192 out of 192 | elapsed:  1.6min remaining:    0.0s\n",
      "[CV] max_depth=100, max_features=500, min_samples_leaf=10 ............\n",
      "[CV]  max_depth=100, max_features=500, min_samples_leaf=10, score=0.567517, total=   0.1s\n",
      "[Parallel(n_jobs=1)]: Done 193 out of 193 | elapsed:  1.6min remaining:    0.0s\n",
      "[CV] max_depth=100, max_features=500, min_samples_leaf=10 ............\n",
      "[CV]  max_depth=100, max_features=500, min_samples_leaf=10, score=0.572856, total=   0.2s\n",
      "[Parallel(n_jobs=1)]: Done 194 out of 194 | elapsed:  1.6min remaining:    0.0s\n",
      "[CV] max_depth=100, max_features=500, min_samples_leaf=10 ............\n",
      "[CV]  max_depth=100, max_features=500, min_samples_leaf=10, score=0.596128, total=   0.1s\n",
      "[Parallel(n_jobs=1)]: Done 195 out of 195 | elapsed:  1.6min remaining:    0.0s\n",
      "[CV] max_depth=100, max_features=500, min_samples_leaf=20 ............\n"
     ]
    },
    {
     "name": "stderr",
     "output_type": "stream",
     "text": [
      "C:\\Users\\maxim\\Anaconda3\\lib\\site-packages\\sklearn\\metrics\\classification.py:1113: UndefinedMetricWarning: F-score is ill-defined and being set to 0.0 in labels with no predicted samples.\n",
      "  'precision', 'predicted', average, warn_for)\n"
     ]
    },
    {
     "name": "stdout",
     "output_type": "stream",
     "text": [
      "[CV]  max_depth=100, max_features=500, min_samples_leaf=20, score=0.564475, total=   0.1s\n",
      "[Parallel(n_jobs=1)]: Done 196 out of 196 | elapsed:  1.6min remaining:    0.0s\n",
      "[CV] max_depth=100, max_features=500, min_samples_leaf=20 ............\n"
     ]
    },
    {
     "name": "stderr",
     "output_type": "stream",
     "text": [
      "C:\\Users\\maxim\\Anaconda3\\lib\\site-packages\\sklearn\\metrics\\classification.py:1113: UndefinedMetricWarning: F-score is ill-defined and being set to 0.0 in labels with no predicted samples.\n",
      "  'precision', 'predicted', average, warn_for)\n"
     ]
    },
    {
     "name": "stdout",
     "output_type": "stream",
     "text": [
      "[CV]  max_depth=100, max_features=500, min_samples_leaf=20, score=0.564475, total=   0.1s\n",
      "[Parallel(n_jobs=1)]: Done 197 out of 197 | elapsed:  1.6min remaining:    0.0s\n",
      "[CV] max_depth=100, max_features=500, min_samples_leaf=20 ............\n",
      "[CV]  max_depth=100, max_features=500, min_samples_leaf=20, score=0.563528, total=   0.2s\n",
      "[Parallel(n_jobs=1)]: Done 198 out of 198 | elapsed:  1.6min remaining:    0.0s\n",
      "[CV] max_depth=100, max_features=500, min_samples_leaf=20 ............\n",
      "[CV]  max_depth=100, max_features=500, min_samples_leaf=20, score=0.564475, total=   0.1s\n",
      "[Parallel(n_jobs=1)]: Done 199 out of 199 | elapsed:  1.6min remaining:    0.0s\n",
      "[CV] max_depth=100, max_features=500, min_samples_leaf=20 ............\n"
     ]
    },
    {
     "name": "stderr",
     "output_type": "stream",
     "text": [
      "C:\\Users\\maxim\\Anaconda3\\lib\\site-packages\\sklearn\\metrics\\classification.py:1113: UndefinedMetricWarning: F-score is ill-defined and being set to 0.0 in labels with no predicted samples.\n",
      "  'precision', 'predicted', average, warn_for)\n",
      "C:\\Users\\maxim\\Anaconda3\\lib\\site-packages\\sklearn\\metrics\\classification.py:1113: UndefinedMetricWarning: F-score is ill-defined and being set to 0.0 in labels with no predicted samples.\n",
      "  'precision', 'predicted', average, warn_for)\n"
     ]
    },
    {
     "name": "stdout",
     "output_type": "stream",
     "text": [
      "[CV]  max_depth=100, max_features=500, min_samples_leaf=20, score=0.565450, total=   0.1s\n",
      "[Parallel(n_jobs=1)]: Done 200 out of 200 | elapsed:  1.6min remaining:    0.0s\n",
      "[CV] max_depth=100, max_features=1000, min_samples_leaf=1 ............\n",
      "[CV]  max_depth=100, max_features=1000, min_samples_leaf=1, score=0.594952, total=   0.9s\n",
      "[Parallel(n_jobs=1)]: Done 201 out of 201 | elapsed:  1.7min remaining:    0.0s\n",
      "[CV] max_depth=100, max_features=1000, min_samples_leaf=1 ............\n",
      "[CV]  max_depth=100, max_features=1000, min_samples_leaf=1, score=0.579654, total=   0.9s\n",
      "[Parallel(n_jobs=1)]: Done 202 out of 202 | elapsed:  1.7min remaining:    0.0s\n",
      "[CV] max_depth=100, max_features=1000, min_samples_leaf=1 ............\n",
      "[CV]  max_depth=100, max_features=1000, min_samples_leaf=1, score=0.619700, total=   0.7s\n",
      "[Parallel(n_jobs=1)]: Done 203 out of 203 | elapsed:  1.7min remaining:    0.0s\n",
      "[CV] max_depth=100, max_features=1000, min_samples_leaf=1 ............\n",
      "[CV]  max_depth=100, max_features=1000, min_samples_leaf=1, score=0.638410, total=   0.7s\n",
      "[Parallel(n_jobs=1)]: Done 204 out of 204 | elapsed:  1.7min remaining:    0.0s\n",
      "[CV] max_depth=100, max_features=1000, min_samples_leaf=1 ............\n",
      "[CV]  max_depth=100, max_features=1000, min_samples_leaf=1, score=0.617071, total=   0.7s\n",
      "[Parallel(n_jobs=1)]: Done 205 out of 205 | elapsed:  1.7min remaining:    0.0s\n",
      "[CV] max_depth=100, max_features=1000, min_samples_leaf=2 ............\n",
      "[CV]  max_depth=100, max_features=1000, min_samples_leaf=2, score=0.590576, total=   0.6s\n",
      "[Parallel(n_jobs=1)]: Done 206 out of 206 | elapsed:  1.7min remaining:    0.0s\n",
      "[CV] max_depth=100, max_features=1000, min_samples_leaf=2 ............\n",
      "[CV]  max_depth=100, max_features=1000, min_samples_leaf=2, score=0.583962, total=   0.7s\n",
      "[Parallel(n_jobs=1)]: Done 207 out of 207 | elapsed:  1.7min remaining:    0.0s\n",
      "[CV] max_depth=100, max_features=1000, min_samples_leaf=2 ............\n",
      "[CV]  max_depth=100, max_features=1000, min_samples_leaf=2, score=0.631568, total=   0.6s\n",
      "[Parallel(n_jobs=1)]: Done 208 out of 208 | elapsed:  1.8min remaining:    0.0s\n",
      "[CV] max_depth=100, max_features=1000, min_samples_leaf=2 ............\n",
      "[CV]  max_depth=100, max_features=1000, min_samples_leaf=2, score=0.603707, total=   0.6s\n",
      "[Parallel(n_jobs=1)]: Done 209 out of 209 | elapsed:  1.8min remaining:    0.0s\n",
      "[CV] max_depth=100, max_features=1000, min_samples_leaf=2 ............\n",
      "[CV]  max_depth=100, max_features=1000, min_samples_leaf=2, score=0.620677, total=   0.6s\n",
      "[Parallel(n_jobs=1)]: Done 210 out of 210 | elapsed:  1.8min remaining:    0.0s\n",
      "[CV] max_depth=100, max_features=1000, min_samples_leaf=5 ............\n",
      "[CV]  max_depth=100, max_features=1000, min_samples_leaf=5, score=0.622122, total=   0.4s\n",
      "[Parallel(n_jobs=1)]: Done 211 out of 211 | elapsed:  1.8min remaining:    0.0s\n",
      "[CV] max_depth=100, max_features=1000, min_samples_leaf=5 ............\n",
      "[CV]  max_depth=100, max_features=1000, min_samples_leaf=5, score=0.570452, total=   0.4s\n",
      "[Parallel(n_jobs=1)]: Done 212 out of 212 | elapsed:  1.8min remaining:    0.0s\n",
      "[CV] max_depth=100, max_features=1000, min_samples_leaf=5 ............\n",
      "[CV]  max_depth=100, max_features=1000, min_samples_leaf=5, score=0.612107, total=   0.4s\n",
      "[Parallel(n_jobs=1)]: Done 213 out of 213 | elapsed:  1.8min remaining:    0.0s\n",
      "[CV] max_depth=100, max_features=1000, min_samples_leaf=5 ............\n",
      "[CV]  max_depth=100, max_features=1000, min_samples_leaf=5, score=0.609169, total=   0.4s\n",
      "[Parallel(n_jobs=1)]: Done 214 out of 214 | elapsed:  1.8min remaining:    0.0s\n",
      "[CV] max_depth=100, max_features=1000, min_samples_leaf=5 ............\n",
      "[CV]  max_depth=100, max_features=1000, min_samples_leaf=5, score=0.589447, total=   0.4s\n",
      "[Parallel(n_jobs=1)]: Done 215 out of 215 | elapsed:  1.8min remaining:    0.0s\n",
      "[CV] max_depth=100, max_features=1000, min_samples_leaf=10 ...........\n",
      "[CV]  max_depth=100, max_features=1000, min_samples_leaf=10, score=0.582603, total=   0.2s\n",
      "[Parallel(n_jobs=1)]: Done 216 out of 216 | elapsed:  1.8min remaining:    0.0s\n",
      "[CV] max_depth=100, max_features=1000, min_samples_leaf=10 ...........\n",
      "[CV]  max_depth=100, max_features=1000, min_samples_leaf=10, score=0.601334, total=   0.3s\n",
      "[Parallel(n_jobs=1)]: Done 217 out of 217 | elapsed:  1.8min remaining:    0.0s\n",
      "[CV] max_depth=100, max_features=1000, min_samples_leaf=10 ...........\n",
      "[CV]  max_depth=100, max_features=1000, min_samples_leaf=10, score=0.570667, total=   0.3s\n",
      "[Parallel(n_jobs=1)]: Done 218 out of 218 | elapsed:  1.8min remaining:    0.0s\n",
      "[CV] max_depth=100, max_features=1000, min_samples_leaf=10 ...........\n",
      "[CV]  max_depth=100, max_features=1000, min_samples_leaf=10, score=0.586699, total=   0.2s\n",
      "[Parallel(n_jobs=1)]: Done 219 out of 219 | elapsed:  1.8min remaining:    0.0s\n",
      "[CV] max_depth=100, max_features=1000, min_samples_leaf=10 ...........\n",
      "[CV]  max_depth=100, max_features=1000, min_samples_leaf=10, score=0.577119, total=   0.2s\n",
      "[Parallel(n_jobs=1)]: Done 220 out of 220 | elapsed:  1.9min remaining:    0.0s\n",
      "[CV] max_depth=100, max_features=1000, min_samples_leaf=20 ...........\n",
      "[CV]  max_depth=100, max_features=1000, min_samples_leaf=20, score=0.568047, total=   0.1s\n",
      "[Parallel(n_jobs=1)]: Done 221 out of 221 | elapsed:  1.9min remaining:    0.0s\n",
      "[CV] max_depth=100, max_features=1000, min_samples_leaf=20 ...........\n",
      "[CV]  max_depth=100, max_features=1000, min_samples_leaf=20, score=0.568047, total=   0.1s\n",
      "[Parallel(n_jobs=1)]: Done 222 out of 222 | elapsed:  1.9min remaining:    0.0s\n",
      "[CV] max_depth=100, max_features=1000, min_samples_leaf=20 ...........\n",
      "[CV]  max_depth=100, max_features=1000, min_samples_leaf=20, score=0.573881, total=   0.1s\n",
      "[Parallel(n_jobs=1)]: Done 223 out of 223 | elapsed:  1.9min remaining:    0.0s\n",
      "[CV] max_depth=100, max_features=1000, min_samples_leaf=20 ...........\n"
     ]
    },
    {
     "name": "stderr",
     "output_type": "stream",
     "text": [
      "C:\\Users\\maxim\\Anaconda3\\lib\\site-packages\\sklearn\\metrics\\classification.py:1113: UndefinedMetricWarning: F-score is ill-defined and being set to 0.0 in labels with no predicted samples.\n",
      "  'precision', 'predicted', average, warn_for)\n"
     ]
    },
    {
     "name": "stdout",
     "output_type": "stream",
     "text": [
      "[CV]  max_depth=100, max_features=1000, min_samples_leaf=20, score=0.564475, total=   0.1s\n",
      "[Parallel(n_jobs=1)]: Done 224 out of 224 | elapsed:  1.9min remaining:    0.0s\n",
      "[CV] max_depth=100, max_features=1000, min_samples_leaf=20 ...........\n",
      "[CV]  max_depth=100, max_features=1000, min_samples_leaf=20, score=0.566098, total=   0.1s\n",
      "[Parallel(n_jobs=1)]: Done 225 out of 225 | elapsed:  1.9min remaining:    0.0s\n",
      "[CV] max_depth=100, max_features=None, min_samples_leaf=1 ............\n",
      "[CV]  max_depth=100, max_features=None, min_samples_leaf=1, score=0.612360, total=   2.4s\n",
      "[Parallel(n_jobs=1)]: Done 226 out of 226 | elapsed:  1.9min remaining:    0.0s\n",
      "[CV] max_depth=100, max_features=None, min_samples_leaf=1 ............\n",
      "[CV]  max_depth=100, max_features=None, min_samples_leaf=1, score=0.592639, total=   3.5s\n",
      "[Parallel(n_jobs=1)]: Done 227 out of 227 | elapsed:  2.0min remaining:    0.0s\n",
      "[CV] max_depth=100, max_features=None, min_samples_leaf=1 ............\n",
      "[CV]  max_depth=100, max_features=None, min_samples_leaf=1, score=0.608396, total=   3.5s\n",
      "[Parallel(n_jobs=1)]: Done 228 out of 228 | elapsed:  2.0min remaining:    0.0s\n",
      "[CV] max_depth=100, max_features=None, min_samples_leaf=1 ............\n",
      "[CV]  max_depth=100, max_features=None, min_samples_leaf=1, score=0.603707, total=   2.6s\n",
      "[Parallel(n_jobs=1)]: Done 229 out of 229 | elapsed:  2.1min remaining:    0.0s\n",
      "[CV] max_depth=100, max_features=None, min_samples_leaf=1 ............\n",
      "[CV]  max_depth=100, max_features=None, min_samples_leaf=1, score=0.637446, total=   2.8s\n",
      "[Parallel(n_jobs=1)]: Done 230 out of 230 | elapsed:  2.1min remaining:    0.0s\n",
      "[CV] max_depth=100, max_features=None, min_samples_leaf=2 ............\n",
      "[CV]  max_depth=100, max_features=None, min_samples_leaf=2, score=0.629065, total=   2.8s\n",
      "[Parallel(n_jobs=1)]: Done 231 out of 231 | elapsed:  2.2min remaining:    0.0s\n",
      "[CV] max_depth=100, max_features=None, min_samples_leaf=2 ............\n",
      "[CV]  max_depth=100, max_features=None, min_samples_leaf=2, score=0.582910, total=   2.0s\n",
      "[Parallel(n_jobs=1)]: Done 232 out of 232 | elapsed:  2.2min remaining:    0.0s\n",
      "[CV] max_depth=100, max_features=None, min_samples_leaf=2 ............\n",
      "[CV]  max_depth=100, max_features=None, min_samples_leaf=2, score=0.608396, total=   2.0s\n",
      "[Parallel(n_jobs=1)]: Done 233 out of 233 | elapsed:  2.3min remaining:    0.0s\n",
      "[CV] max_depth=100, max_features=None, min_samples_leaf=2 ............\n",
      "[CV]  max_depth=100, max_features=None, min_samples_leaf=2, score=0.633480, total=   2.1s\n",
      "[Parallel(n_jobs=1)]: Done 234 out of 234 | elapsed:  2.3min remaining:    0.0s\n",
      "[CV] max_depth=100, max_features=None, min_samples_leaf=2 ............\n",
      "[CV]  max_depth=100, max_features=None, min_samples_leaf=2, score=0.622985, total=   1.9s\n",
      "[Parallel(n_jobs=1)]: Done 235 out of 235 | elapsed:  2.3min remaining:    0.0s\n",
      "[CV] max_depth=100, max_features=None, min_samples_leaf=5 ............\n",
      "[CV]  max_depth=100, max_features=None, min_samples_leaf=5, score=0.615005, total=   1.2s\n",
      "[Parallel(n_jobs=1)]: Done 236 out of 236 | elapsed:  2.3min remaining:    0.0s\n",
      "[CV] max_depth=100, max_features=None, min_samples_leaf=5 ............\n",
      "[CV]  max_depth=100, max_features=None, min_samples_leaf=5, score=0.596532, total=   1.2s\n",
      "[Parallel(n_jobs=1)]: Done 237 out of 237 | elapsed:  2.4min remaining:    0.0s\n",
      "[CV] max_depth=100, max_features=None, min_samples_leaf=5 ............\n",
      "[CV]  max_depth=100, max_features=None, min_samples_leaf=5, score=0.577098, total=   1.1s\n",
      "[Parallel(n_jobs=1)]: Done 238 out of 238 | elapsed:  2.4min remaining:    0.0s\n",
      "[CV] max_depth=100, max_features=None, min_samples_leaf=5 ............\n",
      "[CV]  max_depth=100, max_features=None, min_samples_leaf=5, score=0.612817, total=   1.1s\n",
      "[Parallel(n_jobs=1)]: Done 239 out of 239 | elapsed:  2.4min remaining:    0.0s\n",
      "[CV] max_depth=100, max_features=None, min_samples_leaf=5 ............\n",
      "[CV]  max_depth=100, max_features=None, min_samples_leaf=5, score=0.600673, total=   1.1s\n",
      "[Parallel(n_jobs=1)]: Done 240 out of 240 | elapsed:  2.4min remaining:    0.0s\n",
      "[CV] max_depth=100, max_features=None, min_samples_leaf=10 ...........\n",
      "[CV]  max_depth=100, max_features=None, min_samples_leaf=10, score=0.616866, total=   0.8s\n",
      "[Parallel(n_jobs=1)]: Done 241 out of 241 | elapsed:  2.4min remaining:    0.0s\n",
      "[CV] max_depth=100, max_features=None, min_samples_leaf=10 ...........\n",
      "[CV]  max_depth=100, max_features=None, min_samples_leaf=10, score=0.595703, total=   0.8s\n",
      "[Parallel(n_jobs=1)]: Done 242 out of 242 | elapsed:  2.5min remaining:    0.0s\n",
      "[CV] max_depth=100, max_features=None, min_samples_leaf=10 ...........\n",
      "[CV]  max_depth=100, max_features=None, min_samples_leaf=10, score=0.599379, total=   0.7s\n",
      "[Parallel(n_jobs=1)]: Done 243 out of 243 | elapsed:  2.5min remaining:    0.0s\n",
      "[CV] max_depth=100, max_features=None, min_samples_leaf=10 ...........\n",
      "[CV]  max_depth=100, max_features=None, min_samples_leaf=10, score=0.603093, total=   0.8s\n",
      "[Parallel(n_jobs=1)]: Done 244 out of 244 | elapsed:  2.5min remaining:    0.0s\n",
      "[CV] max_depth=100, max_features=None, min_samples_leaf=10 ...........\n",
      "[CV]  max_depth=100, max_features=None, min_samples_leaf=10, score=0.607132, total=   0.8s\n",
      "[Parallel(n_jobs=1)]: Done 245 out of 245 | elapsed:  2.5min remaining:    0.0s\n",
      "[CV] max_depth=100, max_features=None, min_samples_leaf=20 ...........\n",
      "[CV]  max_depth=100, max_features=None, min_samples_leaf=20, score=0.611207, total=   0.5s\n",
      "[Parallel(n_jobs=1)]: Done 246 out of 246 | elapsed:  2.5min remaining:    0.0s\n",
      "[CV] max_depth=100, max_features=None, min_samples_leaf=20 ...........\n",
      "[CV]  max_depth=100, max_features=None, min_samples_leaf=20, score=0.624290, total=   0.4s\n",
      "[Parallel(n_jobs=1)]: Done 247 out of 247 | elapsed:  2.5min remaining:    0.0s\n",
      "[CV] max_depth=100, max_features=None, min_samples_leaf=20 ...........\n",
      "[CV]  max_depth=100, max_features=None, min_samples_leaf=20, score=0.599379, total=   0.5s\n",
      "[Parallel(n_jobs=1)]: Done 248 out of 248 | elapsed:  2.5min remaining:    0.0s\n",
      "[CV] max_depth=100, max_features=None, min_samples_leaf=20 ...........\n",
      "[CV]  max_depth=100, max_features=None, min_samples_leaf=20, score=0.591653, total=   0.4s\n",
      "[Parallel(n_jobs=1)]: Done 249 out of 249 | elapsed:  2.5min remaining:    0.0s\n",
      "[CV] max_depth=100, max_features=None, min_samples_leaf=20 ...........\n",
      "[CV]  max_depth=100, max_features=None, min_samples_leaf=20, score=0.578138, total=   0.4s\n",
      "[Parallel(n_jobs=1)]: Done 250 out of 250 | elapsed:  2.5min remaining:    0.0s\n",
      "[CV] max_depth=50, max_features=auto, min_samples_leaf=1 .............\n",
      "[CV]  max_depth=50, max_features=auto, min_samples_leaf=1, score=0.583432, total=   0.1s\n",
      "[Parallel(n_jobs=1)]: Done 251 out of 251 | elapsed:  2.5min remaining:    0.0s\n",
      "[CV] max_depth=50, max_features=auto, min_samples_leaf=1 .............\n",
      "[CV]  max_depth=50, max_features=auto, min_samples_leaf=1, score=0.557306, total=   0.1s\n",
      "[Parallel(n_jobs=1)]: Done 252 out of 252 | elapsed:  2.6min remaining:    0.0s\n",
      "[CV] max_depth=50, max_features=auto, min_samples_leaf=1 .............\n",
      "[CV]  max_depth=50, max_features=auto, min_samples_leaf=1, score=0.586699, total=   0.1s\n",
      "[Parallel(n_jobs=1)]: Done 253 out of 253 | elapsed:  2.6min remaining:    0.0s\n",
      "[CV] max_depth=50, max_features=auto, min_samples_leaf=1 .............\n",
      "[CV]  max_depth=50, max_features=auto, min_samples_leaf=1, score=0.619275, total=   0.1s\n",
      "[Parallel(n_jobs=1)]: Done 254 out of 254 | elapsed:  2.6min remaining:    0.0s\n",
      "[CV] max_depth=50, max_features=auto, min_samples_leaf=1 .............\n",
      "[CV]  max_depth=50, max_features=auto, min_samples_leaf=1, score=0.589318, total=   0.1s\n",
      "[Parallel(n_jobs=1)]: Done 255 out of 255 | elapsed:  2.6min remaining:    0.0s\n",
      "[CV] max_depth=50, max_features=auto, min_samples_leaf=2 .............\n",
      "[CV]  max_depth=50, max_features=auto, min_samples_leaf=2, score=0.584229, total=   0.1s\n",
      "[Parallel(n_jobs=1)]: Done 256 out of 256 | elapsed:  2.6min remaining:    0.0s\n",
      "[CV] max_depth=50, max_features=auto, min_samples_leaf=2 .............\n",
      "[CV]  max_depth=50, max_features=auto, min_samples_leaf=2, score=0.574974, total=   0.1s\n",
      "[Parallel(n_jobs=1)]: Done 257 out of 257 | elapsed:  2.6min remaining:    0.0s\n",
      "[CV] max_depth=50, max_features=auto, min_samples_leaf=2 .............\n",
      "[CV]  max_depth=50, max_features=auto, min_samples_leaf=2, score=0.587787, total=   0.1s\n",
      "[Parallel(n_jobs=1)]: Done 258 out of 258 | elapsed:  2.6min remaining:    0.0s\n",
      "[CV] max_depth=50, max_features=auto, min_samples_leaf=2 .............\n"
     ]
    },
    {
     "name": "stdout",
     "output_type": "stream",
     "text": [
      "[CV]  max_depth=50, max_features=auto, min_samples_leaf=2, score=0.587562, total=   0.1s\n",
      "[Parallel(n_jobs=1)]: Done 259 out of 259 | elapsed:  2.6min remaining:    0.0s\n",
      "[CV] max_depth=50, max_features=auto, min_samples_leaf=2 .............\n",
      "[CV]  max_depth=50, max_features=auto, min_samples_leaf=2, score=0.578171, total=   0.0s\n",
      "[Parallel(n_jobs=1)]: Done 260 out of 260 | elapsed:  2.6min remaining:    0.0s\n",
      "[CV] max_depth=50, max_features=auto, min_samples_leaf=5 .............\n",
      "[CV]  max_depth=50, max_features=auto, min_samples_leaf=5, score=0.562579, total=   0.0s\n",
      "[Parallel(n_jobs=1)]: Done 261 out of 261 | elapsed:  2.6min remaining:    0.0s\n",
      "[CV] max_depth=50, max_features=auto, min_samples_leaf=5 .............\n",
      "[CV]  max_depth=50, max_features=auto, min_samples_leaf=5, score=0.566098, total=   0.0s\n",
      "[Parallel(n_jobs=1)]: Done 262 out of 262 | elapsed:  2.6min remaining:    0.0s\n",
      "[CV] max_depth=50, max_features=auto, min_samples_leaf=5 .............\n",
      "[CV]  max_depth=50, max_features=auto, min_samples_leaf=5, score=0.568521, total=   0.0s\n",
      "[Parallel(n_jobs=1)]: Done 263 out of 263 | elapsed:  2.6min remaining:    0.0s\n",
      "[CV] max_depth=50, max_features=auto, min_samples_leaf=5 .............\n",
      "[CV]  max_depth=50, max_features=auto, min_samples_leaf=5, score=0.569018, total=   0.0s\n",
      "[Parallel(n_jobs=1)]: Done 264 out of 264 | elapsed:  2.6min remaining:    0.0s\n",
      "[CV] max_depth=50, max_features=auto, min_samples_leaf=5 .............\n",
      "[CV]  max_depth=50, max_features=auto, min_samples_leaf=5, score=0.565450, total=   0.0s\n",
      "[Parallel(n_jobs=1)]: Done 265 out of 265 | elapsed:  2.6min remaining:    0.0s\n",
      "[CV] max_depth=50, max_features=auto, min_samples_leaf=10 ............\n"
     ]
    },
    {
     "name": "stderr",
     "output_type": "stream",
     "text": [
      "C:\\Users\\maxim\\Anaconda3\\lib\\site-packages\\sklearn\\metrics\\classification.py:1113: UndefinedMetricWarning: F-score is ill-defined and being set to 0.0 in labels with no predicted samples.\n",
      "  'precision', 'predicted', average, warn_for)\n",
      "C:\\Users\\maxim\\Anaconda3\\lib\\site-packages\\sklearn\\metrics\\classification.py:1113: UndefinedMetricWarning: F-score is ill-defined and being set to 0.0 in labels with no predicted samples.\n",
      "  'precision', 'predicted', average, warn_for)\n",
      "C:\\Users\\maxim\\Anaconda3\\lib\\site-packages\\sklearn\\metrics\\classification.py:1113: UndefinedMetricWarning: F-score is ill-defined and being set to 0.0 in labels with no predicted samples.\n",
      "  'precision', 'predicted', average, warn_for)\n"
     ]
    },
    {
     "name": "stdout",
     "output_type": "stream",
     "text": [
      "[CV]  max_depth=50, max_features=auto, min_samples_leaf=10, score=0.564475, total=   0.0s\n",
      "[Parallel(n_jobs=1)]: Done 266 out of 266 | elapsed:  2.6min remaining:    0.0s\n",
      "[CV] max_depth=50, max_features=auto, min_samples_leaf=10 ............\n",
      "[CV]  max_depth=50, max_features=auto, min_samples_leaf=10, score=0.564475, total=   0.0s\n",
      "[Parallel(n_jobs=1)]: Done 267 out of 267 | elapsed:  2.6min remaining:    0.0s\n",
      "[CV] max_depth=50, max_features=auto, min_samples_leaf=10 ............\n",
      "[CV]  max_depth=50, max_features=auto, min_samples_leaf=10, score=0.564475, total=   0.0s\n",
      "[Parallel(n_jobs=1)]: Done 268 out of 268 | elapsed:  2.6min remaining:    0.0s\n",
      "[CV] max_depth=50, max_features=auto, min_samples_leaf=10 ............\n"
     ]
    },
    {
     "name": "stderr",
     "output_type": "stream",
     "text": [
      "C:\\Users\\maxim\\Anaconda3\\lib\\site-packages\\sklearn\\metrics\\classification.py:1113: UndefinedMetricWarning: F-score is ill-defined and being set to 0.0 in labels with no predicted samples.\n",
      "  'precision', 'predicted', average, warn_for)\n",
      "C:\\Users\\maxim\\Anaconda3\\lib\\site-packages\\sklearn\\metrics\\classification.py:1113: UndefinedMetricWarning: F-score is ill-defined and being set to 0.0 in labels with no predicted samples.\n",
      "  'precision', 'predicted', average, warn_for)\n",
      "C:\\Users\\maxim\\Anaconda3\\lib\\site-packages\\sklearn\\metrics\\classification.py:1113: UndefinedMetricWarning: F-score is ill-defined and being set to 0.0 in labels with no predicted samples.\n",
      "  'precision', 'predicted', average, warn_for)\n",
      "C:\\Users\\maxim\\Anaconda3\\lib\\site-packages\\sklearn\\metrics\\classification.py:1113: UndefinedMetricWarning: F-score is ill-defined and being set to 0.0 in labels with no predicted samples.\n",
      "  'precision', 'predicted', average, warn_for)\n"
     ]
    },
    {
     "name": "stdout",
     "output_type": "stream",
     "text": [
      "[CV]  max_depth=50, max_features=auto, min_samples_leaf=10, score=0.564475, total=   0.0s\n",
      "[Parallel(n_jobs=1)]: Done 269 out of 269 | elapsed:  2.6min remaining:    0.0s\n",
      "[CV] max_depth=50, max_features=auto, min_samples_leaf=10 ............\n",
      "[CV]  max_depth=50, max_features=auto, min_samples_leaf=10, score=0.565450, total=   0.0s\n",
      "[Parallel(n_jobs=1)]: Done 270 out of 270 | elapsed:  2.6min remaining:    0.0s\n",
      "[CV] max_depth=50, max_features=auto, min_samples_leaf=20 ............\n",
      "[CV]  max_depth=50, max_features=auto, min_samples_leaf=20, score=0.564475, total=   0.0s\n",
      "[Parallel(n_jobs=1)]: Done 271 out of 271 | elapsed:  2.6min remaining:    0.0s\n",
      "[CV] max_depth=50, max_features=auto, min_samples_leaf=20 ............\n",
      "[CV]  max_depth=50, max_features=auto, min_samples_leaf=20, score=0.564475, total=   0.0s\n",
      "[Parallel(n_jobs=1)]: Done 272 out of 272 | elapsed:  2.6min remaining:    0.0s\n",
      "[CV] max_depth=50, max_features=auto, min_samples_leaf=20 ............\n"
     ]
    },
    {
     "name": "stderr",
     "output_type": "stream",
     "text": [
      "C:\\Users\\maxim\\Anaconda3\\lib\\site-packages\\sklearn\\metrics\\classification.py:1113: UndefinedMetricWarning: F-score is ill-defined and being set to 0.0 in labels with no predicted samples.\n",
      "  'precision', 'predicted', average, warn_for)\n",
      "C:\\Users\\maxim\\Anaconda3\\lib\\site-packages\\sklearn\\metrics\\classification.py:1113: UndefinedMetricWarning: F-score is ill-defined and being set to 0.0 in labels with no predicted samples.\n",
      "  'precision', 'predicted', average, warn_for)\n",
      "C:\\Users\\maxim\\Anaconda3\\lib\\site-packages\\sklearn\\metrics\\classification.py:1113: UndefinedMetricWarning: F-score is ill-defined and being set to 0.0 in labels with no predicted samples.\n",
      "  'precision', 'predicted', average, warn_for)\n",
      "C:\\Users\\maxim\\Anaconda3\\lib\\site-packages\\sklearn\\metrics\\classification.py:1113: UndefinedMetricWarning: F-score is ill-defined and being set to 0.0 in labels with no predicted samples.\n",
      "  'precision', 'predicted', average, warn_for)\n"
     ]
    },
    {
     "name": "stdout",
     "output_type": "stream",
     "text": [
      "[CV]  max_depth=50, max_features=auto, min_samples_leaf=20, score=0.564475, total=   0.0s\n",
      "[Parallel(n_jobs=1)]: Done 273 out of 273 | elapsed:  2.6min remaining:    0.0s\n",
      "[CV] max_depth=50, max_features=auto, min_samples_leaf=20 ............\n",
      "[CV]  max_depth=50, max_features=auto, min_samples_leaf=20, score=0.564475, total=   0.0s\n",
      "[Parallel(n_jobs=1)]: Done 274 out of 274 | elapsed:  2.6min remaining:    0.0s\n",
      "[CV] max_depth=50, max_features=auto, min_samples_leaf=20 ............\n",
      "[CV]  max_depth=50, max_features=auto, min_samples_leaf=20, score=0.565450, total=   0.0s\n",
      "[Parallel(n_jobs=1)]: Done 275 out of 275 | elapsed:  2.6min remaining:    0.0s\n",
      "[CV] max_depth=50, max_features=log2, min_samples_leaf=1 .............\n",
      "[CV]  max_depth=50, max_features=log2, min_samples_leaf=1, score=0.573515, total=   0.0s\n",
      "[Parallel(n_jobs=1)]: Done 276 out of 276 | elapsed:  2.6min remaining:    0.0s\n",
      "[CV] max_depth=50, max_features=log2, min_samples_leaf=1 .............\n",
      "[CV]  max_depth=50, max_features=log2, min_samples_leaf=1, score=0.562579, total=   0.0s\n",
      "[Parallel(n_jobs=1)]: Done 277 out of 277 | elapsed:  2.6min remaining:    0.0s\n",
      "[CV] max_depth=50, max_features=log2, min_samples_leaf=1 .............\n",
      "[CV]  max_depth=50, max_features=log2, min_samples_leaf=1, score=0.566098, total=   0.0s\n",
      "[Parallel(n_jobs=1)]: Done 278 out of 278 | elapsed:  2.6min remaining:    0.0s\n",
      "[CV] max_depth=50, max_features=log2, min_samples_leaf=1 .............\n",
      "[CV]  max_depth=50, max_features=log2, min_samples_leaf=1, score=0.565121, total=   0.0s\n",
      "[Parallel(n_jobs=1)]: Done 279 out of 279 | elapsed:  2.6min remaining:    0.0s\n",
      "[CV] max_depth=50, max_features=log2, min_samples_leaf=1 .............\n",
      "[CV]  max_depth=50, max_features=log2, min_samples_leaf=1, score=0.570012, total=   0.0s\n",
      "[Parallel(n_jobs=1)]: Done 280 out of 280 | elapsed:  2.6min remaining:    0.0s\n",
      "[CV] max_depth=50, max_features=log2, min_samples_leaf=2 .............\n",
      "[CV]  max_depth=50, max_features=log2, min_samples_leaf=2, score=0.564475, total=   0.0s\n",
      "[Parallel(n_jobs=1)]: Done 281 out of 281 | elapsed:  2.6min remaining:    0.0s\n",
      "[CV] max_depth=50, max_features=log2, min_samples_leaf=2 .............\n",
      "[CV]  max_depth=50, max_features=log2, min_samples_leaf=2, score=0.564475, total=   0.0s\n",
      "[Parallel(n_jobs=1)]: Done 282 out of 282 | elapsed:  2.6min remaining:    0.0s\n",
      "[CV] max_depth=50, max_features=log2, min_samples_leaf=2 .............\n"
     ]
    },
    {
     "name": "stderr",
     "output_type": "stream",
     "text": [
      "C:\\Users\\maxim\\Anaconda3\\lib\\site-packages\\sklearn\\metrics\\classification.py:1113: UndefinedMetricWarning: F-score is ill-defined and being set to 0.0 in labels with no predicted samples.\n",
      "  'precision', 'predicted', average, warn_for)\n",
      "C:\\Users\\maxim\\Anaconda3\\lib\\site-packages\\sklearn\\metrics\\classification.py:1113: UndefinedMetricWarning: F-score is ill-defined and being set to 0.0 in labels with no predicted samples.\n",
      "  'precision', 'predicted', average, warn_for)\n",
      "C:\\Users\\maxim\\Anaconda3\\lib\\site-packages\\sklearn\\metrics\\classification.py:1113: UndefinedMetricWarning: F-score is ill-defined and being set to 0.0 in labels with no predicted samples.\n",
      "  'precision', 'predicted', average, warn_for)\n"
     ]
    },
    {
     "name": "stdout",
     "output_type": "stream",
     "text": [
      "[CV]  max_depth=50, max_features=log2, min_samples_leaf=2, score=0.564475, total=   0.0s\n",
      "[Parallel(n_jobs=1)]: Done 283 out of 283 | elapsed:  2.6min remaining:    0.0s\n",
      "[CV] max_depth=50, max_features=log2, min_samples_leaf=2 .............\n",
      "[CV]  max_depth=50, max_features=log2, min_samples_leaf=2, score=0.564475, total=   0.0s\n",
      "[Parallel(n_jobs=1)]: Done 284 out of 284 | elapsed:  2.6min remaining:    0.0s\n",
      "[CV] max_depth=50, max_features=log2, min_samples_leaf=2 .............\n",
      "[CV]  max_depth=50, max_features=log2, min_samples_leaf=2, score=0.565450, total=   0.0s\n",
      "[Parallel(n_jobs=1)]: Done 285 out of 285 | elapsed:  2.6min remaining:    0.0s\n",
      "[CV] max_depth=50, max_features=log2, min_samples_leaf=5 .............\n",
      "[CV]  max_depth=50, max_features=log2, min_samples_leaf=5, score=0.564475, total=   0.0s\n",
      "[Parallel(n_jobs=1)]: Done 286 out of 286 | elapsed:  2.6min remaining:    0.0s\n",
      "[CV] max_depth=50, max_features=log2, min_samples_leaf=5 .............\n"
     ]
    },
    {
     "name": "stderr",
     "output_type": "stream",
     "text": [
      "C:\\Users\\maxim\\Anaconda3\\lib\\site-packages\\sklearn\\metrics\\classification.py:1113: UndefinedMetricWarning: F-score is ill-defined and being set to 0.0 in labels with no predicted samples.\n",
      "  'precision', 'predicted', average, warn_for)\n",
      "C:\\Users\\maxim\\Anaconda3\\lib\\site-packages\\sklearn\\metrics\\classification.py:1113: UndefinedMetricWarning: F-score is ill-defined and being set to 0.0 in labels with no predicted samples.\n",
      "  'precision', 'predicted', average, warn_for)\n",
      "C:\\Users\\maxim\\Anaconda3\\lib\\site-packages\\sklearn\\metrics\\classification.py:1113: UndefinedMetricWarning: F-score is ill-defined and being set to 0.0 in labels with no predicted samples.\n",
      "  'precision', 'predicted', average, warn_for)\n",
      "C:\\Users\\maxim\\Anaconda3\\lib\\site-packages\\sklearn\\metrics\\classification.py:1113: UndefinedMetricWarning: F-score is ill-defined and being set to 0.0 in labels with no predicted samples.\n",
      "  'precision', 'predicted', average, warn_for)\n"
     ]
    },
    {
     "name": "stdout",
     "output_type": "stream",
     "text": [
      "[CV]  max_depth=50, max_features=log2, min_samples_leaf=5, score=0.564475, total=   0.0s\n",
      "[Parallel(n_jobs=1)]: Done 287 out of 287 | elapsed:  2.6min remaining:    0.0s\n",
      "[CV] max_depth=50, max_features=log2, min_samples_leaf=5 .............\n",
      "[CV]  max_depth=50, max_features=log2, min_samples_leaf=5, score=0.564475, total=   0.0s\n",
      "[Parallel(n_jobs=1)]: Done 288 out of 288 | elapsed:  2.6min remaining:    0.0s\n",
      "[CV] max_depth=50, max_features=log2, min_samples_leaf=5 .............\n",
      "[CV]  max_depth=50, max_features=log2, min_samples_leaf=5, score=0.564475, total=   0.0s\n",
      "[Parallel(n_jobs=1)]: Done 289 out of 289 | elapsed:  2.6min remaining:    0.0s\n",
      "[CV] max_depth=50, max_features=log2, min_samples_leaf=5 .............\n"
     ]
    },
    {
     "name": "stderr",
     "output_type": "stream",
     "text": [
      "C:\\Users\\maxim\\Anaconda3\\lib\\site-packages\\sklearn\\metrics\\classification.py:1113: UndefinedMetricWarning: F-score is ill-defined and being set to 0.0 in labels with no predicted samples.\n",
      "  'precision', 'predicted', average, warn_for)\n",
      "C:\\Users\\maxim\\Anaconda3\\lib\\site-packages\\sklearn\\metrics\\classification.py:1113: UndefinedMetricWarning: F-score is ill-defined and being set to 0.0 in labels with no predicted samples.\n",
      "  'precision', 'predicted', average, warn_for)\n",
      "C:\\Users\\maxim\\Anaconda3\\lib\\site-packages\\sklearn\\metrics\\classification.py:1113: UndefinedMetricWarning: F-score is ill-defined and being set to 0.0 in labels with no predicted samples.\n",
      "  'precision', 'predicted', average, warn_for)\n"
     ]
    },
    {
     "name": "stdout",
     "output_type": "stream",
     "text": [
      "[CV]  max_depth=50, max_features=log2, min_samples_leaf=5, score=0.565450, total=   0.0s\n",
      "[Parallel(n_jobs=1)]: Done 290 out of 290 | elapsed:  2.6min remaining:    0.0s\n",
      "[CV] max_depth=50, max_features=log2, min_samples_leaf=10 ............\n",
      "[CV]  max_depth=50, max_features=log2, min_samples_leaf=10, score=0.564475, total=   0.0s\n",
      "[Parallel(n_jobs=1)]: Done 291 out of 291 | elapsed:  2.6min remaining:    0.0s\n",
      "[CV] max_depth=50, max_features=log2, min_samples_leaf=10 ............\n",
      "[CV]  max_depth=50, max_features=log2, min_samples_leaf=10, score=0.564475, total=   0.0s\n",
      "[Parallel(n_jobs=1)]: Done 292 out of 292 | elapsed:  2.6min remaining:    0.0s\n",
      "[CV] max_depth=50, max_features=log2, min_samples_leaf=10 ............\n",
      "[CV]  max_depth=50, max_features=log2, min_samples_leaf=10, score=0.564475, total=   0.0s\n",
      "[Parallel(n_jobs=1)]: Done 293 out of 293 | elapsed:  2.6min remaining:    0.0s\n",
      "[CV] max_depth=50, max_features=log2, min_samples_leaf=10 ............\n",
      "[CV]  max_depth=50, max_features=log2, min_samples_leaf=10, score=0.564475, total=   0.0s\n",
      "[Parallel(n_jobs=1)]: Done 294 out of 294 | elapsed:  2.6min remaining:    0.0s\n",
      "[CV] max_depth=50, max_features=log2, min_samples_leaf=10 ............\n"
     ]
    },
    {
     "name": "stderr",
     "output_type": "stream",
     "text": [
      "C:\\Users\\maxim\\Anaconda3\\lib\\site-packages\\sklearn\\metrics\\classification.py:1113: UndefinedMetricWarning: F-score is ill-defined and being set to 0.0 in labels with no predicted samples.\n",
      "  'precision', 'predicted', average, warn_for)\n",
      "C:\\Users\\maxim\\Anaconda3\\lib\\site-packages\\sklearn\\metrics\\classification.py:1113: UndefinedMetricWarning: F-score is ill-defined and being set to 0.0 in labels with no predicted samples.\n",
      "  'precision', 'predicted', average, warn_for)\n",
      "C:\\Users\\maxim\\Anaconda3\\lib\\site-packages\\sklearn\\metrics\\classification.py:1113: UndefinedMetricWarning: F-score is ill-defined and being set to 0.0 in labels with no predicted samples.\n",
      "  'precision', 'predicted', average, warn_for)\n",
      "C:\\Users\\maxim\\Anaconda3\\lib\\site-packages\\sklearn\\metrics\\classification.py:1113: UndefinedMetricWarning: F-score is ill-defined and being set to 0.0 in labels with no predicted samples.\n",
      "  'precision', 'predicted', average, warn_for)\n",
      "C:\\Users\\maxim\\Anaconda3\\lib\\site-packages\\sklearn\\metrics\\classification.py:1113: UndefinedMetricWarning: F-score is ill-defined and being set to 0.0 in labels with no predicted samples.\n",
      "  'precision', 'predicted', average, warn_for)\n"
     ]
    },
    {
     "name": "stdout",
     "output_type": "stream",
     "text": [
      "[CV]  max_depth=50, max_features=log2, min_samples_leaf=10, score=0.565450, total=   0.0s\n",
      "[Parallel(n_jobs=1)]: Done 295 out of 295 | elapsed:  2.6min remaining:    0.0s\n",
      "[CV] max_depth=50, max_features=log2, min_samples_leaf=20 ............\n",
      "[CV]  max_depth=50, max_features=log2, min_samples_leaf=20, score=0.564475, total=   0.0s\n",
      "[Parallel(n_jobs=1)]: Done 296 out of 296 | elapsed:  2.6min remaining:    0.0s\n",
      "[CV] max_depth=50, max_features=log2, min_samples_leaf=20 ............\n",
      "[CV]  max_depth=50, max_features=log2, min_samples_leaf=20, score=0.564475, total=   0.0s\n",
      "[Parallel(n_jobs=1)]: Done 297 out of 297 | elapsed:  2.6min remaining:    0.0s\n",
      "[CV] max_depth=50, max_features=log2, min_samples_leaf=20 ............\n",
      "[CV]  max_depth=50, max_features=log2, min_samples_leaf=20, score=0.564475, total=   0.0s\n",
      "[Parallel(n_jobs=1)]: Done 298 out of 298 | elapsed:  2.6min remaining:    0.0s\n",
      "[CV] max_depth=50, max_features=log2, min_samples_leaf=20 ............\n",
      "[CV]  max_depth=50, max_features=log2, min_samples_leaf=20, score=0.564475, total=   0.0s\n",
      "[Parallel(n_jobs=1)]: Done 299 out of 299 | elapsed:  2.6min remaining:    0.0s\n",
      "[CV] max_depth=50, max_features=log2, min_samples_leaf=20 ............\n"
     ]
    },
    {
     "name": "stderr",
     "output_type": "stream",
     "text": [
      "C:\\Users\\maxim\\Anaconda3\\lib\\site-packages\\sklearn\\metrics\\classification.py:1113: UndefinedMetricWarning: F-score is ill-defined and being set to 0.0 in labels with no predicted samples.\n",
      "  'precision', 'predicted', average, warn_for)\n",
      "C:\\Users\\maxim\\Anaconda3\\lib\\site-packages\\sklearn\\metrics\\classification.py:1113: UndefinedMetricWarning: F-score is ill-defined and being set to 0.0 in labels with no predicted samples.\n",
      "  'precision', 'predicted', average, warn_for)\n",
      "C:\\Users\\maxim\\Anaconda3\\lib\\site-packages\\sklearn\\metrics\\classification.py:1113: UndefinedMetricWarning: F-score is ill-defined and being set to 0.0 in labels with no predicted samples.\n",
      "  'precision', 'predicted', average, warn_for)\n",
      "C:\\Users\\maxim\\Anaconda3\\lib\\site-packages\\sklearn\\metrics\\classification.py:1113: UndefinedMetricWarning: F-score is ill-defined and being set to 0.0 in labels with no predicted samples.\n",
      "  'precision', 'predicted', average, warn_for)\n",
      "C:\\Users\\maxim\\Anaconda3\\lib\\site-packages\\sklearn\\metrics\\classification.py:1113: UndefinedMetricWarning: F-score is ill-defined and being set to 0.0 in labels with no predicted samples.\n",
      "  'precision', 'predicted', average, warn_for)\n"
     ]
    },
    {
     "name": "stdout",
     "output_type": "stream",
     "text": [
      "[CV]  max_depth=50, max_features=log2, min_samples_leaf=20, score=0.565450, total=   0.0s\n",
      "[Parallel(n_jobs=1)]: Done 300 out of 300 | elapsed:  2.6min remaining:    0.0s\n",
      "[CV] max_depth=50, max_features=500, min_samples_leaf=1 ..............\n",
      "[CV]  max_depth=50, max_features=500, min_samples_leaf=1, score=0.595703, total=   0.3s\n",
      "[Parallel(n_jobs=1)]: Done 301 out of 301 | elapsed:  2.6min remaining:    0.0s\n",
      "[CV] max_depth=50, max_features=500, min_samples_leaf=1 ..............\n",
      "[CV]  max_depth=50, max_features=500, min_samples_leaf=1, score=0.612107, total=   0.3s\n",
      "[Parallel(n_jobs=1)]: Done 302 out of 302 | elapsed:  2.6min remaining:    0.0s\n",
      "[CV] max_depth=50, max_features=500, min_samples_leaf=1 ..............\n",
      "[CV]  max_depth=50, max_features=500, min_samples_leaf=1, score=0.585711, total=   0.7s\n",
      "[Parallel(n_jobs=1)]: Done 303 out of 303 | elapsed:  2.7min remaining:    0.0s\n",
      "[CV] max_depth=50, max_features=500, min_samples_leaf=1 ..............\n",
      "[CV]  max_depth=50, max_features=500, min_samples_leaf=1, score=0.619163, total=   0.7s\n",
      "[Parallel(n_jobs=1)]: Done 304 out of 304 | elapsed:  2.7min remaining:    0.0s\n",
      "[CV] max_depth=50, max_features=500, min_samples_leaf=1 ..............\n",
      "[CV]  max_depth=50, max_features=500, min_samples_leaf=1, score=0.615345, total=   0.4s\n",
      "[Parallel(n_jobs=1)]: Done 305 out of 305 | elapsed:  2.7min remaining:    0.0s\n",
      "[CV] max_depth=50, max_features=500, min_samples_leaf=2 ..............\n",
      "[CV]  max_depth=50, max_features=500, min_samples_leaf=2, score=0.572823, total=   0.4s\n",
      "[Parallel(n_jobs=1)]: Done 306 out of 306 | elapsed:  2.7min remaining:    0.0s\n",
      "[CV] max_depth=50, max_features=500, min_samples_leaf=2 ..............\n",
      "[CV]  max_depth=50, max_features=500, min_samples_leaf=2, score=0.583554, total=   0.4s\n",
      "[Parallel(n_jobs=1)]: Done 307 out of 307 | elapsed:  2.7min remaining:    0.0s\n",
      "[CV] max_depth=50, max_features=500, min_samples_leaf=2 ..............\n",
      "[CV]  max_depth=50, max_features=500, min_samples_leaf=2, score=0.617649, total=   0.4s\n",
      "[Parallel(n_jobs=1)]: Done 308 out of 308 | elapsed:  2.7min remaining:    0.0s\n",
      "[CV] max_depth=50, max_features=500, min_samples_leaf=2 ..............\n",
      "[CV]  max_depth=50, max_features=500, min_samples_leaf=2, score=0.596835, total=   0.4s\n",
      "[Parallel(n_jobs=1)]: Done 309 out of 309 | elapsed:  2.7min remaining:    0.0s\n",
      "[CV] max_depth=50, max_features=500, min_samples_leaf=2 ..............\n",
      "[CV]  max_depth=50, max_features=500, min_samples_leaf=2, score=0.597991, total=   0.3s\n",
      "[Parallel(n_jobs=1)]: Done 310 out of 310 | elapsed:  2.7min remaining:    0.0s\n",
      "[CV] max_depth=50, max_features=500, min_samples_leaf=5 ..............\n",
      "[CV]  max_depth=50, max_features=500, min_samples_leaf=5, score=0.591554, total=   0.2s\n",
      "[Parallel(n_jobs=1)]: Done 311 out of 311 | elapsed:  2.7min remaining:    0.0s\n",
      "[CV] max_depth=50, max_features=500, min_samples_leaf=5 ..............\n",
      "[CV]  max_depth=50, max_features=500, min_samples_leaf=5, score=0.589487, total=   0.2s\n",
      "[Parallel(n_jobs=1)]: Done 312 out of 312 | elapsed:  2.7min remaining:    0.0s\n",
      "[CV] max_depth=50, max_features=500, min_samples_leaf=5 ..............\n",
      "[CV]  max_depth=50, max_features=500, min_samples_leaf=5, score=0.581903, total=   0.2s\n",
      "[Parallel(n_jobs=1)]: Done 313 out of 313 | elapsed:  2.7min remaining:    0.0s\n",
      "[CV] max_depth=50, max_features=500, min_samples_leaf=5 ..............\n",
      "[CV]  max_depth=50, max_features=500, min_samples_leaf=5, score=0.604127, total=   0.2s\n",
      "[Parallel(n_jobs=1)]: Done 314 out of 314 | elapsed:  2.7min remaining:    0.0s\n",
      "[CV] max_depth=50, max_features=500, min_samples_leaf=5 ..............\n",
      "[CV]  max_depth=50, max_features=500, min_samples_leaf=5, score=0.605418, total=   0.2s\n",
      "[Parallel(n_jobs=1)]: Done 315 out of 315 | elapsed:  2.7min remaining:    0.0s\n",
      "[CV] max_depth=50, max_features=500, min_samples_leaf=10 .............\n",
      "[CV]  max_depth=50, max_features=500, min_samples_leaf=10, score=0.571830, total=   0.1s\n",
      "[Parallel(n_jobs=1)]: Done 316 out of 316 | elapsed:  2.7min remaining:    0.0s\n",
      "[CV] max_depth=50, max_features=500, min_samples_leaf=10 .............\n",
      "[CV]  max_depth=50, max_features=500, min_samples_leaf=10, score=0.575925, total=   0.1s\n",
      "[Parallel(n_jobs=1)]: Done 317 out of 317 | elapsed:  2.8min remaining:    0.0s\n",
      "[CV] max_depth=50, max_features=500, min_samples_leaf=10 .............\n",
      "[CV]  max_depth=50, max_features=500, min_samples_leaf=10, score=0.574904, total=   0.1s\n",
      "[Parallel(n_jobs=1)]: Done 318 out of 318 | elapsed:  2.8min remaining:    0.0s\n",
      "[CV] max_depth=50, max_features=500, min_samples_leaf=10 .............\n",
      "[CV]  max_depth=50, max_features=500, min_samples_leaf=10, score=0.595707, total=   0.1s\n",
      "[Parallel(n_jobs=1)]: Done 319 out of 319 | elapsed:  2.8min remaining:    0.0s\n",
      "[CV] max_depth=50, max_features=500, min_samples_leaf=10 .............\n",
      "[CV]  max_depth=50, max_features=500, min_samples_leaf=10, score=0.584474, total=   0.1s\n",
      "[Parallel(n_jobs=1)]: Done 320 out of 320 | elapsed:  2.8min remaining:    0.0s\n",
      "[CV] max_depth=50, max_features=500, min_samples_leaf=20 .............\n",
      "[CV]  max_depth=50, max_features=500, min_samples_leaf=20, score=0.563528, total=   0.0s\n",
      "[Parallel(n_jobs=1)]: Done 321 out of 321 | elapsed:  2.8min remaining:    0.0s\n",
      "[CV] max_depth=50, max_features=500, min_samples_leaf=20 .............\n"
     ]
    },
    {
     "name": "stderr",
     "output_type": "stream",
     "text": [
      "C:\\Users\\maxim\\Anaconda3\\lib\\site-packages\\sklearn\\metrics\\classification.py:1113: UndefinedMetricWarning: F-score is ill-defined and being set to 0.0 in labels with no predicted samples.\n",
      "  'precision', 'predicted', average, warn_for)\n"
     ]
    },
    {
     "name": "stdout",
     "output_type": "stream",
     "text": [
      "[CV]  max_depth=50, max_features=500, min_samples_leaf=20, score=0.564475, total=   0.0s\n",
      "[Parallel(n_jobs=1)]: Done 322 out of 322 | elapsed:  2.8min remaining:    0.0s\n",
      "[CV] max_depth=50, max_features=500, min_samples_leaf=20 .............\n",
      "[CV]  max_depth=50, max_features=500, min_samples_leaf=20, score=0.564142, total=   0.0s\n",
      "[Parallel(n_jobs=1)]: Done 323 out of 323 | elapsed:  2.8min remaining:    0.0s\n",
      "[CV] max_depth=50, max_features=500, min_samples_leaf=20 .............\n"
     ]
    },
    {
     "name": "stderr",
     "output_type": "stream",
     "text": [
      "C:\\Users\\maxim\\Anaconda3\\lib\\site-packages\\sklearn\\metrics\\classification.py:1113: UndefinedMetricWarning: F-score is ill-defined and being set to 0.0 in labels with no predicted samples.\n",
      "  'precision', 'predicted', average, warn_for)\n",
      "C:\\Users\\maxim\\Anaconda3\\lib\\site-packages\\sklearn\\metrics\\classification.py:1113: UndefinedMetricWarning: F-score is ill-defined and being set to 0.0 in labels with no predicted samples.\n",
      "  'precision', 'predicted', average, warn_for)\n"
     ]
    },
    {
     "name": "stdout",
     "output_type": "stream",
     "text": [
      "[CV]  max_depth=50, max_features=500, min_samples_leaf=20, score=0.564475, total=   0.1s\n",
      "[Parallel(n_jobs=1)]: Done 324 out of 324 | elapsed:  2.8min remaining:    0.0s\n",
      "[CV] max_depth=50, max_features=500, min_samples_leaf=20 .............\n",
      "[CV]  max_depth=50, max_features=500, min_samples_leaf=20, score=0.565450, total=   0.0s\n",
      "[Parallel(n_jobs=1)]: Done 325 out of 325 | elapsed:  2.8min remaining:    0.0s\n",
      "[CV] max_depth=50, max_features=1000, min_samples_leaf=1 .............\n",
      "[CV]  max_depth=50, max_features=1000, min_samples_leaf=1, score=0.603037, total=   0.4s\n",
      "[Parallel(n_jobs=1)]: Done 326 out of 326 | elapsed:  2.8min remaining:    0.0s\n",
      "[CV] max_depth=50, max_features=1000, min_samples_leaf=1 .............\n",
      "[CV]  max_depth=50, max_features=1000, min_samples_leaf=1, score=0.582330, total=   0.5s\n",
      "[Parallel(n_jobs=1)]: Done 327 out of 327 | elapsed:  2.8min remaining:    0.0s\n",
      "[CV] max_depth=50, max_features=1000, min_samples_leaf=1 .............\n",
      "[CV]  max_depth=50, max_features=1000, min_samples_leaf=1, score=0.596835, total=   0.4s\n",
      "[Parallel(n_jobs=1)]: Done 328 out of 328 | elapsed:  2.8min remaining:    0.0s\n",
      "[CV] max_depth=50, max_features=1000, min_samples_leaf=1 .............\n",
      "[CV]  max_depth=50, max_features=1000, min_samples_leaf=1, score=0.614242, total=   0.5s\n",
      "[Parallel(n_jobs=1)]: Done 329 out of 329 | elapsed:  2.8min remaining:    0.0s\n",
      "[CV] max_depth=50, max_features=1000, min_samples_leaf=1 .............\n",
      "[CV]  max_depth=50, max_features=1000, min_samples_leaf=1, score=0.608424, total=   0.4s\n",
      "[Parallel(n_jobs=1)]: Done 330 out of 330 | elapsed:  2.8min remaining:    0.0s\n",
      "[CV] max_depth=50, max_features=1000, min_samples_leaf=2 .............\n",
      "[CV]  max_depth=50, max_features=1000, min_samples_leaf=2, score=0.585711, total=   0.4s\n",
      "[Parallel(n_jobs=1)]: Done 331 out of 331 | elapsed:  2.8min remaining:    0.0s\n",
      "[CV] max_depth=50, max_features=1000, min_samples_leaf=2 .............\n",
      "[CV]  max_depth=50, max_features=1000, min_samples_leaf=2, score=0.587222, total=   0.4s\n",
      "[Parallel(n_jobs=1)]: Done 332 out of 332 | elapsed:  2.8min remaining:    0.0s\n",
      "[CV] max_depth=50, max_features=1000, min_samples_leaf=2 .............\n",
      "[CV]  max_depth=50, max_features=1000, min_samples_leaf=2, score=0.577543, total=   0.4s\n",
      "[Parallel(n_jobs=1)]: Done 333 out of 333 | elapsed:  2.9min remaining:    0.0s\n",
      "[CV] max_depth=50, max_features=1000, min_samples_leaf=2 .............\n",
      "[CV]  max_depth=50, max_features=1000, min_samples_leaf=2, score=0.611503, total=   0.4s\n",
      "[Parallel(n_jobs=1)]: Done 334 out of 334 | elapsed:  2.9min remaining:    0.0s\n",
      "[CV] max_depth=50, max_features=1000, min_samples_leaf=2 .............\n",
      "[CV]  max_depth=50, max_features=1000, min_samples_leaf=2, score=0.595564, total=   0.4s\n",
      "[Parallel(n_jobs=1)]: Done 335 out of 335 | elapsed:  2.9min remaining:    0.0s\n",
      "[CV] max_depth=50, max_features=1000, min_samples_leaf=5 .............\n",
      "[CV]  max_depth=50, max_features=1000, min_samples_leaf=5, score=0.603093, total=   0.3s\n",
      "[Parallel(n_jobs=1)]: Done 336 out of 336 | elapsed:  2.9min remaining:    0.0s\n",
      "[CV] max_depth=50, max_features=1000, min_samples_leaf=5 .............\n",
      "[CV]  max_depth=50, max_features=1000, min_samples_leaf=5, score=0.606062, total=   0.4s\n",
      "[Parallel(n_jobs=1)]: Done 337 out of 337 | elapsed:  2.9min remaining:    0.0s\n",
      "[CV] max_depth=50, max_features=1000, min_samples_leaf=5 .............\n",
      "[CV]  max_depth=50, max_features=1000, min_samples_leaf=5, score=0.574971, total=   0.4s\n",
      "[Parallel(n_jobs=1)]: Done 338 out of 338 | elapsed:  2.9min remaining:    0.0s\n",
      "[CV] max_depth=50, max_features=1000, min_samples_leaf=5 .............\n",
      "[CV]  max_depth=50, max_features=1000, min_samples_leaf=5, score=0.617651, total=   0.3s\n",
      "[Parallel(n_jobs=1)]: Done 339 out of 339 | elapsed:  2.9min remaining:    0.0s\n",
      "[CV] max_depth=50, max_features=1000, min_samples_leaf=5 .............\n",
      "[CV]  max_depth=50, max_features=1000, min_samples_leaf=5, score=0.613597, total=   0.4s\n",
      "[Parallel(n_jobs=1)]: Done 340 out of 340 | elapsed:  2.9min remaining:    0.0s\n",
      "[CV] max_depth=50, max_features=1000, min_samples_leaf=10 ............\n",
      "[CV]  max_depth=50, max_features=1000, min_samples_leaf=10, score=0.572484, total=   0.2s\n",
      "[Parallel(n_jobs=1)]: Done 341 out of 341 | elapsed:  2.9min remaining:    0.0s\n",
      "[CV] max_depth=50, max_features=1000, min_samples_leaf=10 ............\n",
      "[CV]  max_depth=50, max_features=1000, min_samples_leaf=10, score=0.573583, total=   0.2s\n",
      "[Parallel(n_jobs=1)]: Done 342 out of 342 | elapsed:  2.9min remaining:    0.0s\n",
      "[CV] max_depth=50, max_features=1000, min_samples_leaf=10 ............\n",
      "[CV]  max_depth=50, max_features=1000, min_samples_leaf=10, score=0.597781, total=   0.2s\n",
      "[Parallel(n_jobs=1)]: Done 343 out of 343 | elapsed:  2.9min remaining:    0.0s\n",
      "[CV] max_depth=50, max_features=1000, min_samples_leaf=10 ............\n",
      "[CV]  max_depth=50, max_features=1000, min_samples_leaf=10, score=0.583432, total=   0.2s\n",
      "[Parallel(n_jobs=1)]: Done 344 out of 344 | elapsed:  2.9min remaining:    0.0s\n",
      "[CV] max_depth=50, max_features=1000, min_samples_leaf=10 ............\n",
      "[CV]  max_depth=50, max_features=1000, min_samples_leaf=10, score=0.567657, total=   0.2s\n",
      "[Parallel(n_jobs=1)]: Done 345 out of 345 | elapsed:  2.9min remaining:    0.0s\n",
      "[CV] max_depth=50, max_features=1000, min_samples_leaf=20 ............\n",
      "[CV]  max_depth=50, max_features=1000, min_samples_leaf=20, score=0.580285, total=   0.1s\n",
      "[Parallel(n_jobs=1)]: Done 346 out of 346 | elapsed:  2.9min remaining:    0.0s\n",
      "[CV] max_depth=50, max_features=1000, min_samples_leaf=20 ............\n",
      "[CV]  max_depth=50, max_features=1000, min_samples_leaf=20, score=0.569018, total=   0.1s\n",
      "[Parallel(n_jobs=1)]: Done 347 out of 347 | elapsed:  2.9min remaining:    0.0s\n",
      "[CV] max_depth=50, max_features=1000, min_samples_leaf=20 ............\n",
      "[CV]  max_depth=50, max_features=1000, min_samples_leaf=20, score=0.576102, total=   0.1s\n",
      "[Parallel(n_jobs=1)]: Done 348 out of 348 | elapsed:  2.9min remaining:    0.0s\n",
      "[CV] max_depth=50, max_features=1000, min_samples_leaf=20 ............\n",
      "[CV]  max_depth=50, max_features=1000, min_samples_leaf=20, score=0.568047, total=   0.1s\n",
      "[Parallel(n_jobs=1)]: Done 349 out of 349 | elapsed:  3.0min remaining:    0.0s\n",
      "[CV] max_depth=50, max_features=1000, min_samples_leaf=20 ............\n",
      "[CV]  max_depth=50, max_features=1000, min_samples_leaf=20, score=0.562591, total=   0.1s\n",
      "[Parallel(n_jobs=1)]: Done 350 out of 350 | elapsed:  3.0min remaining:    0.0s\n",
      "[CV] max_depth=50, max_features=None, min_samples_leaf=1 .............\n",
      "[CV]  max_depth=50, max_features=None, min_samples_leaf=1, score=0.601315, total=   1.3s\n",
      "[Parallel(n_jobs=1)]: Done 351 out of 351 | elapsed:  3.0min remaining:    0.0s\n",
      "[CV] max_depth=50, max_features=None, min_samples_leaf=1 .............\n",
      "[CV]  max_depth=50, max_features=None, min_samples_leaf=1, score=0.593239, total=   1.3s\n",
      "[Parallel(n_jobs=1)]: Done 352 out of 352 | elapsed:  3.0min remaining:    0.0s\n",
      "[CV] max_depth=50, max_features=None, min_samples_leaf=1 .............\n",
      "[CV]  max_depth=50, max_features=None, min_samples_leaf=1, score=0.599299, total=   1.2s\n",
      "[Parallel(n_jobs=1)]: Done 353 out of 353 | elapsed:  3.0min remaining:    0.0s\n",
      "[CV] max_depth=50, max_features=None, min_samples_leaf=1 .............\n",
      "[CV]  max_depth=50, max_features=None, min_samples_leaf=1, score=0.621701, total=   1.3s\n",
      "[Parallel(n_jobs=1)]: Done 354 out of 354 | elapsed:  3.1min remaining:    0.0s\n",
      "[CV] max_depth=50, max_features=None, min_samples_leaf=1 .............\n",
      "[CV]  max_depth=50, max_features=None, min_samples_leaf=1, score=0.608424, total=   1.2s\n",
      "[Parallel(n_jobs=1)]: Done 355 out of 355 | elapsed:  3.1min remaining:    0.0s\n",
      "[CV] max_depth=50, max_features=None, min_samples_leaf=2 .............\n",
      "[CV]  max_depth=50, max_features=None, min_samples_leaf=2, score=0.596569, total=   1.2s\n",
      "[Parallel(n_jobs=1)]: Done 356 out of 356 | elapsed:  3.1min remaining:    0.0s\n",
      "[CV] max_depth=50, max_features=None, min_samples_leaf=2 .............\n",
      "[CV]  max_depth=50, max_features=None, min_samples_leaf=2, score=0.578440, total=   1.1s\n",
      "[Parallel(n_jobs=1)]: Done 357 out of 357 | elapsed:  3.1min remaining:    0.0s\n",
      "[CV] max_depth=50, max_features=None, min_samples_leaf=2 .............\n",
      "[CV]  max_depth=50, max_features=None, min_samples_leaf=2, score=0.599299, total=   1.1s\n",
      "[Parallel(n_jobs=1)]: Done 358 out of 358 | elapsed:  3.1min remaining:    0.0s\n",
      "[CV] max_depth=50, max_features=None, min_samples_leaf=2 .............\n"
     ]
    },
    {
     "name": "stdout",
     "output_type": "stream",
     "text": [
      "[CV]  max_depth=50, max_features=None, min_samples_leaf=2, score=0.609169, total=   1.2s\n",
      "[Parallel(n_jobs=1)]: Done 359 out of 359 | elapsed:  3.2min remaining:    0.0s\n",
      "[CV] max_depth=50, max_features=None, min_samples_leaf=2 .............\n",
      "[CV]  max_depth=50, max_features=None, min_samples_leaf=2, score=0.604928, total=   1.2s\n",
      "[Parallel(n_jobs=1)]: Done 360 out of 360 | elapsed:  3.2min remaining:    0.0s\n",
      "[CV] max_depth=50, max_features=None, min_samples_leaf=5 .............\n",
      "[CV]  max_depth=50, max_features=None, min_samples_leaf=5, score=0.602453, total=   1.0s\n",
      "[Parallel(n_jobs=1)]: Done 361 out of 361 | elapsed:  3.2min remaining:    0.0s\n",
      "[CV] max_depth=50, max_features=None, min_samples_leaf=5 .............\n",
      "[CV]  max_depth=50, max_features=None, min_samples_leaf=5, score=0.605755, total=   1.0s\n",
      "[Parallel(n_jobs=1)]: Done 362 out of 362 | elapsed:  3.2min remaining:    0.0s\n",
      "[CV] max_depth=50, max_features=None, min_samples_leaf=5 .............\n",
      "[CV]  max_depth=50, max_features=None, min_samples_leaf=5, score=0.574997, total=   1.0s\n",
      "[Parallel(n_jobs=1)]: Done 363 out of 363 | elapsed:  3.2min remaining:    0.0s\n",
      "[CV] max_depth=50, max_features=None, min_samples_leaf=5 .............\n",
      "[CV]  max_depth=50, max_features=None, min_samples_leaf=5, score=0.612360, total=   1.0s\n",
      "[Parallel(n_jobs=1)]: Done 364 out of 364 | elapsed:  3.3min remaining:    0.0s\n",
      "[CV] max_depth=50, max_features=None, min_samples_leaf=5 .............\n",
      "[CV]  max_depth=50, max_features=None, min_samples_leaf=5, score=0.621184, total=   1.0s\n",
      "[Parallel(n_jobs=1)]: Done 365 out of 365 | elapsed:  3.3min remaining:    0.0s\n",
      "[CV] max_depth=50, max_features=None, min_samples_leaf=10 ............\n",
      "[CV]  max_depth=50, max_features=None, min_samples_leaf=10, score=0.609509, total=   0.7s\n",
      "[Parallel(n_jobs=1)]: Done 366 out of 366 | elapsed:  3.3min remaining:    0.0s\n",
      "[CV] max_depth=50, max_features=None, min_samples_leaf=10 ............\n",
      "[CV]  max_depth=50, max_features=None, min_samples_leaf=10, score=0.606407, total=   0.7s\n",
      "[Parallel(n_jobs=1)]: Done 367 out of 367 | elapsed:  3.3min remaining:    0.0s\n",
      "[CV] max_depth=50, max_features=None, min_samples_leaf=10 ............\n",
      "[CV]  max_depth=50, max_features=None, min_samples_leaf=10, score=0.576128, total=   0.7s\n",
      "[Parallel(n_jobs=1)]: Done 368 out of 368 | elapsed:  3.3min remaining:    0.0s\n",
      "[CV] max_depth=50, max_features=None, min_samples_leaf=10 ............\n",
      "[CV]  max_depth=50, max_features=None, min_samples_leaf=10, score=0.589487, total=   0.6s\n",
      "[Parallel(n_jobs=1)]: Done 369 out of 369 | elapsed:  3.3min remaining:    0.0s\n",
      "[CV] max_depth=50, max_features=None, min_samples_leaf=10 ............\n",
      "[CV]  max_depth=50, max_features=None, min_samples_leaf=10, score=0.565016, total=   0.6s\n",
      "[Parallel(n_jobs=1)]: Done 370 out of 370 | elapsed:  3.3min remaining:    0.0s\n",
      "[CV] max_depth=50, max_features=None, min_samples_leaf=20 ............\n",
      "[CV]  max_depth=50, max_features=None, min_samples_leaf=20, score=0.588812, total=   0.4s\n",
      "[Parallel(n_jobs=1)]: Done 371 out of 371 | elapsed:  3.3min remaining:    0.0s\n",
      "[CV] max_depth=50, max_features=None, min_samples_leaf=20 ............\n",
      "[CV]  max_depth=50, max_features=None, min_samples_leaf=20, score=0.593911, total=   0.4s\n",
      "[Parallel(n_jobs=1)]: Done 372 out of 372 | elapsed:  3.4min remaining:    0.0s\n",
      "[CV] max_depth=50, max_features=None, min_samples_leaf=20 ............\n",
      "[CV]  max_depth=50, max_features=None, min_samples_leaf=20, score=0.580334, total=   0.4s\n",
      "[Parallel(n_jobs=1)]: Done 373 out of 373 | elapsed:  3.4min remaining:    0.0s\n",
      "[CV] max_depth=50, max_features=None, min_samples_leaf=20 ............\n",
      "[CV]  max_depth=50, max_features=None, min_samples_leaf=20, score=0.601334, total=   0.4s\n",
      "[Parallel(n_jobs=1)]: Done 374 out of 374 | elapsed:  3.4min remaining:    0.0s\n",
      "[CV] max_depth=50, max_features=None, min_samples_leaf=20 ............\n",
      "[CV]  max_depth=50, max_features=None, min_samples_leaf=20, score=0.593785, total=   0.4s\n",
      "[Parallel(n_jobs=1)]: Done 375 out of 375 | elapsed:  3.4min remaining:    0.0s\n",
      "[CV] max_depth=30, max_features=auto, min_samples_leaf=1 .............\n",
      "[CV]  max_depth=30, max_features=auto, min_samples_leaf=1, score=0.567074, total=   0.0s\n",
      "[Parallel(n_jobs=1)]: Done 376 out of 376 | elapsed:  3.4min remaining:    0.0s\n",
      "[CV] max_depth=30, max_features=auto, min_samples_leaf=1 .............\n",
      "[CV]  max_depth=30, max_features=auto, min_samples_leaf=1, score=0.571830, total=   0.0s\n",
      "[Parallel(n_jobs=1)]: Done 377 out of 377 | elapsed:  3.4min remaining:    0.0s\n",
      "[CV] max_depth=30, max_features=auto, min_samples_leaf=1 .............\n",
      "[CV]  max_depth=30, max_features=auto, min_samples_leaf=1, score=0.583535, total=   0.0s\n",
      "[Parallel(n_jobs=1)]: Done 378 out of 378 | elapsed:  3.4min remaining:    0.0s\n",
      "[CV] max_depth=30, max_features=auto, min_samples_leaf=1 .............\n",
      "[CV]  max_depth=30, max_features=auto, min_samples_leaf=1, score=0.574904, total=   0.0s\n",
      "[Parallel(n_jobs=1)]: Done 379 out of 379 | elapsed:  3.4min remaining:    0.0s\n",
      "[CV] max_depth=30, max_features=auto, min_samples_leaf=1 .............\n",
      "[CV]  max_depth=30, max_features=auto, min_samples_leaf=1, score=0.571522, total=   0.0s\n",
      "[Parallel(n_jobs=1)]: Done 380 out of 380 | elapsed:  3.4min remaining:    0.0s\n",
      "[CV] max_depth=30, max_features=auto, min_samples_leaf=2 .............\n",
      "[CV]  max_depth=30, max_features=auto, min_samples_leaf=2, score=0.573881, total=   0.0s\n",
      "[Parallel(n_jobs=1)]: Done 381 out of 381 | elapsed:  3.4min remaining:    0.0s\n",
      "[CV] max_depth=30, max_features=auto, min_samples_leaf=2 .............\n",
      "[CV]  max_depth=30, max_features=auto, min_samples_leaf=2, score=0.574904, total=   0.0s\n",
      "[Parallel(n_jobs=1)]: Done 382 out of 382 | elapsed:  3.4min remaining:    0.0s\n",
      "[CV] max_depth=30, max_features=auto, min_samples_leaf=2 .............\n",
      "[CV]  max_depth=30, max_features=auto, min_samples_leaf=2, score=0.575925, total=   0.0s\n",
      "[Parallel(n_jobs=1)]: Done 383 out of 383 | elapsed:  3.4min remaining:    0.0s\n",
      "[CV] max_depth=30, max_features=auto, min_samples_leaf=2 .............\n",
      "[CV]  max_depth=30, max_features=auto, min_samples_leaf=2, score=0.567712, total=   0.0s\n",
      "[Parallel(n_jobs=1)]: Done 384 out of 384 | elapsed:  3.4min remaining:    0.0s\n",
      "[CV] max_depth=30, max_features=auto, min_samples_leaf=2 .............\n",
      "[CV]  max_depth=30, max_features=auto, min_samples_leaf=2, score=0.570517, total=   0.0s\n",
      "[Parallel(n_jobs=1)]: Done 385 out of 385 | elapsed:  3.4min remaining:    0.0s\n",
      "[CV] max_depth=30, max_features=auto, min_samples_leaf=5 .............\n",
      "[CV]  max_depth=30, max_features=auto, min_samples_leaf=5, score=0.569018, total=   0.0s\n",
      "[Parallel(n_jobs=1)]: Done 386 out of 386 | elapsed:  3.4min remaining:    0.0s\n",
      "[CV] max_depth=30, max_features=auto, min_samples_leaf=5 .............\n",
      "[CV]  max_depth=30, max_features=auto, min_samples_leaf=5, score=0.569018, total=   0.0s\n",
      "[Parallel(n_jobs=1)]: Done 387 out of 387 | elapsed:  3.4min remaining:    0.0s\n",
      "[CV] max_depth=30, max_features=auto, min_samples_leaf=5 .............\n",
      "[CV]  max_depth=30, max_features=auto, min_samples_leaf=5, score=0.569018, total=   0.0s\n",
      "[Parallel(n_jobs=1)]: Done 388 out of 388 | elapsed:  3.4min remaining:    0.0s\n",
      "[CV] max_depth=30, max_features=auto, min_samples_leaf=5 .............\n",
      "[CV]  max_depth=30, max_features=auto, min_samples_leaf=5, score=0.561628, total=   0.0s\n",
      "[Parallel(n_jobs=1)]: Done 389 out of 389 | elapsed:  3.4min remaining:    0.0s\n",
      "[CV] max_depth=30, max_features=auto, min_samples_leaf=5 .............\n",
      "[CV]  max_depth=30, max_features=auto, min_samples_leaf=5, score=0.563547, total=   0.0s\n",
      "[Parallel(n_jobs=1)]: Done 390 out of 390 | elapsed:  3.4min remaining:    0.0s\n",
      "[CV] max_depth=30, max_features=auto, min_samples_leaf=10 ............\n",
      "[CV]  max_depth=30, max_features=auto, min_samples_leaf=10, score=0.564475, total=   0.0s\n",
      "[Parallel(n_jobs=1)]: Done 391 out of 391 | elapsed:  3.4min remaining:    0.0s\n",
      "[CV] max_depth=30, max_features=auto, min_samples_leaf=10 ............\n",
      "[CV]  max_depth=30, max_features=auto, min_samples_leaf=10, score=0.564475, total=   0.0s\n",
      "[Parallel(n_jobs=1)]: Done 392 out of 392 | elapsed:  3.4min remaining:    0.0s\n",
      "[CV] max_depth=30, max_features=auto, min_samples_leaf=10 ............\n"
     ]
    },
    {
     "name": "stderr",
     "output_type": "stream",
     "text": [
      "C:\\Users\\maxim\\Anaconda3\\lib\\site-packages\\sklearn\\metrics\\classification.py:1113: UndefinedMetricWarning: F-score is ill-defined and being set to 0.0 in labels with no predicted samples.\n",
      "  'precision', 'predicted', average, warn_for)\n",
      "C:\\Users\\maxim\\Anaconda3\\lib\\site-packages\\sklearn\\metrics\\classification.py:1113: UndefinedMetricWarning: F-score is ill-defined and being set to 0.0 in labels with no predicted samples.\n",
      "  'precision', 'predicted', average, warn_for)\n",
      "C:\\Users\\maxim\\Anaconda3\\lib\\site-packages\\sklearn\\metrics\\classification.py:1113: UndefinedMetricWarning: F-score is ill-defined and being set to 0.0 in labels with no predicted samples.\n",
      "  'precision', 'predicted', average, warn_for)\n"
     ]
    },
    {
     "name": "stdout",
     "output_type": "stream",
     "text": [
      "[CV]  max_depth=30, max_features=auto, min_samples_leaf=10, score=0.564475, total=   0.0s\n",
      "[Parallel(n_jobs=1)]: Done 393 out of 393 | elapsed:  3.4min remaining:    0.0s\n",
      "[CV] max_depth=30, max_features=auto, min_samples_leaf=10 ............\n",
      "[CV]  max_depth=30, max_features=auto, min_samples_leaf=10, score=0.564475, total=   0.0s\n",
      "[Parallel(n_jobs=1)]: Done 394 out of 394 | elapsed:  3.4min remaining:    0.0s\n",
      "[CV] max_depth=30, max_features=auto, min_samples_leaf=10 ............\n",
      "[CV]  max_depth=30, max_features=auto, min_samples_leaf=10, score=0.565450, total=   0.0s\n",
      "[Parallel(n_jobs=1)]: Done 395 out of 395 | elapsed:  3.4min remaining:    0.0s\n",
      "[CV] max_depth=30, max_features=auto, min_samples_leaf=20 ............\n"
     ]
    },
    {
     "name": "stderr",
     "output_type": "stream",
     "text": [
      "C:\\Users\\maxim\\Anaconda3\\lib\\site-packages\\sklearn\\metrics\\classification.py:1113: UndefinedMetricWarning: F-score is ill-defined and being set to 0.0 in labels with no predicted samples.\n",
      "  'precision', 'predicted', average, warn_for)\n",
      "C:\\Users\\maxim\\Anaconda3\\lib\\site-packages\\sklearn\\metrics\\classification.py:1113: UndefinedMetricWarning: F-score is ill-defined and being set to 0.0 in labels with no predicted samples.\n",
      "  'precision', 'predicted', average, warn_for)\n",
      "C:\\Users\\maxim\\Anaconda3\\lib\\site-packages\\sklearn\\metrics\\classification.py:1113: UndefinedMetricWarning: F-score is ill-defined and being set to 0.0 in labels with no predicted samples.\n",
      "  'precision', 'predicted', average, warn_for)\n"
     ]
    },
    {
     "name": "stdout",
     "output_type": "stream",
     "text": [
      "[CV]  max_depth=30, max_features=auto, min_samples_leaf=20, score=0.564475, total=   0.0s\n",
      "[Parallel(n_jobs=1)]: Done 396 out of 396 | elapsed:  3.4min remaining:    0.0s\n",
      "[CV] max_depth=30, max_features=auto, min_samples_leaf=20 ............\n",
      "[CV]  max_depth=30, max_features=auto, min_samples_leaf=20, score=0.564475, total=   0.0s\n",
      "[Parallel(n_jobs=1)]: Done 397 out of 397 | elapsed:  3.4min remaining:    0.0s\n",
      "[CV] max_depth=30, max_features=auto, min_samples_leaf=20 ............\n",
      "[CV]  max_depth=30, max_features=auto, min_samples_leaf=20, score=0.564475, total=   0.0s\n",
      "[Parallel(n_jobs=1)]: Done 398 out of 398 | elapsed:  3.4min remaining:    0.0s\n",
      "[CV] max_depth=30, max_features=auto, min_samples_leaf=20 ............\n"
     ]
    },
    {
     "name": "stderr",
     "output_type": "stream",
     "text": [
      "C:\\Users\\maxim\\Anaconda3\\lib\\site-packages\\sklearn\\metrics\\classification.py:1113: UndefinedMetricWarning: F-score is ill-defined and being set to 0.0 in labels with no predicted samples.\n",
      "  'precision', 'predicted', average, warn_for)\n",
      "C:\\Users\\maxim\\Anaconda3\\lib\\site-packages\\sklearn\\metrics\\classification.py:1113: UndefinedMetricWarning: F-score is ill-defined and being set to 0.0 in labels with no predicted samples.\n",
      "  'precision', 'predicted', average, warn_for)\n",
      "C:\\Users\\maxim\\Anaconda3\\lib\\site-packages\\sklearn\\metrics\\classification.py:1113: UndefinedMetricWarning: F-score is ill-defined and being set to 0.0 in labels with no predicted samples.\n",
      "  'precision', 'predicted', average, warn_for)\n"
     ]
    },
    {
     "name": "stdout",
     "output_type": "stream",
     "text": [
      "[CV]  max_depth=30, max_features=auto, min_samples_leaf=20, score=0.564475, total=   0.0s\n",
      "[Parallel(n_jobs=1)]: Done 399 out of 399 | elapsed:  3.4min remaining:    0.0s\n",
      "[CV] max_depth=30, max_features=auto, min_samples_leaf=20 ............\n",
      "[CV]  max_depth=30, max_features=auto, min_samples_leaf=20, score=0.565450, total=   0.0s\n",
      "[Parallel(n_jobs=1)]: Done 400 out of 400 | elapsed:  3.4min remaining:    0.0s\n",
      "[CV] max_depth=30, max_features=log2, min_samples_leaf=1 .............\n",
      "[CV]  max_depth=30, max_features=log2, min_samples_leaf=1, score=0.568047, total=   0.0s\n",
      "[Parallel(n_jobs=1)]: Done 401 out of 401 | elapsed:  3.4min remaining:    0.0s\n",
      "[CV] max_depth=30, max_features=log2, min_samples_leaf=1 .............\n"
     ]
    },
    {
     "name": "stderr",
     "output_type": "stream",
     "text": [
      "C:\\Users\\maxim\\Anaconda3\\lib\\site-packages\\sklearn\\metrics\\classification.py:1113: UndefinedMetricWarning: F-score is ill-defined and being set to 0.0 in labels with no predicted samples.\n",
      "  'precision', 'predicted', average, warn_for)\n"
     ]
    },
    {
     "name": "stdout",
     "output_type": "stream",
     "text": [
      "[CV]  max_depth=30, max_features=log2, min_samples_leaf=1, score=0.568047, total=   0.0s\n",
      "[Parallel(n_jobs=1)]: Done 402 out of 402 | elapsed:  3.4min remaining:    0.0s\n",
      "[CV] max_depth=30, max_features=log2, min_samples_leaf=1 .............\n",
      "[CV]  max_depth=30, max_features=log2, min_samples_leaf=1, score=0.569018, total=   0.0s\n",
      "[Parallel(n_jobs=1)]: Done 403 out of 403 | elapsed:  3.4min remaining:    0.0s\n",
      "[CV] max_depth=30, max_features=log2, min_samples_leaf=1 .............\n",
      "[CV]  max_depth=30, max_features=log2, min_samples_leaf=1, score=0.562579, total=   0.0s\n",
      "[Parallel(n_jobs=1)]: Done 404 out of 404 | elapsed:  3.4min remaining:    0.0s\n",
      "[CV] max_depth=30, max_features=log2, min_samples_leaf=1 .............\n",
      "[CV]  max_depth=30, max_features=log2, min_samples_leaf=1, score=0.568059, total=   0.0s\n",
      "[Parallel(n_jobs=1)]: Done 405 out of 405 | elapsed:  3.4min remaining:    0.0s\n",
      "[CV] max_depth=30, max_features=log2, min_samples_leaf=2 .............\n",
      "[CV]  max_depth=30, max_features=log2, min_samples_leaf=2, score=0.564475, total=   0.0s"
     ]
    },
    {
     "name": "stderr",
     "output_type": "stream",
     "text": [
      "C:\\Users\\maxim\\Anaconda3\\lib\\site-packages\\sklearn\\metrics\\classification.py:1113: UndefinedMetricWarning: F-score is ill-defined and being set to 0.0 in labels with no predicted samples.\n",
      "  'precision', 'predicted', average, warn_for)\n",
      "C:\\Users\\maxim\\Anaconda3\\lib\\site-packages\\sklearn\\metrics\\classification.py:1113: UndefinedMetricWarning: F-score is ill-defined and being set to 0.0 in labels with no predicted samples.\n",
      "  'precision', 'predicted', average, warn_for)\n",
      "C:\\Users\\maxim\\Anaconda3\\lib\\site-packages\\sklearn\\metrics\\classification.py:1113: UndefinedMetricWarning: F-score is ill-defined and being set to 0.0 in labels with no predicted samples.\n",
      "  'precision', 'predicted', average, warn_for)\n"
     ]
    },
    {
     "name": "stdout",
     "output_type": "stream",
     "text": [
      "\n",
      "[Parallel(n_jobs=1)]: Done 406 out of 406 | elapsed:  3.4min remaining:    0.0s\n",
      "[CV] max_depth=30, max_features=log2, min_samples_leaf=2 .............\n",
      "[CV]  max_depth=30, max_features=log2, min_samples_leaf=2, score=0.564475, total=   0.0s\n",
      "[Parallel(n_jobs=1)]: Done 407 out of 407 | elapsed:  3.4min remaining:    0.0s\n",
      "[CV] max_depth=30, max_features=log2, min_samples_leaf=2 .............\n",
      "[CV]  max_depth=30, max_features=log2, min_samples_leaf=2, score=0.564475, total=   0.0s\n",
      "[Parallel(n_jobs=1)]: Done 408 out of 408 | elapsed:  3.4min remaining:    0.0s\n",
      "[CV] max_depth=30, max_features=log2, min_samples_leaf=2 .............\n"
     ]
    },
    {
     "name": "stderr",
     "output_type": "stream",
     "text": [
      "C:\\Users\\maxim\\Anaconda3\\lib\\site-packages\\sklearn\\metrics\\classification.py:1113: UndefinedMetricWarning: F-score is ill-defined and being set to 0.0 in labels with no predicted samples.\n",
      "  'precision', 'predicted', average, warn_for)\n",
      "C:\\Users\\maxim\\Anaconda3\\lib\\site-packages\\sklearn\\metrics\\classification.py:1113: UndefinedMetricWarning: F-score is ill-defined and being set to 0.0 in labels with no predicted samples.\n",
      "  'precision', 'predicted', average, warn_for)\n",
      "C:\\Users\\maxim\\Anaconda3\\lib\\site-packages\\sklearn\\metrics\\classification.py:1113: UndefinedMetricWarning: F-score is ill-defined and being set to 0.0 in labels with no predicted samples.\n",
      "  'precision', 'predicted', average, warn_for)\n"
     ]
    },
    {
     "name": "stdout",
     "output_type": "stream",
     "text": [
      "[CV]  max_depth=30, max_features=log2, min_samples_leaf=2, score=0.564475, total=   0.0s\n",
      "[Parallel(n_jobs=1)]: Done 409 out of 409 | elapsed:  3.4min remaining:    0.0s\n",
      "[CV] max_depth=30, max_features=log2, min_samples_leaf=2 .............\n",
      "[CV]  max_depth=30, max_features=log2, min_samples_leaf=2, score=0.565450, total=   0.0s\n",
      "[Parallel(n_jobs=1)]: Done 410 out of 410 | elapsed:  3.4min remaining:    0.0s\n",
      "[CV] max_depth=30, max_features=log2, min_samples_leaf=5 .............\n",
      "[CV]  max_depth=30, max_features=log2, min_samples_leaf=5, score=0.564475, total=   0.0s\n",
      "[Parallel(n_jobs=1)]: Done 411 out of 411 | elapsed:  3.4min remaining:    0.0s\n",
      "[CV] max_depth=30, max_features=log2, min_samples_leaf=5 .............\n"
     ]
    },
    {
     "name": "stderr",
     "output_type": "stream",
     "text": [
      "C:\\Users\\maxim\\Anaconda3\\lib\\site-packages\\sklearn\\metrics\\classification.py:1113: UndefinedMetricWarning: F-score is ill-defined and being set to 0.0 in labels with no predicted samples.\n",
      "  'precision', 'predicted', average, warn_for)\n",
      "C:\\Users\\maxim\\Anaconda3\\lib\\site-packages\\sklearn\\metrics\\classification.py:1113: UndefinedMetricWarning: F-score is ill-defined and being set to 0.0 in labels with no predicted samples.\n",
      "  'precision', 'predicted', average, warn_for)\n",
      "C:\\Users\\maxim\\Anaconda3\\lib\\site-packages\\sklearn\\metrics\\classification.py:1113: UndefinedMetricWarning: F-score is ill-defined and being set to 0.0 in labels with no predicted samples.\n",
      "  'precision', 'predicted', average, warn_for)\n",
      "C:\\Users\\maxim\\Anaconda3\\lib\\site-packages\\sklearn\\metrics\\classification.py:1113: UndefinedMetricWarning: F-score is ill-defined and being set to 0.0 in labels with no predicted samples.\n",
      "  'precision', 'predicted', average, warn_for)\n",
      "C:\\Users\\maxim\\Anaconda3\\lib\\site-packages\\sklearn\\metrics\\classification.py:1113: UndefinedMetricWarning: F-score is ill-defined and being set to 0.0 in labels with no predicted samples.\n",
      "  'precision', 'predicted', average, warn_for)\n"
     ]
    },
    {
     "name": "stdout",
     "output_type": "stream",
     "text": [
      "[CV]  max_depth=30, max_features=log2, min_samples_leaf=5, score=0.564475, total=   0.0s\n",
      "[Parallel(n_jobs=1)]: Done 412 out of 412 | elapsed:  3.4min remaining:    0.0s\n",
      "[CV] max_depth=30, max_features=log2, min_samples_leaf=5 .............\n",
      "[CV]  max_depth=30, max_features=log2, min_samples_leaf=5, score=0.564475, total=   0.0s\n",
      "[Parallel(n_jobs=1)]: Done 413 out of 413 | elapsed:  3.4min remaining:    0.0s\n",
      "[CV] max_depth=30, max_features=log2, min_samples_leaf=5 .............\n",
      "[CV]  max_depth=30, max_features=log2, min_samples_leaf=5, score=0.564475, total=   0.0s\n",
      "[Parallel(n_jobs=1)]: Done 414 out of 414 | elapsed:  3.4min remaining:    0.0s\n",
      "[CV] max_depth=30, max_features=log2, min_samples_leaf=5 .............\n",
      "[CV]  max_depth=30, max_features=log2, min_samples_leaf=5, score=0.565450, total=   0.0s\n",
      "[Parallel(n_jobs=1)]: Done 415 out of 415 | elapsed:  3.4min remaining:    0.0s\n",
      "[CV] max_depth=30, max_features=log2, min_samples_leaf=10 ............\n",
      "[CV]  max_depth=30, max_features=log2, min_samples_leaf=10, score=0.564475, total=   0.0s\n",
      "[Parallel(n_jobs=1)]: Done 416 out of 416 | elapsed:  3.4min remaining:    0.0s\n",
      "[CV] max_depth=30, max_features=log2, min_samples_leaf=10 ............\n"
     ]
    },
    {
     "name": "stderr",
     "output_type": "stream",
     "text": [
      "C:\\Users\\maxim\\Anaconda3\\lib\\site-packages\\sklearn\\metrics\\classification.py:1113: UndefinedMetricWarning: F-score is ill-defined and being set to 0.0 in labels with no predicted samples.\n",
      "  'precision', 'predicted', average, warn_for)\n",
      "C:\\Users\\maxim\\Anaconda3\\lib\\site-packages\\sklearn\\metrics\\classification.py:1113: UndefinedMetricWarning: F-score is ill-defined and being set to 0.0 in labels with no predicted samples.\n",
      "  'precision', 'predicted', average, warn_for)\n",
      "C:\\Users\\maxim\\Anaconda3\\lib\\site-packages\\sklearn\\metrics\\classification.py:1113: UndefinedMetricWarning: F-score is ill-defined and being set to 0.0 in labels with no predicted samples.\n",
      "  'precision', 'predicted', average, warn_for)\n",
      "C:\\Users\\maxim\\Anaconda3\\lib\\site-packages\\sklearn\\metrics\\classification.py:1113: UndefinedMetricWarning: F-score is ill-defined and being set to 0.0 in labels with no predicted samples.\n",
      "  'precision', 'predicted', average, warn_for)\n",
      "C:\\Users\\maxim\\Anaconda3\\lib\\site-packages\\sklearn\\metrics\\classification.py:1113: UndefinedMetricWarning: F-score is ill-defined and being set to 0.0 in labels with no predicted samples.\n",
      "  'precision', 'predicted', average, warn_for)\n",
      "C:\\Users\\maxim\\Anaconda3\\lib\\site-packages\\sklearn\\metrics\\classification.py:1113: UndefinedMetricWarning: F-score is ill-defined and being set to 0.0 in labels with no predicted samples.\n",
      "  'precision', 'predicted', average, warn_for)\n"
     ]
    },
    {
     "name": "stdout",
     "output_type": "stream",
     "text": [
      "[CV]  max_depth=30, max_features=log2, min_samples_leaf=10, score=0.564475, total=   0.0s\n",
      "[Parallel(n_jobs=1)]: Done 417 out of 417 | elapsed:  3.4min remaining:    0.0s\n",
      "[CV] max_depth=30, max_features=log2, min_samples_leaf=10 ............\n",
      "[CV]  max_depth=30, max_features=log2, min_samples_leaf=10, score=0.564475, total=   0.0s\n",
      "[Parallel(n_jobs=1)]: Done 418 out of 418 | elapsed:  3.4min remaining:    0.0s\n",
      "[CV] max_depth=30, max_features=log2, min_samples_leaf=10 ............\n",
      "[CV]  max_depth=30, max_features=log2, min_samples_leaf=10, score=0.564475, total=   0.0s\n",
      "[Parallel(n_jobs=1)]: Done 419 out of 419 | elapsed:  3.4min remaining:    0.0s\n",
      "[CV] max_depth=30, max_features=log2, min_samples_leaf=10 ............\n",
      "[CV]  max_depth=30, max_features=log2, min_samples_leaf=10, score=0.565450, total=   0.0s\n",
      "[Parallel(n_jobs=1)]: Done 420 out of 420 | elapsed:  3.4min remaining:    0.0s\n",
      "[CV] max_depth=30, max_features=log2, min_samples_leaf=20 ............\n",
      "[CV]  max_depth=30, max_features=log2, min_samples_leaf=20, score=0.564475, total=   0.0s\n",
      "[Parallel(n_jobs=1)]: Done 421 out of 421 | elapsed:  3.4min remaining:    0.0s\n",
      "[CV] max_depth=30, max_features=log2, min_samples_leaf=20 ............\n",
      "[CV]  max_depth=30, max_features=log2, min_samples_leaf=20, score=0.564475, total=   0.0s\n",
      "[Parallel(n_jobs=1)]: Done 422 out of 422 | elapsed:  3.4min remaining:    0.0s\n",
      "[CV] max_depth=30, max_features=log2, min_samples_leaf=20 ............\n"
     ]
    },
    {
     "name": "stderr",
     "output_type": "stream",
     "text": [
      "C:\\Users\\maxim\\Anaconda3\\lib\\site-packages\\sklearn\\metrics\\classification.py:1113: UndefinedMetricWarning: F-score is ill-defined and being set to 0.0 in labels with no predicted samples.\n",
      "  'precision', 'predicted', average, warn_for)\n",
      "C:\\Users\\maxim\\Anaconda3\\lib\\site-packages\\sklearn\\metrics\\classification.py:1113: UndefinedMetricWarning: F-score is ill-defined and being set to 0.0 in labels with no predicted samples.\n",
      "  'precision', 'predicted', average, warn_for)\n",
      "C:\\Users\\maxim\\Anaconda3\\lib\\site-packages\\sklearn\\metrics\\classification.py:1113: UndefinedMetricWarning: F-score is ill-defined and being set to 0.0 in labels with no predicted samples.\n",
      "  'precision', 'predicted', average, warn_for)\n"
     ]
    },
    {
     "name": "stdout",
     "output_type": "stream",
     "text": [
      "[CV]  max_depth=30, max_features=log2, min_samples_leaf=20, score=0.564475, total=   0.0s\n",
      "[Parallel(n_jobs=1)]: Done 423 out of 423 | elapsed:  3.4min remaining:    0.0s\n",
      "[CV] max_depth=30, max_features=log2, min_samples_leaf=20 ............\n",
      "[CV]  max_depth=30, max_features=log2, min_samples_leaf=20, score=0.564475, total=   0.0s\n",
      "[Parallel(n_jobs=1)]: Done 424 out of 424 | elapsed:  3.4min remaining:    0.0s\n",
      "[CV] max_depth=30, max_features=log2, min_samples_leaf=20 ............\n",
      "[CV]  max_depth=30, max_features=log2, min_samples_leaf=20, score=0.565450, total=   0.0s\n",
      "[Parallel(n_jobs=1)]: Done 425 out of 425 | elapsed:  3.4min remaining:    0.0s\n",
      "[CV] max_depth=30, max_features=500, min_samples_leaf=1 ..............\n",
      "[CV]  max_depth=30, max_features=500, min_samples_leaf=1, score=0.599379, total=   0.2s\n",
      "[Parallel(n_jobs=1)]: Done 426 out of 426 | elapsed:  3.5min remaining:    0.0s\n",
      "[CV] max_depth=30, max_features=500, min_samples_leaf=1 ..............\n",
      "[CV]  max_depth=30, max_features=500, min_samples_leaf=1, score=0.578063, total=   0.2s\n",
      "[Parallel(n_jobs=1)]: Done 427 out of 427 | elapsed:  3.5min remaining:    0.0s\n",
      "[CV] max_depth=30, max_features=500, min_samples_leaf=1 ..............\n",
      "[CV]  max_depth=30, max_features=500, min_samples_leaf=1, score=0.594558, total=   0.2s\n",
      "[Parallel(n_jobs=1)]: Done 428 out of 428 | elapsed:  3.5min remaining:    0.0s\n",
      "[CV] max_depth=30, max_features=500, min_samples_leaf=1 ..............\n",
      "[CV]  max_depth=30, max_features=500, min_samples_leaf=1, score=0.579775, total=   0.2s\n",
      "[Parallel(n_jobs=1)]: Done 429 out of 429 | elapsed:  3.5min remaining:    0.0s\n",
      "[CV] max_depth=30, max_features=500, min_samples_leaf=1 ..............\n",
      "[CV]  max_depth=30, max_features=500, min_samples_leaf=1, score=0.601526, total=   0.2s\n",
      "[Parallel(n_jobs=1)]: Done 430 out of 430 | elapsed:  3.5min remaining:    0.0s\n",
      "[CV] max_depth=30, max_features=500, min_samples_leaf=2 ..............\n",
      "[CV]  max_depth=30, max_features=500, min_samples_leaf=2, score=0.575053, total=   0.2s\n",
      "[Parallel(n_jobs=1)]: Done 431 out of 431 | elapsed:  3.5min remaining:    0.0s\n",
      "[CV] max_depth=30, max_features=500, min_samples_leaf=2 ..............\n",
      "[CV]  max_depth=30, max_features=500, min_samples_leaf=2, score=0.589218, total=   0.2s\n",
      "[Parallel(n_jobs=1)]: Done 432 out of 432 | elapsed:  3.5min remaining:    0.0s\n",
      "[CV] max_depth=30, max_features=500, min_samples_leaf=2 ..............\n",
      "[CV]  max_depth=30, max_features=500, min_samples_leaf=2, score=0.590524, total=   0.2s\n",
      "[Parallel(n_jobs=1)]: Done 433 out of 433 | elapsed:  3.5min remaining:    0.0s\n",
      "[CV] max_depth=30, max_features=500, min_samples_leaf=2 ..............\n",
      "[CV]  max_depth=30, max_features=500, min_samples_leaf=2, score=0.588671, total=   0.2s\n",
      "[Parallel(n_jobs=1)]: Done 434 out of 434 | elapsed:  3.5min remaining:    0.0s\n",
      "[CV] max_depth=30, max_features=500, min_samples_leaf=2 ..............\n",
      "[CV]  max_depth=30, max_features=500, min_samples_leaf=2, score=0.585237, total=   0.2s\n",
      "[Parallel(n_jobs=1)]: Done 435 out of 435 | elapsed:  3.5min remaining:    0.0s\n",
      "[CV] max_depth=30, max_features=500, min_samples_leaf=5 ..............\n",
      "[CV]  max_depth=30, max_features=500, min_samples_leaf=5, score=0.580157, total=   0.1s\n",
      "[Parallel(n_jobs=1)]: Done 436 out of 436 | elapsed:  3.5min remaining:    0.0s\n",
      "[CV] max_depth=30, max_features=500, min_samples_leaf=5 ..............\n",
      "[CV]  max_depth=30, max_features=500, min_samples_leaf=5, score=0.572484, total=   0.2s\n",
      "[Parallel(n_jobs=1)]: Done 437 out of 437 | elapsed:  3.5min remaining:    0.0s\n",
      "[CV] max_depth=30, max_features=500, min_samples_leaf=5 ..............\n",
      "[CV]  max_depth=30, max_features=500, min_samples_leaf=5, score=0.574189, total=   0.1s\n",
      "[Parallel(n_jobs=1)]: Done 438 out of 438 | elapsed:  3.5min remaining:    0.0s\n",
      "[CV] max_depth=30, max_features=500, min_samples_leaf=5 ..............\n",
      "[CV]  max_depth=30, max_features=500, min_samples_leaf=5, score=0.600890, total=   0.1s\n",
      "[Parallel(n_jobs=1)]: Done 439 out of 439 | elapsed:  3.5min remaining:    0.0s\n",
      "[CV] max_depth=30, max_features=500, min_samples_leaf=5 ..............\n",
      "[CV]  max_depth=30, max_features=500, min_samples_leaf=5, score=0.594959, total=   0.1s\n",
      "[Parallel(n_jobs=1)]: Done 440 out of 440 | elapsed:  3.5min remaining:    0.0s\n",
      "[CV] max_depth=30, max_features=500, min_samples_leaf=10 .............\n",
      "[CV]  max_depth=30, max_features=500, min_samples_leaf=10, score=0.586451, total=   0.1s\n",
      "[Parallel(n_jobs=1)]: Done 441 out of 441 | elapsed:  3.5min remaining:    0.0s\n",
      "[CV] max_depth=30, max_features=500, min_samples_leaf=10 .............\n",
      "[CV]  max_depth=30, max_features=500, min_samples_leaf=10, score=0.556838, total=   0.1s\n",
      "[Parallel(n_jobs=1)]: Done 442 out of 442 | elapsed:  3.5min remaining:    0.0s\n",
      "[CV] max_depth=30, max_features=500, min_samples_leaf=10 .............\n",
      "[CV]  max_depth=30, max_features=500, min_samples_leaf=10, score=0.565504, total=   0.1s\n",
      "[Parallel(n_jobs=1)]: Done 443 out of 443 | elapsed:  3.5min remaining:    0.0s\n",
      "[CV] max_depth=30, max_features=500, min_samples_leaf=10 .............\n",
      "[CV]  max_depth=30, max_features=500, min_samples_leaf=10, score=0.583432, total=   0.1s\n",
      "[Parallel(n_jobs=1)]: Done 444 out of 444 | elapsed:  3.5min remaining:    0.0s\n",
      "[CV] max_depth=30, max_features=500, min_samples_leaf=10 .............\n",
      "[CV]  max_depth=30, max_features=500, min_samples_leaf=10, score=0.563547, total=   0.1s\n",
      "[Parallel(n_jobs=1)]: Done 445 out of 445 | elapsed:  3.5min remaining:    0.0s\n",
      "[CV] max_depth=30, max_features=500, min_samples_leaf=20 .............\n",
      "[CV]  max_depth=30, max_features=500, min_samples_leaf=20, score=0.563528, total=   0.0s\n",
      "[Parallel(n_jobs=1)]: Done 446 out of 446 | elapsed:  3.5min remaining:    0.0s\n",
      "[CV] max_depth=30, max_features=500, min_samples_leaf=20 .............\n",
      "[CV]  max_depth=30, max_features=500, min_samples_leaf=20, score=0.573515, total=   0.1s\n",
      "[Parallel(n_jobs=1)]: Done 447 out of 447 | elapsed:  3.5min remaining:    0.0s\n",
      "[CV] max_depth=30, max_features=500, min_samples_leaf=20 .............\n",
      "[CV]  max_depth=30, max_features=500, min_samples_leaf=20, score=0.564475, total=   0.0s\n",
      "[Parallel(n_jobs=1)]: Done 448 out of 448 | elapsed:  3.6min remaining:    0.0s\n",
      "[CV] max_depth=30, max_features=500, min_samples_leaf=20 .............\n"
     ]
    },
    {
     "name": "stderr",
     "output_type": "stream",
     "text": [
      "C:\\Users\\maxim\\Anaconda3\\lib\\site-packages\\sklearn\\metrics\\classification.py:1113: UndefinedMetricWarning: F-score is ill-defined and being set to 0.0 in labels with no predicted samples.\n",
      "  'precision', 'predicted', average, warn_for)\n"
     ]
    },
    {
     "name": "stdout",
     "output_type": "stream",
     "text": [
      "[CV]  max_depth=30, max_features=500, min_samples_leaf=20, score=0.563528, total=   0.1s\n",
      "[Parallel(n_jobs=1)]: Done 449 out of 449 | elapsed:  3.6min remaining:    0.0s\n",
      "[CV] max_depth=30, max_features=500, min_samples_leaf=20 .............\n",
      "[CV]  max_depth=30, max_features=500, min_samples_leaf=20, score=0.565450, total=   0.0s\n",
      "[Parallel(n_jobs=1)]: Done 450 out of 450 | elapsed:  3.6min remaining:    0.0s\n",
      "[CV] max_depth=30, max_features=1000, min_samples_leaf=1 .............\n"
     ]
    },
    {
     "name": "stderr",
     "output_type": "stream",
     "text": [
      "C:\\Users\\maxim\\Anaconda3\\lib\\site-packages\\sklearn\\metrics\\classification.py:1113: UndefinedMetricWarning: F-score is ill-defined and being set to 0.0 in labels with no predicted samples.\n",
      "  'precision', 'predicted', average, warn_for)\n"
     ]
    },
    {
     "name": "stdout",
     "output_type": "stream",
     "text": [
      "[CV]  max_depth=30, max_features=1000, min_samples_leaf=1, score=0.595703, total=   0.3s\n",
      "[Parallel(n_jobs=1)]: Done 451 out of 451 | elapsed:  3.6min remaining:    0.0s\n",
      "[CV] max_depth=30, max_features=1000, min_samples_leaf=1 .............\n",
      "[CV]  max_depth=30, max_features=1000, min_samples_leaf=1, score=0.579988, total=   0.4s\n",
      "[Parallel(n_jobs=1)]: Done 452 out of 452 | elapsed:  3.6min remaining:    0.0s\n",
      "[CV] max_depth=30, max_features=1000, min_samples_leaf=1 .............\n",
      "[CV]  max_depth=30, max_features=1000, min_samples_leaf=1, score=0.596596, total=   0.3s\n",
      "[Parallel(n_jobs=1)]: Done 453 out of 453 | elapsed:  3.6min remaining:    0.0s\n",
      "[CV] max_depth=30, max_features=1000, min_samples_leaf=1 .............\n",
      "[CV]  max_depth=30, max_features=1000, min_samples_leaf=1, score=0.596946, total=   0.3s\n",
      "[Parallel(n_jobs=1)]: Done 454 out of 454 | elapsed:  3.6min remaining:    0.0s\n",
      "[CV] max_depth=30, max_features=1000, min_samples_leaf=1 .............\n",
      "[CV]  max_depth=30, max_features=1000, min_samples_leaf=1, score=0.599228, total=   0.3s\n",
      "[Parallel(n_jobs=1)]: Done 455 out of 455 | elapsed:  3.6min remaining:    0.0s\n",
      "[CV] max_depth=30, max_features=1000, min_samples_leaf=2 .............\n",
      "[CV]  max_depth=30, max_features=1000, min_samples_leaf=2, score=0.579775, total=   0.3s\n",
      "[Parallel(n_jobs=1)]: Done 456 out of 456 | elapsed:  3.6min remaining:    0.0s\n",
      "[CV] max_depth=30, max_features=1000, min_samples_leaf=2 .............\n",
      "[CV]  max_depth=30, max_features=1000, min_samples_leaf=2, score=0.590386, total=   0.3s\n",
      "[Parallel(n_jobs=1)]: Done 457 out of 457 | elapsed:  3.6min remaining:    0.0s\n",
      "[CV] max_depth=30, max_features=1000, min_samples_leaf=2 .............\n",
      "[CV]  max_depth=30, max_features=1000, min_samples_leaf=2, score=0.589962, total=   0.3s\n",
      "[Parallel(n_jobs=1)]: Done 458 out of 458 | elapsed:  3.6min remaining:    0.0s\n",
      "[CV] max_depth=30, max_features=1000, min_samples_leaf=2 .............\n",
      "[CV]  max_depth=30, max_features=1000, min_samples_leaf=2, score=0.595056, total=   0.4s\n",
      "[Parallel(n_jobs=1)]: Done 459 out of 459 | elapsed:  3.6min remaining:    0.0s\n",
      "[CV] max_depth=30, max_features=1000, min_samples_leaf=2 .............\n",
      "[CV]  max_depth=30, max_features=1000, min_samples_leaf=2, score=0.589090, total=   0.5s\n",
      "[Parallel(n_jobs=1)]: Done 460 out of 460 | elapsed:  3.6min remaining:    0.0s\n",
      "[CV] max_depth=30, max_features=1000, min_samples_leaf=5 .............\n",
      "[CV]  max_depth=30, max_features=1000, min_samples_leaf=5, score=0.582366, total=   0.5s\n",
      "[Parallel(n_jobs=1)]: Done 461 out of 461 | elapsed:  3.6min remaining:    0.0s\n",
      "[CV] max_depth=30, max_features=1000, min_samples_leaf=5 .............\n",
      "[CV]  max_depth=30, max_features=1000, min_samples_leaf=5, score=0.574649, total=   0.5s\n",
      "[Parallel(n_jobs=1)]: Done 462 out of 462 | elapsed:  3.7min remaining:    0.0s\n",
      "[CV] max_depth=30, max_features=1000, min_samples_leaf=5 .............\n",
      "[CV]  max_depth=30, max_features=1000, min_samples_leaf=5, score=0.575308, total=   0.4s\n",
      "[Parallel(n_jobs=1)]: Done 463 out of 463 | elapsed:  3.7min remaining:    0.0s\n",
      "[CV] max_depth=30, max_features=1000, min_samples_leaf=5 .............\n",
      "[CV]  max_depth=30, max_features=1000, min_samples_leaf=5, score=0.596946, total=   0.5s\n",
      "[Parallel(n_jobs=1)]: Done 464 out of 464 | elapsed:  3.7min remaining:    0.0s\n",
      "[CV] max_depth=30, max_features=1000, min_samples_leaf=5 .............\n",
      "[CV]  max_depth=30, max_features=1000, min_samples_leaf=5, score=0.601678, total=   0.4s\n",
      "[Parallel(n_jobs=1)]: Done 465 out of 465 | elapsed:  3.7min remaining:    0.0s\n",
      "[CV] max_depth=30, max_features=1000, min_samples_leaf=10 ............\n",
      "[CV]  max_depth=30, max_features=1000, min_samples_leaf=10, score=0.590524, total=   0.3s\n",
      "[Parallel(n_jobs=1)]: Done 466 out of 466 | elapsed:  3.7min remaining:    0.0s\n",
      "[CV] max_depth=30, max_features=1000, min_samples_leaf=10 ............\n",
      "[CV]  max_depth=30, max_features=1000, min_samples_leaf=10, score=0.588263, total=   0.3s\n",
      "[Parallel(n_jobs=1)]: Done 467 out of 467 | elapsed:  3.7min remaining:    0.0s\n",
      "[CV] max_depth=30, max_features=1000, min_samples_leaf=10 ............\n",
      "[CV]  max_depth=30, max_features=1000, min_samples_leaf=10, score=0.579262, total=   0.3s\n",
      "[Parallel(n_jobs=1)]: Done 468 out of 468 | elapsed:  3.7min remaining:    0.0s\n",
      "[CV] max_depth=30, max_features=1000, min_samples_leaf=10 ............\n",
      "[CV]  max_depth=30, max_features=1000, min_samples_leaf=10, score=0.618018, total=   0.3s\n",
      "[Parallel(n_jobs=1)]: Done 469 out of 469 | elapsed:  3.7min remaining:    0.0s\n",
      "[CV] max_depth=30, max_features=1000, min_samples_leaf=10 ............\n",
      "[CV]  max_depth=30, max_features=1000, min_samples_leaf=10, score=0.570779, total=   0.3s\n",
      "[Parallel(n_jobs=1)]: Done 470 out of 470 | elapsed:  3.7min remaining:    0.0s\n",
      "[CV] max_depth=30, max_features=1000, min_samples_leaf=20 ............\n",
      "[CV]  max_depth=30, max_features=1000, min_samples_leaf=20, score=0.576946, total=   0.2s\n",
      "[Parallel(n_jobs=1)]: Done 471 out of 471 | elapsed:  3.7min remaining:    0.0s\n",
      "[CV] max_depth=30, max_features=1000, min_samples_leaf=20 ............\n",
      "[CV]  max_depth=30, max_features=1000, min_samples_leaf=20, score=0.569018, total=   0.3s\n",
      "[Parallel(n_jobs=1)]: Done 472 out of 472 | elapsed:  3.7min remaining:    0.0s\n",
      "[CV] max_depth=30, max_features=1000, min_samples_leaf=20 ............\n",
      "[CV]  max_depth=30, max_features=1000, min_samples_leaf=20, score=0.563528, total=   0.2s\n",
      "[Parallel(n_jobs=1)]: Done 473 out of 473 | elapsed:  3.7min remaining:    0.0s\n",
      "[CV] max_depth=30, max_features=1000, min_samples_leaf=20 ............\n",
      "[CV]  max_depth=30, max_features=1000, min_samples_leaf=20, score=0.575925, total=   0.2s\n",
      "[Parallel(n_jobs=1)]: Done 474 out of 474 | elapsed:  3.7min remaining:    0.0s\n",
      "[CV] max_depth=30, max_features=1000, min_samples_leaf=20 ............\n",
      "[CV]  max_depth=30, max_features=1000, min_samples_leaf=20, score=0.563547, total=   0.1s\n",
      "[Parallel(n_jobs=1)]: Done 475 out of 475 | elapsed:  3.7min remaining:    0.0s\n",
      "[CV] max_depth=30, max_features=None, min_samples_leaf=1 .............\n",
      "[CV]  max_depth=30, max_features=None, min_samples_leaf=1, score=0.596935, total=   1.0s\n",
      "[Parallel(n_jobs=1)]: Done 476 out of 476 | elapsed:  3.8min remaining:    0.0s\n",
      "[CV] max_depth=30, max_features=None, min_samples_leaf=1 .............\n",
      "[CV]  max_depth=30, max_features=None, min_samples_leaf=1, score=0.600348, total=   0.9s\n",
      "[Parallel(n_jobs=1)]: Done 477 out of 477 | elapsed:  3.8min remaining:    0.0s\n",
      "[CV] max_depth=30, max_features=None, min_samples_leaf=1 .............\n",
      "[CV]  max_depth=30, max_features=None, min_samples_leaf=1, score=0.586019, total=   0.9s\n",
      "[Parallel(n_jobs=1)]: Done 478 out of 478 | elapsed:  3.8min remaining:    0.0s\n",
      "[CV] max_depth=30, max_features=None, min_samples_leaf=1 .............\n",
      "[CV]  max_depth=30, max_features=None, min_samples_leaf=1, score=0.621216, total=   0.8s\n",
      "[Parallel(n_jobs=1)]: Done 479 out of 479 | elapsed:  3.8min remaining:    0.0s\n",
      "[CV] max_depth=30, max_features=None, min_samples_leaf=1 .............\n",
      "[CV]  max_depth=30, max_features=None, min_samples_leaf=1, score=0.595292, total=   0.9s\n",
      "[Parallel(n_jobs=1)]: Done 480 out of 480 | elapsed:  3.8min remaining:    0.0s\n",
      "[CV] max_depth=30, max_features=None, min_samples_leaf=2 .............\n",
      "[CV]  max_depth=30, max_features=None, min_samples_leaf=2, score=0.593889, total=   0.8s\n",
      "[Parallel(n_jobs=1)]: Done 481 out of 481 | elapsed:  3.8min remaining:    0.0s\n",
      "[CV] max_depth=30, max_features=None, min_samples_leaf=2 .............\n",
      "[CV]  max_depth=30, max_features=None, min_samples_leaf=2, score=0.577608, total=   0.8s\n",
      "[Parallel(n_jobs=1)]: Done 482 out of 482 | elapsed:  3.9min remaining:    0.0s\n",
      "[CV] max_depth=30, max_features=None, min_samples_leaf=2 .............\n",
      "[CV]  max_depth=30, max_features=None, min_samples_leaf=2, score=0.609256, total=   0.8s\n",
      "[Parallel(n_jobs=1)]: Done 483 out of 483 | elapsed:  3.9min remaining:    0.0s\n",
      "[CV] max_depth=30, max_features=None, min_samples_leaf=2 .............\n",
      "[CV]  max_depth=30, max_features=None, min_samples_leaf=2, score=0.594512, total=   0.8s\n",
      "[Parallel(n_jobs=1)]: Done 484 out of 484 | elapsed:  3.9min remaining:    0.0s\n",
      "[CV] max_depth=30, max_features=None, min_samples_leaf=2 .............\n",
      "[CV]  max_depth=30, max_features=None, min_samples_leaf=2, score=0.614766, total=   0.8s\n",
      "[Parallel(n_jobs=1)]: Done 485 out of 485 | elapsed:  3.9min remaining:    0.0s\n",
      "[CV] max_depth=30, max_features=None, min_samples_leaf=5 .............\n"
     ]
    },
    {
     "name": "stdout",
     "output_type": "stream",
     "text": [
      "[CV]  max_depth=30, max_features=None, min_samples_leaf=5, score=0.604127, total=   0.9s\n",
      "[Parallel(n_jobs=1)]: Done 486 out of 486 | elapsed:  3.9min remaining:    0.0s\n",
      "[CV] max_depth=30, max_features=None, min_samples_leaf=5 .............\n",
      "[CV]  max_depth=30, max_features=None, min_samples_leaf=5, score=0.602867, total=   0.7s\n",
      "[Parallel(n_jobs=1)]: Done 487 out of 487 | elapsed:  3.9min remaining:    0.0s\n",
      "[CV] max_depth=30, max_features=None, min_samples_leaf=5 .............\n",
      "[CV]  max_depth=30, max_features=None, min_samples_leaf=5, score=0.590775, total=   0.8s\n",
      "[Parallel(n_jobs=1)]: Done 488 out of 488 | elapsed:  4.0min remaining:    0.0s\n",
      "[CV] max_depth=30, max_features=None, min_samples_leaf=5 .............\n",
      "[CV]  max_depth=30, max_features=None, min_samples_leaf=5, score=0.606790, total=   0.7s\n",
      "[Parallel(n_jobs=1)]: Done 489 out of 489 | elapsed:  4.0min remaining:    0.0s\n",
      "[CV] max_depth=30, max_features=None, min_samples_leaf=5 .............\n",
      "[CV]  max_depth=30, max_features=None, min_samples_leaf=5, score=0.583407, total=   0.8s\n",
      "[Parallel(n_jobs=1)]: Done 490 out of 490 | elapsed:  4.0min remaining:    0.0s\n",
      "[CV] max_depth=30, max_features=None, min_samples_leaf=10 ............\n",
      "[CV]  max_depth=30, max_features=None, min_samples_leaf=10, score=0.629596, total=   0.7s\n",
      "[Parallel(n_jobs=1)]: Done 491 out of 491 | elapsed:  4.0min remaining:    0.0s\n",
      "[CV] max_depth=30, max_features=None, min_samples_leaf=10 ............\n",
      "[CV]  max_depth=30, max_features=None, min_samples_leaf=10, score=0.582366, total=   0.6s\n",
      "[Parallel(n_jobs=1)]: Done 492 out of 492 | elapsed:  4.0min remaining:    0.0s\n",
      "[CV] max_depth=30, max_features=None, min_samples_leaf=10 ............\n",
      "[CV]  max_depth=30, max_features=None, min_samples_leaf=10, score=0.582200, total=   0.6s\n",
      "[Parallel(n_jobs=1)]: Done 493 out of 493 | elapsed:  4.0min remaining:    0.0s\n",
      "[CV] max_depth=30, max_features=None, min_samples_leaf=10 ............\n",
      "[CV]  max_depth=30, max_features=None, min_samples_leaf=10, score=0.596946, total=   0.6s\n",
      "[Parallel(n_jobs=1)]: Done 494 out of 494 | elapsed:  4.0min remaining:    0.0s\n",
      "[CV] max_depth=30, max_features=None, min_samples_leaf=10 ............\n",
      "[CV]  max_depth=30, max_features=None, min_samples_leaf=10, score=0.586579, total=   0.6s\n",
      "[Parallel(n_jobs=1)]: Done 495 out of 495 | elapsed:  4.0min remaining:    0.0s\n",
      "[CV] max_depth=30, max_features=None, min_samples_leaf=20 ............\n",
      "[CV]  max_depth=30, max_features=None, min_samples_leaf=20, score=0.586881, total=   0.5s\n",
      "[Parallel(n_jobs=1)]: Done 496 out of 496 | elapsed:  4.1min remaining:    0.0s\n",
      "[CV] max_depth=30, max_features=None, min_samples_leaf=20 ............\n",
      "[CV]  max_depth=30, max_features=None, min_samples_leaf=20, score=0.595707, total=   0.7s\n",
      "[Parallel(n_jobs=1)]: Done 497 out of 497 | elapsed:  4.1min remaining:    0.0s\n",
      "[CV] max_depth=30, max_features=None, min_samples_leaf=20 ............\n",
      "[CV]  max_depth=30, max_features=None, min_samples_leaf=20, score=0.578192, total=   0.8s\n",
      "[Parallel(n_jobs=1)]: Done 498 out of 498 | elapsed:  4.1min remaining:    0.0s\n",
      "[CV] max_depth=30, max_features=None, min_samples_leaf=20 ............\n",
      "[CV]  max_depth=30, max_features=None, min_samples_leaf=20, score=0.580332, total=   0.7s\n",
      "[Parallel(n_jobs=1)]: Done 499 out of 499 | elapsed:  4.1min remaining:    0.0s\n",
      "[CV] max_depth=30, max_features=None, min_samples_leaf=20 ............\n",
      "[CV]  max_depth=30, max_features=None, min_samples_leaf=20, score=0.575981, total=   0.7s\n",
      "[Parallel(n_jobs=1)]: Done 500 out of 500 | elapsed:  4.1min remaining:    0.0s\n",
      "[CV] max_depth=20, max_features=auto, min_samples_leaf=1 .............\n",
      "[CV]  max_depth=20, max_features=auto, min_samples_leaf=1, score=0.570523, total=   0.0s\n",
      "[Parallel(n_jobs=1)]: Done 501 out of 501 | elapsed:  4.1min remaining:    0.0s\n",
      "[CV] max_depth=20, max_features=auto, min_samples_leaf=1 .............\n",
      "[CV]  max_depth=20, max_features=auto, min_samples_leaf=1, score=0.568047, total=   0.1s\n",
      "[Parallel(n_jobs=1)]: Done 502 out of 502 | elapsed:  4.1min remaining:    0.0s\n",
      "[CV] max_depth=20, max_features=auto, min_samples_leaf=1 .............\n",
      "[CV]  max_depth=20, max_features=auto, min_samples_leaf=1, score=0.567074, total=   0.0s\n",
      "[Parallel(n_jobs=1)]: Done 503 out of 503 | elapsed:  4.1min remaining:    0.0s\n",
      "[CV] max_depth=20, max_features=auto, min_samples_leaf=1 .............\n",
      "[CV]  max_depth=20, max_features=auto, min_samples_leaf=1, score=0.575925, total=   0.1s\n",
      "[Parallel(n_jobs=1)]: Done 504 out of 504 | elapsed:  4.1min remaining:    0.0s\n",
      "[CV] max_depth=20, max_features=auto, min_samples_leaf=1 .............\n",
      "[CV]  max_depth=20, max_features=auto, min_samples_leaf=1, score=0.573527, total=   0.0s\n",
      "[Parallel(n_jobs=1)]: Done 505 out of 505 | elapsed:  4.1min remaining:    0.0s\n",
      "[CV] max_depth=20, max_features=auto, min_samples_leaf=2 .............\n"
     ]
    },
    {
     "name": "stderr",
     "output_type": "stream",
     "text": [
      "C:\\Users\\maxim\\Anaconda3\\lib\\site-packages\\sklearn\\metrics\\classification.py:1113: UndefinedMetricWarning: F-score is ill-defined and being set to 0.0 in labels with no predicted samples.\n",
      "  'precision', 'predicted', average, warn_for)\n"
     ]
    },
    {
     "name": "stdout",
     "output_type": "stream",
     "text": [
      "[CV]  max_depth=20, max_features=auto, min_samples_leaf=2, score=0.564475, total=   0.1s\n",
      "[Parallel(n_jobs=1)]: Done 506 out of 506 | elapsed:  4.1min remaining:    0.0s\n",
      "[CV] max_depth=20, max_features=auto, min_samples_leaf=2 .............\n",
      "[CV]  max_depth=20, max_features=auto, min_samples_leaf=2, score=0.563528, total=   0.0s\n",
      "[Parallel(n_jobs=1)]: Done 507 out of 507 | elapsed:  4.1min remaining:    0.0s\n",
      "[CV] max_depth=20, max_features=auto, min_samples_leaf=2 .............\n",
      "[CV]  max_depth=20, max_features=auto, min_samples_leaf=2, score=0.582370, total=   0.1s\n",
      "[Parallel(n_jobs=1)]: Done 508 out of 508 | elapsed:  4.1min remaining:    0.0s\n",
      "[CV] max_depth=20, max_features=auto, min_samples_leaf=2 .............\n",
      "[CV]  max_depth=20, max_features=auto, min_samples_leaf=2, score=0.567074, total=   0.1s\n",
      "[Parallel(n_jobs=1)]: Done 509 out of 509 | elapsed:  4.1min remaining:    0.0s\n",
      "[CV] max_depth=20, max_features=auto, min_samples_leaf=2 .............\n",
      "[CV]  max_depth=20, max_features=auto, min_samples_leaf=2, score=0.569036, total=   0.1s\n",
      "[Parallel(n_jobs=1)]: Done 510 out of 510 | elapsed:  4.1min remaining:    0.0s\n",
      "[CV] max_depth=20, max_features=auto, min_samples_leaf=5 .............\n",
      "[CV]  max_depth=20, max_features=auto, min_samples_leaf=5, score=0.577965, total=   0.0s\n",
      "[Parallel(n_jobs=1)]: Done 511 out of 511 | elapsed:  4.1min remaining:    0.0s\n",
      "[CV] max_depth=20, max_features=auto, min_samples_leaf=5 .............\n",
      "[CV]  max_depth=20, max_features=auto, min_samples_leaf=5, score=0.564142, total=   0.1s\n",
      "[Parallel(n_jobs=1)]: Done 512 out of 512 | elapsed:  4.1min remaining:    0.0s\n",
      "[CV] max_depth=20, max_features=auto, min_samples_leaf=5 .............\n",
      "[CV]  max_depth=20, max_features=auto, min_samples_leaf=5, score=0.571522, total=   0.0s\n",
      "[Parallel(n_jobs=1)]: Done 513 out of 513 | elapsed:  4.1min remaining:    0.0s\n",
      "[CV] max_depth=20, max_features=auto, min_samples_leaf=5 .............\n",
      "[CV]  max_depth=20, max_features=auto, min_samples_leaf=5, score=0.564475, total=   0.0s\n",
      "[Parallel(n_jobs=1)]: Done 514 out of 514 | elapsed:  4.1min remaining:    0.0s\n",
      "[CV] max_depth=20, max_features=auto, min_samples_leaf=5 .............\n"
     ]
    },
    {
     "name": "stderr",
     "output_type": "stream",
     "text": [
      "C:\\Users\\maxim\\Anaconda3\\lib\\site-packages\\sklearn\\metrics\\classification.py:1113: UndefinedMetricWarning: F-score is ill-defined and being set to 0.0 in labels with no predicted samples.\n",
      "  'precision', 'predicted', average, warn_for)\n",
      "C:\\Users\\maxim\\Anaconda3\\lib\\site-packages\\sklearn\\metrics\\classification.py:1113: UndefinedMetricWarning: F-score is ill-defined and being set to 0.0 in labels with no predicted samples.\n",
      "  'precision', 'predicted', average, warn_for)\n",
      "C:\\Users\\maxim\\Anaconda3\\lib\\site-packages\\sklearn\\metrics\\classification.py:1113: UndefinedMetricWarning: F-score is ill-defined and being set to 0.0 in labels with no predicted samples.\n",
      "  'precision', 'predicted', average, warn_for)\n"
     ]
    },
    {
     "name": "stdout",
     "output_type": "stream",
     "text": [
      "[CV]  max_depth=20, max_features=auto, min_samples_leaf=5, score=0.565450, total=   0.0s\n",
      "[Parallel(n_jobs=1)]: Done 515 out of 515 | elapsed:  4.2min remaining:    0.0s\n",
      "[CV] max_depth=20, max_features=auto, min_samples_leaf=10 ............\n",
      "[CV]  max_depth=20, max_features=auto, min_samples_leaf=10, score=0.564475, total=   0.0s\n",
      "[Parallel(n_jobs=1)]: Done 516 out of 516 | elapsed:  4.2min remaining:    0.0s\n",
      "[CV] max_depth=20, max_features=auto, min_samples_leaf=10 ............\n",
      "[CV]  max_depth=20, max_features=auto, min_samples_leaf=10, score=0.564475, total=   0.0s\n",
      "[Parallel(n_jobs=1)]: Done 517 out of 517 | elapsed:  4.2min remaining:    0.0s\n",
      "[CV] max_depth=20, max_features=auto, min_samples_leaf=10 ............\n"
     ]
    },
    {
     "name": "stderr",
     "output_type": "stream",
     "text": [
      "C:\\Users\\maxim\\Anaconda3\\lib\\site-packages\\sklearn\\metrics\\classification.py:1113: UndefinedMetricWarning: F-score is ill-defined and being set to 0.0 in labels with no predicted samples.\n",
      "  'precision', 'predicted', average, warn_for)\n",
      "C:\\Users\\maxim\\Anaconda3\\lib\\site-packages\\sklearn\\metrics\\classification.py:1113: UndefinedMetricWarning: F-score is ill-defined and being set to 0.0 in labels with no predicted samples.\n",
      "  'precision', 'predicted', average, warn_for)\n",
      "C:\\Users\\maxim\\Anaconda3\\lib\\site-packages\\sklearn\\metrics\\classification.py:1113: UndefinedMetricWarning: F-score is ill-defined and being set to 0.0 in labels with no predicted samples.\n",
      "  'precision', 'predicted', average, warn_for)\n"
     ]
    },
    {
     "name": "stdout",
     "output_type": "stream",
     "text": [
      "[CV]  max_depth=20, max_features=auto, min_samples_leaf=10, score=0.564475, total=   0.0s\n",
      "[Parallel(n_jobs=1)]: Done 518 out of 518 | elapsed:  4.2min remaining:    0.0s\n",
      "[CV] max_depth=20, max_features=auto, min_samples_leaf=10 ............\n",
      "[CV]  max_depth=20, max_features=auto, min_samples_leaf=10, score=0.564475, total=   0.0s\n",
      "[Parallel(n_jobs=1)]: Done 519 out of 519 | elapsed:  4.2min remaining:    0.0s\n",
      "[CV] max_depth=20, max_features=auto, min_samples_leaf=10 ............\n",
      "[CV]  max_depth=20, max_features=auto, min_samples_leaf=10, score=0.565450, total=   0.0s\n",
      "[Parallel(n_jobs=1)]: Done 520 out of 520 | elapsed:  4.2min remaining:    0.0s\n",
      "[CV] max_depth=20, max_features=auto, min_samples_leaf=20 ............\n"
     ]
    },
    {
     "name": "stderr",
     "output_type": "stream",
     "text": [
      "C:\\Users\\maxim\\Anaconda3\\lib\\site-packages\\sklearn\\metrics\\classification.py:1113: UndefinedMetricWarning: F-score is ill-defined and being set to 0.0 in labels with no predicted samples.\n",
      "  'precision', 'predicted', average, warn_for)\n",
      "C:\\Users\\maxim\\Anaconda3\\lib\\site-packages\\sklearn\\metrics\\classification.py:1113: UndefinedMetricWarning: F-score is ill-defined and being set to 0.0 in labels with no predicted samples.\n",
      "  'precision', 'predicted', average, warn_for)\n",
      "C:\\Users\\maxim\\Anaconda3\\lib\\site-packages\\sklearn\\metrics\\classification.py:1113: UndefinedMetricWarning: F-score is ill-defined and being set to 0.0 in labels with no predicted samples.\n",
      "  'precision', 'predicted', average, warn_for)\n",
      "C:\\Users\\maxim\\Anaconda3\\lib\\site-packages\\sklearn\\metrics\\classification.py:1113: UndefinedMetricWarning: F-score is ill-defined and being set to 0.0 in labels with no predicted samples.\n",
      "  'precision', 'predicted', average, warn_for)\n"
     ]
    },
    {
     "name": "stdout",
     "output_type": "stream",
     "text": [
      "[CV]  max_depth=20, max_features=auto, min_samples_leaf=20, score=0.564475, total=   0.0s\n",
      "[Parallel(n_jobs=1)]: Done 521 out of 521 | elapsed:  4.2min remaining:    0.0s\n",
      "[CV] max_depth=20, max_features=auto, min_samples_leaf=20 ............\n",
      "[CV]  max_depth=20, max_features=auto, min_samples_leaf=20, score=0.564475, total=   0.0s\n",
      "[Parallel(n_jobs=1)]: Done 522 out of 522 | elapsed:  4.2min remaining:    0.0s\n",
      "[CV] max_depth=20, max_features=auto, min_samples_leaf=20 ............\n",
      "[CV]  max_depth=20, max_features=auto, min_samples_leaf=20, score=0.564475, total=   0.0s\n",
      "[Parallel(n_jobs=1)]: Done 523 out of 523 | elapsed:  4.2min remaining:    0.0s\n",
      "[CV] max_depth=20, max_features=auto, min_samples_leaf=20 ............\n",
      "[CV]  max_depth=20, max_features=auto, min_samples_leaf=20, score=0.564475, total=   0.0s\n",
      "[Parallel(n_jobs=1)]: Done 524 out of 524 | elapsed:  4.2min remaining:    0.0s\n",
      "[CV] max_depth=20, max_features=auto, min_samples_leaf=20 ............\n"
     ]
    },
    {
     "name": "stderr",
     "output_type": "stream",
     "text": [
      "C:\\Users\\maxim\\Anaconda3\\lib\\site-packages\\sklearn\\metrics\\classification.py:1113: UndefinedMetricWarning: F-score is ill-defined and being set to 0.0 in labels with no predicted samples.\n",
      "  'precision', 'predicted', average, warn_for)\n",
      "C:\\Users\\maxim\\Anaconda3\\lib\\site-packages\\sklearn\\metrics\\classification.py:1113: UndefinedMetricWarning: F-score is ill-defined and being set to 0.0 in labels with no predicted samples.\n",
      "  'precision', 'predicted', average, warn_for)\n"
     ]
    },
    {
     "name": "stdout",
     "output_type": "stream",
     "text": [
      "[CV]  max_depth=20, max_features=auto, min_samples_leaf=20, score=0.565450, total=   0.0s\n",
      "[Parallel(n_jobs=1)]: Done 525 out of 525 | elapsed:  4.2min remaining:    0.0s\n",
      "[CV] max_depth=20, max_features=log2, min_samples_leaf=1 .............\n",
      "[CV]  max_depth=20, max_features=log2, min_samples_leaf=1, score=0.563528, total=   0.0s\n",
      "[Parallel(n_jobs=1)]: Done 526 out of 526 | elapsed:  4.2min remaining:    0.0s\n",
      "[CV] max_depth=20, max_features=log2, min_samples_leaf=1 .............\n",
      "[CV]  max_depth=20, max_features=log2, min_samples_leaf=1, score=0.563528, total=   0.0s\n",
      "[Parallel(n_jobs=1)]: Done 527 out of 527 | elapsed:  4.2min remaining:    0.0s\n",
      "[CV] max_depth=20, max_features=log2, min_samples_leaf=1 .............\n",
      "[CV]  max_depth=20, max_features=log2, min_samples_leaf=1, score=0.563528, total=   0.0s\n",
      "[Parallel(n_jobs=1)]: Done 528 out of 528 | elapsed:  4.2min remaining:    0.0s\n",
      "[CV] max_depth=20, max_features=log2, min_samples_leaf=1 .............\n",
      "[CV]  max_depth=20, max_features=log2, min_samples_leaf=1, score=0.563528, total=   0.0s\n",
      "[Parallel(n_jobs=1)]: Done 529 out of 529 | elapsed:  4.2min remaining:    0.0s\n",
      "[CV] max_depth=20, max_features=log2, min_samples_leaf=1 .............\n",
      "[CV]  max_depth=20, max_features=log2, min_samples_leaf=1, score=0.564499, total=   0.0s\n",
      "[Parallel(n_jobs=1)]: Done 530 out of 530 | elapsed:  4.2min remaining:    0.0s\n",
      "[CV] max_depth=20, max_features=log2, min_samples_leaf=2 .............\n",
      "[CV]  max_depth=20, max_features=log2, min_samples_leaf=2, score=0.564475, total=   0.0s\n",
      "[Parallel(n_jobs=1)]: Done 531 out of 531 | elapsed:  4.2min remaining:    0.0s\n",
      "[CV] max_depth=20, max_features=log2, min_samples_leaf=2 .............\n",
      "[CV]  max_depth=20, max_features=log2, min_samples_leaf=2, score=0.564475, total=   0.0s\n",
      "[Parallel(n_jobs=1)]: Done 532 out of 532 | elapsed:  4.2min remaining:    0.0s\n",
      "[CV] max_depth=20, max_features=log2, min_samples_leaf=2 .............\n"
     ]
    },
    {
     "name": "stderr",
     "output_type": "stream",
     "text": [
      "C:\\Users\\maxim\\Anaconda3\\lib\\site-packages\\sklearn\\metrics\\classification.py:1113: UndefinedMetricWarning: F-score is ill-defined and being set to 0.0 in labels with no predicted samples.\n",
      "  'precision', 'predicted', average, warn_for)\n",
      "C:\\Users\\maxim\\Anaconda3\\lib\\site-packages\\sklearn\\metrics\\classification.py:1113: UndefinedMetricWarning: F-score is ill-defined and being set to 0.0 in labels with no predicted samples.\n",
      "  'precision', 'predicted', average, warn_for)\n",
      "C:\\Users\\maxim\\Anaconda3\\lib\\site-packages\\sklearn\\metrics\\classification.py:1113: UndefinedMetricWarning: F-score is ill-defined and being set to 0.0 in labels with no predicted samples.\n",
      "  'precision', 'predicted', average, warn_for)\n"
     ]
    },
    {
     "name": "stdout",
     "output_type": "stream",
     "text": [
      "[CV]  max_depth=20, max_features=log2, min_samples_leaf=2, score=0.564475, total=   0.0s\n",
      "[Parallel(n_jobs=1)]: Done 533 out of 533 | elapsed:  4.2min remaining:    0.0s\n",
      "[CV] max_depth=20, max_features=log2, min_samples_leaf=2 .............\n",
      "[CV]  max_depth=20, max_features=log2, min_samples_leaf=2, score=0.564475, total=   0.0s\n",
      "[Parallel(n_jobs=1)]: Done 534 out of 534 | elapsed:  4.2min remaining:    0.0s\n",
      "[CV] max_depth=20, max_features=log2, min_samples_leaf=2 .............\n",
      "[CV]  max_depth=20, max_features=log2, min_samples_leaf=2, score=0.565450, total=   0.0s\n",
      "[Parallel(n_jobs=1)]: Done 535 out of 535 | elapsed:  4.2min remaining:    0.0s\n",
      "[CV] max_depth=20, max_features=log2, min_samples_leaf=5 .............\n"
     ]
    },
    {
     "name": "stderr",
     "output_type": "stream",
     "text": [
      "C:\\Users\\maxim\\Anaconda3\\lib\\site-packages\\sklearn\\metrics\\classification.py:1113: UndefinedMetricWarning: F-score is ill-defined and being set to 0.0 in labels with no predicted samples.\n",
      "  'precision', 'predicted', average, warn_for)\n",
      "C:\\Users\\maxim\\Anaconda3\\lib\\site-packages\\sklearn\\metrics\\classification.py:1113: UndefinedMetricWarning: F-score is ill-defined and being set to 0.0 in labels with no predicted samples.\n",
      "  'precision', 'predicted', average, warn_for)\n",
      "C:\\Users\\maxim\\Anaconda3\\lib\\site-packages\\sklearn\\metrics\\classification.py:1113: UndefinedMetricWarning: F-score is ill-defined and being set to 0.0 in labels with no predicted samples.\n",
      "  'precision', 'predicted', average, warn_for)\n"
     ]
    },
    {
     "name": "stdout",
     "output_type": "stream",
     "text": [
      "[CV]  max_depth=20, max_features=log2, min_samples_leaf=5, score=0.564475, total=   0.0s\n",
      "[Parallel(n_jobs=1)]: Done 536 out of 536 | elapsed:  4.2min remaining:    0.0s\n",
      "[CV] max_depth=20, max_features=log2, min_samples_leaf=5 .............\n",
      "[CV]  max_depth=20, max_features=log2, min_samples_leaf=5, score=0.564475, total=   0.0s\n",
      "[Parallel(n_jobs=1)]: Done 537 out of 537 | elapsed:  4.2min remaining:    0.0s\n",
      "[CV] max_depth=20, max_features=log2, min_samples_leaf=5 .............\n",
      "[CV]  max_depth=20, max_features=log2, min_samples_leaf=5, score=0.564475, total=   0.0s\n",
      "[Parallel(n_jobs=1)]: Done 538 out of 538 | elapsed:  4.2min remaining:    0.0s\n",
      "[CV] max_depth=20, max_features=log2, min_samples_leaf=5 .............\n",
      "[CV]  max_depth=20, max_features=log2, min_samples_leaf=5, score=0.564475, total=   0.0s"
     ]
    },
    {
     "name": "stderr",
     "output_type": "stream",
     "text": [
      "C:\\Users\\maxim\\Anaconda3\\lib\\site-packages\\sklearn\\metrics\\classification.py:1113: UndefinedMetricWarning: F-score is ill-defined and being set to 0.0 in labels with no predicted samples.\n",
      "  'precision', 'predicted', average, warn_for)\n",
      "C:\\Users\\maxim\\Anaconda3\\lib\\site-packages\\sklearn\\metrics\\classification.py:1113: UndefinedMetricWarning: F-score is ill-defined and being set to 0.0 in labels with no predicted samples.\n",
      "  'precision', 'predicted', average, warn_for)\n",
      "C:\\Users\\maxim\\Anaconda3\\lib\\site-packages\\sklearn\\metrics\\classification.py:1113: UndefinedMetricWarning: F-score is ill-defined and being set to 0.0 in labels with no predicted samples.\n",
      "  'precision', 'predicted', average, warn_for)\n",
      "C:\\Users\\maxim\\Anaconda3\\lib\\site-packages\\sklearn\\metrics\\classification.py:1113: UndefinedMetricWarning: F-score is ill-defined and being set to 0.0 in labels with no predicted samples.\n",
      "  'precision', 'predicted', average, warn_for)\n"
     ]
    },
    {
     "name": "stdout",
     "output_type": "stream",
     "text": [
      "\n",
      "[Parallel(n_jobs=1)]: Done 539 out of 539 | elapsed:  4.2min remaining:    0.0s\n",
      "[CV] max_depth=20, max_features=log2, min_samples_leaf=5 .............\n",
      "[CV]  max_depth=20, max_features=log2, min_samples_leaf=5, score=0.565450, total=   0.0s\n",
      "[Parallel(n_jobs=1)]: Done 540 out of 540 | elapsed:  4.2min remaining:    0.0s\n",
      "[CV] max_depth=20, max_features=log2, min_samples_leaf=10 ............\n",
      "[CV]  max_depth=20, max_features=log2, min_samples_leaf=10, score=0.564475, total=   0.0s\n",
      "[Parallel(n_jobs=1)]: Done 541 out of 541 | elapsed:  4.2min remaining:    0.0s\n",
      "[CV] max_depth=20, max_features=log2, min_samples_leaf=10 ............\n",
      "[CV]  max_depth=20, max_features=log2, min_samples_leaf=10, score=0.564475, total=   0.0s\n",
      "[Parallel(n_jobs=1)]: Done 542 out of 542 | elapsed:  4.2min remaining:    0.0s\n",
      "[CV] max_depth=20, max_features=log2, min_samples_leaf=10 ............\n",
      "[CV]  max_depth=20, max_features=log2, min_samples_leaf=10, score=0.564475, total=   0.0s\n",
      "[Parallel(n_jobs=1)]: Done 543 out of 543 | elapsed:  4.2min remaining:    0.0s\n",
      "[CV] max_depth=20, max_features=log2, min_samples_leaf=10 ............\n"
     ]
    },
    {
     "name": "stderr",
     "output_type": "stream",
     "text": [
      "C:\\Users\\maxim\\Anaconda3\\lib\\site-packages\\sklearn\\metrics\\classification.py:1113: UndefinedMetricWarning: F-score is ill-defined and being set to 0.0 in labels with no predicted samples.\n",
      "  'precision', 'predicted', average, warn_for)\n",
      "C:\\Users\\maxim\\Anaconda3\\lib\\site-packages\\sklearn\\metrics\\classification.py:1113: UndefinedMetricWarning: F-score is ill-defined and being set to 0.0 in labels with no predicted samples.\n",
      "  'precision', 'predicted', average, warn_for)\n",
      "C:\\Users\\maxim\\Anaconda3\\lib\\site-packages\\sklearn\\metrics\\classification.py:1113: UndefinedMetricWarning: F-score is ill-defined and being set to 0.0 in labels with no predicted samples.\n",
      "  'precision', 'predicted', average, warn_for)\n",
      "C:\\Users\\maxim\\Anaconda3\\lib\\site-packages\\sklearn\\metrics\\classification.py:1113: UndefinedMetricWarning: F-score is ill-defined and being set to 0.0 in labels with no predicted samples.\n",
      "  'precision', 'predicted', average, warn_for)\n"
     ]
    },
    {
     "name": "stdout",
     "output_type": "stream",
     "text": [
      "[CV]  max_depth=20, max_features=log2, min_samples_leaf=10, score=0.564475, total=   0.0s\n",
      "[Parallel(n_jobs=1)]: Done 544 out of 544 | elapsed:  4.2min remaining:    0.0s\n",
      "[CV] max_depth=20, max_features=log2, min_samples_leaf=10 ............\n",
      "[CV]  max_depth=20, max_features=log2, min_samples_leaf=10, score=0.565450, total=   0.0s\n",
      "[Parallel(n_jobs=1)]: Done 545 out of 545 | elapsed:  4.2min remaining:    0.0s\n",
      "[CV] max_depth=20, max_features=log2, min_samples_leaf=20 ............\n",
      "[CV]  max_depth=20, max_features=log2, min_samples_leaf=20, score=0.564475, total=   0.0s\n",
      "[Parallel(n_jobs=1)]: Done 546 out of 546 | elapsed:  4.2min remaining:    0.0s\n",
      "[CV] max_depth=20, max_features=log2, min_samples_leaf=20 ............\n",
      "[CV]  max_depth=20, max_features=log2, min_samples_leaf=20, score=0.564475, total=   0.0s\n",
      "[Parallel(n_jobs=1)]: Done 547 out of 547 | elapsed:  4.2min remaining:    0.0s\n",
      "[CV] max_depth=20, max_features=log2, min_samples_leaf=20 ............\n"
     ]
    },
    {
     "name": "stderr",
     "output_type": "stream",
     "text": [
      "C:\\Users\\maxim\\Anaconda3\\lib\\site-packages\\sklearn\\metrics\\classification.py:1113: UndefinedMetricWarning: F-score is ill-defined and being set to 0.0 in labels with no predicted samples.\n",
      "  'precision', 'predicted', average, warn_for)\n",
      "C:\\Users\\maxim\\Anaconda3\\lib\\site-packages\\sklearn\\metrics\\classification.py:1113: UndefinedMetricWarning: F-score is ill-defined and being set to 0.0 in labels with no predicted samples.\n",
      "  'precision', 'predicted', average, warn_for)\n",
      "C:\\Users\\maxim\\Anaconda3\\lib\\site-packages\\sklearn\\metrics\\classification.py:1113: UndefinedMetricWarning: F-score is ill-defined and being set to 0.0 in labels with no predicted samples.\n",
      "  'precision', 'predicted', average, warn_for)\n",
      "C:\\Users\\maxim\\Anaconda3\\lib\\site-packages\\sklearn\\metrics\\classification.py:1113: UndefinedMetricWarning: F-score is ill-defined and being set to 0.0 in labels with no predicted samples.\n",
      "  'precision', 'predicted', average, warn_for)\n",
      "C:\\Users\\maxim\\Anaconda3\\lib\\site-packages\\sklearn\\metrics\\classification.py:1113: UndefinedMetricWarning: F-score is ill-defined and being set to 0.0 in labels with no predicted samples.\n",
      "  'precision', 'predicted', average, warn_for)\n"
     ]
    },
    {
     "name": "stdout",
     "output_type": "stream",
     "text": [
      "[CV]  max_depth=20, max_features=log2, min_samples_leaf=20, score=0.564475, total=   0.0s\n",
      "[Parallel(n_jobs=1)]: Done 548 out of 548 | elapsed:  4.2min remaining:    0.0s\n",
      "[CV] max_depth=20, max_features=log2, min_samples_leaf=20 ............\n",
      "[CV]  max_depth=20, max_features=log2, min_samples_leaf=20, score=0.564475, total=   0.0s\n",
      "[Parallel(n_jobs=1)]: Done 549 out of 549 | elapsed:  4.2min remaining:    0.0s\n",
      "[CV] max_depth=20, max_features=log2, min_samples_leaf=20 ............\n",
      "[CV]  max_depth=20, max_features=log2, min_samples_leaf=20, score=0.565450, total=   0.0s\n",
      "[Parallel(n_jobs=1)]: Done 550 out of 550 | elapsed:  4.2min remaining:    0.0s\n",
      "[CV] max_depth=20, max_features=500, min_samples_leaf=1 ..............\n"
     ]
    },
    {
     "name": "stderr",
     "output_type": "stream",
     "text": [
      "C:\\Users\\maxim\\Anaconda3\\lib\\site-packages\\sklearn\\metrics\\classification.py:1113: UndefinedMetricWarning: F-score is ill-defined and being set to 0.0 in labels with no predicted samples.\n",
      "  'precision', 'predicted', average, warn_for)\n"
     ]
    },
    {
     "name": "stdout",
     "output_type": "stream",
     "text": [
      "[CV]  max_depth=20, max_features=500, min_samples_leaf=1, score=0.590386, total=   0.3s\n",
      "[Parallel(n_jobs=1)]: Done 551 out of 551 | elapsed:  4.2min remaining:    0.0s\n",
      "[CV] max_depth=20, max_features=500, min_samples_leaf=1 ..............\n",
      "[CV]  max_depth=20, max_features=500, min_samples_leaf=1, score=0.568734, total=   0.5s\n",
      "[Parallel(n_jobs=1)]: Done 552 out of 552 | elapsed:  4.2min remaining:    0.0s\n",
      "[CV] max_depth=20, max_features=500, min_samples_leaf=1 ..............\n",
      "[CV]  max_depth=20, max_features=500, min_samples_leaf=1, score=0.588263, total=   0.3s\n",
      "[Parallel(n_jobs=1)]: Done 553 out of 553 | elapsed:  4.2min remaining:    0.0s\n",
      "[CV] max_depth=20, max_features=500, min_samples_leaf=1 ..............\n",
      "[CV]  max_depth=20, max_features=500, min_samples_leaf=1, score=0.576102, total=   0.2s\n",
      "[Parallel(n_jobs=1)]: Done 554 out of 554 | elapsed:  4.2min remaining:    0.0s\n",
      "[CV] max_depth=20, max_features=500, min_samples_leaf=1 ..............\n",
      "[CV]  max_depth=20, max_features=500, min_samples_leaf=1, score=0.584769, total=   0.3s\n",
      "[Parallel(n_jobs=1)]: Done 555 out of 555 | elapsed:  4.2min remaining:    0.0s\n",
      "[CV] max_depth=20, max_features=500, min_samples_leaf=2 ..............\n",
      "[CV]  max_depth=20, max_features=500, min_samples_leaf=2, score=0.568744, total=   0.3s\n",
      "[Parallel(n_jobs=1)]: Done 556 out of 556 | elapsed:  4.2min remaining:    0.0s\n",
      "[CV] max_depth=20, max_features=500, min_samples_leaf=2 ..............\n",
      "[CV]  max_depth=20, max_features=500, min_samples_leaf=2, score=0.570803, total=   0.4s\n",
      "[Parallel(n_jobs=1)]: Done 557 out of 557 | elapsed:  4.2min remaining:    0.0s\n",
      "[CV] max_depth=20, max_features=500, min_samples_leaf=2 ..............\n",
      "[CV]  max_depth=20, max_features=500, min_samples_leaf=2, score=0.566511, total=   0.3s\n",
      "[Parallel(n_jobs=1)]: Done 558 out of 558 | elapsed:  4.3min remaining:    0.0s\n",
      "[CV] max_depth=20, max_features=500, min_samples_leaf=2 ..............\n",
      "[CV]  max_depth=20, max_features=500, min_samples_leaf=2, score=0.606790, total=   0.4s\n",
      "[Parallel(n_jobs=1)]: Done 559 out of 559 | elapsed:  4.3min remaining:    0.0s\n",
      "[CV] max_depth=20, max_features=500, min_samples_leaf=2 ..............\n",
      "[CV]  max_depth=20, max_features=500, min_samples_leaf=2, score=0.588619, total=   0.3s\n",
      "[Parallel(n_jobs=1)]: Done 560 out of 560 | elapsed:  4.3min remaining:    0.0s\n",
      "[CV] max_depth=20, max_features=500, min_samples_leaf=5 ..............\n",
      "[CV]  max_depth=20, max_features=500, min_samples_leaf=5, score=0.577120, total=   0.2s\n",
      "[Parallel(n_jobs=1)]: Done 561 out of 561 | elapsed:  4.3min remaining:    0.0s\n",
      "[CV] max_depth=20, max_features=500, min_samples_leaf=5 ..............\n",
      "[CV]  max_depth=20, max_features=500, min_samples_leaf=5, score=0.573583, total=   0.3s\n",
      "[Parallel(n_jobs=1)]: Done 562 out of 562 | elapsed:  4.3min remaining:    0.0s\n",
      "[CV] max_depth=20, max_features=500, min_samples_leaf=5 ..............\n",
      "[CV]  max_depth=20, max_features=500, min_samples_leaf=5, score=0.565556, total=   0.2s\n",
      "[Parallel(n_jobs=1)]: Done 563 out of 563 | elapsed:  4.3min remaining:    0.0s\n",
      "[CV] max_depth=20, max_features=500, min_samples_leaf=5 ..............\n",
      "[CV]  max_depth=20, max_features=500, min_samples_leaf=5, score=0.575925, total=   0.2s\n",
      "[Parallel(n_jobs=1)]: Done 564 out of 564 | elapsed:  4.3min remaining:    0.0s\n",
      "[CV] max_depth=20, max_features=500, min_samples_leaf=5 ..............\n",
      "[CV]  max_depth=20, max_features=500, min_samples_leaf=5, score=0.579215, total=   0.3s\n",
      "[Parallel(n_jobs=1)]: Done 565 out of 565 | elapsed:  4.3min remaining:    0.0s\n",
      "[CV] max_depth=20, max_features=500, min_samples_leaf=10 .............\n",
      "[CV]  max_depth=20, max_features=500, min_samples_leaf=10, score=0.580285, total=   0.3s\n",
      "[Parallel(n_jobs=1)]: Done 566 out of 566 | elapsed:  4.3min remaining:    0.0s\n",
      "[CV] max_depth=20, max_features=500, min_samples_leaf=10 .............\n",
      "[CV]  max_depth=20, max_features=500, min_samples_leaf=10, score=0.567517, total=   0.2s\n",
      "[Parallel(n_jobs=1)]: Done 567 out of 567 | elapsed:  4.3min remaining:    0.0s\n",
      "[CV] max_depth=20, max_features=500, min_samples_leaf=10 .............\n",
      "[CV]  max_depth=20, max_features=500, min_samples_leaf=10, score=0.570523, total=   0.2s\n",
      "[Parallel(n_jobs=1)]: Done 568 out of 568 | elapsed:  4.3min remaining:    0.0s\n",
      "[CV] max_depth=20, max_features=500, min_samples_leaf=10 .............\n",
      "[CV]  max_depth=20, max_features=500, min_samples_leaf=10, score=0.571522, total=   0.2s\n",
      "[Parallel(n_jobs=1)]: Done 569 out of 569 | elapsed:  4.3min remaining:    0.0s\n",
      "[CV] max_depth=20, max_features=500, min_samples_leaf=10 .............\n",
      "[CV]  max_depth=20, max_features=500, min_samples_leaf=10, score=0.582438, total=   0.3s\n",
      "[Parallel(n_jobs=1)]: Done 570 out of 570 | elapsed:  4.3min remaining:    0.0s\n",
      "[CV] max_depth=20, max_features=500, min_samples_leaf=20 .............\n"
     ]
    },
    {
     "name": "stderr",
     "output_type": "stream",
     "text": [
      "C:\\Users\\maxim\\Anaconda3\\lib\\site-packages\\sklearn\\metrics\\classification.py:1113: UndefinedMetricWarning: F-score is ill-defined and being set to 0.0 in labels with no predicted samples.\n",
      "  'precision', 'predicted', average, warn_for)\n"
     ]
    },
    {
     "name": "stdout",
     "output_type": "stream",
     "text": [
      "[CV]  max_depth=20, max_features=500, min_samples_leaf=20, score=0.564475, total=   0.2s\n",
      "[Parallel(n_jobs=1)]: Done 571 out of 571 | elapsed:  4.3min remaining:    0.0s\n",
      "[CV] max_depth=20, max_features=500, min_samples_leaf=20 .............\n"
     ]
    },
    {
     "name": "stderr",
     "output_type": "stream",
     "text": [
      "C:\\Users\\maxim\\Anaconda3\\lib\\site-packages\\sklearn\\metrics\\classification.py:1113: UndefinedMetricWarning: F-score is ill-defined and being set to 0.0 in labels with no predicted samples.\n",
      "  'precision', 'predicted', average, warn_for)\n"
     ]
    },
    {
     "name": "stdout",
     "output_type": "stream",
     "text": [
      "[CV]  max_depth=20, max_features=500, min_samples_leaf=20, score=0.564475, total=   0.2s\n",
      "[Parallel(n_jobs=1)]: Done 572 out of 572 | elapsed:  4.3min remaining:    0.0s\n",
      "[CV] max_depth=20, max_features=500, min_samples_leaf=20 .............\n",
      "[CV]  max_depth=20, max_features=500, min_samples_leaf=20, score=0.563528, total=   0.1s\n"
     ]
    },
    {
     "name": "stderr",
     "output_type": "stream",
     "text": [
      "C:\\Users\\maxim\\Anaconda3\\lib\\site-packages\\sklearn\\metrics\\classification.py:1113: UndefinedMetricWarning: F-score is ill-defined and being set to 0.0 in labels with no predicted samples.\n",
      "  'precision', 'predicted', average, warn_for)\n"
     ]
    },
    {
     "name": "stdout",
     "output_type": "stream",
     "text": [
      "[Parallel(n_jobs=1)]: Done 573 out of 573 | elapsed:  4.3min remaining:    0.0s\n",
      "[CV] max_depth=20, max_features=500, min_samples_leaf=20 .............\n",
      "[CV]  max_depth=20, max_features=500, min_samples_leaf=20, score=0.564475, total=   0.1s\n",
      "[Parallel(n_jobs=1)]: Done 574 out of 574 | elapsed:  4.3min remaining:    0.0s\n",
      "[CV] max_depth=20, max_features=500, min_samples_leaf=20 .............\n"
     ]
    },
    {
     "name": "stderr",
     "output_type": "stream",
     "text": [
      "C:\\Users\\maxim\\Anaconda3\\lib\\site-packages\\sklearn\\metrics\\classification.py:1113: UndefinedMetricWarning: F-score is ill-defined and being set to 0.0 in labels with no predicted samples.\n",
      "  'precision', 'predicted', average, warn_for)\n"
     ]
    },
    {
     "name": "stdout",
     "output_type": "stream",
     "text": [
      "[CV]  max_depth=20, max_features=500, min_samples_leaf=20, score=0.565450, total=   0.2s\n",
      "[Parallel(n_jobs=1)]: Done 575 out of 575 | elapsed:  4.4min remaining:    0.0s\n",
      "[CV] max_depth=20, max_features=1000, min_samples_leaf=1 .............\n",
      "[CV]  max_depth=20, max_features=1000, min_samples_leaf=1, score=0.571746, total=   0.5s\n",
      "[Parallel(n_jobs=1)]: Done 576 out of 576 | elapsed:  4.4min remaining:    0.0s\n",
      "[CV] max_depth=20, max_features=1000, min_samples_leaf=1 .............\n",
      "[CV]  max_depth=20, max_features=1000, min_samples_leaf=1, score=0.584869, total=   0.4s\n",
      "[Parallel(n_jobs=1)]: Done 577 out of 577 | elapsed:  4.4min remaining:    0.0s\n",
      "[CV] max_depth=20, max_features=1000, min_samples_leaf=1 .............\n",
      "[CV]  max_depth=20, max_features=1000, min_samples_leaf=1, score=0.582603, total=   0.6s\n",
      "[Parallel(n_jobs=1)]: Done 578 out of 578 | elapsed:  4.4min remaining:    0.0s\n",
      "[CV] max_depth=20, max_features=1000, min_samples_leaf=1 .............\n",
      "[CV]  max_depth=20, max_features=1000, min_samples_leaf=1, score=0.607647, total=   0.6s\n",
      "[Parallel(n_jobs=1)]: Done 579 out of 579 | elapsed:  4.4min remaining:    0.0s\n",
      "[CV] max_depth=20, max_features=1000, min_samples_leaf=1 .............\n",
      "[CV]  max_depth=20, max_features=1000, min_samples_leaf=1, score=0.575981, total=   0.8s\n",
      "[Parallel(n_jobs=1)]: Done 580 out of 580 | elapsed:  4.4min remaining:    0.0s\n",
      "[CV] max_depth=20, max_features=1000, min_samples_leaf=2 .............\n",
      "[CV]  max_depth=20, max_features=1000, min_samples_leaf=2, score=0.577970, total=   0.5s\n",
      "[Parallel(n_jobs=1)]: Done 581 out of 581 | elapsed:  4.4min remaining:    0.0s\n",
      "[CV] max_depth=20, max_features=1000, min_samples_leaf=2 .............\n",
      "[CV]  max_depth=20, max_features=1000, min_samples_leaf=2, score=0.571746, total=   0.3s\n",
      "[Parallel(n_jobs=1)]: Done 582 out of 582 | elapsed:  4.4min remaining:    0.0s\n",
      "[CV] max_depth=20, max_features=1000, min_samples_leaf=2 .............\n",
      "[CV]  max_depth=20, max_features=1000, min_samples_leaf=2, score=0.597781, total=   0.2s\n",
      "[Parallel(n_jobs=1)]: Done 583 out of 583 | elapsed:  4.4min remaining:    0.0s\n",
      "[CV] max_depth=20, max_features=1000, min_samples_leaf=2 .............\n",
      "[CV]  max_depth=20, max_features=1000, min_samples_leaf=2, score=0.598965, total=   0.4s\n",
      "[Parallel(n_jobs=1)]: Done 584 out of 584 | elapsed:  4.4min remaining:    0.0s\n",
      "[CV] max_depth=20, max_features=1000, min_samples_leaf=2 .............\n",
      "[CV]  max_depth=20, max_features=1000, min_samples_leaf=2, score=0.581351, total=   0.4s\n",
      "[Parallel(n_jobs=1)]: Done 585 out of 585 | elapsed:  4.4min remaining:    0.0s\n",
      "[CV] max_depth=20, max_features=1000, min_samples_leaf=5 .............\n",
      "[CV]  max_depth=20, max_features=1000, min_samples_leaf=5, score=0.582003, total=   0.3s\n",
      "[Parallel(n_jobs=1)]: Done 586 out of 586 | elapsed:  4.5min remaining:    0.0s\n",
      "[CV] max_depth=20, max_features=1000, min_samples_leaf=5 .............\n",
      "[CV]  max_depth=20, max_features=1000, min_samples_leaf=5, score=0.572823, total=   0.2s\n",
      "[Parallel(n_jobs=1)]: Done 587 out of 587 | elapsed:  4.5min remaining:    0.0s\n",
      "[CV] max_depth=20, max_features=1000, min_samples_leaf=5 .............\n",
      "[CV]  max_depth=20, max_features=1000, min_samples_leaf=5, score=0.578192, total=   0.2s\n",
      "[Parallel(n_jobs=1)]: Done 588 out of 588 | elapsed:  4.5min remaining:    0.0s\n",
      "[CV] max_depth=20, max_features=1000, min_samples_leaf=5 .............\n",
      "[CV]  max_depth=20, max_features=1000, min_samples_leaf=5, score=0.609256, total=   0.2s\n",
      "[Parallel(n_jobs=1)]: Done 589 out of 589 | elapsed:  4.5min remaining:    0.0s\n",
      "[CV] max_depth=20, max_features=1000, min_samples_leaf=5 .............\n",
      "[CV]  max_depth=20, max_features=1000, min_samples_leaf=5, score=0.606356, total=   0.2s\n",
      "[Parallel(n_jobs=1)]: Done 590 out of 590 | elapsed:  4.5min remaining:    0.0s\n",
      "[CV] max_depth=20, max_features=1000, min_samples_leaf=10 ............\n",
      "[CV]  max_depth=20, max_features=1000, min_samples_leaf=10, score=0.588671, total=   0.2s\n",
      "[Parallel(n_jobs=1)]: Done 591 out of 591 | elapsed:  4.5min remaining:    0.0s\n",
      "[CV] max_depth=20, max_features=1000, min_samples_leaf=10 ............\n",
      "[CV]  max_depth=20, max_features=1000, min_samples_leaf=10, score=0.570803, total=   0.1s\n",
      "[Parallel(n_jobs=1)]: Done 592 out of 592 | elapsed:  4.5min remaining:    0.0s\n",
      "[CV] max_depth=20, max_features=1000, min_samples_leaf=10 ............\n",
      "[CV]  max_depth=20, max_features=1000, min_samples_leaf=10, score=0.564142, total=   0.1s\n",
      "[Parallel(n_jobs=1)]: Done 593 out of 593 | elapsed:  4.5min remaining:    0.0s\n",
      "[CV] max_depth=20, max_features=1000, min_samples_leaf=10 ............\n",
      "[CV]  max_depth=20, max_features=1000, min_samples_leaf=10, score=0.595707, total=   0.1s\n",
      "[Parallel(n_jobs=1)]: Done 594 out of 594 | elapsed:  4.5min remaining:    0.0s\n",
      "[CV] max_depth=20, max_features=1000, min_samples_leaf=10 ............\n",
      "[CV]  max_depth=20, max_features=1000, min_samples_leaf=10, score=0.573955, total=   0.1s\n",
      "[Parallel(n_jobs=1)]: Done 595 out of 595 | elapsed:  4.5min remaining:    0.0s\n",
      "[CV] max_depth=20, max_features=1000, min_samples_leaf=20 ............\n",
      "[CV]  max_depth=20, max_features=1000, min_samples_leaf=20, score=0.562472, total=   0.1s\n",
      "[Parallel(n_jobs=1)]: Done 596 out of 596 | elapsed:  4.5min remaining:    0.0s\n",
      "[CV] max_depth=20, max_features=1000, min_samples_leaf=20 ............\n",
      "[CV]  max_depth=20, max_features=1000, min_samples_leaf=20, score=0.568047, total=   0.1s\n",
      "[Parallel(n_jobs=1)]: Done 597 out of 597 | elapsed:  4.5min remaining:    0.0s\n",
      "[CV] max_depth=20, max_features=1000, min_samples_leaf=20 ............\n",
      "[CV]  max_depth=20, max_features=1000, min_samples_leaf=20, score=0.572519, total=   0.1s\n",
      "[Parallel(n_jobs=1)]: Done 598 out of 598 | elapsed:  4.5min remaining:    0.0s\n",
      "[CV] max_depth=20, max_features=1000, min_samples_leaf=20 ............\n",
      "[CV]  max_depth=20, max_features=1000, min_samples_leaf=20, score=0.574904, total=   0.1s\n",
      "[Parallel(n_jobs=1)]: Done 599 out of 599 | elapsed:  4.5min remaining:    0.0s\n",
      "[CV] max_depth=20, max_features=1000, min_samples_leaf=20 ............\n",
      "[CV]  max_depth=20, max_features=1000, min_samples_leaf=20, score=0.577971, total=   0.1s\n",
      "[Parallel(n_jobs=1)]: Done 600 out of 600 | elapsed:  4.5min remaining:    0.0s\n",
      "[CV] max_depth=20, max_features=None, min_samples_leaf=1 .............\n",
      "[CV]  max_depth=20, max_features=None, min_samples_leaf=1, score=0.590829, total=   0.4s\n",
      "[Parallel(n_jobs=1)]: Done 601 out of 601 | elapsed:  4.5min remaining:    0.0s\n",
      "[CV] max_depth=20, max_features=None, min_samples_leaf=1 .............\n",
      "[CV]  max_depth=20, max_features=None, min_samples_leaf=1, score=0.583736, total=   0.5s\n",
      "[Parallel(n_jobs=1)]: Done 602 out of 602 | elapsed:  4.5min remaining:    0.0s\n",
      "[CV] max_depth=20, max_features=None, min_samples_leaf=1 .............\n",
      "[CV]  max_depth=20, max_features=None, min_samples_leaf=1, score=0.592261, total=   0.5s\n",
      "[Parallel(n_jobs=1)]: Done 603 out of 603 | elapsed:  4.5min remaining:    0.0s\n",
      "[CV] max_depth=20, max_features=None, min_samples_leaf=1 .............\n",
      "[CV]  max_depth=20, max_features=None, min_samples_leaf=1, score=0.591112, total=   0.5s\n",
      "[Parallel(n_jobs=1)]: Done 604 out of 604 | elapsed:  4.6min remaining:    0.0s\n",
      "[CV] max_depth=20, max_features=None, min_samples_leaf=1 .............\n",
      "[CV]  max_depth=20, max_features=None, min_samples_leaf=1, score=0.595492, total=   0.5s\n",
      "[Parallel(n_jobs=1)]: Done 605 out of 605 | elapsed:  4.6min remaining:    0.0s\n",
      "[CV] max_depth=20, max_features=None, min_samples_leaf=2 .............\n",
      "[CV]  max_depth=20, max_features=None, min_samples_leaf=2, score=0.584869, total=   0.4s\n",
      "[Parallel(n_jobs=1)]: Done 606 out of 606 | elapsed:  4.6min remaining:    0.0s\n",
      "[CV] max_depth=20, max_features=None, min_samples_leaf=2 .............\n",
      "[CV]  max_depth=20, max_features=None, min_samples_leaf=2, score=0.565556, total=   0.4s\n",
      "[Parallel(n_jobs=1)]: Done 607 out of 607 | elapsed:  4.6min remaining:    0.0s\n",
      "[CV] max_depth=20, max_features=None, min_samples_leaf=2 .............\n",
      "[CV]  max_depth=20, max_features=None, min_samples_leaf=2, score=0.598965, total=   0.4s\n",
      "[Parallel(n_jobs=1)]: Done 608 out of 608 | elapsed:  4.6min remaining:    0.0s\n",
      "[CV] max_depth=20, max_features=None, min_samples_leaf=2 .............\n",
      "[CV]  max_depth=20, max_features=None, min_samples_leaf=2, score=0.597781, total=   0.4s\n",
      "[Parallel(n_jobs=1)]: Done 609 out of 609 | elapsed:  4.6min remaining:    0.0s\n",
      "[CV] max_depth=20, max_features=None, min_samples_leaf=2 .............\n"
     ]
    },
    {
     "name": "stdout",
     "output_type": "stream",
     "text": [
      "[CV]  max_depth=20, max_features=None, min_samples_leaf=2, score=0.596483, total=   0.4s\n",
      "[Parallel(n_jobs=1)]: Done 610 out of 610 | elapsed:  4.6min remaining:    0.0s\n",
      "[CV] max_depth=20, max_features=None, min_samples_leaf=5 .............\n",
      "[CV]  max_depth=20, max_features=None, min_samples_leaf=5, score=0.577543, total=   0.4s\n",
      "[Parallel(n_jobs=1)]: Done 611 out of 611 | elapsed:  4.6min remaining:    0.0s\n",
      "[CV] max_depth=20, max_features=None, min_samples_leaf=5 .............\n",
      "[CV]  max_depth=20, max_features=None, min_samples_leaf=5, score=0.570827, total=   0.4s\n",
      "[Parallel(n_jobs=1)]: Done 612 out of 612 | elapsed:  4.6min remaining:    0.0s\n",
      "[CV] max_depth=20, max_features=None, min_samples_leaf=5 .............\n",
      "[CV]  max_depth=20, max_features=None, min_samples_leaf=5, score=0.570827, total=   0.4s\n",
      "[Parallel(n_jobs=1)]: Done 613 out of 613 | elapsed:  4.6min remaining:    0.0s\n",
      "[CV] max_depth=20, max_features=None, min_samples_leaf=5 .............\n",
      "[CV]  max_depth=20, max_features=None, min_samples_leaf=5, score=0.604247, total=   0.4s\n",
      "[Parallel(n_jobs=1)]: Done 614 out of 614 | elapsed:  4.6min remaining:    0.0s\n",
      "[CV] max_depth=20, max_features=None, min_samples_leaf=5 .............\n",
      "[CV]  max_depth=20, max_features=None, min_samples_leaf=5, score=0.596753, total=   0.4s\n",
      "[Parallel(n_jobs=1)]: Done 615 out of 615 | elapsed:  4.6min remaining:    0.0s\n",
      "[CV] max_depth=20, max_features=None, min_samples_leaf=10 ............\n",
      "[CV]  max_depth=20, max_features=None, min_samples_leaf=10, score=0.600545, total=   0.4s\n",
      "[Parallel(n_jobs=1)]: Done 616 out of 616 | elapsed:  4.7min remaining:    0.0s\n",
      "[CV] max_depth=20, max_features=None, min_samples_leaf=10 ............\n",
      "[CV]  max_depth=20, max_features=None, min_samples_leaf=10, score=0.588263, total=   0.4s\n",
      "[Parallel(n_jobs=1)]: Done 617 out of 617 | elapsed:  4.7min remaining:    0.0s\n",
      "[CV] max_depth=20, max_features=None, min_samples_leaf=10 ............\n",
      "[CV]  max_depth=20, max_features=None, min_samples_leaf=10, score=0.578063, total=   0.4s\n",
      "[Parallel(n_jobs=1)]: Done 618 out of 618 | elapsed:  4.7min remaining:    0.0s\n",
      "[CV] max_depth=20, max_features=None, min_samples_leaf=10 ............\n",
      "[CV]  max_depth=20, max_features=None, min_samples_leaf=10, score=0.582003, total=   0.4s\n",
      "[Parallel(n_jobs=1)]: Done 619 out of 619 | elapsed:  4.7min remaining:    0.0s\n",
      "[CV] max_depth=20, max_features=None, min_samples_leaf=10 ............\n",
      "[CV]  max_depth=20, max_features=None, min_samples_leaf=10, score=0.585907, total=   0.4s\n",
      "[Parallel(n_jobs=1)]: Done 620 out of 620 | elapsed:  4.7min remaining:    0.0s\n",
      "[CV] max_depth=20, max_features=None, min_samples_leaf=20 ............\n",
      "[CV]  max_depth=20, max_features=None, min_samples_leaf=20, score=0.606073, total=   0.3s\n",
      "[Parallel(n_jobs=1)]: Done 621 out of 621 | elapsed:  4.7min remaining:    0.0s\n",
      "[CV] max_depth=20, max_features=None, min_samples_leaf=20 ............\n",
      "[CV]  max_depth=20, max_features=None, min_samples_leaf=20, score=0.562579, total=   0.3s\n",
      "[Parallel(n_jobs=1)]: Done 622 out of 622 | elapsed:  4.7min remaining:    0.0s\n",
      "[CV] max_depth=20, max_features=None, min_samples_leaf=20 ............\n",
      "[CV]  max_depth=20, max_features=None, min_samples_leaf=20, score=0.584869, total=   0.3s\n",
      "[Parallel(n_jobs=1)]: Done 623 out of 623 | elapsed:  4.7min remaining:    0.0s\n",
      "[CV] max_depth=20, max_features=None, min_samples_leaf=20 ............\n",
      "[CV]  max_depth=20, max_features=None, min_samples_leaf=20, score=0.578192, total=   0.3s\n",
      "[Parallel(n_jobs=1)]: Done 624 out of 624 | elapsed:  4.7min remaining:    0.0s\n",
      "[CV] max_depth=20, max_features=None, min_samples_leaf=20 ............\n",
      "[CV]  max_depth=20, max_features=None, min_samples_leaf=20, score=0.563435, total=   0.3s\n",
      "[Parallel(n_jobs=1)]: Done 625 out of 625 | elapsed:  4.7min remaining:    0.0s\n",
      "[CV] max_depth=10, max_features=auto, min_samples_leaf=1 .............\n",
      "[CV]  max_depth=10, max_features=auto, min_samples_leaf=1, score=0.564475, total=   0.0s\n",
      "[Parallel(n_jobs=1)]: Done 626 out of 626 | elapsed:  4.7min remaining:    0.0s\n",
      "[CV] max_depth=10, max_features=auto, min_samples_leaf=1 .............\n",
      "[CV]  max_depth=10, max_features=auto, min_samples_leaf=1, score=0.569018, total=   0.0s\n",
      "[Parallel(n_jobs=1)]: Done 627 out of 627 | elapsed:  4.7min remaining:    0.0s\n",
      "[CV] max_depth=10, max_features=auto, min_samples_leaf=1 .............\n",
      "[CV]  max_depth=10, max_features=auto, min_samples_leaf=1, score=0.564475, total=   0.0s\n",
      "[Parallel(n_jobs=1)]: Done 628 out of 628 | elapsed:  4.7min remaining:    0.0s\n",
      "[CV] max_depth=10, max_features=auto, min_samples_leaf=1 .............\n"
     ]
    },
    {
     "name": "stderr",
     "output_type": "stream",
     "text": [
      "C:\\Users\\maxim\\Anaconda3\\lib\\site-packages\\sklearn\\metrics\\classification.py:1113: UndefinedMetricWarning: F-score is ill-defined and being set to 0.0 in labels with no predicted samples.\n",
      "  'precision', 'predicted', average, warn_for)\n",
      "C:\\Users\\maxim\\Anaconda3\\lib\\site-packages\\sklearn\\metrics\\classification.py:1113: UndefinedMetricWarning: F-score is ill-defined and being set to 0.0 in labels with no predicted samples.\n",
      "  'precision', 'predicted', average, warn_for)\n",
      "C:\\Users\\maxim\\Anaconda3\\lib\\site-packages\\sklearn\\metrics\\classification.py:1113: UndefinedMetricWarning: F-score is ill-defined and being set to 0.0 in labels with no predicted samples.\n",
      "  'precision', 'predicted', average, warn_for)\n"
     ]
    },
    {
     "name": "stdout",
     "output_type": "stream",
     "text": [
      "[CV]  max_depth=10, max_features=auto, min_samples_leaf=1, score=0.564475, total=   0.0s\n",
      "[Parallel(n_jobs=1)]: Done 629 out of 629 | elapsed:  4.7min remaining:    0.0s\n",
      "[CV] max_depth=10, max_features=auto, min_samples_leaf=1 .............\n",
      "[CV]  max_depth=10, max_features=auto, min_samples_leaf=1, score=0.565450, total=   0.0s\n",
      "[Parallel(n_jobs=1)]: Done 630 out of 630 | elapsed:  4.7min remaining:    0.0s\n",
      "[CV] max_depth=10, max_features=auto, min_samples_leaf=2 .............\n",
      "[CV]  max_depth=10, max_features=auto, min_samples_leaf=2, score=0.569018, total=   0.0s\n",
      "[Parallel(n_jobs=1)]: Done 631 out of 631 | elapsed:  4.7min remaining:    0.0s\n",
      "[CV] max_depth=10, max_features=auto, min_samples_leaf=2 .............\n",
      "[CV]  max_depth=10, max_features=auto, min_samples_leaf=2, score=0.564475, total=   0.0s\n",
      "[Parallel(n_jobs=1)]: Done 632 out of 632 | elapsed:  4.7min remaining:    0.0s\n",
      "[CV] max_depth=10, max_features=auto, min_samples_leaf=2 .............\n"
     ]
    },
    {
     "name": "stderr",
     "output_type": "stream",
     "text": [
      "C:\\Users\\maxim\\Anaconda3\\lib\\site-packages\\sklearn\\metrics\\classification.py:1113: UndefinedMetricWarning: F-score is ill-defined and being set to 0.0 in labels with no predicted samples.\n",
      "  'precision', 'predicted', average, warn_for)\n",
      "C:\\Users\\maxim\\Anaconda3\\lib\\site-packages\\sklearn\\metrics\\classification.py:1113: UndefinedMetricWarning: F-score is ill-defined and being set to 0.0 in labels with no predicted samples.\n",
      "  'precision', 'predicted', average, warn_for)\n",
      "C:\\Users\\maxim\\Anaconda3\\lib\\site-packages\\sklearn\\metrics\\classification.py:1113: UndefinedMetricWarning: F-score is ill-defined and being set to 0.0 in labels with no predicted samples.\n",
      "  'precision', 'predicted', average, warn_for)\n"
     ]
    },
    {
     "name": "stdout",
     "output_type": "stream",
     "text": [
      "[CV]  max_depth=10, max_features=auto, min_samples_leaf=2, score=0.564475, total=   0.0s\n",
      "[Parallel(n_jobs=1)]: Done 633 out of 633 | elapsed:  4.7min remaining:    0.0s\n",
      "[CV] max_depth=10, max_features=auto, min_samples_leaf=2 .............\n",
      "[CV]  max_depth=10, max_features=auto, min_samples_leaf=2, score=0.563528, total= 3.8min\n",
      "[Parallel(n_jobs=1)]: Done 634 out of 634 | elapsed:  8.5min remaining:    0.0s\n",
      "[CV] max_depth=10, max_features=auto, min_samples_leaf=2 .............\n",
      "[CV]  max_depth=10, max_features=auto, min_samples_leaf=2, score=0.565450, total=   0.0s\n",
      "[Parallel(n_jobs=1)]: Done 635 out of 635 | elapsed:  8.5min remaining:    0.0s\n",
      "[CV] max_depth=10, max_features=auto, min_samples_leaf=5 .............\n",
      "[CV]  max_depth=10, max_features=auto, min_samples_leaf=5, score=0.564475, total=   0.0s\n",
      "[Parallel(n_jobs=1)]: Done 636 out of 636 | elapsed:  8.5min remaining:    0.0s\n",
      "[CV] max_depth=10, max_features=auto, min_samples_leaf=5 .............\n"
     ]
    },
    {
     "name": "stderr",
     "output_type": "stream",
     "text": [
      "C:\\Users\\maxim\\Anaconda3\\lib\\site-packages\\sklearn\\metrics\\classification.py:1113: UndefinedMetricWarning: F-score is ill-defined and being set to 0.0 in labels with no predicted samples.\n",
      "  'precision', 'predicted', average, warn_for)\n",
      "C:\\Users\\maxim\\Anaconda3\\lib\\site-packages\\sklearn\\metrics\\classification.py:1113: UndefinedMetricWarning: F-score is ill-defined and being set to 0.0 in labels with no predicted samples.\n",
      "  'precision', 'predicted', average, warn_for)\n",
      "C:\\Users\\maxim\\Anaconda3\\lib\\site-packages\\sklearn\\metrics\\classification.py:1113: UndefinedMetricWarning: F-score is ill-defined and being set to 0.0 in labels with no predicted samples.\n",
      "  'precision', 'predicted', average, warn_for)\n"
     ]
    },
    {
     "name": "stdout",
     "output_type": "stream",
     "text": [
      "[CV]  max_depth=10, max_features=auto, min_samples_leaf=5, score=0.564475, total=   0.0s\n",
      "[Parallel(n_jobs=1)]: Done 637 out of 637 | elapsed:  8.5min remaining:    0.0s\n",
      "[CV] max_depth=10, max_features=auto, min_samples_leaf=5 .............\n",
      "[CV]  max_depth=10, max_features=auto, min_samples_leaf=5, score=0.564475, total=   0.0s\n",
      "[Parallel(n_jobs=1)]: Done 638 out of 638 | elapsed:  8.5min remaining:    0.0s\n",
      "[CV] max_depth=10, max_features=auto, min_samples_leaf=5 .............\n",
      "[CV]  max_depth=10, max_features=auto, min_samples_leaf=5, score=0.564475, total=   0.0s\n",
      "[Parallel(n_jobs=1)]: Done 639 out of 639 | elapsed:  8.5min remaining:    0.0s\n",
      "[CV] max_depth=10, max_features=auto, min_samples_leaf=5 .............\n",
      "[CV]  max_depth=10, max_features=auto, min_samples_leaf=5, score=0.565450, total=   0.0s\n",
      "[Parallel(n_jobs=1)]: Done 640 out of 640 | elapsed:  8.5min remaining:    0.0s\n",
      "[CV] max_depth=10, max_features=auto, min_samples_leaf=10 ............\n"
     ]
    },
    {
     "name": "stderr",
     "output_type": "stream",
     "text": [
      "C:\\Users\\maxim\\Anaconda3\\lib\\site-packages\\sklearn\\metrics\\classification.py:1113: UndefinedMetricWarning: F-score is ill-defined and being set to 0.0 in labels with no predicted samples.\n",
      "  'precision', 'predicted', average, warn_for)\n",
      "C:\\Users\\maxim\\Anaconda3\\lib\\site-packages\\sklearn\\metrics\\classification.py:1113: UndefinedMetricWarning: F-score is ill-defined and being set to 0.0 in labels with no predicted samples.\n",
      "  'precision', 'predicted', average, warn_for)\n",
      "C:\\Users\\maxim\\Anaconda3\\lib\\site-packages\\sklearn\\metrics\\classification.py:1113: UndefinedMetricWarning: F-score is ill-defined and being set to 0.0 in labels with no predicted samples.\n",
      "  'precision', 'predicted', average, warn_for)\n",
      "C:\\Users\\maxim\\Anaconda3\\lib\\site-packages\\sklearn\\metrics\\classification.py:1113: UndefinedMetricWarning: F-score is ill-defined and being set to 0.0 in labels with no predicted samples.\n",
      "  'precision', 'predicted', average, warn_for)\n"
     ]
    },
    {
     "name": "stdout",
     "output_type": "stream",
     "text": [
      "[CV]  max_depth=10, max_features=auto, min_samples_leaf=10, score=0.564475, total=   0.0s\n",
      "[Parallel(n_jobs=1)]: Done 641 out of 641 | elapsed:  8.5min remaining:    0.0s\n",
      "[CV] max_depth=10, max_features=auto, min_samples_leaf=10 ............\n"
     ]
    },
    {
     "name": "stderr",
     "output_type": "stream",
     "text": [
      "C:\\Users\\maxim\\Anaconda3\\lib\\site-packages\\sklearn\\metrics\\classification.py:1113: UndefinedMetricWarning: F-score is ill-defined and being set to 0.0 in labels with no predicted samples.\n",
      "  'precision', 'predicted', average, warn_for)\n"
     ]
    },
    {
     "name": "stdout",
     "output_type": "stream",
     "text": [
      "[CV]  max_depth=10, max_features=auto, min_samples_leaf=10, score=0.564475, total=   0.1s\n",
      "[Parallel(n_jobs=1)]: Done 642 out of 642 | elapsed:  8.5min remaining:    0.0s\n",
      "[CV] max_depth=10, max_features=auto, min_samples_leaf=10 ............\n",
      "[CV]  max_depth=10, max_features=auto, min_samples_leaf=10, score=0.564475, total=   0.0s\n",
      "[Parallel(n_jobs=1)]: Done 643 out of 643 | elapsed:  8.5min remaining:    0.0s\n",
      "[CV] max_depth=10, max_features=auto, min_samples_leaf=10 ............\n"
     ]
    },
    {
     "name": "stderr",
     "output_type": "stream",
     "text": [
      "C:\\Users\\maxim\\Anaconda3\\lib\\site-packages\\sklearn\\metrics\\classification.py:1113: UndefinedMetricWarning: F-score is ill-defined and being set to 0.0 in labels with no predicted samples.\n",
      "  'precision', 'predicted', average, warn_for)\n",
      "C:\\Users\\maxim\\Anaconda3\\lib\\site-packages\\sklearn\\metrics\\classification.py:1113: UndefinedMetricWarning: F-score is ill-defined and being set to 0.0 in labels with no predicted samples.\n",
      "  'precision', 'predicted', average, warn_for)\n",
      "C:\\Users\\maxim\\Anaconda3\\lib\\site-packages\\sklearn\\metrics\\classification.py:1113: UndefinedMetricWarning: F-score is ill-defined and being set to 0.0 in labels with no predicted samples.\n",
      "  'precision', 'predicted', average, warn_for)\n"
     ]
    },
    {
     "name": "stdout",
     "output_type": "stream",
     "text": [
      "[CV]  max_depth=10, max_features=auto, min_samples_leaf=10, score=0.564475, total=   0.0s\n",
      "[Parallel(n_jobs=1)]: Done 644 out of 644 | elapsed:  8.5min remaining:    0.0s\n",
      "[CV] max_depth=10, max_features=auto, min_samples_leaf=10 ............\n",
      "[CV]  max_depth=10, max_features=auto, min_samples_leaf=10, score=0.565450, total=   0.0s\n",
      "[Parallel(n_jobs=1)]: Done 645 out of 645 | elapsed:  8.5min remaining:    0.0s\n",
      "[CV] max_depth=10, max_features=auto, min_samples_leaf=20 ............\n",
      "[CV]  max_depth=10, max_features=auto, min_samples_leaf=20, score=0.564475, total=   0.0s\n",
      "[Parallel(n_jobs=1)]: Done 646 out of 646 | elapsed:  8.5min remaining:    0.0s\n",
      "[CV] max_depth=10, max_features=auto, min_samples_leaf=20 ............\n",
      "[CV]  max_depth=10, max_features=auto, min_samples_leaf=20, score=0.564475, total=   0.0s\n",
      "[Parallel(n_jobs=1)]: Done 647 out of 647 | elapsed:  8.5min remaining:    0.0s\n",
      "[CV] max_depth=10, max_features=auto, min_samples_leaf=20 ............\n"
     ]
    },
    {
     "name": "stderr",
     "output_type": "stream",
     "text": [
      "C:\\Users\\maxim\\Anaconda3\\lib\\site-packages\\sklearn\\metrics\\classification.py:1113: UndefinedMetricWarning: F-score is ill-defined and being set to 0.0 in labels with no predicted samples.\n",
      "  'precision', 'predicted', average, warn_for)\n",
      "C:\\Users\\maxim\\Anaconda3\\lib\\site-packages\\sklearn\\metrics\\classification.py:1113: UndefinedMetricWarning: F-score is ill-defined and being set to 0.0 in labels with no predicted samples.\n",
      "  'precision', 'predicted', average, warn_for)\n",
      "C:\\Users\\maxim\\Anaconda3\\lib\\site-packages\\sklearn\\metrics\\classification.py:1113: UndefinedMetricWarning: F-score is ill-defined and being set to 0.0 in labels with no predicted samples.\n",
      "  'precision', 'predicted', average, warn_for)\n",
      "C:\\Users\\maxim\\Anaconda3\\lib\\site-packages\\sklearn\\metrics\\classification.py:1113: UndefinedMetricWarning: F-score is ill-defined and being set to 0.0 in labels with no predicted samples.\n",
      "  'precision', 'predicted', average, warn_for)\n"
     ]
    },
    {
     "name": "stdout",
     "output_type": "stream",
     "text": [
      "[CV]  max_depth=10, max_features=auto, min_samples_leaf=20, score=0.564475, total=   0.1s\n",
      "[Parallel(n_jobs=1)]: Done 648 out of 648 | elapsed:  8.5min remaining:    0.0s\n",
      "[CV] max_depth=10, max_features=auto, min_samples_leaf=20 ............\n",
      "[CV]  max_depth=10, max_features=auto, min_samples_leaf=20, score=0.564475, total=   0.0s\n",
      "[Parallel(n_jobs=1)]: Done 649 out of 649 | elapsed:  8.5min remaining:    0.0s\n",
      "[CV] max_depth=10, max_features=auto, min_samples_leaf=20 ............\n"
     ]
    },
    {
     "name": "stderr",
     "output_type": "stream",
     "text": [
      "C:\\Users\\maxim\\Anaconda3\\lib\\site-packages\\sklearn\\metrics\\classification.py:1113: UndefinedMetricWarning: F-score is ill-defined and being set to 0.0 in labels with no predicted samples.\n",
      "  'precision', 'predicted', average, warn_for)\n",
      "C:\\Users\\maxim\\Anaconda3\\lib\\site-packages\\sklearn\\metrics\\classification.py:1113: UndefinedMetricWarning: F-score is ill-defined and being set to 0.0 in labels with no predicted samples.\n",
      "  'precision', 'predicted', average, warn_for)\n"
     ]
    },
    {
     "name": "stdout",
     "output_type": "stream",
     "text": [
      "[CV]  max_depth=10, max_features=auto, min_samples_leaf=20, score=0.565450, total=   0.0s\n",
      "[Parallel(n_jobs=1)]: Done 650 out of 650 | elapsed:  8.5min remaining:    0.0s\n",
      "[CV] max_depth=10, max_features=log2, min_samples_leaf=1 .............\n",
      "[CV]  max_depth=10, max_features=log2, min_samples_leaf=1, score=0.564475, total=   0.1s\n",
      "[Parallel(n_jobs=1)]: Done 651 out of 651 | elapsed:  8.5min remaining:    0.0s\n",
      "[CV] max_depth=10, max_features=log2, min_samples_leaf=1 .............\n"
     ]
    },
    {
     "name": "stderr",
     "output_type": "stream",
     "text": [
      "C:\\Users\\maxim\\Anaconda3\\lib\\site-packages\\sklearn\\metrics\\classification.py:1113: UndefinedMetricWarning: F-score is ill-defined and being set to 0.0 in labels with no predicted samples.\n",
      "  'precision', 'predicted', average, warn_for)\n",
      "C:\\Users\\maxim\\Anaconda3\\lib\\site-packages\\sklearn\\metrics\\classification.py:1113: UndefinedMetricWarning: F-score is ill-defined and being set to 0.0 in labels with no predicted samples.\n",
      "  'precision', 'predicted', average, warn_for)\n"
     ]
    },
    {
     "name": "stdout",
     "output_type": "stream",
     "text": [
      "[CV]  max_depth=10, max_features=log2, min_samples_leaf=1, score=0.564475, total=   0.0s\n",
      "[Parallel(n_jobs=1)]: Done 652 out of 652 | elapsed:  8.5min remaining:    0.0s\n",
      "[CV] max_depth=10, max_features=log2, min_samples_leaf=1 .............\n",
      "[CV]  max_depth=10, max_features=log2, min_samples_leaf=1, score=0.564475, total=   0.0s\n",
      "[Parallel(n_jobs=1)]: Done 653 out of 653 | elapsed:  8.5min remaining:    0.0s\n",
      "[CV] max_depth=10, max_features=log2, min_samples_leaf=1 .............\n"
     ]
    },
    {
     "name": "stderr",
     "output_type": "stream",
     "text": [
      "C:\\Users\\maxim\\Anaconda3\\lib\\site-packages\\sklearn\\metrics\\classification.py:1113: UndefinedMetricWarning: F-score is ill-defined and being set to 0.0 in labels with no predicted samples.\n",
      "  'precision', 'predicted', average, warn_for)\n",
      "C:\\Users\\maxim\\Anaconda3\\lib\\site-packages\\sklearn\\metrics\\classification.py:1113: UndefinedMetricWarning: F-score is ill-defined and being set to 0.0 in labels with no predicted samples.\n",
      "  'precision', 'predicted', average, warn_for)\n"
     ]
    },
    {
     "name": "stdout",
     "output_type": "stream",
     "text": [
      "[CV]  max_depth=10, max_features=log2, min_samples_leaf=1, score=0.564475, total=   0.0s\n",
      "[Parallel(n_jobs=1)]: Done 654 out of 654 | elapsed:  8.5min remaining:    0.0s\n",
      "[CV] max_depth=10, max_features=log2, min_samples_leaf=1 .............\n",
      "[CV]  max_depth=10, max_features=log2, min_samples_leaf=1, score=0.565450, total=   0.0s\n",
      "[Parallel(n_jobs=1)]: Done 655 out of 655 | elapsed:  8.5min remaining:    0.0s\n",
      "[CV] max_depth=10, max_features=log2, min_samples_leaf=2 .............\n"
     ]
    },
    {
     "name": "stderr",
     "output_type": "stream",
     "text": [
      "C:\\Users\\maxim\\Anaconda3\\lib\\site-packages\\sklearn\\metrics\\classification.py:1113: UndefinedMetricWarning: F-score is ill-defined and being set to 0.0 in labels with no predicted samples.\n",
      "  'precision', 'predicted', average, warn_for)\n",
      "C:\\Users\\maxim\\Anaconda3\\lib\\site-packages\\sklearn\\metrics\\classification.py:1113: UndefinedMetricWarning: F-score is ill-defined and being set to 0.0 in labels with no predicted samples.\n",
      "  'precision', 'predicted', average, warn_for)\n"
     ]
    },
    {
     "name": "stdout",
     "output_type": "stream",
     "text": [
      "[CV]  max_depth=10, max_features=log2, min_samples_leaf=2, score=0.564475, total=   0.0s\n",
      "[Parallel(n_jobs=1)]: Done 656 out of 656 | elapsed:  8.6min remaining:    0.0s\n",
      "[CV] max_depth=10, max_features=log2, min_samples_leaf=2 .............\n",
      "[CV]  max_depth=10, max_features=log2, min_samples_leaf=2, score=0.564475, total=   0.0s\n",
      "[Parallel(n_jobs=1)]: Done 657 out of 657 | elapsed:  8.6min remaining:    0.0s\n",
      "[CV] max_depth=10, max_features=log2, min_samples_leaf=2 .............\n",
      "[CV]  max_depth=10, max_features=log2, min_samples_leaf=2, score=0.564475, total=   0.0s"
     ]
    },
    {
     "name": "stderr",
     "output_type": "stream",
     "text": [
      "C:\\Users\\maxim\\Anaconda3\\lib\\site-packages\\sklearn\\metrics\\classification.py:1113: UndefinedMetricWarning: F-score is ill-defined and being set to 0.0 in labels with no predicted samples.\n",
      "  'precision', 'predicted', average, warn_for)\n",
      "C:\\Users\\maxim\\Anaconda3\\lib\\site-packages\\sklearn\\metrics\\classification.py:1113: UndefinedMetricWarning: F-score is ill-defined and being set to 0.0 in labels with no predicted samples.\n",
      "  'precision', 'predicted', average, warn_for)\n",
      "C:\\Users\\maxim\\Anaconda3\\lib\\site-packages\\sklearn\\metrics\\classification.py:1113: UndefinedMetricWarning: F-score is ill-defined and being set to 0.0 in labels with no predicted samples.\n",
      "  'precision', 'predicted', average, warn_for)\n"
     ]
    },
    {
     "name": "stdout",
     "output_type": "stream",
     "text": [
      "\n",
      "[Parallel(n_jobs=1)]: Done 658 out of 658 | elapsed:  8.6min remaining:    0.0s\n",
      "[CV] max_depth=10, max_features=log2, min_samples_leaf=2 .............\n",
      "[CV]  max_depth=10, max_features=log2, min_samples_leaf=2, score=0.564475, total=   0.0s\n",
      "[Parallel(n_jobs=1)]: Done 659 out of 659 | elapsed:  8.6min remaining:    0.0s\n",
      "[CV] max_depth=10, max_features=log2, min_samples_leaf=2 .............\n",
      "[CV]  max_depth=10, max_features=log2, min_samples_leaf=2, score=0.565450, total=   0.0s\n",
      "[Parallel(n_jobs=1)]: Done 660 out of 660 | elapsed:  8.6min remaining:    0.0s\n",
      "[CV] max_depth=10, max_features=log2, min_samples_leaf=5 .............\n"
     ]
    },
    {
     "name": "stderr",
     "output_type": "stream",
     "text": [
      "C:\\Users\\maxim\\Anaconda3\\lib\\site-packages\\sklearn\\metrics\\classification.py:1113: UndefinedMetricWarning: F-score is ill-defined and being set to 0.0 in labels with no predicted samples.\n",
      "  'precision', 'predicted', average, warn_for)\n",
      "C:\\Users\\maxim\\Anaconda3\\lib\\site-packages\\sklearn\\metrics\\classification.py:1113: UndefinedMetricWarning: F-score is ill-defined and being set to 0.0 in labels with no predicted samples.\n",
      "  'precision', 'predicted', average, warn_for)\n",
      "C:\\Users\\maxim\\Anaconda3\\lib\\site-packages\\sklearn\\metrics\\classification.py:1113: UndefinedMetricWarning: F-score is ill-defined and being set to 0.0 in labels with no predicted samples.\n",
      "  'precision', 'predicted', average, warn_for)\n"
     ]
    },
    {
     "name": "stdout",
     "output_type": "stream",
     "text": [
      "[CV]  max_depth=10, max_features=log2, min_samples_leaf=5, score=0.564475, total=   0.0s\n",
      "[Parallel(n_jobs=1)]: Done 661 out of 661 | elapsed:  8.6min remaining:    0.0s\n",
      "[CV] max_depth=10, max_features=log2, min_samples_leaf=5 .............\n",
      "[CV]  max_depth=10, max_features=log2, min_samples_leaf=5, score=0.564475, total=   0.0s\n",
      "[Parallel(n_jobs=1)]: Done 662 out of 662 | elapsed:  8.6min remaining:    0.0s\n",
      "[CV] max_depth=10, max_features=log2, min_samples_leaf=5 .............\n",
      "[CV]  max_depth=10, max_features=log2, min_samples_leaf=5, score=0.564475, total=   0.0s\n",
      "[Parallel(n_jobs=1)]: Done 663 out of 663 | elapsed:  8.6min remaining:    0.0s\n",
      "[CV] max_depth=10, max_features=log2, min_samples_leaf=5 .............\n"
     ]
    },
    {
     "name": "stderr",
     "output_type": "stream",
     "text": [
      "C:\\Users\\maxim\\Anaconda3\\lib\\site-packages\\sklearn\\metrics\\classification.py:1113: UndefinedMetricWarning: F-score is ill-defined and being set to 0.0 in labels with no predicted samples.\n",
      "  'precision', 'predicted', average, warn_for)\n",
      "C:\\Users\\maxim\\Anaconda3\\lib\\site-packages\\sklearn\\metrics\\classification.py:1113: UndefinedMetricWarning: F-score is ill-defined and being set to 0.0 in labels with no predicted samples.\n",
      "  'precision', 'predicted', average, warn_for)\n",
      "C:\\Users\\maxim\\Anaconda3\\lib\\site-packages\\sklearn\\metrics\\classification.py:1113: UndefinedMetricWarning: F-score is ill-defined and being set to 0.0 in labels with no predicted samples.\n",
      "  'precision', 'predicted', average, warn_for)\n"
     ]
    },
    {
     "name": "stdout",
     "output_type": "stream",
     "text": [
      "[CV]  max_depth=10, max_features=log2, min_samples_leaf=5, score=0.564475, total=   0.0s\n",
      "[Parallel(n_jobs=1)]: Done 664 out of 664 | elapsed:  8.6min remaining:    0.0s\n",
      "[CV] max_depth=10, max_features=log2, min_samples_leaf=5 .............\n",
      "[CV]  max_depth=10, max_features=log2, min_samples_leaf=5, score=0.565450, total=   0.0s\n",
      "[Parallel(n_jobs=1)]: Done 665 out of 665 | elapsed:  8.6min remaining:    0.0s\n",
      "[CV] max_depth=10, max_features=log2, min_samples_leaf=10 ............\n",
      "[CV]  max_depth=10, max_features=log2, min_samples_leaf=10, score=0.564475, total=   0.0s\n",
      "[Parallel(n_jobs=1)]: Done 666 out of 666 | elapsed:  8.6min remaining:    0.0s\n",
      "[CV] max_depth=10, max_features=log2, min_samples_leaf=10 ............\n"
     ]
    },
    {
     "name": "stderr",
     "output_type": "stream",
     "text": [
      "C:\\Users\\maxim\\Anaconda3\\lib\\site-packages\\sklearn\\metrics\\classification.py:1113: UndefinedMetricWarning: F-score is ill-defined and being set to 0.0 in labels with no predicted samples.\n",
      "  'precision', 'predicted', average, warn_for)\n",
      "C:\\Users\\maxim\\Anaconda3\\lib\\site-packages\\sklearn\\metrics\\classification.py:1113: UndefinedMetricWarning: F-score is ill-defined and being set to 0.0 in labels with no predicted samples.\n",
      "  'precision', 'predicted', average, warn_for)\n",
      "C:\\Users\\maxim\\Anaconda3\\lib\\site-packages\\sklearn\\metrics\\classification.py:1113: UndefinedMetricWarning: F-score is ill-defined and being set to 0.0 in labels with no predicted samples.\n",
      "  'precision', 'predicted', average, warn_for)\n"
     ]
    },
    {
     "name": "stdout",
     "output_type": "stream",
     "text": [
      "[CV]  max_depth=10, max_features=log2, min_samples_leaf=10, score=0.564475, total=   0.0s\n",
      "[Parallel(n_jobs=1)]: Done 667 out of 667 | elapsed:  8.6min remaining:    0.0s\n",
      "[CV] max_depth=10, max_features=log2, min_samples_leaf=10 ............\n",
      "[CV]  max_depth=10, max_features=log2, min_samples_leaf=10, score=0.564475, total=   0.0s\n",
      "[Parallel(n_jobs=1)]: Done 668 out of 668 | elapsed:  8.6min remaining:    0.0s\n",
      "[CV] max_depth=10, max_features=log2, min_samples_leaf=10 ............\n",
      "[CV]  max_depth=10, max_features=log2, min_samples_leaf=10, score=0.564475, total=   0.0s\n",
      "[Parallel(n_jobs=1)]: Done 669 out of 669 | elapsed:  8.6min remaining:    0.0s\n",
      "[CV] max_depth=10, max_features=log2, min_samples_leaf=10 ............\n"
     ]
    },
    {
     "name": "stderr",
     "output_type": "stream",
     "text": [
      "C:\\Users\\maxim\\Anaconda3\\lib\\site-packages\\sklearn\\metrics\\classification.py:1113: UndefinedMetricWarning: F-score is ill-defined and being set to 0.0 in labels with no predicted samples.\n",
      "  'precision', 'predicted', average, warn_for)\n",
      "C:\\Users\\maxim\\Anaconda3\\lib\\site-packages\\sklearn\\metrics\\classification.py:1113: UndefinedMetricWarning: F-score is ill-defined and being set to 0.0 in labels with no predicted samples.\n",
      "  'precision', 'predicted', average, warn_for)\n",
      "C:\\Users\\maxim\\Anaconda3\\lib\\site-packages\\sklearn\\metrics\\classification.py:1113: UndefinedMetricWarning: F-score is ill-defined and being set to 0.0 in labels with no predicted samples.\n",
      "  'precision', 'predicted', average, warn_for)\n"
     ]
    },
    {
     "name": "stdout",
     "output_type": "stream",
     "text": [
      "[CV]  max_depth=10, max_features=log2, min_samples_leaf=10, score=0.565450, total=   0.0s\n",
      "[Parallel(n_jobs=1)]: Done 670 out of 670 | elapsed:  8.6min remaining:    0.0s\n",
      "[CV] max_depth=10, max_features=log2, min_samples_leaf=20 ............\n",
      "[CV]  max_depth=10, max_features=log2, min_samples_leaf=20, score=0.564475, total=   0.0s\n",
      "[Parallel(n_jobs=1)]: Done 671 out of 671 | elapsed:  8.6min remaining:    0.0s\n",
      "[CV] max_depth=10, max_features=log2, min_samples_leaf=20 ............\n",
      "[CV]  max_depth=10, max_features=log2, min_samples_leaf=20, score=0.564475, total=   0.0s\n",
      "[Parallel(n_jobs=1)]: Done 672 out of 672 | elapsed:  8.6min remaining:    0.0s\n",
      "[CV] max_depth=10, max_features=log2, min_samples_leaf=20 ............\n"
     ]
    },
    {
     "name": "stderr",
     "output_type": "stream",
     "text": [
      "C:\\Users\\maxim\\Anaconda3\\lib\\site-packages\\sklearn\\metrics\\classification.py:1113: UndefinedMetricWarning: F-score is ill-defined and being set to 0.0 in labels with no predicted samples.\n",
      "  'precision', 'predicted', average, warn_for)\n",
      "C:\\Users\\maxim\\Anaconda3\\lib\\site-packages\\sklearn\\metrics\\classification.py:1113: UndefinedMetricWarning: F-score is ill-defined and being set to 0.0 in labels with no predicted samples.\n",
      "  'precision', 'predicted', average, warn_for)\n",
      "C:\\Users\\maxim\\Anaconda3\\lib\\site-packages\\sklearn\\metrics\\classification.py:1113: UndefinedMetricWarning: F-score is ill-defined and being set to 0.0 in labels with no predicted samples.\n",
      "  'precision', 'predicted', average, warn_for)\n"
     ]
    },
    {
     "name": "stdout",
     "output_type": "stream",
     "text": [
      "[CV]  max_depth=10, max_features=log2, min_samples_leaf=20, score=0.564475, total=   0.0s\n",
      "[Parallel(n_jobs=1)]: Done 673 out of 673 | elapsed:  8.6min remaining:    0.0s\n",
      "[CV] max_depth=10, max_features=log2, min_samples_leaf=20 ............\n",
      "[CV]  max_depth=10, max_features=log2, min_samples_leaf=20, score=0.564475, total=   0.0s\n",
      "[Parallel(n_jobs=1)]: Done 674 out of 674 | elapsed:  8.6min remaining:    0.0s\n",
      "[CV] max_depth=10, max_features=log2, min_samples_leaf=20 ............\n",
      "[CV]  max_depth=10, max_features=log2, min_samples_leaf=20, score=0.565450, total=   0.0s\n",
      "[Parallel(n_jobs=1)]: Done 675 out of 675 | elapsed:  8.6min remaining:    0.0s\n",
      "[CV] max_depth=10, max_features=500, min_samples_leaf=1 ..............\n",
      "[CV]  max_depth=10, max_features=500, min_samples_leaf=1, score=0.567074, total=   0.1s\n",
      "[Parallel(n_jobs=1)]: Done 676 out of 676 | elapsed:  8.6min remaining:    0.0s\n",
      "[CV] max_depth=10, max_features=500, min_samples_leaf=1 ..............\n",
      "[CV]  max_depth=10, max_features=500, min_samples_leaf=1, score=0.575053, total=   0.1s\n",
      "[Parallel(n_jobs=1)]: Done 677 out of 677 | elapsed:  8.6min remaining:    0.0s\n",
      "[CV] max_depth=10, max_features=500, min_samples_leaf=1 ..............\n",
      "[CV]  max_depth=10, max_features=500, min_samples_leaf=1, score=0.580332, total=   0.1s\n",
      "[Parallel(n_jobs=1)]: Done 678 out of 678 | elapsed:  8.6min remaining:    0.0s\n",
      "[CV] max_depth=10, max_features=500, min_samples_leaf=1 ..............\n",
      "[CV]  max_depth=10, max_features=500, min_samples_leaf=1, score=0.568521, total=   0.2s\n",
      "[Parallel(n_jobs=1)]: Done 679 out of 679 | elapsed:  8.6min remaining:    0.0s\n",
      "[CV] max_depth=10, max_features=500, min_samples_leaf=1 ..............\n",
      "[CV]  max_depth=10, max_features=500, min_samples_leaf=1, score=0.573527, total=   0.2s\n",
      "[Parallel(n_jobs=1)]: Done 680 out of 680 | elapsed:  8.6min remaining:    0.0s\n",
      "[CV] max_depth=10, max_features=500, min_samples_leaf=2 ..............\n",
      "[CV]  max_depth=10, max_features=500, min_samples_leaf=2, score=0.561628, total=   0.1s\n",
      "[Parallel(n_jobs=1)]: Done 681 out of 681 | elapsed:  8.6min remaining:    0.0s\n",
      "[CV] max_depth=10, max_features=500, min_samples_leaf=2 ..............\n",
      "[CV]  max_depth=10, max_features=500, min_samples_leaf=2, score=0.566098, total=   0.1s\n",
      "[Parallel(n_jobs=1)]: Done 682 out of 682 | elapsed:  8.6min remaining:    0.0s\n",
      "[CV] max_depth=10, max_features=500, min_samples_leaf=2 ..............\n",
      "[CV]  max_depth=10, max_features=500, min_samples_leaf=2, score=0.565121, total=   0.2s\n",
      "[Parallel(n_jobs=1)]: Done 683 out of 683 | elapsed:  8.6min remaining:    0.0s\n",
      "[CV] max_depth=10, max_features=500, min_samples_leaf=2 ..............\n",
      "[CV]  max_depth=10, max_features=500, min_samples_leaf=2, score=0.572519, total=   0.1s\n",
      "[Parallel(n_jobs=1)]: Done 684 out of 684 | elapsed:  8.6min remaining:    0.0s\n",
      "[CV] max_depth=10, max_features=500, min_samples_leaf=2 ..............\n",
      "[CV]  max_depth=10, max_features=500, min_samples_leaf=2, score=0.568502, total=   0.3s\n",
      "[Parallel(n_jobs=1)]: Done 685 out of 685 | elapsed:  8.6min remaining:    0.0s\n",
      "[CV] max_depth=10, max_features=500, min_samples_leaf=5 ..............\n",
      "[CV]  max_depth=10, max_features=500, min_samples_leaf=5, score=0.570523, total=   0.3s\n",
      "[Parallel(n_jobs=1)]: Done 686 out of 686 | elapsed:  8.6min remaining:    0.0s\n",
      "[CV] max_depth=10, max_features=500, min_samples_leaf=5 ..............\n",
      "[CV]  max_depth=10, max_features=500, min_samples_leaf=5, score=0.564142, total=   0.2s\n",
      "[Parallel(n_jobs=1)]: Done 687 out of 687 | elapsed:  8.6min remaining:    0.0s\n",
      "[CV] max_depth=10, max_features=500, min_samples_leaf=5 ..............\n",
      "[CV]  max_depth=10, max_features=500, min_samples_leaf=5, score=0.570523, total=   0.2s\n",
      "[Parallel(n_jobs=1)]: Done 688 out of 688 | elapsed:  8.6min remaining:    0.0s\n",
      "[CV] max_depth=10, max_features=500, min_samples_leaf=5 ..............\n",
      "[CV]  max_depth=10, max_features=500, min_samples_leaf=5, score=0.595040, total=   0.2s\n",
      "[Parallel(n_jobs=1)]: Done 689 out of 689 | elapsed:  8.6min remaining:    0.0s\n",
      "[CV] max_depth=10, max_features=500, min_samples_leaf=5 ..............\n",
      "[CV]  max_depth=10, max_features=500, min_samples_leaf=5, score=0.573527, total=   0.1s\n",
      "[Parallel(n_jobs=1)]: Done 690 out of 690 | elapsed:  8.7min remaining:    0.0s\n",
      "[CV] max_depth=10, max_features=500, min_samples_leaf=10 .............\n",
      "[CV]  max_depth=10, max_features=500, min_samples_leaf=10, score=0.578196, total=   0.1s\n",
      "[Parallel(n_jobs=1)]: Done 691 out of 691 | elapsed:  8.7min remaining:    0.0s\n",
      "[CV] max_depth=10, max_features=500, min_samples_leaf=10 .............\n",
      "[CV]  max_depth=10, max_features=500, min_samples_leaf=10, score=0.571830, total=   0.1s\n",
      "[Parallel(n_jobs=1)]: Done 692 out of 692 | elapsed:  8.7min remaining:    0.0s\n",
      "[CV] max_depth=10, max_features=500, min_samples_leaf=10 .............\n",
      "[CV]  max_depth=10, max_features=500, min_samples_leaf=10, score=0.569018, total=   0.0s\n",
      "[Parallel(n_jobs=1)]: Done 693 out of 693 | elapsed:  8.7min remaining:    0.0s\n",
      "[CV] max_depth=10, max_features=500, min_samples_leaf=10 .............\n",
      "[CV]  max_depth=10, max_features=500, min_samples_leaf=10, score=0.566098, total=   0.0s\n",
      "[Parallel(n_jobs=1)]: Done 694 out of 694 | elapsed:  8.7min remaining:    0.0s\n",
      "[CV] max_depth=10, max_features=500, min_samples_leaf=10 .............\n",
      "[CV]  max_depth=10, max_features=500, min_samples_leaf=10, score=0.573527, total=   0.1s\n",
      "[Parallel(n_jobs=1)]: Done 695 out of 695 | elapsed:  8.7min remaining:    0.0s\n",
      "[CV] max_depth=10, max_features=500, min_samples_leaf=20 .............\n",
      "[CV]  max_depth=10, max_features=500, min_samples_leaf=20, score=0.568047, total=   0.1s\n",
      "[Parallel(n_jobs=1)]: Done 696 out of 696 | elapsed:  8.7min remaining:    0.0s\n",
      "[CV] max_depth=10, max_features=500, min_samples_leaf=20 .............\n"
     ]
    },
    {
     "name": "stderr",
     "output_type": "stream",
     "text": [
      "C:\\Users\\maxim\\Anaconda3\\lib\\site-packages\\sklearn\\metrics\\classification.py:1113: UndefinedMetricWarning: F-score is ill-defined and being set to 0.0 in labels with no predicted samples.\n",
      "  'precision', 'predicted', average, warn_for)\n",
      "C:\\Users\\maxim\\Anaconda3\\lib\\site-packages\\sklearn\\metrics\\classification.py:1113: UndefinedMetricWarning: F-score is ill-defined and being set to 0.0 in labels with no predicted samples.\n",
      "  'precision', 'predicted', average, warn_for)\n"
     ]
    },
    {
     "name": "stdout",
     "output_type": "stream",
     "text": [
      "[CV]  max_depth=10, max_features=500, min_samples_leaf=20, score=0.564475, total=   0.1s\n",
      "[Parallel(n_jobs=1)]: Done 697 out of 697 | elapsed:  8.7min remaining:    0.0s\n",
      "[CV] max_depth=10, max_features=500, min_samples_leaf=20 .............\n",
      "[CV]  max_depth=10, max_features=500, min_samples_leaf=20, score=0.564475, total=   0.0s\n",
      "[Parallel(n_jobs=1)]: Done 698 out of 698 | elapsed:  8.7min remaining:    0.0s\n",
      "[CV] max_depth=10, max_features=500, min_samples_leaf=20 .............\n"
     ]
    },
    {
     "name": "stderr",
     "output_type": "stream",
     "text": [
      "C:\\Users\\maxim\\Anaconda3\\lib\\site-packages\\sklearn\\metrics\\classification.py:1113: UndefinedMetricWarning: F-score is ill-defined and being set to 0.0 in labels with no predicted samples.\n",
      "  'precision', 'predicted', average, warn_for)\n",
      "C:\\Users\\maxim\\Anaconda3\\lib\\site-packages\\sklearn\\metrics\\classification.py:1113: UndefinedMetricWarning: F-score is ill-defined and being set to 0.0 in labels with no predicted samples.\n",
      "  'precision', 'predicted', average, warn_for)\n"
     ]
    },
    {
     "name": "stdout",
     "output_type": "stream",
     "text": [
      "[CV]  max_depth=10, max_features=500, min_samples_leaf=20, score=0.564475, total=   0.0s\n",
      "[Parallel(n_jobs=1)]: Done 699 out of 699 | elapsed:  8.7min remaining:    0.0s\n",
      "[CV] max_depth=10, max_features=500, min_samples_leaf=20 .............\n",
      "[CV]  max_depth=10, max_features=500, min_samples_leaf=20, score=0.565450, total=   0.0s\n",
      "[Parallel(n_jobs=1)]: Done 700 out of 700 | elapsed:  8.7min remaining:    0.0s\n",
      "[CV] max_depth=10, max_features=1000, min_samples_leaf=1 .............\n",
      "[CV]  max_depth=10, max_features=1000, min_samples_leaf=1, score=0.577149, total=   0.2s\n",
      "[Parallel(n_jobs=1)]: Done 701 out of 701 | elapsed:  8.7min remaining:    0.0s\n",
      "[CV] max_depth=10, max_features=1000, min_samples_leaf=1 .............\n",
      "[CV]  max_depth=10, max_features=1000, min_samples_leaf=1, score=0.571899, total=   0.2s\n",
      "[Parallel(n_jobs=1)]: Done 702 out of 702 | elapsed:  8.7min remaining:    0.0s\n",
      "[CV] max_depth=10, max_features=1000, min_samples_leaf=1 .............\n",
      "[CV]  max_depth=10, max_features=1000, min_samples_leaf=1, score=0.573881, total=   0.1s\n",
      "[Parallel(n_jobs=1)]: Done 703 out of 703 | elapsed:  8.7min remaining:    0.0s\n",
      "[CV] max_depth=10, max_features=1000, min_samples_leaf=1 .............\n",
      "[CV]  max_depth=10, max_features=1000, min_samples_leaf=1, score=0.588812, total=   0.1s\n",
      "[Parallel(n_jobs=1)]: Done 704 out of 704 | elapsed:  8.7min remaining:    0.0s\n",
      "[CV] max_depth=10, max_features=1000, min_samples_leaf=1 .............\n",
      "[CV]  max_depth=10, max_features=1000, min_samples_leaf=1, score=0.582438, total=   0.1s\n",
      "[Parallel(n_jobs=1)]: Done 705 out of 705 | elapsed:  8.7min remaining:    0.0s\n",
      "[CV] max_depth=10, max_features=1000, min_samples_leaf=2 .............\n",
      "[CV]  max_depth=10, max_features=1000, min_samples_leaf=2, score=0.571522, total=   0.2s\n",
      "[Parallel(n_jobs=1)]: Done 706 out of 706 | elapsed:  8.7min remaining:    0.0s\n",
      "[CV] max_depth=10, max_features=1000, min_samples_leaf=2 .............\n",
      "[CV]  max_depth=10, max_features=1000, min_samples_leaf=2, score=0.568521, total=   0.2s\n",
      "[Parallel(n_jobs=1)]: Done 707 out of 707 | elapsed:  8.7min remaining:    0.0s\n",
      "[CV] max_depth=10, max_features=1000, min_samples_leaf=2 .............\n",
      "[CV]  max_depth=10, max_features=1000, min_samples_leaf=2, score=0.565121, total=   0.4s\n",
      "[Parallel(n_jobs=1)]: Done 708 out of 708 | elapsed:  8.7min remaining:    0.0s\n",
      "[CV] max_depth=10, max_features=1000, min_samples_leaf=2 .............\n",
      "[CV]  max_depth=10, max_features=1000, min_samples_leaf=2, score=0.579241, total=   0.1s\n",
      "[Parallel(n_jobs=1)]: Done 709 out of 709 | elapsed:  8.7min remaining:    0.0s\n",
      "[CV] max_depth=10, max_features=1000, min_samples_leaf=2 .............\n",
      "[CV]  max_depth=10, max_features=1000, min_samples_leaf=2, score=0.582369, total=   0.1s\n",
      "[Parallel(n_jobs=1)]: Done 710 out of 710 | elapsed:  8.7min remaining:    0.0s\n",
      "[CV] max_depth=10, max_features=1000, min_samples_leaf=5 .............\n",
      "[CV]  max_depth=10, max_features=1000, min_samples_leaf=5, score=0.566098, total=   0.1s\n",
      "[Parallel(n_jobs=1)]: Done 711 out of 711 | elapsed:  8.7min remaining:    0.0s\n",
      "[CV] max_depth=10, max_features=1000, min_samples_leaf=5 .............\n",
      "[CV]  max_depth=10, max_features=1000, min_samples_leaf=5, score=0.566098, total=   0.1s\n",
      "[Parallel(n_jobs=1)]: Done 712 out of 712 | elapsed:  8.7min remaining:    0.0s\n",
      "[CV] max_depth=10, max_features=1000, min_samples_leaf=5 .............\n",
      "[CV]  max_depth=10, max_features=1000, min_samples_leaf=5, score=0.572952, total=   0.1s\n",
      "[Parallel(n_jobs=1)]: Done 713 out of 713 | elapsed:  8.7min remaining:    0.0s\n",
      "[CV] max_depth=10, max_features=1000, min_samples_leaf=5 .............\n",
      "[CV]  max_depth=10, max_features=1000, min_samples_leaf=5, score=0.580285, total=   0.1s\n",
      "[Parallel(n_jobs=1)]: Done 714 out of 714 | elapsed:  8.7min remaining:    0.0s\n",
      "[CV] max_depth=10, max_features=1000, min_samples_leaf=5 .............\n",
      "[CV]  max_depth=10, max_features=1000, min_samples_leaf=5, score=0.565115, total=   0.1s\n",
      "[Parallel(n_jobs=1)]: Done 715 out of 715 | elapsed:  8.8min remaining:    0.0s\n",
      "[CV] max_depth=10, max_features=1000, min_samples_leaf=10 ............\n",
      "[CV]  max_depth=10, max_features=1000, min_samples_leaf=10, score=0.581400, total=   0.1s\n",
      "[Parallel(n_jobs=1)]: Done 716 out of 716 | elapsed:  8.8min remaining:    0.0s\n",
      "[CV] max_depth=10, max_features=1000, min_samples_leaf=10 ............\n",
      "[CV]  max_depth=10, max_features=1000, min_samples_leaf=10, score=0.566098, total=   0.1s\n",
      "[Parallel(n_jobs=1)]: Done 717 out of 717 | elapsed:  8.8min remaining:    0.0s\n",
      "[CV] max_depth=10, max_features=1000, min_samples_leaf=10 ............\n",
      "[CV]  max_depth=10, max_features=1000, min_samples_leaf=10, score=0.559719, total=   0.1s\n",
      "[Parallel(n_jobs=1)]: Done 718 out of 718 | elapsed:  8.8min remaining:    0.0s\n",
      "[CV] max_depth=10, max_features=1000, min_samples_leaf=10 ............\n",
      "[CV]  max_depth=10, max_features=1000, min_samples_leaf=10, score=0.563528, total=   0.1s\n",
      "[Parallel(n_jobs=1)]: Done 719 out of 719 | elapsed:  8.8min remaining:    0.0s\n",
      "[CV] max_depth=10, max_features=1000, min_samples_leaf=10 ............\n",
      "[CV]  max_depth=10, max_features=1000, min_samples_leaf=10, score=0.567079, total=   0.1s\n",
      "[Parallel(n_jobs=1)]: Done 720 out of 720 | elapsed:  8.8min remaining:    0.0s\n",
      "[CV] max_depth=10, max_features=1000, min_samples_leaf=20 ............\n",
      "[CV]  max_depth=10, max_features=1000, min_samples_leaf=20, score=0.562579, total=   0.1s\n",
      "[Parallel(n_jobs=1)]: Done 721 out of 721 | elapsed:  8.8min remaining:    0.0s\n",
      "[CV] max_depth=10, max_features=1000, min_samples_leaf=20 ............\n",
      "[CV]  max_depth=10, max_features=1000, min_samples_leaf=20, score=0.572519, total=   0.1s\n",
      "[Parallel(n_jobs=1)]: Done 722 out of 722 | elapsed:  8.8min remaining:    0.0s\n",
      "[CV] max_depth=10, max_features=1000, min_samples_leaf=20 ............\n",
      "[CV]  max_depth=10, max_features=1000, min_samples_leaf=20, score=0.566098, total=   0.1s\n",
      "[Parallel(n_jobs=1)]: Done 723 out of 723 | elapsed:  8.8min remaining:    0.0s\n",
      "[CV] max_depth=10, max_features=1000, min_samples_leaf=20 ............\n",
      "[CV]  max_depth=10, max_features=1000, min_samples_leaf=20, score=0.561628, total=   0.1s\n",
      "[Parallel(n_jobs=1)]: Done 724 out of 724 | elapsed:  8.8min remaining:    0.0s\n",
      "[CV] max_depth=10, max_features=1000, min_samples_leaf=20 ............\n",
      "[CV]  max_depth=10, max_features=1000, min_samples_leaf=20, score=0.564499, total=   0.1s\n",
      "[Parallel(n_jobs=1)]: Done 725 out of 725 | elapsed:  8.8min remaining:    0.0s\n",
      "[CV] max_depth=10, max_features=None, min_samples_leaf=1 .............\n",
      "[CV]  max_depth=10, max_features=None, min_samples_leaf=1, score=0.581249, total=   0.3s\n",
      "[Parallel(n_jobs=1)]: Done 726 out of 726 | elapsed:  8.8min remaining:    0.0s\n",
      "[CV] max_depth=10, max_features=None, min_samples_leaf=1 .............\n",
      "[CV]  max_depth=10, max_features=None, min_samples_leaf=1, score=0.559424, total=   0.3s\n",
      "[Parallel(n_jobs=1)]: Done 727 out of 727 | elapsed:  8.8min remaining:    0.0s\n",
      "[CV] max_depth=10, max_features=None, min_samples_leaf=1 .............\n",
      "[CV]  max_depth=10, max_features=None, min_samples_leaf=1, score=0.569588, total=   0.3s\n",
      "[Parallel(n_jobs=1)]: Done 728 out of 728 | elapsed:  8.8min remaining:    0.0s\n",
      "[CV] max_depth=10, max_features=None, min_samples_leaf=1 .............\n",
      "[CV]  max_depth=10, max_features=None, min_samples_leaf=1, score=0.587662, total=   0.3s\n",
      "[Parallel(n_jobs=1)]: Done 729 out of 729 | elapsed:  8.8min remaining:    0.0s\n",
      "[CV] max_depth=10, max_features=None, min_samples_leaf=1 .............\n",
      "[CV]  max_depth=10, max_features=None, min_samples_leaf=1, score=0.587044, total=   0.2s\n",
      "[Parallel(n_jobs=1)]: Done 730 out of 730 | elapsed:  8.8min remaining:    0.0s\n",
      "[CV] max_depth=10, max_features=None, min_samples_leaf=2 .............\n",
      "[CV]  max_depth=10, max_features=None, min_samples_leaf=2, score=0.565121, total=   0.2s\n",
      "[Parallel(n_jobs=1)]: Done 731 out of 731 | elapsed:  8.8min remaining:    0.0s\n",
      "[CV] max_depth=10, max_features=None, min_samples_leaf=2 .............\n",
      "[CV]  max_depth=10, max_features=None, min_samples_leaf=2, score=0.579262, total=   0.3s\n",
      "[Parallel(n_jobs=1)]: Done 732 out of 732 | elapsed:  8.8min remaining:    0.0s\n",
      "[CV] max_depth=10, max_features=None, min_samples_leaf=2 .............\n",
      "[CV]  max_depth=10, max_features=None, min_samples_leaf=2, score=0.568744, total=   0.3s\n",
      "[Parallel(n_jobs=1)]: Done 733 out of 733 | elapsed:  8.8min remaining:    0.0s\n",
      "[CV] max_depth=10, max_features=None, min_samples_leaf=2 .............\n"
     ]
    },
    {
     "name": "stdout",
     "output_type": "stream",
     "text": [
      "[CV]  max_depth=10, max_features=None, min_samples_leaf=2, score=0.587562, total=   0.3s\n",
      "[Parallel(n_jobs=1)]: Done 734 out of 734 | elapsed:  8.8min remaining:    0.0s\n",
      "[CV] max_depth=10, max_features=None, min_samples_leaf=2 .............\n",
      "[CV]  max_depth=10, max_features=None, min_samples_leaf=2, score=0.581184, total=   0.3s\n",
      "[Parallel(n_jobs=1)]: Done 735 out of 735 | elapsed:  8.8min remaining:    0.0s\n",
      "[CV] max_depth=10, max_features=None, min_samples_leaf=5 .............\n",
      "[CV]  max_depth=10, max_features=None, min_samples_leaf=5, score=0.577120, total=   0.2s\n",
      "[Parallel(n_jobs=1)]: Done 736 out of 736 | elapsed:  8.9min remaining:    0.0s\n",
      "[CV] max_depth=10, max_features=None, min_samples_leaf=5 .............\n",
      "[CV]  max_depth=10, max_features=None, min_samples_leaf=5, score=0.570846, total=   0.3s\n",
      "[Parallel(n_jobs=1)]: Done 737 out of 737 | elapsed:  8.9min remaining:    0.0s\n",
      "[CV] max_depth=10, max_features=None, min_samples_leaf=5 .............\n",
      "[CV]  max_depth=10, max_features=None, min_samples_leaf=5, score=0.569791, total=   0.3s\n",
      "[Parallel(n_jobs=1)]: Done 738 out of 738 | elapsed:  8.9min remaining:    0.0s\n",
      "[CV] max_depth=10, max_features=None, min_samples_leaf=5 .............\n",
      "[CV]  max_depth=10, max_features=None, min_samples_leaf=5, score=0.599723, total=   0.2s\n",
      "[Parallel(n_jobs=1)]: Done 739 out of 739 | elapsed:  8.9min remaining:    0.0s\n",
      "[CV] max_depth=10, max_features=None, min_samples_leaf=5 .............\n",
      "[CV]  max_depth=10, max_features=None, min_samples_leaf=5, score=0.584079, total=   0.2s\n",
      "[Parallel(n_jobs=1)]: Done 740 out of 740 | elapsed:  8.9min remaining:    0.0s\n",
      "[CV] max_depth=10, max_features=None, min_samples_leaf=10 ............\n",
      "[CV]  max_depth=10, max_features=None, min_samples_leaf=10, score=0.589962, total=   0.2s\n",
      "[Parallel(n_jobs=1)]: Done 741 out of 741 | elapsed:  8.9min remaining:    0.0s\n",
      "[CV] max_depth=10, max_features=None, min_samples_leaf=10 ............\n",
      "[CV]  max_depth=10, max_features=None, min_samples_leaf=10, score=0.560674, total=   0.2s\n",
      "[Parallel(n_jobs=1)]: Done 742 out of 742 | elapsed:  8.9min remaining:    0.0s\n",
      "[CV] max_depth=10, max_features=None, min_samples_leaf=10 ............\n",
      "[CV]  max_depth=10, max_features=None, min_samples_leaf=10, score=0.584522, total=   0.2s\n",
      "[Parallel(n_jobs=1)]: Done 743 out of 743 | elapsed:  8.9min remaining:    0.0s\n",
      "[CV] max_depth=10, max_features=None, min_samples_leaf=10 ............\n",
      "[CV]  max_depth=10, max_features=None, min_samples_leaf=10, score=0.569523, total=   0.2s\n",
      "[Parallel(n_jobs=1)]: Done 744 out of 744 | elapsed:  8.9min remaining:    0.0s\n",
      "[CV] max_depth=10, max_features=None, min_samples_leaf=10 ............\n",
      "[CV]  max_depth=10, max_features=None, min_samples_leaf=10, score=0.572832, total=   0.2s\n",
      "[Parallel(n_jobs=1)]: Done 745 out of 745 | elapsed:  8.9min remaining:    0.0s\n",
      "[CV] max_depth=10, max_features=None, min_samples_leaf=20 ............\n",
      "[CV]  max_depth=10, max_features=None, min_samples_leaf=20, score=0.576875, total=   0.3s\n",
      "[Parallel(n_jobs=1)]: Done 746 out of 746 | elapsed:  8.9min remaining:    0.0s\n",
      "[CV] max_depth=10, max_features=None, min_samples_leaf=20 ............\n",
      "[CV]  max_depth=10, max_features=None, min_samples_leaf=20, score=0.582468, total=   0.2s\n",
      "[Parallel(n_jobs=1)]: Done 747 out of 747 | elapsed:  8.9min remaining:    0.0s\n",
      "[CV] max_depth=10, max_features=None, min_samples_leaf=20 ............\n",
      "[CV]  max_depth=10, max_features=None, min_samples_leaf=20, score=0.577120, total=   0.2s\n",
      "[Parallel(n_jobs=1)]: Done 748 out of 748 | elapsed:  8.9min remaining:    0.0s\n",
      "[CV] max_depth=10, max_features=None, min_samples_leaf=20 ............\n",
      "[CV]  max_depth=10, max_features=None, min_samples_leaf=20, score=0.585666, total=   0.2s\n",
      "[Parallel(n_jobs=1)]: Done 749 out of 749 | elapsed:  8.9min remaining:    0.0s\n",
      "[CV] max_depth=10, max_features=None, min_samples_leaf=20 ............\n",
      "[CV]  max_depth=10, max_features=None, min_samples_leaf=20, score=0.571522, total=   0.2s\n",
      "[Parallel(n_jobs=1)]: Done 750 out of 750 | elapsed:  8.9min remaining:    0.0s\n",
      "[Parallel(n_jobs=1)]: Done 750 out of 750 | elapsed:  8.9min finished\n"
     ]
    },
    {
     "data": {
      "text/plain": [
       "GridSearchCV(cv=5, error_score='raise',\n",
       "       estimator=RandomForestClassifier(bootstrap=True, class_weight=None, criterion='gini',\n",
       "            max_depth=None, max_features='auto', max_leaf_nodes=None,\n",
       "            min_impurity_split=1e-07, min_samples_leaf=1,\n",
       "            min_samples_split=2, min_weight_fraction_leaf=0.0,\n",
       "            n_estimators=10, n_jobs=1, oob_score=False, random_state=None,\n",
       "            verbose=0, warm_start=False),\n",
       "       fit_params={}, iid=True, n_jobs=1,\n",
       "       param_grid={'max_features': ('auto', 'log2', 500, 1000, None), 'max_depth': [None, 100, 50, 30, 20, 10], 'min_samples_leaf': [1, 2, 5, 10, 20]},\n",
       "       pre_dispatch='2*n_jobs', refit=True, return_train_score=True,\n",
       "       scoring='f1_weighted', verbose=5000)"
      ]
     },
     "execution_count": 101,
     "metadata": {},
     "output_type": "execute_result"
    }
   ],
   "source": [
    "from sklearn import svm, datasets\n",
    "from sklearn.model_selection import GridSearchCV\n",
    "from sklearn.ensemble import RandomForestClassifier\n",
    "\n",
    "#'criterion':('gini', 'entropy'), \n",
    "              #'n_estimators':[10,20,50],\n",
    "parameters = {'max_features':(\"auto\", \"log2\", 500, 1000, None),\n",
    "             'max_depth':[None, 100, 50, 30, 20, 10],\n",
    "              'min_samples_leaf':[1,2,5,10,20]}\n",
    "\n",
    "# On utilise comme score le score F1 pour une moyenne du rappel et de la précision (objectif sous-jacent) :\n",
    "# ne pas coder trop souvnet en homme.\n",
    "svc = RandomForestClassifier()\n",
    "clf = GridSearchCV(svc, parameters, cv=5, scoring = \"f1_weighted\", verbose=5000)\n",
    "clf.fit(feat_train, y_train)"
   ]
  },
  {
   "cell_type": "code",
   "execution_count": 245,
   "metadata": {},
   "outputs": [
    {
     "data": {
      "text/plain": [
       "RandomForestClassifier(bootstrap=True, class_weight=None, criterion='gini',\n",
       "            max_depth=None, max_features='auto', max_leaf_nodes=None,\n",
       "            min_impurity_split=1e-07, min_samples_leaf=1,\n",
       "            min_samples_split=2, min_weight_fraction_leaf=0.0,\n",
       "            n_estimators=10, n_jobs=1, oob_score=False, random_state=None,\n",
       "            verbose=0, warm_start=False)"
      ]
     },
     "execution_count": 245,
     "metadata": {},
     "output_type": "execute_result"
    }
   ],
   "source": [
    "clf.estimator"
   ]
  },
  {
   "cell_type": "code",
   "execution_count": 246,
   "metadata": {},
   "outputs": [
    {
     "data": {
      "text/plain": [
       "0.628695852201725"
      ]
     },
     "execution_count": 246,
     "metadata": {},
     "output_type": "execute_result"
    }
   ],
   "source": [
    "clf.score(feat_test, y_test)"
   ]
  },
  {
   "cell_type": "code",
   "execution_count": 247,
   "metadata": {},
   "outputs": [
    {
     "data": {
      "text/plain": [
       "<matplotlib.text.Text at 0x24784aa25f8>"
      ]
     },
     "execution_count": 247,
     "metadata": {},
     "output_type": "execute_result"
    },
    {
     "data": {
      "image/png": "[encoded data removed]",
      "text/plain": [
       "<matplotlib.figure.Figure at 0x24784a8bfd0>"
      ]
     },
     "metadata": {},
     "output_type": "display_data"
    }
   ],
   "source": [
    "y_pred = clf.predict(feat_test)\n",
    "\n",
    "cnf_matrix = confusion_matrix(y_test, y_pred)\n",
    "\n",
    "plt.figure()\n",
    "sn.heatmap(matrice_a_tracer, annot=True, fmt =\"d\")\n",
    "plt.xlabel(\"Sexe prédit\")\n",
    "plt.ylabel(\"Sexe à prédire\")\n",
    "## Bof, après différents test souvent pas top du tout..."
   ]
  },
  {
   "cell_type": "markdown",
   "metadata": {},
   "source": [
    "### Régression logistique"
   ]
  },
  {
   "cell_type": "code",
   "execution_count": 144,
   "metadata": {},
   "outputs": [
    {
     "name": "stdout",
     "output_type": "stream",
     "text": [
      "Fitting 5 folds for each of 36 candidates, totalling 180 fits\n",
      "[CV] C=0.01, penalty=l1 ..............................................\n",
      "[CV] ............... C=0.01, penalty=l1, score=0.559392, total=   0.0s\n",
      "[Parallel(n_jobs=1)]: Done   1 out of   1 | elapsed:    0.0s remaining:    0.0s\n",
      "[CV] C=0.01, penalty=l1 ..............................................\n"
     ]
    },
    {
     "name": "stderr",
     "output_type": "stream",
     "text": [
      "C:\\Users\\maxim\\Anaconda3\\lib\\site-packages\\sklearn\\metrics\\classification.py:1113: UndefinedMetricWarning: F-score is ill-defined and being set to 0.0 in labels with no predicted samples.\n",
      "  'precision', 'predicted', average, warn_for)\n",
      "C:\\Users\\maxim\\Anaconda3\\lib\\site-packages\\sklearn\\metrics\\classification.py:1113: UndefinedMetricWarning: F-score is ill-defined and being set to 0.0 in labels with no predicted samples.\n",
      "  'precision', 'predicted', average, warn_for)\n",
      "C:\\Users\\maxim\\Anaconda3\\lib\\site-packages\\sklearn\\metrics\\classification.py:1113: UndefinedMetricWarning: F-score is ill-defined and being set to 0.0 in labels with no predicted samples.\n",
      "  'precision', 'predicted', average, warn_for)\n",
      "C:\\Users\\maxim\\Anaconda3\\lib\\site-packages\\sklearn\\metrics\\classification.py:1113: UndefinedMetricWarning: F-score is ill-defined and being set to 0.0 in labels with no predicted samples.\n",
      "  'precision', 'predicted', average, warn_for)\n"
     ]
    },
    {
     "name": "stdout",
     "output_type": "stream",
     "text": [
      "[CV] ............... C=0.01, penalty=l1, score=0.559392, total=   0.0s\n",
      "[Parallel(n_jobs=1)]: Done   2 out of   2 | elapsed:    0.1s remaining:    0.0s\n",
      "[CV] C=0.01, penalty=l1 ..............................................\n",
      "[CV] ............... C=0.01, penalty=l1, score=0.559392, total=   0.0s\n",
      "[Parallel(n_jobs=1)]: Done   3 out of   3 | elapsed:    0.2s remaining:    0.0s\n",
      "[CV] C=0.01, penalty=l1 ..............................................\n",
      "[CV] ............... C=0.01, penalty=l1, score=0.561140, total=   0.0s\n",
      "[Parallel(n_jobs=1)]: Done   4 out of   4 | elapsed:    0.2s remaining:    0.0s\n",
      "[CV] C=0.01, penalty=l1 ..............................................\n",
      "[CV] ............... C=0.01, penalty=l1, score=0.561140, total=   0.0s\n",
      "[Parallel(n_jobs=1)]: Done   5 out of   5 | elapsed:    0.3s remaining:    0.0s\n",
      "[CV] C=0.01, penalty=l2 ..............................................\n",
      "[CV] ............... C=0.01, penalty=l2, score=0.559392, total=   0.0s\n",
      "[Parallel(n_jobs=1)]: Done   6 out of   6 | elapsed:    0.3s remaining:    0.0s\n",
      "[CV] C=0.01, penalty=l2 ..............................................\n"
     ]
    },
    {
     "name": "stderr",
     "output_type": "stream",
     "text": [
      "C:\\Users\\maxim\\Anaconda3\\lib\\site-packages\\sklearn\\metrics\\classification.py:1113: UndefinedMetricWarning: F-score is ill-defined and being set to 0.0 in labels with no predicted samples.\n",
      "  'precision', 'predicted', average, warn_for)\n",
      "C:\\Users\\maxim\\Anaconda3\\lib\\site-packages\\sklearn\\metrics\\classification.py:1113: UndefinedMetricWarning: F-score is ill-defined and being set to 0.0 in labels with no predicted samples.\n",
      "  'precision', 'predicted', average, warn_for)\n",
      "C:\\Users\\maxim\\Anaconda3\\lib\\site-packages\\sklearn\\metrics\\classification.py:1113: UndefinedMetricWarning: F-score is ill-defined and being set to 0.0 in labels with no predicted samples.\n",
      "  'precision', 'predicted', average, warn_for)\n",
      "C:\\Users\\maxim\\Anaconda3\\lib\\site-packages\\sklearn\\metrics\\classification.py:1113: UndefinedMetricWarning: F-score is ill-defined and being set to 0.0 in labels with no predicted samples.\n",
      "  'precision', 'predicted', average, warn_for)\n",
      "C:\\Users\\maxim\\Anaconda3\\lib\\site-packages\\sklearn\\metrics\\classification.py:1113: UndefinedMetricWarning: F-score is ill-defined and being set to 0.0 in labels with no predicted samples.\n",
      "  'precision', 'predicted', average, warn_for)\n"
     ]
    },
    {
     "name": "stdout",
     "output_type": "stream",
     "text": [
      "[CV] ............... C=0.01, penalty=l2, score=0.559392, total=   0.0s\n",
      "[Parallel(n_jobs=1)]: Done   7 out of   7 | elapsed:    0.3s remaining:    0.0s\n",
      "[CV] C=0.01, penalty=l2 ..............................................\n",
      "[CV] ............... C=0.01, penalty=l2, score=0.559392, total=   0.0s\n",
      "[Parallel(n_jobs=1)]: Done   8 out of   8 | elapsed:    0.4s remaining:    0.0s\n",
      "[CV] C=0.01, penalty=l2 ..............................................\n",
      "[CV] ............... C=0.01, penalty=l2, score=0.561140, total=   0.0s\n",
      "[Parallel(n_jobs=1)]: Done   9 out of   9 | elapsed:    0.4s remaining:    0.0s\n",
      "[CV] C=0.01, penalty=l2 ..............................................\n",
      "[CV] ............... C=0.01, penalty=l2, score=0.561140, total=   0.0s\n",
      "[Parallel(n_jobs=1)]: Done  10 out of  10 | elapsed:    0.5s remaining:    0.0s\n",
      "[CV] C=0.05, penalty=l1 ..............................................\n",
      "[CV] ............... C=0.05, penalty=l1, score=0.559392, total=   0.0s\n",
      "[Parallel(n_jobs=1)]: Done  11 out of  11 | elapsed:    0.5s remaining:    0.0s\n",
      "[CV] C=0.05, penalty=l1 ..............................................\n"
     ]
    },
    {
     "name": "stderr",
     "output_type": "stream",
     "text": [
      "C:\\Users\\maxim\\Anaconda3\\lib\\site-packages\\sklearn\\metrics\\classification.py:1113: UndefinedMetricWarning: F-score is ill-defined and being set to 0.0 in labels with no predicted samples.\n",
      "  'precision', 'predicted', average, warn_for)\n",
      "C:\\Users\\maxim\\Anaconda3\\lib\\site-packages\\sklearn\\metrics\\classification.py:1113: UndefinedMetricWarning: F-score is ill-defined and being set to 0.0 in labels with no predicted samples.\n",
      "  'precision', 'predicted', average, warn_for)\n",
      "C:\\Users\\maxim\\Anaconda3\\lib\\site-packages\\sklearn\\metrics\\classification.py:1113: UndefinedMetricWarning: F-score is ill-defined and being set to 0.0 in labels with no predicted samples.\n",
      "  'precision', 'predicted', average, warn_for)\n",
      "C:\\Users\\maxim\\Anaconda3\\lib\\site-packages\\sklearn\\metrics\\classification.py:1113: UndefinedMetricWarning: F-score is ill-defined and being set to 0.0 in labels with no predicted samples.\n",
      "  'precision', 'predicted', average, warn_for)\n"
     ]
    },
    {
     "name": "stdout",
     "output_type": "stream",
     "text": [
      "[CV] ............... C=0.05, penalty=l1, score=0.559392, total=   0.0s\n",
      "[Parallel(n_jobs=1)]: Done  12 out of  12 | elapsed:    0.6s remaining:    0.0s\n",
      "[CV] C=0.05, penalty=l1 ..............................................\n",
      "[CV] ............... C=0.05, penalty=l1, score=0.559392, total=   0.0s\n",
      "[Parallel(n_jobs=1)]: Done  13 out of  13 | elapsed:    0.6s remaining:    0.0s\n",
      "[CV] C=0.05, penalty=l1 ..............................................\n",
      "[CV] ............... C=0.05, penalty=l1, score=0.561140, total=   0.0s\n",
      "[Parallel(n_jobs=1)]: Done  14 out of  14 | elapsed:    0.7s remaining:    0.0s\n",
      "[CV] C=0.05, penalty=l1 ..............................................\n",
      "[CV] ............... C=0.05, penalty=l1, score=0.561140, total=   0.0s\n",
      "[Parallel(n_jobs=1)]: Done  15 out of  15 | elapsed:    0.7s remaining:    0.0s\n",
      "[CV] C=0.05, penalty=l2 ..............................................\n",
      "[CV] ............... C=0.05, penalty=l2, score=0.559392, total=   0.0s\n",
      "[Parallel(n_jobs=1)]: Done  16 out of  16 | elapsed:    0.7s remaining:    0.0s\n",
      "[CV] C=0.05, penalty=l2 ..............................................\n",
      "[CV] ............... C=0.05, penalty=l2, score=0.559392, total=   0.0s\n",
      "[Parallel(n_jobs=1)]: Done  17 out of  17 | elapsed:    0.8s remaining:    0.0s\n",
      "[CV] C=0.05, penalty=l2 ..............................................\n"
     ]
    },
    {
     "name": "stderr",
     "output_type": "stream",
     "text": [
      "C:\\Users\\maxim\\Anaconda3\\lib\\site-packages\\sklearn\\metrics\\classification.py:1113: UndefinedMetricWarning: F-score is ill-defined and being set to 0.0 in labels with no predicted samples.\n",
      "  'precision', 'predicted', average, warn_for)\n",
      "C:\\Users\\maxim\\Anaconda3\\lib\\site-packages\\sklearn\\metrics\\classification.py:1113: UndefinedMetricWarning: F-score is ill-defined and being set to 0.0 in labels with no predicted samples.\n",
      "  'precision', 'predicted', average, warn_for)\n",
      "C:\\Users\\maxim\\Anaconda3\\lib\\site-packages\\sklearn\\metrics\\classification.py:1113: UndefinedMetricWarning: F-score is ill-defined and being set to 0.0 in labels with no predicted samples.\n",
      "  'precision', 'predicted', average, warn_for)\n",
      "C:\\Users\\maxim\\Anaconda3\\lib\\site-packages\\sklearn\\metrics\\classification.py:1113: UndefinedMetricWarning: F-score is ill-defined and being set to 0.0 in labels with no predicted samples.\n",
      "  'precision', 'predicted', average, warn_for)\n",
      "C:\\Users\\maxim\\Anaconda3\\lib\\site-packages\\sklearn\\metrics\\classification.py:1113: UndefinedMetricWarning: F-score is ill-defined and being set to 0.0 in labels with no predicted samples.\n",
      "  'precision', 'predicted', average, warn_for)\n",
      "C:\\Users\\maxim\\Anaconda3\\lib\\site-packages\\sklearn\\metrics\\classification.py:1113: UndefinedMetricWarning: F-score is ill-defined and being set to 0.0 in labels with no predicted samples.\n",
      "  'precision', 'predicted', average, warn_for)\n"
     ]
    },
    {
     "name": "stdout",
     "output_type": "stream",
     "text": [
      "[CV] ............... C=0.05, penalty=l2, score=0.559392, total=   0.0s\n",
      "[Parallel(n_jobs=1)]: Done  18 out of  18 | elapsed:    0.8s remaining:    0.0s\n",
      "[CV] C=0.05, penalty=l2 ..............................................\n",
      "[CV] ............... C=0.05, penalty=l2, score=0.561140, total=   0.0s\n",
      "[Parallel(n_jobs=1)]: Done  19 out of  19 | elapsed:    0.8s remaining:    0.0s\n",
      "[CV] C=0.05, penalty=l2 ..............................................\n",
      "[CV] ............... C=0.05, penalty=l2, score=0.561140, total=   0.0s\n",
      "[Parallel(n_jobs=1)]: Done  20 out of  20 | elapsed:    0.9s remaining:    0.0s\n",
      "[CV] C=0.1, penalty=l1 ...............................................\n",
      "[CV] ................ C=0.1, penalty=l1, score=0.559392, total=   0.0s\n",
      "[Parallel(n_jobs=1)]: Done  21 out of  21 | elapsed:    1.0s remaining:    0.0s\n",
      "[CV] C=0.1, penalty=l1 ...............................................\n"
     ]
    },
    {
     "name": "stderr",
     "output_type": "stream",
     "text": [
      "C:\\Users\\maxim\\Anaconda3\\lib\\site-packages\\sklearn\\metrics\\classification.py:1113: UndefinedMetricWarning: F-score is ill-defined and being set to 0.0 in labels with no predicted samples.\n",
      "  'precision', 'predicted', average, warn_for)\n",
      "C:\\Users\\maxim\\Anaconda3\\lib\\site-packages\\sklearn\\metrics\\classification.py:1113: UndefinedMetricWarning: F-score is ill-defined and being set to 0.0 in labels with no predicted samples.\n",
      "  'precision', 'predicted', average, warn_for)\n",
      "C:\\Users\\maxim\\Anaconda3\\lib\\site-packages\\sklearn\\metrics\\classification.py:1113: UndefinedMetricWarning: F-score is ill-defined and being set to 0.0 in labels with no predicted samples.\n",
      "  'precision', 'predicted', average, warn_for)\n",
      "C:\\Users\\maxim\\Anaconda3\\lib\\site-packages\\sklearn\\metrics\\classification.py:1113: UndefinedMetricWarning: F-score is ill-defined and being set to 0.0 in labels with no predicted samples.\n",
      "  'precision', 'predicted', average, warn_for)\n"
     ]
    },
    {
     "name": "stdout",
     "output_type": "stream",
     "text": [
      "[CV] ................ C=0.1, penalty=l1, score=0.559392, total=   0.0s\n",
      "[Parallel(n_jobs=1)]: Done  22 out of  22 | elapsed:    1.1s remaining:    0.0s\n",
      "[CV] C=0.1, penalty=l1 ...............................................\n",
      "[CV] ................ C=0.1, penalty=l1, score=0.559392, total=   0.0s\n",
      "[Parallel(n_jobs=1)]: Done  23 out of  23 | elapsed:    1.1s remaining:    0.0s\n",
      "[CV] C=0.1, penalty=l1 ...............................................\n",
      "[CV] ................ C=0.1, penalty=l1, score=0.561140, total=   0.0s\n",
      "[Parallel(n_jobs=1)]: Done  24 out of  24 | elapsed:    1.1s remaining:    0.0s\n",
      "[CV] C=0.1, penalty=l1 ...............................................\n",
      "[CV] ................ C=0.1, penalty=l1, score=0.561140, total=   0.0s\n",
      "[Parallel(n_jobs=1)]: Done  25 out of  25 | elapsed:    1.2s remaining:    0.0s\n",
      "[CV] C=0.1, penalty=l2 ...............................................\n",
      "[CV] ................ C=0.1, penalty=l2, score=0.559392, total=   0.0s\n",
      "[Parallel(n_jobs=1)]: Done  26 out of  26 | elapsed:    1.2s remaining:    0.0s\n",
      "[CV] C=0.1, penalty=l2 ...............................................\n"
     ]
    },
    {
     "name": "stderr",
     "output_type": "stream",
     "text": [
      "C:\\Users\\maxim\\Anaconda3\\lib\\site-packages\\sklearn\\metrics\\classification.py:1113: UndefinedMetricWarning: F-score is ill-defined and being set to 0.0 in labels with no predicted samples.\n",
      "  'precision', 'predicted', average, warn_for)\n",
      "C:\\Users\\maxim\\Anaconda3\\lib\\site-packages\\sklearn\\metrics\\classification.py:1113: UndefinedMetricWarning: F-score is ill-defined and being set to 0.0 in labels with no predicted samples.\n",
      "  'precision', 'predicted', average, warn_for)\n",
      "C:\\Users\\maxim\\Anaconda3\\lib\\site-packages\\sklearn\\metrics\\classification.py:1113: UndefinedMetricWarning: F-score is ill-defined and being set to 0.0 in labels with no predicted samples.\n",
      "  'precision', 'predicted', average, warn_for)\n",
      "C:\\Users\\maxim\\Anaconda3\\lib\\site-packages\\sklearn\\metrics\\classification.py:1113: UndefinedMetricWarning: F-score is ill-defined and being set to 0.0 in labels with no predicted samples.\n",
      "  'precision', 'predicted', average, warn_for)\n"
     ]
    },
    {
     "name": "stdout",
     "output_type": "stream",
     "text": [
      "[CV] ................ C=0.1, penalty=l2, score=0.559392, total=   0.0s\n",
      "[Parallel(n_jobs=1)]: Done  27 out of  27 | elapsed:    1.3s remaining:    0.0s\n",
      "[CV] C=0.1, penalty=l2 ...............................................\n",
      "[CV] ................ C=0.1, penalty=l2, score=0.559392, total=   0.0s\n",
      "[Parallel(n_jobs=1)]: Done  28 out of  28 | elapsed:    1.4s remaining:    0.0s\n",
      "[CV] C=0.1, penalty=l2 ...............................................\n",
      "[CV] ................ C=0.1, penalty=l2, score=0.561140, total=   0.0s\n",
      "[Parallel(n_jobs=1)]: Done  29 out of  29 | elapsed:    1.4s remaining:    0.0s\n",
      "[CV] C=0.1, penalty=l2 ...............................................\n",
      "[CV] ................ C=0.1, penalty=l2, score=0.561140, total=   0.0s\n",
      "[Parallel(n_jobs=1)]: Done  30 out of  30 | elapsed:    1.5s remaining:    0.0s\n",
      "[CV] C=0.2, penalty=l1 ...............................................\n"
     ]
    },
    {
     "name": "stderr",
     "output_type": "stream",
     "text": [
      "C:\\Users\\maxim\\Anaconda3\\lib\\site-packages\\sklearn\\metrics\\classification.py:1113: UndefinedMetricWarning: F-score is ill-defined and being set to 0.0 in labels with no predicted samples.\n",
      "  'precision', 'predicted', average, warn_for)\n",
      "C:\\Users\\maxim\\Anaconda3\\lib\\site-packages\\sklearn\\metrics\\classification.py:1113: UndefinedMetricWarning: F-score is ill-defined and being set to 0.0 in labels with no predicted samples.\n",
      "  'precision', 'predicted', average, warn_for)\n",
      "C:\\Users\\maxim\\Anaconda3\\lib\\site-packages\\sklearn\\metrics\\classification.py:1113: UndefinedMetricWarning: F-score is ill-defined and being set to 0.0 in labels with no predicted samples.\n",
      "  'precision', 'predicted', average, warn_for)\n",
      "C:\\Users\\maxim\\Anaconda3\\lib\\site-packages\\sklearn\\metrics\\classification.py:1113: UndefinedMetricWarning: F-score is ill-defined and being set to 0.0 in labels with no predicted samples.\n",
      "  'precision', 'predicted', average, warn_for)\n"
     ]
    },
    {
     "name": "stdout",
     "output_type": "stream",
     "text": [
      "[CV] ................ C=0.2, penalty=l1, score=0.559392, total=   0.0s\n",
      "[Parallel(n_jobs=1)]: Done  31 out of  31 | elapsed:    1.6s remaining:    0.0s\n",
      "[CV] C=0.2, penalty=l1 ...............................................\n",
      "[CV] ................ C=0.2, penalty=l1, score=0.559392, total=   0.0s\n",
      "[Parallel(n_jobs=1)]: Done  32 out of  32 | elapsed:    1.6s remaining:    0.0s\n",
      "[CV] C=0.2, penalty=l1 ...............................................\n",
      "[CV] ................ C=0.2, penalty=l1, score=0.559392, total=   0.0s\n",
      "[Parallel(n_jobs=1)]: Done  33 out of  33 | elapsed:    1.7s remaining:    0.0s\n",
      "[CV] C=0.2, penalty=l1 ...............................................\n",
      "[CV] ................ C=0.2, penalty=l1, score=0.561140, total=   0.0s\n",
      "[Parallel(n_jobs=1)]: Done  34 out of  34 | elapsed:    1.7s remaining:    0.0s\n",
      "[CV] C=0.2, penalty=l1 ...............................................\n"
     ]
    },
    {
     "name": "stderr",
     "output_type": "stream",
     "text": [
      "C:\\Users\\maxim\\Anaconda3\\lib\\site-packages\\sklearn\\metrics\\classification.py:1113: UndefinedMetricWarning: F-score is ill-defined and being set to 0.0 in labels with no predicted samples.\n",
      "  'precision', 'predicted', average, warn_for)\n",
      "C:\\Users\\maxim\\Anaconda3\\lib\\site-packages\\sklearn\\metrics\\classification.py:1113: UndefinedMetricWarning: F-score is ill-defined and being set to 0.0 in labels with no predicted samples.\n",
      "  'precision', 'predicted', average, warn_for)\n",
      "C:\\Users\\maxim\\Anaconda3\\lib\\site-packages\\sklearn\\metrics\\classification.py:1113: UndefinedMetricWarning: F-score is ill-defined and being set to 0.0 in labels with no predicted samples.\n",
      "  'precision', 'predicted', average, warn_for)\n",
      "C:\\Users\\maxim\\Anaconda3\\lib\\site-packages\\sklearn\\metrics\\classification.py:1113: UndefinedMetricWarning: F-score is ill-defined and being set to 0.0 in labels with no predicted samples.\n",
      "  'precision', 'predicted', average, warn_for)\n",
      "C:\\Users\\maxim\\Anaconda3\\lib\\site-packages\\sklearn\\metrics\\classification.py:1113: UndefinedMetricWarning: F-score is ill-defined and being set to 0.0 in labels with no predicted samples.\n",
      "  'precision', 'predicted', average, warn_for)\n"
     ]
    },
    {
     "name": "stdout",
     "output_type": "stream",
     "text": [
      "[CV] ................ C=0.2, penalty=l1, score=0.561140, total=   0.0s\n",
      "[Parallel(n_jobs=1)]: Done  35 out of  35 | elapsed:    1.8s remaining:    0.0s\n",
      "[CV] C=0.2, penalty=l2 ...............................................\n",
      "[CV] ................ C=0.2, penalty=l2, score=0.559392, total=   0.0s\n",
      "[Parallel(n_jobs=1)]: Done  36 out of  36 | elapsed:    1.8s remaining:    0.0s\n",
      "[CV] C=0.2, penalty=l2 ...............................................\n",
      "[CV] ................ C=0.2, penalty=l2, score=0.559392, total=   0.0s\n",
      "[Parallel(n_jobs=1)]: Done  37 out of  37 | elapsed:    1.9s remaining:    0.0s\n",
      "[CV] C=0.2, penalty=l2 ...............................................\n",
      "[CV] ................ C=0.2, penalty=l2, score=0.559392, total=   0.0s\n",
      "[Parallel(n_jobs=1)]: Done  38 out of  38 | elapsed:    1.9s remaining:    0.0s\n",
      "[CV] C=0.2, penalty=l2 ...............................................\n",
      "[CV] ................ C=0.2, penalty=l2, score=0.561140, total=   0.0s\n",
      "[Parallel(n_jobs=1)]: Done  39 out of  39 | elapsed:    1.9s remaining:    0.0s\n",
      "[CV] C=0.2, penalty=l2 ...............................................\n",
      "[CV] ................ C=0.2, penalty=l2, score=0.561140, total=   0.0s\n",
      "[Parallel(n_jobs=1)]: Done  40 out of  40 | elapsed:    2.0s remaining:    0.0s\n",
      "[CV] C=0.5, penalty=l1 ...............................................\n",
      "[CV] ................ C=0.5, penalty=l1, score=0.559392, total=   0.0s\n",
      "[Parallel(n_jobs=1)]: Done  41 out of  41 | elapsed:    2.0s remaining:    0.0s\n",
      "[CV] C=0.5, penalty=l1 ...............................................\n"
     ]
    },
    {
     "name": "stderr",
     "output_type": "stream",
     "text": [
      "C:\\Users\\maxim\\Anaconda3\\lib\\site-packages\\sklearn\\metrics\\classification.py:1113: UndefinedMetricWarning: F-score is ill-defined and being set to 0.0 in labels with no predicted samples.\n",
      "  'precision', 'predicted', average, warn_for)\n",
      "C:\\Users\\maxim\\Anaconda3\\lib\\site-packages\\sklearn\\metrics\\classification.py:1113: UndefinedMetricWarning: F-score is ill-defined and being set to 0.0 in labels with no predicted samples.\n",
      "  'precision', 'predicted', average, warn_for)\n",
      "C:\\Users\\maxim\\Anaconda3\\lib\\site-packages\\sklearn\\metrics\\classification.py:1113: UndefinedMetricWarning: F-score is ill-defined and being set to 0.0 in labels with no predicted samples.\n",
      "  'precision', 'predicted', average, warn_for)\n",
      "C:\\Users\\maxim\\Anaconda3\\lib\\site-packages\\sklearn\\metrics\\classification.py:1113: UndefinedMetricWarning: F-score is ill-defined and being set to 0.0 in labels with no predicted samples.\n",
      "  'precision', 'predicted', average, warn_for)\n",
      "C:\\Users\\maxim\\Anaconda3\\lib\\site-packages\\sklearn\\metrics\\classification.py:1113: UndefinedMetricWarning: F-score is ill-defined and being set to 0.0 in labels with no predicted samples.\n",
      "  'precision', 'predicted', average, warn_for)\n",
      "C:\\Users\\maxim\\Anaconda3\\lib\\site-packages\\sklearn\\metrics\\classification.py:1113: UndefinedMetricWarning: F-score is ill-defined and being set to 0.0 in labels with no predicted samples.\n",
      "  'precision', 'predicted', average, warn_for)\n"
     ]
    },
    {
     "name": "stdout",
     "output_type": "stream",
     "text": [
      "[CV] ................ C=0.5, penalty=l1, score=0.559392, total=   0.0s\n",
      "[Parallel(n_jobs=1)]: Done  42 out of  42 | elapsed:    2.0s remaining:    0.0s\n",
      "[CV] C=0.5, penalty=l1 ...............................................\n",
      "[CV] ................ C=0.5, penalty=l1, score=0.559392, total=   0.0s\n",
      "[Parallel(n_jobs=1)]: Done  43 out of  43 | elapsed:    2.1s remaining:    0.0s\n",
      "[CV] C=0.5, penalty=l1 ...............................................\n",
      "[CV] ................ C=0.5, penalty=l1, score=0.561140, total=   0.0s\n",
      "[Parallel(n_jobs=1)]: Done  44 out of  44 | elapsed:    2.2s remaining:    0.0s\n",
      "[CV] C=0.5, penalty=l1 ...............................................\n",
      "[CV] ................ C=0.5, penalty=l1, score=0.561140, total=   0.0s\n",
      "[Parallel(n_jobs=1)]: Done  45 out of  45 | elapsed:    2.2s remaining:    0.0s\n",
      "[CV] C=0.5, penalty=l2 ...............................................\n"
     ]
    },
    {
     "name": "stderr",
     "output_type": "stream",
     "text": [
      "C:\\Users\\maxim\\Anaconda3\\lib\\site-packages\\sklearn\\metrics\\classification.py:1113: UndefinedMetricWarning: F-score is ill-defined and being set to 0.0 in labels with no predicted samples.\n",
      "  'precision', 'predicted', average, warn_for)\n",
      "C:\\Users\\maxim\\Anaconda3\\lib\\site-packages\\sklearn\\metrics\\classification.py:1113: UndefinedMetricWarning: F-score is ill-defined and being set to 0.0 in labels with no predicted samples.\n",
      "  'precision', 'predicted', average, warn_for)\n",
      "C:\\Users\\maxim\\Anaconda3\\lib\\site-packages\\sklearn\\metrics\\classification.py:1113: UndefinedMetricWarning: F-score is ill-defined and being set to 0.0 in labels with no predicted samples.\n",
      "  'precision', 'predicted', average, warn_for)\n",
      "C:\\Users\\maxim\\Anaconda3\\lib\\site-packages\\sklearn\\metrics\\classification.py:1113: UndefinedMetricWarning: F-score is ill-defined and being set to 0.0 in labels with no predicted samples.\n",
      "  'precision', 'predicted', average, warn_for)\n",
      "C:\\Users\\maxim\\Anaconda3\\lib\\site-packages\\sklearn\\metrics\\classification.py:1113: UndefinedMetricWarning: F-score is ill-defined and being set to 0.0 in labels with no predicted samples.\n",
      "  'precision', 'predicted', average, warn_for)\n"
     ]
    },
    {
     "name": "stdout",
     "output_type": "stream",
     "text": [
      "[CV] ................ C=0.5, penalty=l2, score=0.559392, total=   0.0s\n",
      "[Parallel(n_jobs=1)]: Done  46 out of  46 | elapsed:    2.3s remaining:    0.0s\n",
      "[CV] C=0.5, penalty=l2 ...............................................\n",
      "[CV] ................ C=0.5, penalty=l2, score=0.559392, total=   0.0s\n",
      "[Parallel(n_jobs=1)]: Done  47 out of  47 | elapsed:    2.3s remaining:    0.0s\n",
      "[CV] C=0.5, penalty=l2 ...............................................\n",
      "[CV] ................ C=0.5, penalty=l2, score=0.559392, total=   0.0s\n",
      "[Parallel(n_jobs=1)]: Done  48 out of  48 | elapsed:    2.4s remaining:    0.0s\n",
      "[CV] C=0.5, penalty=l2 ...............................................\n",
      "[CV] ................ C=0.5, penalty=l2, score=0.561140, total=   0.0s\n",
      "[Parallel(n_jobs=1)]: Done  49 out of  49 | elapsed:    2.4s remaining:    0.0s\n",
      "[CV] C=0.5, penalty=l2 ...............................................\n",
      "[CV] ................ C=0.5, penalty=l2, score=0.561140, total=   0.0s\n",
      "[Parallel(n_jobs=1)]: Done  50 out of  50 | elapsed:    2.5s remaining:    0.0s\n",
      "[CV] C=0.7, penalty=l1 ...............................................\n"
     ]
    },
    {
     "name": "stderr",
     "output_type": "stream",
     "text": [
      "C:\\Users\\maxim\\Anaconda3\\lib\\site-packages\\sklearn\\metrics\\classification.py:1113: UndefinedMetricWarning: F-score is ill-defined and being set to 0.0 in labels with no predicted samples.\n",
      "  'precision', 'predicted', average, warn_for)\n",
      "C:\\Users\\maxim\\Anaconda3\\lib\\site-packages\\sklearn\\metrics\\classification.py:1113: UndefinedMetricWarning: F-score is ill-defined and being set to 0.0 in labels with no predicted samples.\n",
      "  'precision', 'predicted', average, warn_for)\n",
      "C:\\Users\\maxim\\Anaconda3\\lib\\site-packages\\sklearn\\metrics\\classification.py:1113: UndefinedMetricWarning: F-score is ill-defined and being set to 0.0 in labels with no predicted samples.\n",
      "  'precision', 'predicted', average, warn_for)\n",
      "C:\\Users\\maxim\\Anaconda3\\lib\\site-packages\\sklearn\\metrics\\classification.py:1113: UndefinedMetricWarning: F-score is ill-defined and being set to 0.0 in labels with no predicted samples.\n",
      "  'precision', 'predicted', average, warn_for)\n",
      "C:\\Users\\maxim\\Anaconda3\\lib\\site-packages\\sklearn\\metrics\\classification.py:1113: UndefinedMetricWarning: F-score is ill-defined and being set to 0.0 in labels with no predicted samples.\n",
      "  'precision', 'predicted', average, warn_for)\n"
     ]
    },
    {
     "name": "stdout",
     "output_type": "stream",
     "text": [
      "[CV] ................ C=0.7, penalty=l1, score=0.559392, total=   0.0s\n",
      "[Parallel(n_jobs=1)]: Done  51 out of  51 | elapsed:    2.5s remaining:    0.0s\n",
      "[CV] C=0.7, penalty=l1 ...............................................\n",
      "[CV] ................ C=0.7, penalty=l1, score=0.559392, total=   0.0s\n",
      "[Parallel(n_jobs=1)]: Done  52 out of  52 | elapsed:    2.5s remaining:    0.0s\n",
      "[CV] C=0.7, penalty=l1 ...............................................\n",
      "[CV] ................ C=0.7, penalty=l1, score=0.559392, total=   0.0s\n",
      "[Parallel(n_jobs=1)]: Done  53 out of  53 | elapsed:    2.6s remaining:    0.0s\n",
      "[CV] C=0.7, penalty=l1 ...............................................\n",
      "[CV] ................ C=0.7, penalty=l1, score=0.561140, total=   0.0s\n",
      "[Parallel(n_jobs=1)]: Done  54 out of  54 | elapsed:    2.6s remaining:    0.0s\n",
      "[CV] C=0.7, penalty=l1 ...............................................\n",
      "[CV] ................ C=0.7, penalty=l1, score=0.561140, total=   0.0s\n",
      "[Parallel(n_jobs=1)]: Done  55 out of  55 | elapsed:    2.7s remaining:    0.0s\n",
      "[CV] C=0.7, penalty=l2 ...............................................\n",
      "[CV] ................ C=0.7, penalty=l2, score=0.559392, total=   0.0s\n",
      "[Parallel(n_jobs=1)]: Done  56 out of  56 | elapsed:    2.7s remaining:    0.0s\n",
      "[CV] C=0.7, penalty=l2 ...............................................\n"
     ]
    },
    {
     "name": "stderr",
     "output_type": "stream",
     "text": [
      "C:\\Users\\maxim\\Anaconda3\\lib\\site-packages\\sklearn\\metrics\\classification.py:1113: UndefinedMetricWarning: F-score is ill-defined and being set to 0.0 in labels with no predicted samples.\n",
      "  'precision', 'predicted', average, warn_for)\n",
      "C:\\Users\\maxim\\Anaconda3\\lib\\site-packages\\sklearn\\metrics\\classification.py:1113: UndefinedMetricWarning: F-score is ill-defined and being set to 0.0 in labels with no predicted samples.\n",
      "  'precision', 'predicted', average, warn_for)\n",
      "C:\\Users\\maxim\\Anaconda3\\lib\\site-packages\\sklearn\\metrics\\classification.py:1113: UndefinedMetricWarning: F-score is ill-defined and being set to 0.0 in labels with no predicted samples.\n",
      "  'precision', 'predicted', average, warn_for)\n",
      "C:\\Users\\maxim\\Anaconda3\\lib\\site-packages\\sklearn\\metrics\\classification.py:1113: UndefinedMetricWarning: F-score is ill-defined and being set to 0.0 in labels with no predicted samples.\n",
      "  'precision', 'predicted', average, warn_for)\n",
      "C:\\Users\\maxim\\Anaconda3\\lib\\site-packages\\sklearn\\metrics\\classification.py:1113: UndefinedMetricWarning: F-score is ill-defined and being set to 0.0 in labels with no predicted samples.\n",
      "  'precision', 'predicted', average, warn_for)\n"
     ]
    },
    {
     "name": "stdout",
     "output_type": "stream",
     "text": [
      "[CV] ................ C=0.7, penalty=l2, score=0.559392, total=   0.0s\n",
      "[Parallel(n_jobs=1)]: Done  57 out of  57 | elapsed:    2.7s remaining:    0.0s\n",
      "[CV] C=0.7, penalty=l2 ...............................................\n",
      "[CV] ................ C=0.7, penalty=l2, score=0.559392, total=   0.0s\n",
      "[Parallel(n_jobs=1)]: Done  58 out of  58 | elapsed:    2.8s remaining:    0.0s\n",
      "[CV] C=0.7, penalty=l2 ...............................................\n",
      "[CV] ................ C=0.7, penalty=l2, score=0.561140, total=   0.0s\n",
      "[Parallel(n_jobs=1)]: Done  59 out of  59 | elapsed:    2.9s remaining:    0.0s\n",
      "[CV] C=0.7, penalty=l2 ...............................................\n"
     ]
    },
    {
     "name": "stderr",
     "output_type": "stream",
     "text": [
      "C:\\Users\\maxim\\Anaconda3\\lib\\site-packages\\sklearn\\metrics\\classification.py:1113: UndefinedMetricWarning: F-score is ill-defined and being set to 0.0 in labels with no predicted samples.\n",
      "  'precision', 'predicted', average, warn_for)\n",
      "C:\\Users\\maxim\\Anaconda3\\lib\\site-packages\\sklearn\\metrics\\classification.py:1113: UndefinedMetricWarning: F-score is ill-defined and being set to 0.0 in labels with no predicted samples.\n",
      "  'precision', 'predicted', average, warn_for)\n",
      "C:\\Users\\maxim\\Anaconda3\\lib\\site-packages\\sklearn\\metrics\\classification.py:1113: UndefinedMetricWarning: F-score is ill-defined and being set to 0.0 in labels with no predicted samples.\n",
      "  'precision', 'predicted', average, warn_for)\n"
     ]
    },
    {
     "name": "stdout",
     "output_type": "stream",
     "text": [
      "[CV] ................ C=0.7, penalty=l2, score=0.561140, total=   0.0s\n",
      "[Parallel(n_jobs=1)]: Done  60 out of  60 | elapsed:    3.1s remaining:    0.0s\n",
      "[CV] C=1, penalty=l1 .................................................\n"
     ]
    },
    {
     "name": "stderr",
     "output_type": "stream",
     "text": [
      "C:\\Users\\maxim\\Anaconda3\\lib\\site-packages\\sklearn\\metrics\\classification.py:1113: UndefinedMetricWarning: F-score is ill-defined and being set to 0.0 in labels with no predicted samples.\n",
      "  'precision', 'predicted', average, warn_for)\n",
      "C:\\Users\\maxim\\Anaconda3\\lib\\site-packages\\sklearn\\metrics\\classification.py:1113: UndefinedMetricWarning: F-score is ill-defined and being set to 0.0 in labels with no predicted samples.\n",
      "  'precision', 'predicted', average, warn_for)\n"
     ]
    },
    {
     "name": "stdout",
     "output_type": "stream",
     "text": [
      "[CV] .................. C=1, penalty=l1, score=0.559392, total=   0.1s\n",
      "[Parallel(n_jobs=1)]: Done  61 out of  61 | elapsed:    3.3s remaining:    0.0s\n",
      "[CV] C=1, penalty=l1 .................................................\n",
      "[CV] .................. C=1, penalty=l1, score=0.559392, total=   0.0s\n",
      "[Parallel(n_jobs=1)]: Done  62 out of  62 | elapsed:    3.5s remaining:    0.0s\n",
      "[CV] C=1, penalty=l1 .................................................\n"
     ]
    },
    {
     "name": "stderr",
     "output_type": "stream",
     "text": [
      "C:\\Users\\maxim\\Anaconda3\\lib\\site-packages\\sklearn\\metrics\\classification.py:1113: UndefinedMetricWarning: F-score is ill-defined and being set to 0.0 in labels with no predicted samples.\n",
      "  'precision', 'predicted', average, warn_for)\n",
      "C:\\Users\\maxim\\Anaconda3\\lib\\site-packages\\sklearn\\metrics\\classification.py:1113: UndefinedMetricWarning: F-score is ill-defined and being set to 0.0 in labels with no predicted samples.\n",
      "  'precision', 'predicted', average, warn_for)\n",
      "C:\\Users\\maxim\\Anaconda3\\lib\\site-packages\\sklearn\\metrics\\classification.py:1113: UndefinedMetricWarning: F-score is ill-defined and being set to 0.0 in labels with no predicted samples.\n",
      "  'precision', 'predicted', average, warn_for)\n",
      "C:\\Users\\maxim\\Anaconda3\\lib\\site-packages\\sklearn\\metrics\\classification.py:1113: UndefinedMetricWarning: F-score is ill-defined and being set to 0.0 in labels with no predicted samples.\n",
      "  'precision', 'predicted', average, warn_for)\n"
     ]
    },
    {
     "name": "stdout",
     "output_type": "stream",
     "text": [
      "[CV] .................. C=1, penalty=l1, score=0.559392, total=   0.0s\n",
      "[Parallel(n_jobs=1)]: Done  63 out of  63 | elapsed:    3.6s remaining:    0.0s\n",
      "[CV] C=1, penalty=l1 .................................................\n",
      "[CV] .................. C=1, penalty=l1, score=0.561140, total=   0.0s\n",
      "[Parallel(n_jobs=1)]: Done  64 out of  64 | elapsed:    3.6s remaining:    0.0s\n",
      "[CV] C=1, penalty=l1 .................................................\n",
      "[CV] .................. C=1, penalty=l1, score=0.564717, total=   0.0s\n",
      "[Parallel(n_jobs=1)]: Done  65 out of  65 | elapsed:    3.7s remaining:    0.0s\n",
      "[CV] C=1, penalty=l2 .................................................\n",
      "[CV] .................. C=1, penalty=l2, score=0.559392, total=   0.0s\n",
      "[Parallel(n_jobs=1)]: Done  66 out of  66 | elapsed:    3.7s remaining:    0.0s\n",
      "[CV] C=1, penalty=l2 .................................................\n",
      "[CV] .................. C=1, penalty=l2, score=0.559392, total=   0.0s\n",
      "[Parallel(n_jobs=1)]: Done  67 out of  67 | elapsed:    3.8s remaining:    0.0s\n",
      "[CV] C=1, penalty=l2 .................................................\n",
      "[CV] .................. C=1, penalty=l2, score=0.558446, total=   0.0s\n",
      "[Parallel(n_jobs=1)]: Done  68 out of  68 | elapsed:    3.8s remaining:    0.0s\n",
      "[CV] C=1, penalty=l2 .................................................\n",
      "[CV] .................. C=1, penalty=l2, score=0.561140, total=   0.0s\n",
      "[Parallel(n_jobs=1)]: Done  69 out of  69 | elapsed:    3.9s remaining:    0.0s\n",
      "[CV] C=1, penalty=l2 .................................................\n",
      "[CV] .................. C=1, penalty=l2, score=0.561140, total=   0.0s\n",
      "[Parallel(n_jobs=1)]: Done  70 out of  70 | elapsed:    3.9s remaining:    0.0s\n",
      "[CV] C=1.5, penalty=l1 ...............................................\n"
     ]
    },
    {
     "name": "stderr",
     "output_type": "stream",
     "text": [
      "C:\\Users\\maxim\\Anaconda3\\lib\\site-packages\\sklearn\\metrics\\classification.py:1113: UndefinedMetricWarning: F-score is ill-defined and being set to 0.0 in labels with no predicted samples.\n",
      "  'precision', 'predicted', average, warn_for)\n",
      "C:\\Users\\maxim\\Anaconda3\\lib\\site-packages\\sklearn\\metrics\\classification.py:1113: UndefinedMetricWarning: F-score is ill-defined and being set to 0.0 in labels with no predicted samples.\n",
      "  'precision', 'predicted', average, warn_for)\n",
      "C:\\Users\\maxim\\Anaconda3\\lib\\site-packages\\sklearn\\metrics\\classification.py:1113: UndefinedMetricWarning: F-score is ill-defined and being set to 0.0 in labels with no predicted samples.\n",
      "  'precision', 'predicted', average, warn_for)\n"
     ]
    },
    {
     "name": "stdout",
     "output_type": "stream",
     "text": [
      "[CV] ................ C=1.5, penalty=l1, score=0.559392, total=   0.0s\n",
      "[Parallel(n_jobs=1)]: Done  71 out of  71 | elapsed:    4.0s remaining:    0.0s\n",
      "[CV] C=1.5, penalty=l1 ...............................................\n",
      "[CV] ................ C=1.5, penalty=l1, score=0.569815, total=   0.0s\n",
      "[Parallel(n_jobs=1)]: Done  72 out of  72 | elapsed:    4.1s remaining:    0.0s\n",
      "[CV] C=1.5, penalty=l1 ...............................................\n",
      "[CV] ................ C=1.5, penalty=l1, score=0.557498, total=   0.0s\n",
      "[Parallel(n_jobs=1)]: Done  73 out of  73 | elapsed:    4.2s remaining:    0.0s\n",
      "[CV] C=1.5, penalty=l1 ...............................................\n",
      "[CV] ................ C=1.5, penalty=l1, score=0.568197, total=   0.0s\n",
      "[Parallel(n_jobs=1)]: Done  74 out of  74 | elapsed:    4.3s remaining:    0.0s\n",
      "[CV] C=1.5, penalty=l1 ...............................................\n",
      "[CV] ................ C=1.5, penalty=l1, score=0.568197, total=   0.0s\n",
      "[Parallel(n_jobs=1)]: Done  75 out of  75 | elapsed:    4.4s remaining:    0.0s\n",
      "[CV] C=1.5, penalty=l2 ...............................................\n",
      "[CV] ................ C=1.5, penalty=l2, score=0.559392, total=   0.0s\n",
      "[Parallel(n_jobs=1)]: Done  76 out of  76 | elapsed:    4.4s remaining:    0.0s\n",
      "[CV] C=1.5, penalty=l2 ...............................................\n",
      "[CV] ................ C=1.5, penalty=l2, score=0.559392, total=   0.0s\n",
      "[Parallel(n_jobs=1)]: Done  77 out of  77 | elapsed:    4.4s remaining:    0.0s\n",
      "[CV] C=1.5, penalty=l2 ...............................................\n",
      "[CV] ................ C=1.5, penalty=l2, score=0.558446, total=   0.0s\n",
      "[Parallel(n_jobs=1)]: Done  78 out of  78 | elapsed:    4.5s remaining:    0.0s\n",
      "[CV] C=1.5, penalty=l2 ...............................................\n"
     ]
    },
    {
     "name": "stderr",
     "output_type": "stream",
     "text": [
      "C:\\Users\\maxim\\Anaconda3\\lib\\site-packages\\sklearn\\metrics\\classification.py:1113: UndefinedMetricWarning: F-score is ill-defined and being set to 0.0 in labels with no predicted samples.\n",
      "  'precision', 'predicted', average, warn_for)\n",
      "C:\\Users\\maxim\\Anaconda3\\lib\\site-packages\\sklearn\\metrics\\classification.py:1113: UndefinedMetricWarning: F-score is ill-defined and being set to 0.0 in labels with no predicted samples.\n",
      "  'precision', 'predicted', average, warn_for)\n",
      "C:\\Users\\maxim\\Anaconda3\\lib\\site-packages\\sklearn\\metrics\\classification.py:1113: UndefinedMetricWarning: F-score is ill-defined and being set to 0.0 in labels with no predicted samples.\n",
      "  'precision', 'predicted', average, warn_for)\n",
      "C:\\Users\\maxim\\Anaconda3\\lib\\site-packages\\sklearn\\metrics\\classification.py:1113: UndefinedMetricWarning: F-score is ill-defined and being set to 0.0 in labels with no predicted samples.\n",
      "  'precision', 'predicted', average, warn_for)\n"
     ]
    },
    {
     "name": "stdout",
     "output_type": "stream",
     "text": [
      "[CV] ................ C=1.5, penalty=l2, score=0.561140, total=   0.0s\n",
      "[Parallel(n_jobs=1)]: Done  79 out of  79 | elapsed:    4.5s remaining:    0.0s\n",
      "[CV] C=1.5, penalty=l2 ...............................................\n",
      "[CV] ................ C=1.5, penalty=l2, score=0.561140, total=   0.0s\n",
      "[Parallel(n_jobs=1)]: Done  80 out of  80 | elapsed:    4.6s remaining:    0.0s\n",
      "[CV] C=2, penalty=l1 .................................................\n",
      "[CV] .................. C=2, penalty=l1, score=0.561989, total=   0.0s\n",
      "[Parallel(n_jobs=1)]: Done  81 out of  81 | elapsed:    4.7s remaining:    0.0s\n",
      "[CV] C=2, penalty=l1 .................................................\n",
      "[CV] .................. C=2, penalty=l1, score=0.584694, total=   0.0s\n",
      "[Parallel(n_jobs=1)]: Done  82 out of  82 | elapsed:    4.8s remaining:    0.0s\n",
      "[CV] C=2, penalty=l1 .................................................\n",
      "[CV] .................. C=2, penalty=l1, score=0.576171, total=   0.0s\n",
      "[Parallel(n_jobs=1)]: Done  83 out of  83 | elapsed:    4.8s remaining:    0.0s\n",
      "[CV] C=2, penalty=l1 .................................................\n",
      "[CV] .................. C=2, penalty=l1, score=0.568197, total=   0.0s\n",
      "[Parallel(n_jobs=1)]: Done  84 out of  84 | elapsed:    4.9s remaining:    0.0s\n",
      "[CV] C=2, penalty=l1 .................................................\n",
      "[CV] .................. C=2, penalty=l1, score=0.571585, total=   0.0s\n",
      "[Parallel(n_jobs=1)]: Done  85 out of  85 | elapsed:    5.0s remaining:    0.0s\n",
      "[CV] C=2, penalty=l2 .................................................\n",
      "[CV] .................. C=2, penalty=l2, score=0.562961, total=   0.0s\n",
      "[Parallel(n_jobs=1)]: Done  86 out of  86 | elapsed:    5.0s remaining:    0.0s\n",
      "[CV] C=2, penalty=l2 .................................................\n",
      "[CV] .................. C=2, penalty=l2, score=0.568424, total=   0.0s\n",
      "[Parallel(n_jobs=1)]: Done  87 out of  87 | elapsed:    5.1s remaining:    0.0s\n",
      "[CV] C=2, penalty=l2 .................................................\n",
      "[CV] .................. C=2, penalty=l2, score=0.562961, total=   0.0s\n",
      "[Parallel(n_jobs=1)]: Done  88 out of  88 | elapsed:    5.1s remaining:    0.0s\n",
      "[CV] C=2, penalty=l2 .................................................\n",
      "[CV] .................. C=2, penalty=l2, score=0.565689, total=   0.0s\n",
      "[Parallel(n_jobs=1)]: Done  89 out of  89 | elapsed:    5.1s remaining:    0.0s\n",
      "[CV] C=2, penalty=l2 .................................................\n",
      "[CV] .................. C=2, penalty=l2, score=0.561140, total=   0.0s\n",
      "[Parallel(n_jobs=1)]: Done  90 out of  90 | elapsed:    5.2s remaining:    0.0s\n",
      "[CV] C=2.5, penalty=l1 ...............................................\n"
     ]
    },
    {
     "name": "stderr",
     "output_type": "stream",
     "text": [
      "C:\\Users\\maxim\\Anaconda3\\lib\\site-packages\\sklearn\\metrics\\classification.py:1113: UndefinedMetricWarning: F-score is ill-defined and being set to 0.0 in labels with no predicted samples.\n",
      "  'precision', 'predicted', average, warn_for)\n"
     ]
    },
    {
     "name": "stdout",
     "output_type": "stream",
     "text": [
      "[CV] ................ C=2.5, penalty=l1, score=0.575247, total=   0.0s\n",
      "[Parallel(n_jobs=1)]: Done  91 out of  91 | elapsed:    5.3s remaining:    0.0s\n",
      "[CV] C=2.5, penalty=l1 ...............................................\n",
      "[CV] ................ C=2.5, penalty=l1, score=0.580932, total=   0.0s\n",
      "[Parallel(n_jobs=1)]: Done  92 out of  92 | elapsed:    5.3s remaining:    0.0s\n",
      "[CV] C=2.5, penalty=l1 ...............................................\n",
      "[CV] ................ C=2.5, penalty=l1, score=0.580665, total=   0.0s\n",
      "[Parallel(n_jobs=1)]: Done  93 out of  93 | elapsed:    5.4s remaining:    0.0s\n",
      "[CV] C=2.5, penalty=l1 ...............................................\n",
      "[CV] ................ C=2.5, penalty=l1, score=0.579039, total=   0.0s\n",
      "[Parallel(n_jobs=1)]: Done  94 out of  94 | elapsed:    5.5s remaining:    0.0s\n",
      "[CV] C=2.5, penalty=l1 ...............................................\n",
      "[CV] ................ C=2.5, penalty=l1, score=0.570686, total=   0.0s\n",
      "[Parallel(n_jobs=1)]: Done  95 out of  95 | elapsed:    5.6s remaining:    0.0s\n",
      "[CV] C=2.5, penalty=l2 ...............................................\n",
      "[CV] ................ C=2.5, penalty=l2, score=0.567430, total=   0.0s\n",
      "[Parallel(n_jobs=1)]: Done  96 out of  96 | elapsed:    5.6s remaining:    0.0s\n",
      "[CV] C=2.5, penalty=l2 ...............................................\n",
      "[CV] ................ C=2.5, penalty=l2, score=0.567430, total=   0.0s\n",
      "[Parallel(n_jobs=1)]: Done  97 out of  97 | elapsed:    5.7s remaining:    0.0s\n",
      "[CV] C=2.5, penalty=l2 ...............................................\n",
      "[CV] ................ C=2.5, penalty=l2, score=0.562961, total=   0.0s\n",
      "[Parallel(n_jobs=1)]: Done  98 out of  98 | elapsed:    5.7s remaining:    0.0s\n",
      "[CV] C=2.5, penalty=l2 ...............................................\n",
      "[CV] ................ C=2.5, penalty=l2, score=0.565689, total=   0.0s\n",
      "[Parallel(n_jobs=1)]: Done  99 out of  99 | elapsed:    5.7s remaining:    0.0s\n",
      "[CV] C=2.5, penalty=l2 ...............................................\n",
      "[CV] ................ C=2.5, penalty=l2, score=0.565689, total=   0.0s\n",
      "[Parallel(n_jobs=1)]: Done 100 out of 100 | elapsed:    5.8s remaining:    0.0s\n",
      "[CV] C=3, penalty=l1 .................................................\n",
      "[CV] .................. C=3, penalty=l1, score=0.603773, total=   0.0s\n",
      "[Parallel(n_jobs=1)]: Done 101 out of 101 | elapsed:    5.9s remaining:    0.0s\n",
      "[CV] C=3, penalty=l1 .................................................\n",
      "[CV] .................. C=3, penalty=l1, score=0.594339, total=   0.0s\n",
      "[Parallel(n_jobs=1)]: Done 102 out of 102 | elapsed:    6.0s remaining:    0.0s\n",
      "[CV] C=3, penalty=l1 .................................................\n",
      "[CV] .................. C=3, penalty=l1, score=0.591798, total=   0.0s\n",
      "[Parallel(n_jobs=1)]: Done 103 out of 103 | elapsed:    6.1s remaining:    0.0s\n",
      "[CV] C=3, penalty=l1 .................................................\n",
      "[CV] .................. C=3, penalty=l1, score=0.584975, total=   0.0s\n",
      "[Parallel(n_jobs=1)]: Done 104 out of 104 | elapsed:    6.1s remaining:    0.0s\n",
      "[CV] C=3, penalty=l1 .................................................\n",
      "[CV] .................. C=3, penalty=l1, score=0.571373, total=   0.0s\n",
      "[Parallel(n_jobs=1)]: Done 105 out of 105 | elapsed:    6.2s remaining:    0.0s\n",
      "[CV] C=3, penalty=l2 .................................................\n",
      "[CV] .................. C=3, penalty=l2, score=0.571854, total=   0.0s\n",
      "[Parallel(n_jobs=1)]: Done 106 out of 106 | elapsed:    6.3s remaining:    0.0s\n",
      "[CV] C=3, penalty=l2 .................................................\n",
      "[CV] .................. C=3, penalty=l2, score=0.570835, total=   0.0s\n",
      "[Parallel(n_jobs=1)]: Done 107 out of 107 | elapsed:    6.3s remaining:    0.0s\n",
      "[CV] C=3, penalty=l2 .................................................\n",
      "[CV] .................. C=3, penalty=l2, score=0.562961, total=   0.0s\n",
      "[Parallel(n_jobs=1)]: Done 108 out of 108 | elapsed:    6.4s remaining:    0.0s\n",
      "[CV] C=3, penalty=l2 .................................................\n",
      "[CV] .................. C=3, penalty=l2, score=0.570192, total=   0.0s\n",
      "[Parallel(n_jobs=1)]: Done 109 out of 109 | elapsed:    6.4s remaining:    0.0s\n",
      "[CV] C=3, penalty=l2 .................................................\n",
      "[CV] .................. C=3, penalty=l2, score=0.565689, total=   0.0s\n",
      "[Parallel(n_jobs=1)]: Done 110 out of 110 | elapsed:    6.5s remaining:    0.0s\n",
      "[CV] C=3.5, penalty=l1 ...............................................\n",
      "[CV] ................ C=3.5, penalty=l1, score=0.607898, total=   0.0s\n",
      "[Parallel(n_jobs=1)]: Done 111 out of 111 | elapsed:    6.6s remaining:    0.0s\n",
      "[CV] C=3.5, penalty=l1 ...............................................\n",
      "[CV] ................ C=3.5, penalty=l1, score=0.595343, total=   0.0s\n",
      "[Parallel(n_jobs=1)]: Done 112 out of 112 | elapsed:    6.7s remaining:    0.0s\n",
      "[CV] C=3.5, penalty=l1 ...............................................\n",
      "[CV] ................ C=3.5, penalty=l1, score=0.592091, total=   0.0s\n",
      "[Parallel(n_jobs=1)]: Done 113 out of 113 | elapsed:    6.9s remaining:    0.0s\n",
      "[CV] C=3.5, penalty=l1 ...............................................\n",
      "[CV] ................ C=3.5, penalty=l1, score=0.579769, total=   0.0s\n",
      "[Parallel(n_jobs=1)]: Done 114 out of 114 | elapsed:    7.0s remaining:    0.0s\n",
      "[CV] C=3.5, penalty=l1 ...............................................\n",
      "[CV] ................ C=3.5, penalty=l1, score=0.576571, total=   0.0s\n",
      "[Parallel(n_jobs=1)]: Done 115 out of 115 | elapsed:    7.1s remaining:    0.0s\n",
      "[CV] C=3.5, penalty=l2 ...............................................\n",
      "[CV] ................ C=3.5, penalty=l2, score=0.571854, total=   0.0s\n",
      "[Parallel(n_jobs=1)]: Done 116 out of 116 | elapsed:    7.2s remaining:    0.0s\n",
      "[CV] C=3.5, penalty=l2 ...............................................\n",
      "[CV] ................ C=3.5, penalty=l2, score=0.575193, total=   0.0s\n",
      "[Parallel(n_jobs=1)]: Done 117 out of 117 | elapsed:    7.2s remaining:    0.0s\n",
      "[CV] C=3.5, penalty=l2 ...............................................\n",
      "[CV] ................ C=3.5, penalty=l2, score=0.565437, total=   0.0s\n",
      "[Parallel(n_jobs=1)]: Done 118 out of 118 | elapsed:    7.3s remaining:    0.0s\n",
      "[CV] C=3.5, penalty=l2 ...............................................\n",
      "[CV] ................ C=3.5, penalty=l2, score=0.569195, total=   0.0s\n",
      "[Parallel(n_jobs=1)]: Done 119 out of 119 | elapsed:    7.4s remaining:    0.0s\n",
      "[CV] C=3.5, penalty=l2 ...............................................\n",
      "[CV] ................ C=3.5, penalty=l2, score=0.570192, total=   0.0s\n",
      "[Parallel(n_jobs=1)]: Done 120 out of 120 | elapsed:    7.4s remaining:    0.0s\n",
      "[CV] C=4, penalty=l1 .................................................\n",
      "[CV] .................. C=4, penalty=l1, score=0.621062, total=   0.0s\n",
      "[Parallel(n_jobs=1)]: Done 121 out of 121 | elapsed:    7.4s remaining:    0.0s\n",
      "[CV] C=4, penalty=l1 .................................................\n",
      "[CV] .................. C=4, penalty=l1, score=0.597592, total=   0.0s\n",
      "[Parallel(n_jobs=1)]: Done 122 out of 122 | elapsed:    7.5s remaining:    0.0s\n",
      "[CV] C=4, penalty=l1 .................................................\n",
      "[CV] .................. C=4, penalty=l1, score=0.597495, total=   0.1s\n",
      "[Parallel(n_jobs=1)]: Done 123 out of 123 | elapsed:    7.7s remaining:    0.0s\n",
      "[CV] C=4, penalty=l1 .................................................\n",
      "[CV] .................. C=4, penalty=l1, score=0.588767, total=   0.1s\n",
      "[Parallel(n_jobs=1)]: Done 124 out of 124 | elapsed:    8.0s remaining:    0.0s\n",
      "[CV] C=4, penalty=l1 .................................................\n",
      "[CV] .................. C=4, penalty=l1, score=0.581545, total=   0.0s\n",
      "[Parallel(n_jobs=1)]: Done 125 out of 125 | elapsed:    8.1s remaining:    0.0s\n",
      "[CV] C=4, penalty=l2 .................................................\n",
      "[CV] .................. C=4, penalty=l2, score=0.569815, total=   0.0s\n",
      "[Parallel(n_jobs=1)]: Done 126 out of 126 | elapsed:    8.2s remaining:    0.0s\n",
      "[CV] C=4, penalty=l2 .................................................\n",
      "[CV] .................. C=4, penalty=l2, score=0.573107, total=   0.0s\n",
      "[Parallel(n_jobs=1)]: Done 127 out of 127 | elapsed:    8.3s remaining:    0.0s\n",
      "[CV] C=4, penalty=l2 .................................................\n",
      "[CV] .................. C=4, penalty=l2, score=0.565437, total=   0.0s\n",
      "[Parallel(n_jobs=1)]: Done 128 out of 128 | elapsed:    8.3s remaining:    0.0s\n",
      "[CV] C=4, penalty=l2 .................................................\n",
      "[CV] .................. C=4, penalty=l2, score=0.569195, total=   0.0s\n",
      "[Parallel(n_jobs=1)]: Done 129 out of 129 | elapsed:    8.4s remaining:    0.0s\n",
      "[CV] C=4, penalty=l2 .................................................\n"
     ]
    },
    {
     "name": "stdout",
     "output_type": "stream",
     "text": [
      "[CV] .................. C=4, penalty=l2, score=0.573629, total=   0.0s\n",
      "[Parallel(n_jobs=1)]: Done 130 out of 130 | elapsed:    8.4s remaining:    0.0s\n",
      "[CV] C=5, penalty=l1 .................................................\n",
      "[CV] .................. C=5, penalty=l1, score=0.649461, total=   0.0s\n",
      "[Parallel(n_jobs=1)]: Done 131 out of 131 | elapsed:    8.5s remaining:    0.0s\n",
      "[CV] C=5, penalty=l1 .................................................\n",
      "[CV] .................. C=5, penalty=l1, score=0.608692, total=   0.0s\n",
      "[Parallel(n_jobs=1)]: Done 132 out of 132 | elapsed:    8.6s remaining:    0.0s\n",
      "[CV] C=5, penalty=l1 .................................................\n",
      "[CV] .................. C=5, penalty=l1, score=0.611899, total=   0.0s\n",
      "[Parallel(n_jobs=1)]: Done 133 out of 133 | elapsed:    8.7s remaining:    0.0s\n",
      "[CV] C=5, penalty=l1 .................................................\n",
      "[CV] .................. C=5, penalty=l1, score=0.615787, total=   0.0s\n",
      "[Parallel(n_jobs=1)]: Done 134 out of 134 | elapsed:    8.7s remaining:    0.0s\n",
      "[CV] C=5, penalty=l1 .................................................\n",
      "[CV] .................. C=5, penalty=l1, score=0.591718, total=   0.0s\n",
      "[Parallel(n_jobs=1)]: Done 135 out of 135 | elapsed:    8.8s remaining:    0.0s\n",
      "[CV] C=5, penalty=l2 .................................................\n",
      "[CV] .................. C=5, penalty=l2, score=0.586906, total=   0.0s\n",
      "[Parallel(n_jobs=1)]: Done 136 out of 136 | elapsed:    8.9s remaining:    0.0s\n",
      "[CV] C=5, penalty=l2 .................................................\n",
      "[CV] .................. C=5, penalty=l2, score=0.585800, total=   0.0s\n",
      "[Parallel(n_jobs=1)]: Done 137 out of 137 | elapsed:    9.0s remaining:    0.0s\n",
      "[CV] C=5, penalty=l2 .................................................\n",
      "[CV] .................. C=5, penalty=l2, score=0.565437, total=   0.0s\n",
      "[Parallel(n_jobs=1)]: Done 138 out of 138 | elapsed:    9.0s remaining:    0.0s\n",
      "[CV] C=5, penalty=l2 .................................................\n",
      "[CV] .................. C=5, penalty=l2, score=0.570561, total=   0.0s\n",
      "[Parallel(n_jobs=1)]: Done 139 out of 139 | elapsed:    9.1s remaining:    0.0s\n",
      "[CV] C=5, penalty=l2 .................................................\n",
      "[CV] .................. C=5, penalty=l2, score=0.573629, total=   0.0s\n",
      "[Parallel(n_jobs=1)]: Done 140 out of 140 | elapsed:    9.1s remaining:    0.0s\n",
      "[CV] C=8, penalty=l1 .................................................\n",
      "[CV] .................. C=8, penalty=l1, score=0.664236, total=   0.0s\n",
      "[Parallel(n_jobs=1)]: Done 141 out of 141 | elapsed:    9.3s remaining:    0.0s\n",
      "[CV] C=8, penalty=l1 .................................................\n",
      "[CV] .................. C=8, penalty=l1, score=0.613280, total=   0.5s\n",
      "[Parallel(n_jobs=1)]: Done 142 out of 142 | elapsed:   10.0s remaining:    0.0s\n",
      "[CV] C=8, penalty=l1 .................................................\n",
      "[CV] .................. C=8, penalty=l1, score=0.627406, total=   0.3s\n",
      "[Parallel(n_jobs=1)]: Done 143 out of 143 | elapsed:   10.4s remaining:    0.0s\n",
      "[CV] C=8, penalty=l1 .................................................\n",
      "[CV] .................. C=8, penalty=l1, score=0.628531, total=  19.1s\n",
      "[Parallel(n_jobs=1)]: Done 144 out of 144 | elapsed:   29.6s remaining:    0.0s\n",
      "[CV] C=8, penalty=l1 .................................................\n",
      "[CV] .................. C=8, penalty=l1, score=0.597013, total=   0.0s\n",
      "[Parallel(n_jobs=1)]: Done 145 out of 145 | elapsed:   29.7s remaining:    0.0s\n",
      "[CV] C=8, penalty=l2 .................................................\n",
      "[CV] .................. C=8, penalty=l2, score=0.596973, total=   0.0s\n",
      "[Parallel(n_jobs=1)]: Done 146 out of 146 | elapsed:   29.8s remaining:    0.0s\n",
      "[CV] C=8, penalty=l2 .................................................\n",
      "[CV] .................. C=8, penalty=l2, score=0.592918, total=   0.0s\n",
      "[Parallel(n_jobs=1)]: Done 147 out of 147 | elapsed:   29.8s remaining:    0.0s\n",
      "[CV] C=8, penalty=l2 .................................................\n",
      "[CV] .................. C=8, penalty=l2, score=0.573107, total=   0.0s\n",
      "[Parallel(n_jobs=1)]: Done 148 out of 148 | elapsed:   29.9s remaining:    0.0s\n",
      "[CV] C=8, penalty=l2 .................................................\n",
      "[CV] .................. C=8, penalty=l2, score=0.574882, total=   0.0s\n",
      "[Parallel(n_jobs=1)]: Done 149 out of 149 | elapsed:   29.9s remaining:    0.0s\n",
      "[CV] C=8, penalty=l2 .................................................\n",
      "[CV] .................. C=8, penalty=l2, score=0.586664, total=   0.0s\n",
      "[Parallel(n_jobs=1)]: Done 150 out of 150 | elapsed:   30.0s remaining:    0.0s\n",
      "[CV] C=10, penalty=l1 ................................................\n",
      "[CV] ................. C=10, penalty=l1, score=0.670162, total=  25.3s\n",
      "[Parallel(n_jobs=1)]: Done 151 out of 151 | elapsed:   55.5s remaining:    0.0s\n",
      "[CV] C=10, penalty=l1 ................................................\n",
      "[CV] ................. C=10, penalty=l1, score=0.618073, total=  17.2s\n",
      "[Parallel(n_jobs=1)]: Done 152 out of 152 | elapsed:  1.2min remaining:    0.0s\n",
      "[CV] C=10, penalty=l1 ................................................\n",
      "[CV] ................. C=10, penalty=l1, score=0.624541, total=   0.0s\n",
      "[Parallel(n_jobs=1)]: Done 153 out of 153 | elapsed:  1.2min remaining:    0.0s\n",
      "[CV] C=10, penalty=l1 ................................................\n",
      "[CV] ................. C=10, penalty=l1, score=0.634668, total=  20.3s\n",
      "[Parallel(n_jobs=1)]: Done 154 out of 154 | elapsed:  1.6min remaining:    0.0s\n",
      "[CV] C=10, penalty=l1 ................................................\n",
      "[CV] ................. C=10, penalty=l1, score=0.617011, total=  17.7s\n",
      "[Parallel(n_jobs=1)]: Done 155 out of 155 | elapsed:  1.9min remaining:    0.0s\n",
      "[CV] C=10, penalty=l2 ................................................\n",
      "[CV] ................. C=10, penalty=l2, score=0.608919, total=   0.0s\n",
      "[Parallel(n_jobs=1)]: Done 156 out of 156 | elapsed:  1.9min remaining:    0.0s\n",
      "[CV] C=10, penalty=l2 ................................................\n",
      "[CV] ................. C=10, penalty=l2, score=0.595809, total=   0.0s\n",
      "[Parallel(n_jobs=1)]: Done 157 out of 157 | elapsed:  1.9min remaining:    0.0s\n",
      "[CV] C=10, penalty=l2 ................................................\n",
      "[CV] ................. C=10, penalty=l2, score=0.579437, total=   0.0s\n",
      "[Parallel(n_jobs=1)]: Done 158 out of 158 | elapsed:  1.9min remaining:    0.0s\n",
      "[CV] C=10, penalty=l2 ................................................\n",
      "[CV] ................. C=10, penalty=l2, score=0.571737, total=   0.0s\n",
      "[Parallel(n_jobs=1)]: Done 159 out of 159 | elapsed:  1.9min remaining:    0.0s\n",
      "[CV] C=10, penalty=l2 ................................................\n",
      "[CV] ................. C=10, penalty=l2, score=0.586664, total=   0.0s\n",
      "[Parallel(n_jobs=1)]: Done 160 out of 160 | elapsed:  1.9min remaining:    0.0s\n",
      "[CV] C=20, penalty=l1 ................................................\n",
      "[CV] ................. C=20, penalty=l1, score=0.663987, total=  26.6s\n",
      "[Parallel(n_jobs=1)]: Done 161 out of 161 | elapsed:  2.3min remaining:    0.0s\n",
      "[CV] C=20, penalty=l1 ................................................\n",
      "[CV] ................. C=20, penalty=l1, score=0.610828, total=  24.2s\n",
      "[Parallel(n_jobs=1)]: Done 162 out of 162 | elapsed:  2.7min remaining:    0.0s\n",
      "[CV] C=20, penalty=l1 ................................................\n",
      "[CV] ................. C=20, penalty=l1, score=0.627425, total=  25.6s\n",
      "[Parallel(n_jobs=1)]: Done 163 out of 163 | elapsed:  3.1min remaining:    0.0s\n",
      "[CV] C=20, penalty=l1 ................................................\n",
      "[CV] ................. C=20, penalty=l1, score=0.627117, total=  29.4s\n",
      "[Parallel(n_jobs=1)]: Done 164 out of 164 | elapsed:  3.6min remaining:    0.0s\n",
      "[CV] C=20, penalty=l1 ................................................\n",
      "[CV] ................. C=20, penalty=l1, score=0.620052, total=  26.2s\n",
      "[Parallel(n_jobs=1)]: Done 165 out of 165 | elapsed:  4.1min remaining:    0.0s\n",
      "[CV] C=20, penalty=l2 ................................................\n",
      "[CV] ................. C=20, penalty=l2, score=0.608919, total=   0.0s\n",
      "[Parallel(n_jobs=1)]: Done 166 out of 166 | elapsed:  4.1min remaining:    0.0s\n",
      "[CV] C=20, penalty=l2 ................................................\n",
      "[CV] ................. C=20, penalty=l2, score=0.596264, total=   0.0s\n",
      "[Parallel(n_jobs=1)]: Done 167 out of 167 | elapsed:  4.1min remaining:    0.0s\n",
      "[CV] C=20, penalty=l2 ................................................\n",
      "[CV] ................. C=20, penalty=l2, score=0.586572, total=   0.0s\n",
      "[Parallel(n_jobs=1)]: Done 168 out of 168 | elapsed:  4.1min remaining:    0.0s\n",
      "[CV] C=20, penalty=l2 ................................................\n",
      "[CV] ................. C=20, penalty=l2, score=0.580131, total=   0.0s\n",
      "[Parallel(n_jobs=1)]: Done 169 out of 169 | elapsed:  4.1min remaining:    0.0s\n",
      "[CV] C=20, penalty=l2 ................................................\n",
      "[CV] ................. C=20, penalty=l2, score=0.597024, total=   0.0s\n",
      "[Parallel(n_jobs=1)]: Done 170 out of 170 | elapsed:  4.1min remaining:    0.0s\n",
      "[CV] C=100, penalty=l1 ...............................................\n"
     ]
    },
    {
     "name": "stdout",
     "output_type": "stream",
     "text": [
      "[CV] ................ C=100, penalty=l1, score=0.658197, total=   0.6s\n",
      "[Parallel(n_jobs=1)]: Done 171 out of 171 | elapsed:  4.1min remaining:    0.0s\n",
      "[CV] C=100, penalty=l1 ...............................................\n",
      "[CV] ................ C=100, penalty=l1, score=0.605001, total=  48.0s\n",
      "[Parallel(n_jobs=1)]: Done 172 out of 172 | elapsed:  4.9min remaining:    0.0s\n",
      "[CV] C=100, penalty=l1 ...............................................\n",
      "[CV] ................ C=100, penalty=l1, score=0.633222, total=   1.0s\n",
      "[Parallel(n_jobs=1)]: Done 173 out of 173 | elapsed:  4.9min remaining:    0.0s\n",
      "[CV] C=100, penalty=l1 ...............................................\n",
      "[CV] ................ C=100, penalty=l1, score=0.633481, total=  45.3s\n",
      "[Parallel(n_jobs=1)]: Done 174 out of 174 | elapsed:  5.7min remaining:    0.0s\n",
      "[CV] C=100, penalty=l1 ...............................................\n",
      "[CV] ................ C=100, penalty=l1, score=0.610871, total=  48.1s\n",
      "[Parallel(n_jobs=1)]: Done 175 out of 175 | elapsed:  6.5min remaining:    0.0s\n",
      "[CV] C=100, penalty=l2 ...............................................\n",
      "[CV] ................ C=100, penalty=l2, score=0.615488, total=   0.0s\n",
      "[Parallel(n_jobs=1)]: Done 176 out of 176 | elapsed:  6.5min remaining:    0.0s\n",
      "[CV] C=100, penalty=l2 ...............................................\n",
      "[CV] ................ C=100, penalty=l2, score=0.605478, total=   0.0s\n",
      "[Parallel(n_jobs=1)]: Done 177 out of 177 | elapsed:  6.5min remaining:    0.0s\n",
      "[CV] C=100, penalty=l2 ...............................................\n",
      "[CV] ................ C=100, penalty=l2, score=0.590357, total=   0.0s\n",
      "[Parallel(n_jobs=1)]: Done 178 out of 178 | elapsed:  6.5min remaining:    0.0s\n",
      "[CV] C=100, penalty=l2 ...............................................\n",
      "[CV] ................ C=100, penalty=l2, score=0.594119, total=   0.0s\n",
      "[Parallel(n_jobs=1)]: Done 179 out of 179 | elapsed:  6.5min remaining:    0.0s\n",
      "[CV] C=100, penalty=l2 ...............................................\n",
      "[CV] ................ C=100, penalty=l2, score=0.599956, total=   0.0s\n",
      "[Parallel(n_jobs=1)]: Done 180 out of 180 | elapsed:  6.5min remaining:    0.0s\n",
      "[Parallel(n_jobs=1)]: Done 180 out of 180 | elapsed:  6.5min finished\n"
     ]
    },
    {
     "data": {
      "text/plain": [
       "GridSearchCV(cv=5, error_score='raise',\n",
       "       estimator=LogisticRegression(C=1.0, class_weight=None, dual=False, fit_intercept=True,\n",
       "          intercept_scaling=1, max_iter=100, multi_class='ovr', n_jobs=1,\n",
       "          penalty='l2', random_state=None, solver='liblinear', tol=0.0001,\n",
       "          verbose=0, warm_start=False),\n",
       "       fit_params={}, iid=True, n_jobs=1,\n",
       "       param_grid={'penalty': ('l1', 'l2'), 'C': [0.01, 0.05, 0.1, 0.2, 0.5, 0.7, 1, 1.5, 2, 2.5, 3, 3.5, 4, 5, 8, 10, 20, 100]},\n",
       "       pre_dispatch='2*n_jobs', refit=True, return_train_score=True,\n",
       "       scoring='f1_weighted', verbose=5000)"
      ]
     },
     "execution_count": 144,
     "metadata": {},
     "output_type": "execute_result"
    }
   ],
   "source": [
    "#'criterion':('gini', 'entropy'), \n",
    "              #'n_estimators':[10,20,50],\n",
    "parameters = {'penalty':(\"l1\", \"l2\"),\n",
    "             'C':[0.01, 0.05, 0.1, 0.2, 0.5, 0.7, 1, 1.5, 2, 2.5, 3, 3.5, 4, 5, 8, 10, 20, 100]}\n",
    "\n",
    "# On utilise comme score le score F1 pour une moyenne du rappel et de la précision (objectif sous-jacent) :\n",
    "# ne pas coder trop souvnet en homme.\n",
    "mod = LogisticRegression()\n",
    "reg = GridSearchCV(mod, parameters, cv=5, scoring = \"f1_weighted\", verbose=5000)\n",
    "reg.fit(feat_train, y_train)"
   ]
  },
  {
   "cell_type": "code",
   "execution_count": 146,
   "metadata": {},
   "outputs": [
    {
     "data": {
      "text/plain": [
       "0.6028980945271196"
      ]
     },
     "execution_count": 146,
     "metadata": {},
     "output_type": "execute_result"
    }
   ],
   "source": [
    "# Prédiction globale\n",
    "reg.score(X=feat_test, y=y_test)"
   ]
  },
  {
   "cell_type": "code",
   "execution_count": 147,
   "metadata": {},
   "outputs": [
    {
     "data": {
      "text/plain": [
       "<matplotlib.text.Text at 0x12400900278>"
      ]
     },
     "execution_count": 147,
     "metadata": {},
     "output_type": "execute_result"
    },
    {
     "data": {
      "image/png": "[encoded data removed]",
      "text/plain": [
       "<matplotlib.figure.Figure at 0x12478e7f198>"
      ]
     },
     "metadata": {},
     "output_type": "display_data"
    }
   ],
   "source": [
    "y_pred = reg.predict(feat_test)\n",
    "\n",
    "cnf_matrix = confusion_matrix(y_test, y_pred)\n",
    "\n",
    "import seaborn as sn\n",
    "import matplotlib.pyplot as plt\n",
    "\n",
    "matrice_a_tracer = pd.DataFrame(cnf_matrix)\n",
    "\n",
    "plt.figure()\n",
    "sn.heatmap(matrice_a_tracer, annot=True, fmt =\"d\")\n",
    "plt.xlabel(\"Sexe prédit\")\n",
    "plt.ylabel(\"Sexe à prédire\")"
   ]
  },
  {
   "cell_type": "markdown",
   "metadata": {},
   "source": [
    "### Réseaux de neurones"
   ]
  },
  {
   "cell_type": "code",
   "execution_count": 256,
   "metadata": {},
   "outputs": [
    {
     "data": {
      "text/plain": [
       "array([[  0, 260],\n",
       "       [  0, 591]])"
      ]
     },
     "execution_count": 256,
     "metadata": {},
     "output_type": "execute_result"
    }
   ],
   "source": [
    "# A faire"
   ]
  },
  {
   "cell_type": "markdown",
   "metadata": {},
   "source": [
    "## Comparaison de diverses méthodes"
   ]
  },
  {
   "cell_type": "code",
   "execution_count": 142,
   "metadata": {},
   "outputs": [
    {
     "name": "stdout",
     "output_type": "stream",
     "text": [
      "Classification aléatoire: 0.477242 (0.021611)\n"
     ]
    },
    {
     "name": "stderr",
     "output_type": "stream",
     "text": [
      "C:\\Users\\maxim\\Anaconda3\\lib\\site-packages\\sklearn\\metrics\\classification.py:1113: UndefinedMetricWarning: F-score is ill-defined and being set to 0.0 in labels with no predicted samples.\n",
      "  'precision', 'predicted', average, warn_for)\n",
      "C:\\Users\\maxim\\Anaconda3\\lib\\site-packages\\sklearn\\metrics\\classification.py:1113: UndefinedMetricWarning: F-score is ill-defined and being set to 0.0 in labels with no predicted samples.\n",
      "  'precision', 'predicted', average, warn_for)\n",
      "C:\\Users\\maxim\\Anaconda3\\lib\\site-packages\\sklearn\\metrics\\classification.py:1113: UndefinedMetricWarning: F-score is ill-defined and being set to 0.0 in labels with no predicted samples.\n",
      "  'precision', 'predicted', average, warn_for)\n",
      "C:\\Users\\maxim\\Anaconda3\\lib\\site-packages\\sklearn\\metrics\\classification.py:1113: UndefinedMetricWarning: F-score is ill-defined and being set to 0.0 in labels with no predicted samples.\n",
      "  'precision', 'predicted', average, warn_for)\n",
      "C:\\Users\\maxim\\Anaconda3\\lib\\site-packages\\sklearn\\metrics\\classification.py:1113: UndefinedMetricWarning: F-score is ill-defined and being set to 0.0 in labels with no predicted samples.\n",
      "  'precision', 'predicted', average, warn_for)\n",
      "C:\\Users\\maxim\\Anaconda3\\lib\\site-packages\\sklearn\\metrics\\classification.py:1113: UndefinedMetricWarning: F-score is ill-defined and being set to 0.0 in labels with no predicted samples.\n",
      "  'precision', 'predicted', average, warn_for)\n",
      "C:\\Users\\maxim\\Anaconda3\\lib\\site-packages\\sklearn\\metrics\\classification.py:1113: UndefinedMetricWarning: F-score is ill-defined and being set to 0.0 in labels with no predicted samples.\n",
      "  'precision', 'predicted', average, warn_for)\n",
      "C:\\Users\\maxim\\Anaconda3\\lib\\site-packages\\sklearn\\metrics\\classification.py:1113: UndefinedMetricWarning: F-score is ill-defined and being set to 0.0 in labels with no predicted samples.\n",
      "  'precision', 'predicted', average, warn_for)\n",
      "C:\\Users\\maxim\\Anaconda3\\lib\\site-packages\\sklearn\\metrics\\classification.py:1113: UndefinedMetricWarning: F-score is ill-defined and being set to 0.0 in labels with no predicted samples.\n",
      "  'precision', 'predicted', average, warn_for)\n"
     ]
    },
    {
     "name": "stdout",
     "output_type": "stream",
     "text": [
      "Régression logistique pénalité L1: 0.407050 (0.010653)\n"
     ]
    },
    {
     "name": "stderr",
     "output_type": "stream",
     "text": [
      "C:\\Users\\maxim\\Anaconda3\\lib\\site-packages\\sklearn\\metrics\\classification.py:1113: UndefinedMetricWarning: F-score is ill-defined and being set to 0.0 in labels with no predicted samples.\n",
      "  'precision', 'predicted', average, warn_for)\n",
      "C:\\Users\\maxim\\Anaconda3\\lib\\site-packages\\sklearn\\metrics\\classification.py:1113: UndefinedMetricWarning: F-score is ill-defined and being set to 0.0 in labels with no predicted samples.\n",
      "  'precision', 'predicted', average, warn_for)\n",
      "C:\\Users\\maxim\\Anaconda3\\lib\\site-packages\\sklearn\\metrics\\classification.py:1113: UndefinedMetricWarning: F-score is ill-defined and being set to 0.0 in labels with no predicted samples.\n",
      "  'precision', 'predicted', average, warn_for)\n",
      "C:\\Users\\maxim\\Anaconda3\\lib\\site-packages\\sklearn\\metrics\\classification.py:1113: UndefinedMetricWarning: F-score is ill-defined and being set to 0.0 in labels with no predicted samples.\n",
      "  'precision', 'predicted', average, warn_for)\n",
      "C:\\Users\\maxim\\Anaconda3\\lib\\site-packages\\sklearn\\metrics\\classification.py:1113: UndefinedMetricWarning: F-score is ill-defined and being set to 0.0 in labels with no predicted samples.\n",
      "  'precision', 'predicted', average, warn_for)\n",
      "C:\\Users\\maxim\\Anaconda3\\lib\\site-packages\\sklearn\\metrics\\classification.py:1113: UndefinedMetricWarning: F-score is ill-defined and being set to 0.0 in labels with no predicted samples.\n",
      "  'precision', 'predicted', average, warn_for)\n",
      "C:\\Users\\maxim\\Anaconda3\\lib\\site-packages\\sklearn\\metrics\\classification.py:1113: UndefinedMetricWarning: F-score is ill-defined and being set to 0.0 in labels with no predicted samples.\n",
      "  'precision', 'predicted', average, warn_for)\n",
      "C:\\Users\\maxim\\Anaconda3\\lib\\site-packages\\sklearn\\metrics\\classification.py:1113: UndefinedMetricWarning: F-score is ill-defined and being set to 0.0 in labels with no predicted samples.\n",
      "  'precision', 'predicted', average, warn_for)\n",
      "C:\\Users\\maxim\\Anaconda3\\lib\\site-packages\\sklearn\\metrics\\classification.py:1113: UndefinedMetricWarning: F-score is ill-defined and being set to 0.0 in labels with no predicted samples.\n",
      "  'precision', 'predicted', average, warn_for)\n",
      "C:\\Users\\maxim\\Anaconda3\\lib\\site-packages\\sklearn\\metrics\\classification.py:1113: UndefinedMetricWarning: F-score is ill-defined and being set to 0.0 in labels with no predicted samples.\n",
      "  'precision', 'predicted', average, warn_for)\n"
     ]
    },
    {
     "name": "stdout",
     "output_type": "stream",
     "text": [
      "Régression logistique pénalité L2: 0.407240 (0.009520)\n",
      "Forêts aléatoires: 0.475158 (0.023713)\n",
      "Plus proches voisins: 0.542933 (0.024040)\n",
      "Réseaux de neurones: 0.557581 (0.039563)\n",
      "Classificateur naïf bayésien: 0.554577 (0.021935)\n"
     ]
    },
    {
     "name": "stderr",
     "output_type": "stream",
     "text": [
      "C:\\Users\\maxim\\Anaconda3\\lib\\site-packages\\sklearn\\metrics\\classification.py:1113: UndefinedMetricWarning: F-score is ill-defined and being set to 0.0 in labels with no predicted samples.\n",
      "  'precision', 'predicted', average, warn_for)\n",
      "C:\\Users\\maxim\\Anaconda3\\lib\\site-packages\\sklearn\\metrics\\classification.py:1113: UndefinedMetricWarning: F-score is ill-defined and being set to 0.0 in labels with no predicted samples.\n",
      "  'precision', 'predicted', average, warn_for)\n",
      "C:\\Users\\maxim\\Anaconda3\\lib\\site-packages\\sklearn\\metrics\\classification.py:1113: UndefinedMetricWarning: F-score is ill-defined and being set to 0.0 in labels with no predicted samples.\n",
      "  'precision', 'predicted', average, warn_for)\n",
      "C:\\Users\\maxim\\Anaconda3\\lib\\site-packages\\sklearn\\metrics\\classification.py:1113: UndefinedMetricWarning: F-score is ill-defined and being set to 0.0 in labels with no predicted samples.\n",
      "  'precision', 'predicted', average, warn_for)\n",
      "C:\\Users\\maxim\\Anaconda3\\lib\\site-packages\\sklearn\\metrics\\classification.py:1113: UndefinedMetricWarning: F-score is ill-defined and being set to 0.0 in labels with no predicted samples.\n",
      "  'precision', 'predicted', average, warn_for)\n",
      "C:\\Users\\maxim\\Anaconda3\\lib\\site-packages\\sklearn\\metrics\\classification.py:1113: UndefinedMetricWarning: F-score is ill-defined and being set to 0.0 in labels with no predicted samples.\n",
      "  'precision', 'predicted', average, warn_for)\n",
      "C:\\Users\\maxim\\Anaconda3\\lib\\site-packages\\sklearn\\metrics\\classification.py:1113: UndefinedMetricWarning: F-score is ill-defined and being set to 0.0 in labels with no predicted samples.\n",
      "  'precision', 'predicted', average, warn_for)\n",
      "C:\\Users\\maxim\\Anaconda3\\lib\\site-packages\\sklearn\\metrics\\classification.py:1113: UndefinedMetricWarning: F-score is ill-defined and being set to 0.0 in labels with no predicted samples.\n",
      "  'precision', 'predicted', average, warn_for)\n",
      "C:\\Users\\maxim\\Anaconda3\\lib\\site-packages\\sklearn\\metrics\\classification.py:1113: UndefinedMetricWarning: F-score is ill-defined and being set to 0.0 in labels with no predicted samples.\n",
      "  'precision', 'predicted', average, warn_for)\n",
      "C:\\Users\\maxim\\Anaconda3\\lib\\site-packages\\sklearn\\metrics\\classification.py:1113: UndefinedMetricWarning: F-score is ill-defined and being set to 0.0 in labels with no predicted samples.\n",
      "  'precision', 'predicted', average, warn_for)\n"
     ]
    },
    {
     "name": "stdout",
     "output_type": "stream",
     "text": [
      "Machine à vecteur de support: 0.407307 (0.006733)\n"
     ]
    },
    {
     "ename": "TypeError",
     "evalue": "unsupported operand type(s) for -: 'str' and 'str'",
     "output_type": "error",
     "traceback": [
      "\u001b[1;31m---------------------------------------------------------------------------\u001b[0m",
      "\u001b[1;31mTypeError\u001b[0m                                 Traceback (most recent call last)",
      "\u001b[1;32m<ipython-input-142-b8c3b647973e>\u001b[0m in \u001b[0;36m<module>\u001b[1;34m()\u001b[0m\n\u001b[0;32m     38\u001b[0m \u001b[1;33m\u001b[0m\u001b[0m\n\u001b[0;32m     39\u001b[0m \u001b[0mt_fin\u001b[0m \u001b[1;33m=\u001b[0m \u001b[0mtime\u001b[0m\u001b[1;33m.\u001b[0m\u001b[0masctime\u001b[0m\u001b[1;33m(\u001b[0m\u001b[1;33m)\u001b[0m\u001b[1;33m\u001b[0m\u001b[0m\n\u001b[1;32m---> 40\u001b[1;33m \u001b[0mtemps_exec\u001b[0m \u001b[1;33m=\u001b[0m \u001b[0mt_fin\u001b[0m \u001b[1;33m-\u001b[0m \u001b[0mt_debut\u001b[0m\u001b[1;33m\u001b[0m\u001b[0m\n\u001b[0m\u001b[0;32m     41\u001b[0m \u001b[0mmsg_temps\u001b[0m \u001b[1;33m=\u001b[0m \u001b[1;34m\"Temps d'exéccution en secondes de\"\u001b[0m \u001b[1;33m%\u001b[0m \u001b[1;33m(\u001b[0m\u001b[0mtemps_exec\u001b[0m\u001b[1;33m)\u001b[0m\u001b[1;33m\u001b[0m\u001b[0m\n\u001b[0;32m     42\u001b[0m \u001b[0mprint\u001b[0m\u001b[1;33m(\u001b[0m\u001b[0mmsg_temps\u001b[0m\u001b[1;33m)\u001b[0m\u001b[1;33m\u001b[0m\u001b[0m\n",
      "\u001b[1;31mTypeError\u001b[0m: unsupported operand type(s) for -: 'str' and 'str'"
     ]
    }
   ],
   "source": [
    "import pandas\n",
    "import time\n",
    "import matplotlib.pyplot as plt\n",
    "from sklearn import model_selection\n",
    "from sklearn.linear_model import LogisticRegression\n",
    "from sklearn.neighbors import KNeighborsClassifier\n",
    "from sklearn.discriminant_analysis import LinearDiscriminantAnalysis\n",
    "from sklearn.naive_bayes import GaussianNB\n",
    "from sklearn.svm import SVC\n",
    "\n",
    "X = feat_train.toarray()\n",
    "Y = y_train\n",
    "\n",
    "# prepare models\n",
    "\n",
    "t_debut = time.time()\n",
    "\n",
    "models = []\n",
    "models.append((\"Classification aléatoire\", DummyClassifier(strategy=\"stratified\")))\n",
    "models.append(('Régression logistique pénalité L1', LogisticRegression(penalty = \"l1\")))\n",
    "models.append(('Régression logistique pénalité L2', LogisticRegression(penalty = \"l2\")))\n",
    "models.append(('Forêts aléatoires', RandomForestClassifier()))\n",
    "models.append(('Plus proches voisins', KNeighborsClassifier()))\n",
    "models.append(('Réseaux de neurones', MLPClassifier()))\n",
    "models.append(('Classificateur naïf bayésien', GaussianNB()))\n",
    "models.append(('Machine à vecteur de support', SVC()))\n",
    "# evaluate each model in turn\n",
    "results = []\n",
    "names = []\n",
    "scoring = 'f1_macro'#'f1_weighted'\n",
    "for name, model in models:\n",
    "    kfold = model_selection.KFold(n_splits=10, shuffle=True, random_state=None)\n",
    "    cv_results = model_selection.cross_val_score(model, X, Y, cv=kfold, scoring=scoring)\n",
    "    results.append(cv_results)\n",
    "    names.append(name)\n",
    "    msg = \"%s: %f (%f)\" % (name, cv_results.mean(), cv_results.std())\n",
    "    print(msg)\n",
    "    \n",
    "t_fin = time.time() \n",
    "temps_exec = t_fin - t_debut\n",
    "msg_temps = \"Temps d'exéccution en secondes de\" % (temps_exec) \n",
    "print(msg_temps)\n"
   ]
  },
  {
   "cell_type": "code",
   "execution_count": 143,
   "metadata": {},
   "outputs": [
    {
     "data": {
      "image/png": "[encoded data removed]",
      "text/plain": [
       "<matplotlib.figure.Figure at 0x124061c84e0>"
      ]
     },
     "metadata": {},
     "output_type": "display_data"
    }
   ],
   "source": [
    "# boxplot algorithm comparison\n",
    "fig = plt.figure()\n",
    "fig.suptitle('Comparaison de divers algorithmes pour coder le sexe - Métrique utilisée : score F1 - Validation croisée')\n",
    "ax = fig.add_subplot(111)\n",
    "plt.boxplot(results)\n",
    "ax.set_xticklabels(names)\n",
    "plt.show()\n",
    "## Peut encore (beaucoup...) s'améliorer... A voir avec les matrices de confusion si le score F1 est une bonne métrique."
   ]
  },
  {
   "cell_type": "code",
   "execution_count": null,
   "metadata": {
    "collapsed": true
   },
   "outputs": [],
   "source": [
    "## Pour poursuivre.\n",
    "## Etudier les probabilités prédites, et comprendre ce qu'il se passe pour les bien codés avec forte confiance, \n",
    "## et mal codés avec forte confiance.\n",
    "## Au Japon, langue plus différenciée entre hommes et femmes, donc devrait bien marcher ?"
   ]
  },
  {
   "cell_type": "markdown",
   "metadata": {},
   "source": [
    "### ACP sur mots"
   ]
  },
  {
   "cell_type": "code",
   "execution_count": 150,
   "metadata": {},
   "outputs": [
    {
     "data": {
      "text/plain": [
       "(2553, 300)"
      ]
     },
     "execution_count": 150,
     "metadata": {},
     "output_type": "execute_result"
    }
   ],
   "source": [
    "from sklearn.decomposition import TruncatedSVD\n",
    "pipe_svd = make_pipeline(CountVectorizer(), TruncatedSVD(n_components=300))\n",
    "pipe_svd.fit(X_train)\n",
    "feat_train_svd = pipe_svd.transform(X_train)\n",
    "feat_train_svd.shape"
   ]
  },
  {
   "cell_type": "code",
   "execution_count": 151,
   "metadata": {},
   "outputs": [
    {
     "data": {
      "text/plain": [
       "RandomForestClassifier(bootstrap=True, class_weight=None, criterion='gini',\n",
       "            max_depth=None, max_features='auto', max_leaf_nodes=None,\n",
       "            min_impurity_split=1e-07, min_samples_leaf=1,\n",
       "            min_samples_split=2, min_weight_fraction_leaf=0.0,\n",
       "            n_estimators=50, n_jobs=1, oob_score=False, random_state=None,\n",
       "            verbose=0, warm_start=False)"
      ]
     },
     "execution_count": 151,
     "metadata": {},
     "output_type": "execute_result"
    }
   ],
   "source": [
    "clf_svd = RandomForestClassifier(n_estimators=50)\n",
    "clf_svd.fit(feat_train_svd, y_train)"
   ]
  },
  {
   "cell_type": "code",
   "execution_count": 153,
   "metadata": {},
   "outputs": [
    {
     "data": {
      "text/plain": [
       "0.700352526439483"
      ]
     },
     "execution_count": 153,
     "metadata": {},
     "output_type": "execute_result"
    }
   ],
   "source": [
    "feat_test_svd = pipe_svd.transform(X_test)\n",
    "clf_svd.score(feat_test_svd, y_test)"
   ]
  },
  {
   "cell_type": "code",
   "execution_count": 2,
   "metadata": {},
   "outputs": [
    {
     "ename": "NameError",
     "evalue": "name 'clf_svd' is not defined",
     "output_type": "error",
     "traceback": [
      "\u001b[1;31m---------------------------------------------------------------------------\u001b[0m",
      "\u001b[1;31mNameError\u001b[0m                                 Traceback (most recent call last)",
      "\u001b[1;32m<ipython-input-2-5d953d8c3b53>\u001b[0m in \u001b[0;36m<module>\u001b[1;34m()\u001b[0m\n\u001b[1;32m----> 1\u001b[1;33m \u001b[0my_pred\u001b[0m \u001b[1;33m=\u001b[0m \u001b[0mclf_svd\u001b[0m\u001b[1;33m.\u001b[0m\u001b[0mpredict\u001b[0m\u001b[1;33m(\u001b[0m\u001b[0mfeat_test_svd\u001b[0m\u001b[1;33m)\u001b[0m\u001b[1;33m\u001b[0m\u001b[0m\n\u001b[0m\u001b[0;32m      2\u001b[0m \u001b[1;33m\u001b[0m\u001b[0m\n\u001b[0;32m      3\u001b[0m \u001b[0mcnf_matrix\u001b[0m \u001b[1;33m=\u001b[0m \u001b[0mconfusion_matrix\u001b[0m\u001b[1;33m(\u001b[0m\u001b[0my_test\u001b[0m\u001b[1;33m,\u001b[0m \u001b[0my_pred\u001b[0m\u001b[1;33m)\u001b[0m\u001b[1;33m\u001b[0m\u001b[0m\n\u001b[0;32m      4\u001b[0m \u001b[1;33m\u001b[0m\u001b[0m\n\u001b[0;32m      5\u001b[0m \u001b[1;32mimport\u001b[0m \u001b[0mseaborn\u001b[0m \u001b[1;32mas\u001b[0m \u001b[0msn\u001b[0m\u001b[1;33m\u001b[0m\u001b[0m\n",
      "\u001b[1;31mNameError\u001b[0m: name 'clf_svd' is not defined"
     ]
    }
   ],
   "source": [
    "y_pred = clf_svd.predict(feat_test_svd)\n",
    "\n",
    "cnf_matrix = confusion_matrix(y_test, y_pred)\n",
    "\n",
    "import seaborn as sn\n",
    "import matplotlib.pyplot as plt\n",
    "\n",
    "matrice_a_tracer = pd.DataFrame(cnf_matrix)\n",
    "\n",
    "plt.figure()\n",
    "sn.heatmap(matrice_a_tracer, annot=True, fmt =\"d\")\n",
    "plt.xlabel(\"Sexe prédit\")\n",
    "plt.ylabel(\"Sexe à prédire\")"
   ]
  },
  {
   "cell_type": "code",
   "execution_count": 160,
   "metadata": {},
   "outputs": [
    {
     "name": "stderr",
     "output_type": "stream",
     "text": [
      "C:\\Users\\maxim\\Anaconda3\\lib\\site-packages\\sklearn\\feature_extraction\\text.py:1059: FutureWarning: Conversion of the second argument of issubdtype from `float` to `np.floating` is deprecated. In future, it will be treated as `np.float64 == np.dtype(float).type`.\n",
      "  if hasattr(X, 'dtype') and np.issubdtype(X.dtype, np.float):\n",
      "C:\\Users\\maxim\\Anaconda3\\lib\\site-packages\\sklearn\\feature_extraction\\text.py:1059: FutureWarning: Conversion of the second argument of issubdtype from `float` to `np.floating` is deprecated. In future, it will be treated as `np.float64 == np.dtype(float).type`.\n",
      "  if hasattr(X, 'dtype') and np.issubdtype(X.dtype, np.float):\n"
     ]
    },
    {
     "data": {
      "text/plain": [
       "0.6944770857814336"
      ]
     },
     "execution_count": 160,
     "metadata": {},
     "output_type": "execute_result"
    }
   ],
   "source": [
    "# Avec scoring tf-idf en sus\n",
    "pipe_svd_tfidf = make_pipeline(CountVectorizer(),\n",
    "                     TfidfTransformer(),\n",
    "                     TruncatedSVD(n_components=300))\n",
    "pipe_svd_tfidf.fit(X_train)\n",
    "feat_train_svd_tfidf = pipe_svd_tfidf.transform(X_train)\n",
    "\n",
    "clf_svd_tfidf = RandomForestClassifier(n_estimators=50)\n",
    "clf_svd_tfidf.fit(feat_train_svd_tfidf, y_train)\n",
    "\n",
    "feat_test_svd_tfidf = pipe_svd_tfidf.transform(X_test)\n",
    "clf_svd_tfidf.score(feat_test_svd_tfidf, y_test)"
   ]
  },
  {
   "cell_type": "code",
   "execution_count": 161,
   "metadata": {},
   "outputs": [
    {
     "data": {
      "text/plain": [
       "<matplotlib.text.Text at 0x12400dcd3c8>"
      ]
     },
     "execution_count": 161,
     "metadata": {},
     "output_type": "execute_result"
    },
    {
     "data": {
      "image/png": "[encoded data removed]",
      "text/plain": [
       "<matplotlib.figure.Figure at 0x12400b92ba8>"
      ]
     },
     "metadata": {},
     "output_type": "display_data"
    }
   ],
   "source": [
    "y_pred = clf_svd_tfidf.predict(feat_test_svd)\n",
    "\n",
    "cnf_matrix = confusion_matrix(y_test, y_pred)\n",
    "\n",
    "import seaborn as sn\n",
    "import matplotlib.pyplot as plt\n",
    "\n",
    "matrice_a_tracer = pd.DataFrame(cnf_matrix)\n",
    "\n",
    "plt.figure()\n",
    "sn.heatmap(matrice_a_tracer, annot=True, fmt =\"d\")\n",
    "plt.xlabel(\"Sexe prédit\")\n",
    "plt.ylabel(\"Sexe à prédire\")"
   ]
  },
  {
   "cell_type": "markdown",
   "metadata": {},
   "source": [
    "### Approche Word2Vec"
   ]
  },
  {
   "cell_type": "code",
   "execution_count": 165,
   "metadata": {},
   "outputs": [
    {
     "name": "stdout",
     "output_type": "stream",
     "text": [
      "Téléchargement de  en_core_web_md-2.0.0.tar.gz\n",
      "Found en_core_web_md-2.0.0/en_core_web_md/en_core_web_md-2.0.0\n",
      "Chargement des données par spacy.\n"
     ]
    },
    {
     "ename": "NameError",
     "evalue": "name 'spacy' is not defined",
     "output_type": "error",
     "traceback": [
      "\u001b[1;31m---------------------------------------------------------------------------\u001b[0m",
      "\u001b[1;31mNameError\u001b[0m                                 Traceback (most recent call last)",
      "\u001b[1;32m<ipython-input-165-51fa2f827893>\u001b[0m in \u001b[0;36m<module>\u001b[1;34m()\u001b[0m\n\u001b[0;32m     16\u001b[0m \u001b[1;32mif\u001b[0m \u001b[0mos\u001b[0m\u001b[1;33m.\u001b[0m\u001b[0mpath\u001b[0m\u001b[1;33m.\u001b[0m\u001b[0mexists\u001b[0m\u001b[1;33m(\u001b[0m\u001b[0munzip_dest\u001b[0m\u001b[1;33m)\u001b[0m\u001b[1;33m:\u001b[0m\u001b[1;33m\u001b[0m\u001b[0m\n\u001b[0;32m     17\u001b[0m     \u001b[0mprint\u001b[0m\u001b[1;33m(\u001b[0m\u001b[1;34m\"Chargement des données par spacy.\"\u001b[0m\u001b[1;33m)\u001b[0m\u001b[1;33m\u001b[0m\u001b[0m\n\u001b[1;32m---> 18\u001b[1;33m     \u001b[0mnlp\u001b[0m \u001b[1;33m=\u001b[0m \u001b[0mspacy\u001b[0m\u001b[1;33m.\u001b[0m\u001b[0mload\u001b[0m\u001b[1;33m(\u001b[0m\u001b[0munzip_dest\u001b[0m\u001b[1;33m)\u001b[0m\u001b[1;33m\u001b[0m\u001b[0m\n\u001b[0m\u001b[0;32m     19\u001b[0m     \u001b[0mcontinue_wv\u001b[0m \u001b[1;33m=\u001b[0m \u001b[1;32mTrue\u001b[0m\u001b[1;33m\u001b[0m\u001b[0m\n\u001b[0;32m     20\u001b[0m \u001b[1;32melse\u001b[0m\u001b[1;33m:\u001b[0m\u001b[1;33m\u001b[0m\u001b[0m\n",
      "\u001b[1;31mNameError\u001b[0m: name 'spacy' is not defined"
     ]
    }
   ],
   "source": [
    "import os\n",
    "import spacy\n",
    "unzip_dest = 'en_core_web_md-2.0.0.tar/dist/en_core_web_md-2.0.0/en_core_web_md/en_core_web_md-2.0.0'\n",
    "if not os.path.exists(unzip_dest):\n",
    "    from pyquickhelper.pycode import is_travis_or_appveyor\n",
    "    if not is_travis_or_appveyor():\n",
    "        # On le fait seulement si ce n'est pas un test d'intégration continue.\n",
    "        url = \"https://github.com/explosion/spacy-models/releases/download/en_core_web_md-2.0.0/\"\n",
    "        name = \"en_core_web_md-2.0.0.tar.gz\"\n",
    "        print(\"Téléchargement de \", name)\n",
    "        from pyensae.datasource import download_data\n",
    "        unzipped = download_data(name, url=url, fLOG=print)\n",
    "        unzip_dest = os.path.split(unzipped[0])[0]\n",
    "        unzip_dest = \"en_core_web_md-2.0.0/en_core_web_md/en_core_web_md-2.0.0\"\n",
    "        print(\"Found\", unzip_dest)\n",
    "\n",
    "if os.path.exists(unzip_dest):\n",
    "    print(\"Chargement des données par spacy.\")\n",
    "    nlp = spacy.load(unzip_dest)\n",
    "    continue_wv = True\n",
    "else:\n",
    "    continue_wv = False\n",
    "    print('Pas de données on passe la suite.')"
   ]
  },
  {
   "cell_type": "code",
   "execution_count": 1,
   "metadata": {},
   "outputs": [
    {
     "name": "stdout",
     "output_type": "stream",
     "text": [
      "Collecting spacy\n",
      "  Using cached https://files.pythonhosted.org/packages/15/af/c3f04f1bddf402e59342ad9d2407343d2eaf1a279e3af94879168b61f2b8/spacy-2.0.18-cp36-cp36m-win_amd64.whl\n",
      "Collecting thinc<6.13.0,>=6.12.1 (from spacy)\n",
      "  Using cached https://files.pythonhosted.org/packages/e4/a3/7a02574e8ed71d7a05660550af2b96ec03f96f2b98d76d5fe4133cf7571b/thinc-6.12.1-cp36-cp36m-win_amd64.whl\n",
      "Requirement already satisfied: murmurhash<1.1.0,>=0.28.0 in c:\\users\\maxim\\anaconda3\\lib\\site-packages (from spacy) (1.0.1)\n",
      "Requirement already satisfied: requests<3.0.0,>=2.13.0 in c:\\users\\maxim\\anaconda3\\lib\\site-packages (from spacy) (2.14.2)\n",
      "Requirement already satisfied: dill<0.3,>=0.2 in c:\\users\\maxim\\anaconda3\\lib\\site-packages (from spacy) (0.2.8.2)\n",
      "Requirement already satisfied: plac<1.0.0,>=0.9.6 in c:\\users\\maxim\\anaconda3\\lib\\site-packages (from spacy) (0.9.6)\n",
      "Collecting ujson>=1.35 (from spacy)\n",
      "  Using cached https://files.pythonhosted.org/packages/16/c4/79f3409bc710559015464e5f49b9879430d8f87498ecdc335899732e5377/ujson-1.35.tar.gz\n",
      "Requirement already satisfied: preshed<2.1.0,>=2.0.1 in c:\\users\\maxim\\anaconda3\\lib\\site-packages (from spacy) (2.0.1)\n",
      "Requirement already satisfied: cymem<2.1.0,>=2.0.2 in c:\\users\\maxim\\anaconda3\\lib\\site-packages (from spacy) (2.0.2)\n",
      "Requirement already satisfied: numpy>=1.15.0 in c:\\users\\maxim\\anaconda3\\lib\\site-packages (from spacy) (1.15.4)\n",
      "Requirement already satisfied: regex==2018.01.10 in c:\\users\\maxim\\anaconda3\\lib\\site-packages (from spacy) (2018.1.10)\n",
      "Requirement already satisfied: six<2.0.0,>=1.10.0 in c:\\users\\maxim\\anaconda3\\lib\\site-packages (from thinc<6.13.0,>=6.12.1->spacy) (1.10.0)\n",
      "Requirement already satisfied: wrapt<1.11.0,>=1.10.0 in c:\\users\\maxim\\anaconda3\\lib\\site-packages (from thinc<6.13.0,>=6.12.1->spacy) (1.10.10)\n",
      "Requirement already satisfied: tqdm<5.0.0,>=4.10.0 in c:\\users\\maxim\\anaconda3\\lib\\site-packages (from thinc<6.13.0,>=6.12.1->spacy) (4.26.0)\n",
      "Collecting cytoolz<0.10,>=0.9.0 (from thinc<6.13.0,>=6.12.1->spacy)\n",
      "  Using cached https://files.pythonhosted.org/packages/36/f4/9728ba01ccb2f55df9a5af029b48ba0aaca1081bbd7823ea2ee223ba7a42/cytoolz-0.9.0.1.tar.gz\n",
      "Requirement already satisfied: msgpack<0.6.0,>=0.5.6 in c:\\users\\maxim\\anaconda3\\lib\\site-packages (from thinc<6.13.0,>=6.12.1->spacy) (0.5.6)\n",
      "Requirement already satisfied: msgpack-numpy<0.4.4 in c:\\users\\maxim\\anaconda3\\lib\\site-packages (from thinc<6.13.0,>=6.12.1->spacy) (0.4.3.2)\n",
      "Requirement already satisfied: pyreadline>=1.7.1 in c:\\users\\maxim\\anaconda3\\lib\\site-packages (from dill<0.3,>=0.2->spacy) (2.1)\n",
      "Requirement already satisfied: toolz>=0.8.0 in c:\\users\\maxim\\anaconda3\\lib\\site-packages (from cytoolz<0.10,>=0.9.0->thinc<6.13.0,>=6.12.1->spacy) (0.8.2)\n",
      "Building wheels for collected packages: ujson, cytoolz\n",
      "  Running setup.py bdist_wheel for ujson: started\n",
      "  Running setup.py bdist_wheel for ujson: finished with status 'error'\n",
      "  Complete output from command c:\\users\\maxim\\anaconda3\\python.exe -u -c \"import setuptools, tokenize;__file__='C:\\\\Users\\\\maxim\\\\AppData\\\\Local\\\\Temp\\\\pip-install-ywu_rgfd\\\\ujson\\\\setup.py';f=getattr(tokenize, 'open', open)(__file__);code=f.read().replace('\\r\\n', '\\n');f.close();exec(compile(code, __file__, 'exec'))\" bdist_wheel -d C:\\Users\\maxim\\AppData\\Local\\Temp\\pip-wheel-x88_bbj0 --python-tag cp36:\n",
      "  running bdist_wheel\n",
      "  running build\n",
      "  running build_ext\n",
      "  building 'ujson' extension\n",
      "  error: Microsoft Visual C++ 14.0 is required. Get it with \"Microsoft Visual C++ Build Tools\": http://landinghub.visualstudio.com/visual-cpp-build-tools\n",
      "  \n",
      "  ----------------------------------------\n",
      "  Running setup.py clean for ujson\n",
      "  Running setup.py bdist_wheel for cytoolz: started\n",
      "  Running setup.py bdist_wheel for cytoolz: finished with status 'error'\n",
      "  Complete output from command c:\\users\\maxim\\anaconda3\\python.exe -u -c \"import setuptools, tokenize;__file__='C:\\\\Users\\\\maxim\\\\AppData\\\\Local\\\\Temp\\\\pip-install-ywu_rgfd\\\\cytoolz\\\\setup.py';f=getattr(tokenize, 'open', open)(__file__);code=f.read().replace('\\r\\n', '\\n');f.close();exec(compile(code, __file__, 'exec'))\" bdist_wheel -d C:\\Users\\maxim\\AppData\\Local\\Temp\\pip-wheel-fo9p9isu --python-tag cp36:\n",
      "  running bdist_wheel\n",
      "  running build\n",
      "  running build_py\n",
      "  creating build\n",
      "  creating build\\lib.win-amd64-3.6\n",
      "  creating build\\lib.win-amd64-3.6\\cytoolz\n",
      "  copying cytoolz\\compatibility.py -> build\\lib.win-amd64-3.6\\cytoolz\n",
      "  copying cytoolz\\utils_test.py -> build\\lib.win-amd64-3.6\\cytoolz\n",
      "  copying cytoolz\\_signatures.py -> build\\lib.win-amd64-3.6\\cytoolz\n",
      "  copying cytoolz\\_version.py -> build\\lib.win-amd64-3.6\\cytoolz\n",
      "  copying cytoolz\\__init__.py -> build\\lib.win-amd64-3.6\\cytoolz\n",
      "  creating build\\lib.win-amd64-3.6\\cytoolz\\curried\n",
      "  copying cytoolz\\curried\\exceptions.py -> build\\lib.win-amd64-3.6\\cytoolz\\curried\n",
      "  copying cytoolz\\curried\\operator.py -> build\\lib.win-amd64-3.6\\cytoolz\\curried\n",
      "  copying cytoolz\\curried\\__init__.py -> build\\lib.win-amd64-3.6\\cytoolz\\curried\n",
      "  copying cytoolz\\dicttoolz.pyx -> build\\lib.win-amd64-3.6\\cytoolz\n",
      "  copying cytoolz\\functoolz.pyx -> build\\lib.win-amd64-3.6\\cytoolz\n",
      "  copying cytoolz\\itertoolz.pyx -> build\\lib.win-amd64-3.6\\cytoolz\n",
      "  copying cytoolz\\recipes.pyx -> build\\lib.win-amd64-3.6\\cytoolz\n",
      "  copying cytoolz\\utils.pyx -> build\\lib.win-amd64-3.6\\cytoolz\n",
      "  copying cytoolz\\cpython.pxd -> build\\lib.win-amd64-3.6\\cytoolz\n",
      "  copying cytoolz\\dicttoolz.pxd -> build\\lib.win-amd64-3.6\\cytoolz\n",
      "  copying cytoolz\\functoolz.pxd -> build\\lib.win-amd64-3.6\\cytoolz\n",
      "  copying cytoolz\\itertoolz.pxd -> build\\lib.win-amd64-3.6\\cytoolz\n",
      "  copying cytoolz\\recipes.pxd -> build\\lib.win-amd64-3.6\\cytoolz\n",
      "  copying cytoolz\\utils.pxd -> build\\lib.win-amd64-3.6\\cytoolz\n",
      "  copying cytoolz\\__init__.pxd -> build\\lib.win-amd64-3.6\\cytoolz\n",
      "  creating build\\lib.win-amd64-3.6\\cytoolz\\tests\n",
      "  copying cytoolz\\tests\\dev_skip_test.py -> build\\lib.win-amd64-3.6\\cytoolz\\tests\n",
      "  copying cytoolz\\tests\\test_compatibility.py -> build\\lib.win-amd64-3.6\\cytoolz\\tests\n",
      "  copying cytoolz\\tests\\test_curried.py -> build\\lib.win-amd64-3.6\\cytoolz\\tests\n",
      "  copying cytoolz\\tests\\test_curried_toolzlike.py -> build\\lib.win-amd64-3.6\\cytoolz\\tests\n",
      "  copying cytoolz\\tests\\test_dev_skip_test.py -> build\\lib.win-amd64-3.6\\cytoolz\\tests\n",
      "  copying cytoolz\\tests\\test_dicttoolz.py -> build\\lib.win-amd64-3.6\\cytoolz\\tests\n",
      "  copying cytoolz\\tests\\test_docstrings.py -> build\\lib.win-amd64-3.6\\cytoolz\\tests\n",
      "  copying cytoolz\\tests\\test_doctests.py -> build\\lib.win-amd64-3.6\\cytoolz\\tests\n",
      "  copying cytoolz\\tests\\test_embedded_sigs.py -> build\\lib.win-amd64-3.6\\cytoolz\\tests\n",
      "  copying cytoolz\\tests\\test_functoolz.py -> build\\lib.win-amd64-3.6\\cytoolz\\tests\n",
      "  copying cytoolz\\tests\\test_inspect_args.py -> build\\lib.win-amd64-3.6\\cytoolz\\tests\n",
      "  copying cytoolz\\tests\\test_itertoolz.py -> build\\lib.win-amd64-3.6\\cytoolz\\tests\n",
      "  copying cytoolz\\tests\\test_none_safe.py -> build\\lib.win-amd64-3.6\\cytoolz\\tests\n",
      "  copying cytoolz\\tests\\test_recipes.py -> build\\lib.win-amd64-3.6\\cytoolz\\tests\n",
      "  copying cytoolz\\tests\\test_serialization.py -> build\\lib.win-amd64-3.6\\cytoolz\\tests\n",
      "  copying cytoolz\\tests\\test_signatures.py -> build\\lib.win-amd64-3.6\\cytoolz\\tests\n",
      "  copying cytoolz\\tests\\test_tlz.py -> build\\lib.win-amd64-3.6\\cytoolz\\tests\n",
      "  copying cytoolz\\tests\\test_utils.py -> build\\lib.win-amd64-3.6\\cytoolz\\tests\n",
      "  running build_ext\n",
      "  building 'cytoolz.dicttoolz' extension\n",
      "  error: Microsoft Visual C++ 14.0 is required. Get it with \"Microsoft Visual C++ Build Tools\": http://landinghub.visualstudio.com/visual-cpp-build-tools\n",
      "  \n",
      "  ----------------------------------------\n",
      "  Running setup.py clean for cytoolz\n",
      "Failed to build ujson cytoolz\n",
      "Installing collected packages: cytoolz, thinc, ujson, spacy\n",
      "  Found existing installation: cytoolz 0.8.2\n"
     ]
    },
    {
     "name": "stderr",
     "output_type": "stream",
     "text": [
      "  Failed building wheel for ujson\n",
      "  Failed building wheel for cytoolz\n",
      "Cannot uninstall 'cytoolz'. It is a distutils installed project and thus we cannot accurately determine which files belong to it which would lead to only a partial uninstall.\n"
     ]
    }
   ],
   "source": [
    "!pip install spacy\n"
   ]
  },
  {
   "cell_type": "code",
   "execution_count": 170,
   "metadata": {},
   "outputs": [
    {
     "ename": "AttributeError",
     "evalue": "'SVC' object has no attribute 'wv'",
     "output_type": "error",
     "traceback": [
      "\u001b[1;31m---------------------------------------------------------------------------\u001b[0m",
      "\u001b[1;31mAttributeError\u001b[0m                            Traceback (most recent call last)",
      "\u001b[1;32m<ipython-input-170-841464282eeb>\u001b[0m in \u001b[0;36m<module>\u001b[1;34m()\u001b[0m\n\u001b[0;32m     15\u001b[0m     \u001b[1;32mreturn\u001b[0m \u001b[0mfeats\u001b[0m\u001b[1;33m\u001b[0m\u001b[0m\n\u001b[0;32m     16\u001b[0m \u001b[1;33m\u001b[0m\u001b[0m\n\u001b[1;32m---> 17\u001b[1;33m \u001b[0mwv_train_feat\u001b[0m \u001b[1;33m=\u001b[0m \u001b[0mword2vec_features\u001b[0m\u001b[1;33m(\u001b[0m\u001b[0mX_train\u001b[0m\u001b[1;33m,\u001b[0m \u001b[0mmodel\u001b[0m\u001b[1;33m)\u001b[0m\u001b[1;33m\u001b[0m\u001b[0m\n\u001b[0m\u001b[0;32m     18\u001b[0m \u001b[0mwv_train_feat\u001b[0m\u001b[1;33m.\u001b[0m\u001b[0mshape\u001b[0m\u001b[1;33m\u001b[0m\u001b[0m\n",
      "\u001b[1;32m<ipython-input-170-841464282eeb>\u001b[0m in \u001b[0;36mword2vec_features\u001b[1;34m(X, model)\u001b[0m\n\u001b[0;32m     12\u001b[0m \u001b[1;33m\u001b[0m\u001b[0m\n\u001b[0;32m     13\u001b[0m \u001b[1;32mdef\u001b[0m \u001b[0mword2vec_features\u001b[0m\u001b[1;33m(\u001b[0m\u001b[0mX\u001b[0m\u001b[1;33m,\u001b[0m \u001b[0mmodel\u001b[0m\u001b[1;33m)\u001b[0m\u001b[1;33m:\u001b[0m\u001b[1;33m\u001b[0m\u001b[0m\n\u001b[1;32m---> 14\u001b[1;33m     \u001b[0mfeats\u001b[0m \u001b[1;33m=\u001b[0m \u001b[0mnumpy\u001b[0m\u001b[1;33m.\u001b[0m\u001b[0mvstack\u001b[0m\u001b[1;33m(\u001b[0m\u001b[1;33m[\u001b[0m\u001b[0msum_vectors\u001b[0m\u001b[1;33m(\u001b[0m\u001b[0mp\u001b[0m\u001b[1;33m,\u001b[0m \u001b[0mmodel\u001b[0m\u001b[1;33m)\u001b[0m \u001b[1;32mfor\u001b[0m \u001b[0mp\u001b[0m \u001b[1;32min\u001b[0m \u001b[0mX\u001b[0m\u001b[1;33m]\u001b[0m\u001b[1;33m)\u001b[0m\u001b[1;33m\u001b[0m\u001b[0m\n\u001b[0m\u001b[0;32m     15\u001b[0m     \u001b[1;32mreturn\u001b[0m \u001b[0mfeats\u001b[0m\u001b[1;33m\u001b[0m\u001b[0m\n\u001b[0;32m     16\u001b[0m \u001b[1;33m\u001b[0m\u001b[0m\n",
      "\u001b[1;32m<ipython-input-170-841464282eeb>\u001b[0m in \u001b[0;36m<listcomp>\u001b[1;34m(.0)\u001b[0m\n\u001b[0;32m     12\u001b[0m \u001b[1;33m\u001b[0m\u001b[0m\n\u001b[0;32m     13\u001b[0m \u001b[1;32mdef\u001b[0m \u001b[0mword2vec_features\u001b[0m\u001b[1;33m(\u001b[0m\u001b[0mX\u001b[0m\u001b[1;33m,\u001b[0m \u001b[0mmodel\u001b[0m\u001b[1;33m)\u001b[0m\u001b[1;33m:\u001b[0m\u001b[1;33m\u001b[0m\u001b[0m\n\u001b[1;32m---> 14\u001b[1;33m     \u001b[0mfeats\u001b[0m \u001b[1;33m=\u001b[0m \u001b[0mnumpy\u001b[0m\u001b[1;33m.\u001b[0m\u001b[0mvstack\u001b[0m\u001b[1;33m(\u001b[0m\u001b[1;33m[\u001b[0m\u001b[0msum_vectors\u001b[0m\u001b[1;33m(\u001b[0m\u001b[0mp\u001b[0m\u001b[1;33m,\u001b[0m \u001b[0mmodel\u001b[0m\u001b[1;33m)\u001b[0m \u001b[1;32mfor\u001b[0m \u001b[0mp\u001b[0m \u001b[1;32min\u001b[0m \u001b[0mX\u001b[0m\u001b[1;33m]\u001b[0m\u001b[1;33m)\u001b[0m\u001b[1;33m\u001b[0m\u001b[0m\n\u001b[0m\u001b[0;32m     15\u001b[0m     \u001b[1;32mreturn\u001b[0m \u001b[0mfeats\u001b[0m\u001b[1;33m\u001b[0m\u001b[0m\n\u001b[0;32m     16\u001b[0m \u001b[1;33m\u001b[0m\u001b[0m\n",
      "\u001b[1;32m<ipython-input-170-841464282eeb>\u001b[0m in \u001b[0;36msum_vectors\u001b[1;34m(phrase, model)\u001b[0m\n\u001b[0;32m      9\u001b[0m \u001b[1;33m\u001b[0m\u001b[0m\n\u001b[0;32m     10\u001b[0m \u001b[1;32mdef\u001b[0m \u001b[0msum_vectors\u001b[0m\u001b[1;33m(\u001b[0m\u001b[0mphrase\u001b[0m\u001b[1;33m,\u001b[0m \u001b[0mmodel\u001b[0m\u001b[1;33m)\u001b[0m\u001b[1;33m:\u001b[0m\u001b[1;33m\u001b[0m\u001b[0m\n\u001b[1;32m---> 11\u001b[1;33m     \u001b[1;32mreturn\u001b[0m \u001b[0msum\u001b[0m\u001b[1;33m(\u001b[0m\u001b[0mget_vect\u001b[0m\u001b[1;33m(\u001b[0m\u001b[0mw\u001b[0m\u001b[1;33m,\u001b[0m \u001b[0mmodel\u001b[0m\u001b[1;33m)\u001b[0m \u001b[1;32mfor\u001b[0m \u001b[0mw\u001b[0m \u001b[1;32min\u001b[0m \u001b[0mphrase\u001b[0m\u001b[1;33m)\u001b[0m\u001b[1;33m\u001b[0m\u001b[0m\n\u001b[0m\u001b[0;32m     12\u001b[0m \u001b[1;33m\u001b[0m\u001b[0m\n\u001b[0;32m     13\u001b[0m \u001b[1;32mdef\u001b[0m \u001b[0mword2vec_features\u001b[0m\u001b[1;33m(\u001b[0m\u001b[0mX\u001b[0m\u001b[1;33m,\u001b[0m \u001b[0mmodel\u001b[0m\u001b[1;33m)\u001b[0m\u001b[1;33m:\u001b[0m\u001b[1;33m\u001b[0m\u001b[0m\n",
      "\u001b[1;32m<ipython-input-170-841464282eeb>\u001b[0m in \u001b[0;36m<genexpr>\u001b[1;34m(.0)\u001b[0m\n\u001b[0;32m      9\u001b[0m \u001b[1;33m\u001b[0m\u001b[0m\n\u001b[0;32m     10\u001b[0m \u001b[1;32mdef\u001b[0m \u001b[0msum_vectors\u001b[0m\u001b[1;33m(\u001b[0m\u001b[0mphrase\u001b[0m\u001b[1;33m,\u001b[0m \u001b[0mmodel\u001b[0m\u001b[1;33m)\u001b[0m\u001b[1;33m:\u001b[0m\u001b[1;33m\u001b[0m\u001b[0m\n\u001b[1;32m---> 11\u001b[1;33m     \u001b[1;32mreturn\u001b[0m \u001b[0msum\u001b[0m\u001b[1;33m(\u001b[0m\u001b[0mget_vect\u001b[0m\u001b[1;33m(\u001b[0m\u001b[0mw\u001b[0m\u001b[1;33m,\u001b[0m \u001b[0mmodel\u001b[0m\u001b[1;33m)\u001b[0m \u001b[1;32mfor\u001b[0m \u001b[0mw\u001b[0m \u001b[1;32min\u001b[0m \u001b[0mphrase\u001b[0m\u001b[1;33m)\u001b[0m\u001b[1;33m\u001b[0m\u001b[0m\n\u001b[0m\u001b[0;32m     12\u001b[0m \u001b[1;33m\u001b[0m\u001b[0m\n\u001b[0;32m     13\u001b[0m \u001b[1;32mdef\u001b[0m \u001b[0mword2vec_features\u001b[0m\u001b[1;33m(\u001b[0m\u001b[0mX\u001b[0m\u001b[1;33m,\u001b[0m \u001b[0mmodel\u001b[0m\u001b[1;33m)\u001b[0m\u001b[1;33m:\u001b[0m\u001b[1;33m\u001b[0m\u001b[0m\n",
      "\u001b[1;32m<ipython-input-170-841464282eeb>\u001b[0m in \u001b[0;36mget_vect\u001b[1;34m(word, model)\u001b[0m\n\u001b[0;32m      4\u001b[0m \u001b[1;32mdef\u001b[0m \u001b[0mget_vect\u001b[0m\u001b[1;33m(\u001b[0m\u001b[0mword\u001b[0m\u001b[1;33m,\u001b[0m \u001b[0mmodel\u001b[0m\u001b[1;33m)\u001b[0m\u001b[1;33m:\u001b[0m\u001b[1;33m\u001b[0m\u001b[0m\n\u001b[0;32m      5\u001b[0m     \u001b[1;32mtry\u001b[0m\u001b[1;33m:\u001b[0m\u001b[1;33m\u001b[0m\u001b[0m\n\u001b[1;32m----> 6\u001b[1;33m         \u001b[1;32mreturn\u001b[0m \u001b[0mmodel\u001b[0m\u001b[1;33m.\u001b[0m\u001b[0mwv\u001b[0m\u001b[1;33m[\u001b[0m\u001b[0mword\u001b[0m\u001b[1;33m]\u001b[0m\u001b[1;33m\u001b[0m\u001b[0m\n\u001b[0m\u001b[0;32m      7\u001b[0m     \u001b[1;32mexcept\u001b[0m \u001b[0mKeyError\u001b[0m\u001b[1;33m:\u001b[0m\u001b[1;33m\u001b[0m\u001b[0m\n\u001b[0;32m      8\u001b[0m         \u001b[1;32mreturn\u001b[0m \u001b[0mnumpy\u001b[0m\u001b[1;33m.\u001b[0m\u001b[0mzeros\u001b[0m\u001b[1;33m(\u001b[0m\u001b[1;33m(\u001b[0m\u001b[0mmodel\u001b[0m\u001b[1;33m.\u001b[0m\u001b[0mvector_size\u001b[0m\u001b[1;33m,\u001b[0m\u001b[1;33m)\u001b[0m\u001b[1;33m)\u001b[0m\u001b[1;33m\u001b[0m\u001b[0m\n",
      "\u001b[1;31mAttributeError\u001b[0m: 'SVC' object has no attribute 'wv'"
     ]
    }
   ],
   "source": [
    "### Modèles non pré-entraînés\n",
    "import numpy\n",
    "\n",
    "def get_vect(word, model):\n",
    "    try:\n",
    "        return model.wv[word]\n",
    "    except KeyError:\n",
    "        return numpy.zeros((model.vector_size,))\n",
    "\n",
    "def sum_vectors(phrase, model):\n",
    "    return sum(get_vect(w, model) for w in phrase)\n",
    "\n",
    "def word2vec_features(X, model):\n",
    "    feats = numpy.vstack([sum_vectors(p, model) for p in X])\n",
    "    return feats\n",
    "\n",
    "wv_train_feat = word2vec_features(X_train, model)\n",
    "wv_train_feat.shape"
   ]
  }
 ],
 "metadata": {
  "kernelspec": {
   "display_name": "Python 3",
   "language": "python",
   "name": "python3"
  },
  "language_info": {
   "codemirror_mode": {
    "name": "ipython",
    "version": 3
   },
   "file_extension": ".py",
   "mimetype": "text/x-python",
   "name": "python",
   "nbconvert_exporter": "python",
   "pygments_lexer": "ipython3",
   "version": "3.6.1"
  }
 },
 "nbformat": 4,
 "nbformat_minor": 2
}
